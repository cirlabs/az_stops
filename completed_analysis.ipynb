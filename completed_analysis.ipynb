{
 "cells": [
  {
   "cell_type": "markdown",
   "metadata": {},
   "source": [
    "# Analyzing AZ traffic stops\n",
    "\n",
    "This tutorial is built in Python, a powerful programming language with a wide variety of applications. In addition to Python we will need to bring in some additional tools to make our jobs easier. These tools are:\n",
    "\n",
    "- [Jupyter Notebook](http://jupyter.org/) - An environment for writing Python and other languages interactively.\n",
    "- [Pandas](https://pandas.pydata.org/) - an open-source toolkit widely used for data analysis. \n",
    "- [Altair](https://altair-viz.github.io) - a charting library used in conjunction with Pandas to display data visually.\n",
    "\n",
    "We're working in Jupyter Notebook right now. Each chunk of code or documentation is written into a cell. To run the code in each cell, press SHIFT + return. Cells should be run in order -- top to bottom. Otherwise, you may see error messages if you try to run code cells that rely on earlier cells that have not yet been run."
   ]
  },
  {
   "cell_type": "markdown",
   "metadata": {},
   "source": [
    "The first step in writing Python is to import tools like Pandas and Altair before we can start working with them. We also want to assign them shorter names so we don't have to type so much and because some abbreviations are commonly used -- might as well follow the convention to make your life easier."
   ]
  },
  {
   "cell_type": "code",
<<<<<<< HEAD
   "execution_count": 185,
=======
   "execution_count": 72,
>>>>>>> 24f335a9f860e0149d07deba726f53692b8eb2e8
   "metadata": {},
   "outputs": [],
   "source": [
    "import pandas as pd\n",
    "import altair as alt"
   ]
  },
  {
   "cell_type": "markdown",
   "metadata": {},
   "source": [
    "While we are at it, we are going to set an option so Pandas will display all the columns when we ask it to. We also have to enable Altair so we can see Altair's fancy charts later on."
   ]
  },
  {
   "cell_type": "code",
   "execution_count": 73,
   "metadata": {},
   "outputs": [],
   "source": [
    "pd.set_option('display.max_columns', 29)\n",
    "alt.renderers.enable('notebook')"
   ]
  },
  {
   "cell_type": "markdown",
   "metadata": {},
   "source": [
    "## Loading the data\n",
    "\n",
    "Now that our tools are in place we can load the data. To do so we will use a **function** built into Pandas. It's easiest to think of functions as tools that conduct a task. These tools can take different **arguments**, which are variables that help functions complete their tasks. In this case we will use Pandas' `read_csv` function. In its simplest form, the function takes one argument - the path to the file we want to open.\n",
    "\n",
    "We're basically going to tell Pandas where our data is located - in this case it is at `./data/az_2015.csv`.\n",
    "\n",
    "We're also going to pass on additional argument to the `read_csv` function: a `dtype`. Since our spreadsheet data mostly consists of categories (e.g. the race of a driver) rather than numbers (e.g. the driver was going 53 mph) we are going to tell Pandas to import everything in the spreadsheet as if it was just text using the `dtype=object` argument. This has the added benefit of suppressing a warning issued by Pandas because it cannot determine the data types for each column.\n",
    "\n",
    "Now, let's use Pandas to load our csv data into a new variable called `az_stops`."
   ]
  },
  {
   "cell_type": "code",
<<<<<<< HEAD
   "execution_count": 186,
   "metadata": {},
   "outputs": [],
   "source": [
    "az_stops = pd.read_csv('./data/az_2014.csv', dtype = str)"
=======
   "execution_count": 74,
   "metadata": {},
   "outputs": [],
   "source": [
    "az_stops = pd.read_csv('./data/az_2015.csv', dtype=object)"
>>>>>>> 24f335a9f860e0149d07deba726f53692b8eb2e8
   ]
  },
  {
   "cell_type": "markdown",
   "metadata": {},
   "source": [
    "## Getting to know our data\n",
    "\n",
    "One of the first steps in data analysis is getting a general feel for the data. What does it look like? How many columns are there? Is any data missing? Let's start answering some of these questions.\n",
    "\n",
    "We'll use a function called `head` to look at the top of the dataset. It's very similar to the command-line `head` tool we used earlier."
   ]
  },
  {
   "cell_type": "code",
<<<<<<< HEAD
   "execution_count": 187,
=======
   "execution_count": 75,
>>>>>>> 24f335a9f860e0149d07deba726f53692b8eb2e8
   "metadata": {},
   "outputs": [
    {
     "data": {
      "text/html": [
       "<div>\n",
       "<style scoped>\n",
       "    .dataframe tbody tr th:only-of-type {\n",
       "        vertical-align: middle;\n",
       "    }\n",
       "\n",
       "    .dataframe tbody tr th {\n",
       "        vertical-align: top;\n",
       "    }\n",
       "\n",
       "    .dataframe thead th {\n",
       "        text-align: right;\n",
       "    }\n",
       "</style>\n",
       "<table border=\"1\" class=\"dataframe\">\n",
       "  <thead>\n",
       "    <tr style=\"text-align: right;\">\n",
       "      <th></th>\n",
       "      <th>id</th>\n",
       "      <th>state</th>\n",
       "      <th>stop_date</th>\n",
       "      <th>stop_time</th>\n",
       "      <th>location_raw</th>\n",
       "      <th>county_name</th>\n",
       "      <th>county_fips</th>\n",
       "      <th>fine_grained_location</th>\n",
       "      <th>police_department</th>\n",
       "      <th>driver_gender</th>\n",
       "      <th>driver_age_raw</th>\n",
       "      <th>driver_age</th>\n",
       "      <th>driver_race_raw</th>\n",
       "      <th>driver_race</th>\n",
       "      <th>violation_raw</th>\n",
       "      <th>violation</th>\n",
       "      <th>search_conducted</th>\n",
       "      <th>search_type_raw</th>\n",
       "      <th>search_type</th>\n",
       "      <th>contraband_found</th>\n",
       "      <th>stop_outcome</th>\n",
       "      <th>is_arrested</th>\n",
       "      <th>officer_id</th>\n",
       "      <th>stop_duration</th>\n",
       "      <th>road_number</th>\n",
       "      <th>milepost</th>\n",
       "      <th>consent_search</th>\n",
       "      <th>vehicle_type</th>\n",
       "      <th>ethnicity</th>\n",
       "    </tr>\n",
       "  </thead>\n",
       "  <tbody>\n",
       "    <tr>\n",
       "      <th>0</th>\n",
       "      <td>AZ-2014-000001</td>\n",
       "      <td>AZ</td>\n",
       "      <td>2014-01-01</td>\n",
       "      <td>00:01</td>\n",
       "      <td>NaN</td>\n",
       "      <td>NaN</td>\n",
       "      <td>NaN</td>\n",
       "      <td>SR73 357 NA</td>\n",
       "      <td>NaN</td>\n",
       "      <td>F</td>\n",
       "      <td>NaN</td>\n",
       "      <td>NaN</td>\n",
       "      <td>Native American</td>\n",
       "      <td>Other</td>\n",
       "      <td>Speed/speed</td>\n",
       "      <td>Speeding</td>\n",
       "      <td>FALSE</td>\n",
       "      <td>NaN</td>\n",
       "      <td>NaN</td>\n",
       "      <td>FALSE</td>\n",
       "      <td>Citation</td>\n",
       "      <td>FALSE</td>\n",
       "      <td>7287</td>\n",
       "      <td>11-20</td>\n",
       "      <td>SR73</td>\n",
       "      <td>357</td>\n",
       "      <td>FALSE</td>\n",
       "      <td>4DSD 2006</td>\n",
       "      <td>N</td>\n",
       "    </tr>\n",
       "    <tr>\n",
       "      <th>1</th>\n",
       "      <td>AZ-2014-000002</td>\n",
       "      <td>AZ</td>\n",
       "      <td>2014-01-01</td>\n",
       "      <td>00:02</td>\n",
       "      <td>NaN</td>\n",
       "      <td>Pima County</td>\n",
       "      <td>04019</td>\n",
       "      <td>I10 255 NA</td>\n",
       "      <td>NaN</td>\n",
       "      <td>M</td>\n",
       "      <td>NaN</td>\n",
       "      <td>NaN</td>\n",
       "      <td>White</td>\n",
       "      <td>White</td>\n",
       "      <td>NaN</td>\n",
       "      <td>NaN</td>\n",
       "      <td>FALSE</td>\n",
       "      <td>NaN</td>\n",
       "      <td>NaN</td>\n",
       "      <td>FALSE</td>\n",
       "      <td>Warning</td>\n",
       "      <td>FALSE</td>\n",
       "      <td>7288</td>\n",
       "      <td>0-10</td>\n",
       "      <td>I10</td>\n",
       "      <td>255</td>\n",
       "      <td>FALSE</td>\n",
       "      <td>12PU 2000</td>\n",
       "      <td>W</td>\n",
       "    </tr>\n",
       "    <tr>\n",
       "      <th>2</th>\n",
       "      <td>AZ-2014-000003</td>\n",
       "      <td>AZ</td>\n",
       "      <td>2014-01-01</td>\n",
       "      <td>00:03</td>\n",
       "      <td>NaN</td>\n",
       "      <td>NaN</td>\n",
       "      <td>NaN</td>\n",
       "      <td>NA NA 2501 W HWY 66 WINSLOW AZ</td>\n",
       "      <td>NaN</td>\n",
       "      <td>F</td>\n",
       "      <td>NaN</td>\n",
       "      <td>NaN</td>\n",
       "      <td>Native American</td>\n",
       "      <td>Other</td>\n",
       "      <td>DUI,No insurance</td>\n",
       "      <td>DUI,Paperwork</td>\n",
       "      <td>FALSE</td>\n",
       "      <td>NaN</td>\n",
       "      <td>NaN</td>\n",
       "      <td>FALSE</td>\n",
       "      <td>Arrest</td>\n",
       "      <td>TRUE</td>\n",
       "      <td>6600</td>\n",
       "      <td>11-20</td>\n",
       "      <td>NaN</td>\n",
       "      <td>NaN</td>\n",
       "      <td>FALSE</td>\n",
       "      <td>2DSD 2005</td>\n",
       "      <td>N</td>\n",
       "    </tr>\n",
       "    <tr>\n",
       "      <th>3</th>\n",
       "      <td>AZ-2014-000004</td>\n",
       "      <td>AZ</td>\n",
       "      <td>2014-01-01</td>\n",
       "      <td>00:04</td>\n",
       "      <td>NaN</td>\n",
       "      <td>Maricopa County</td>\n",
       "      <td>04013</td>\n",
       "      <td>SR101 20 NA</td>\n",
       "      <td>NaN</td>\n",
       "      <td>M</td>\n",
       "      <td>NaN</td>\n",
       "      <td>NaN</td>\n",
       "      <td>Hispanic</td>\n",
       "      <td>Hispanic</td>\n",
       "      <td>NaN</td>\n",
       "      <td>NaN</td>\n",
       "      <td>FALSE</td>\n",
       "      <td>NaN</td>\n",
       "      <td>NaN</td>\n",
       "      <td>FALSE</td>\n",
       "      <td>Warning</td>\n",
       "      <td>FALSE</td>\n",
       "      <td>5937</td>\n",
       "      <td>21-30</td>\n",
       "      <td>SR101</td>\n",
       "      <td>20</td>\n",
       "      <td>FALSE</td>\n",
       "      <td>4DSD 1997</td>\n",
       "      <td>H</td>\n",
       "    </tr>\n",
       "    <tr>\n",
       "      <th>4</th>\n",
       "      <td>AZ-2014-000005</td>\n",
       "      <td>AZ</td>\n",
       "      <td>2014-01-01</td>\n",
       "      <td>00:05</td>\n",
       "      <td>NaN</td>\n",
       "      <td>Maricopa County</td>\n",
       "      <td>04013</td>\n",
       "      <td>SR51 13.6 NA</td>\n",
       "      <td>NaN</td>\n",
       "      <td>F</td>\n",
       "      <td>NaN</td>\n",
       "      <td>NaN</td>\n",
       "      <td>White</td>\n",
       "      <td>White</td>\n",
       "      <td>NaN</td>\n",
       "      <td>NaN</td>\n",
       "      <td>FALSE</td>\n",
       "      <td>NaN</td>\n",
       "      <td>NaN</td>\n",
       "      <td>FALSE</td>\n",
       "      <td>Warning</td>\n",
       "      <td>FALSE</td>\n",
       "      <td>4492</td>\n",
       "      <td>11-20</td>\n",
       "      <td>SR51</td>\n",
       "      <td>13.6</td>\n",
       "      <td>FALSE</td>\n",
       "      <td>NA NA</td>\n",
       "      <td>W</td>\n",
       "    </tr>\n",
       "  </tbody>\n",
       "</table>\n",
       "</div>"
      ],
      "text/plain": [
       "               id state   stop_date stop_time location_raw      county_name  \\\n",
       "0  AZ-2014-000001    AZ  2014-01-01     00:01          NaN              NaN   \n",
       "1  AZ-2014-000002    AZ  2014-01-01     00:02          NaN      Pima County   \n",
       "2  AZ-2014-000003    AZ  2014-01-01     00:03          NaN              NaN   \n",
       "3  AZ-2014-000004    AZ  2014-01-01     00:04          NaN  Maricopa County   \n",
       "4  AZ-2014-000005    AZ  2014-01-01     00:05          NaN  Maricopa County   \n",
       "\n",
       "  county_fips           fine_grained_location police_department driver_gender  \\\n",
       "0         NaN                     SR73 357 NA               NaN             F   \n",
       "1       04019                      I10 255 NA               NaN             M   \n",
       "2         NaN  NA NA 2501 W HWY 66 WINSLOW AZ               NaN             F   \n",
       "3       04013                     SR101 20 NA               NaN             M   \n",
       "4       04013                    SR51 13.6 NA               NaN             F   \n",
       "\n",
       "  driver_age_raw driver_age  driver_race_raw driver_race     violation_raw  \\\n",
       "0            NaN        NaN  Native American       Other       Speed/speed   \n",
       "1            NaN        NaN            White       White               NaN   \n",
       "2            NaN        NaN  Native American       Other  DUI,No insurance   \n",
       "3            NaN        NaN         Hispanic    Hispanic               NaN   \n",
       "4            NaN        NaN            White       White               NaN   \n",
       "\n",
       "       violation search_conducted search_type_raw search_type  \\\n",
       "0       Speeding            FALSE             NaN         NaN   \n",
       "1            NaN            FALSE             NaN         NaN   \n",
       "2  DUI,Paperwork            FALSE             NaN         NaN   \n",
       "3            NaN            FALSE             NaN         NaN   \n",
       "4            NaN            FALSE             NaN         NaN   \n",
       "\n",
       "  contraband_found stop_outcome is_arrested officer_id stop_duration  \\\n",
       "0            FALSE     Citation       FALSE       7287         11-20   \n",
       "1            FALSE      Warning       FALSE       7288          0-10   \n",
       "2            FALSE       Arrest        TRUE       6600         11-20   \n",
       "3            FALSE      Warning       FALSE       5937         21-30   \n",
       "4            FALSE      Warning       FALSE       4492         11-20   \n",
       "\n",
       "  road_number milepost consent_search vehicle_type ethnicity  \n",
       "0        SR73      357          FALSE    4DSD 2006         N  \n",
       "1         I10      255          FALSE    12PU 2000         W  \n",
       "2         NaN      NaN          FALSE    2DSD 2005         N  \n",
       "3       SR101       20          FALSE    4DSD 1997         H  \n",
       "4        SR51     13.6          FALSE        NA NA         W  "
      ]
     },
<<<<<<< HEAD
     "execution_count": 187,
=======
     "execution_count": 75,
>>>>>>> 24f335a9f860e0149d07deba726f53692b8eb2e8
     "metadata": {},
     "output_type": "execute_result"
    }
   ],
   "source": [
    "az_stops.head()"
   ]
  },
  {
   "cell_type": "markdown",
   "metadata": {},
   "source": [
    "This gives us a general idea as to what columns we have and what the data looks like. Notice all the `NaN` (Not a Number) values. We will talk about those shortly. Keep in mind that this is only the first few rows. Now let's use a different function to take a more comprehensive look at the columns and how they are made up:"
   ]
  },
  {
   "cell_type": "code",
<<<<<<< HEAD
   "execution_count": 188,
=======
   "execution_count": 76,
>>>>>>> 24f335a9f860e0149d07deba726f53692b8eb2e8
   "metadata": {},
   "outputs": [
    {
     "name": "stdout",
     "output_type": "stream",
     "text": [
      "<class 'pandas.core.frame.DataFrame'>\n",
      "RangeIndex: 508418 entries, 0 to 508417\n",
      "Data columns (total 29 columns):\n",
      "id                       508418 non-null object\n",
      "state                    508418 non-null object\n",
      "stop_date                508418 non-null object\n",
      "stop_time                508418 non-null object\n",
      "location_raw             32 non-null object\n",
      "county_name              447212 non-null object\n",
      "county_fips              447212 non-null object\n",
      "fine_grained_location    508418 non-null object\n",
      "police_department        0 non-null object\n",
      "driver_gender            508418 non-null object\n",
      "driver_age_raw           0 non-null object\n",
      "driver_age               0 non-null object\n",
      "driver_race_raw          508418 non-null object\n",
      "driver_race              508418 non-null object\n",
      "violation_raw            209257 non-null object\n",
      "violation                209257 non-null object\n",
      "search_conducted         508418 non-null object\n",
      "search_type_raw          2650 non-null object\n",
      "search_type              2650 non-null object\n",
      "contraband_found         508418 non-null object\n",
      "stop_outcome             508380 non-null object\n",
      "is_arrested              508418 non-null object\n",
      "officer_id               508418 non-null object\n",
      "stop_duration            500415 non-null object\n",
      "road_number              472774 non-null object\n",
      "milepost                 472774 non-null object\n",
      "consent_search           487713 non-null object\n",
      "vehicle_type             508418 non-null object\n",
      "ethnicity                508418 non-null object\n",
      "dtypes: object(29)\n",
      "memory usage: 112.5+ MB\n"
     ]
    }
   ],
   "source": [
    "az_stops.info()"
   ]
  },
  {
   "cell_type": "markdown",
   "metadata": {},
   "source": [
    "Now we have a list showing information about each column, including:\n",
    "\n",
    "- The column name\n",
    "- The number of records which have data in each column\n",
    "- Whether or not there is missing or null data (see below)\n",
    "- The data type of the column - in this case everything is listed as an `object`, which is how Pandas describes text fields.\n",
    "\n",
    "Additionally we get information on how many records are in our data - this translates directly to the number of traffic stops we are analyzing. You will notice this matches up with the counts we checked earlier when extracting the data.\n",
    "\n",
    "**Note:** One side effect of our importing our fields as `object` is that Pandas will handle missing, null or blank data (those `NaN` values from above) a little differently than it does by default. Normally Pandas would automatically exclude null values from any sort of analysis. We don't necessarily want that. It may be important to keep track of how many records do not have actual data in it for a given column. By telling Pandas that everything should be rendered as text when we import the data it allows us to keep null, missing or blank values in the analysis. But don't worry: we will talk about how to handle those later.\n",
    "\n",
    "### Diving a little deeper\n",
    "\n",
    "Now that we have a general sense of of our data, let's do some preliminary analysis to see what else we can learn.\n",
    "\n",
    "One of the first things we want to learn is if there are any gaps in our data that we haven't been able to see so far. Let's start by taking a look at traffic stops by month. To do this we will work with the `stop_date` column, but we will need to convert it to the proper data type -- a Python `datetime` instead of an object -- before we can perform an analysis on it. Luckily, Pandas has a handy function to do that."
   ]
  },
  {
   "cell_type": "code",
<<<<<<< HEAD
   "execution_count": 189,
=======
   "execution_count": 77,
>>>>>>> 24f335a9f860e0149d07deba726f53692b8eb2e8
   "metadata": {},
   "outputs": [],
   "source": [
    "az_stops['stop_date'] = pd.to_datetime(az_stops['stop_date'])"
   ]
  },
  {
   "cell_type": "markdown",
   "metadata": {},
   "source": [
    "OK, that syntax is pretty weird -- what just happened? Essentially, we told Pandas to rewrite the stop_date field for each row in our data."
   ]
  },
  {
   "cell_type": "markdown",
   "metadata": {},
   "source": [
    "Now that our `stop_date` column is in the correct format, we want to get a count of stops by month to check if we have the entire year. To do this we will use the `groupby` function. \n",
    "\n",
    "Since we only want to count stops by month we should try to count a column that has no missing data - in this case it would be the `id` column. We isolate that column by using the `az_stops['id']` syntax.\n",
    "\n",
    "The `groupby` function takes several different arguments, but only one is required - which field you want to group by. In this case we need to group by the month of the `stop_date` column. Because we turned our stop_date into a fancy Python date, we can access that using this method: `az_stops.stop_date.dt.month`.\n",
    "\n",
    "Lastly, since `groupby` is meant to aggregate data using different mathmatical functions (think sum, average, count, etc) we need to specify what kind of math we want to use when aggregating. In this case, we want to count how many stops are in each month, so we use `count()`."
   ]
  },
  {
   "cell_type": "code",
<<<<<<< HEAD
   "execution_count": 190,
   "metadata": {},
=======
   "execution_count": 78,
   "metadata": {
    "scrolled": true
   },
>>>>>>> 24f335a9f860e0149d07deba726f53692b8eb2e8
   "outputs": [
    {
     "data": {
      "text/html": [
       "<div>\n",
       "<style scoped>\n",
       "    .dataframe tbody tr th:only-of-type {\n",
       "        vertical-align: middle;\n",
       "    }\n",
       "\n",
       "    .dataframe tbody tr th {\n",
       "        vertical-align: top;\n",
       "    }\n",
       "\n",
       "    .dataframe thead th {\n",
       "        text-align: right;\n",
       "    }\n",
       "</style>\n",
       "<table border=\"1\" class=\"dataframe\">\n",
       "  <thead>\n",
       "    <tr style=\"text-align: right;\">\n",
       "      <th></th>\n",
       "      <th>id</th>\n",
       "    </tr>\n",
       "    <tr>\n",
       "      <th>stop_date</th>\n",
       "      <th></th>\n",
       "    </tr>\n",
       "  </thead>\n",
       "  <tbody>\n",
       "    <tr>\n",
       "      <th>1</th>\n",
       "      <td>50198</td>\n",
       "    </tr>\n",
       "    <tr>\n",
       "      <th>2</th>\n",
       "      <td>40752</td>\n",
       "    </tr>\n",
       "    <tr>\n",
       "      <th>3</th>\n",
       "      <td>41455</td>\n",
       "    </tr>\n",
       "    <tr>\n",
       "      <th>4</th>\n",
       "      <td>42330</td>\n",
       "    </tr>\n",
       "    <tr>\n",
       "      <th>5</th>\n",
       "      <td>41742</td>\n",
       "    </tr>\n",
       "    <tr>\n",
       "      <th>6</th>\n",
       "      <td>37698</td>\n",
       "    </tr>\n",
       "    <tr>\n",
       "      <th>7</th>\n",
       "      <td>40297</td>\n",
       "    </tr>\n",
       "    <tr>\n",
       "      <th>8</th>\n",
       "      <td>44082</td>\n",
       "    </tr>\n",
       "    <tr>\n",
       "      <th>9</th>\n",
       "      <td>39645</td>\n",
       "    </tr>\n",
       "    <tr>\n",
       "      <th>10</th>\n",
       "      <td>37353</td>\n",
       "    </tr>\n",
       "    <tr>\n",
       "      <th>11</th>\n",
       "      <td>54703</td>\n",
       "    </tr>\n",
       "    <tr>\n",
       "      <th>12</th>\n",
       "      <td>38163</td>\n",
       "    </tr>\n",
       "  </tbody>\n",
       "</table>\n",
       "</div>"
      ],
      "text/plain": [
       "              id\n",
       "stop_date       \n",
       "1          50198\n",
       "2          40752\n",
       "3          41455\n",
       "4          42330\n",
       "5          41742\n",
       "6          37698\n",
       "7          40297\n",
       "8          44082\n",
       "9          39645\n",
       "10         37353\n",
       "11         54703\n",
       "12         38163"
      ]
     },
<<<<<<< HEAD
     "execution_count": 190,
=======
     "execution_count": 78,
>>>>>>> 24f335a9f860e0149d07deba726f53692b8eb2e8
     "metadata": {},
     "output_type": "execute_result"
    }
   ],
   "source": [
    "stops_by_month = az_stops[['id']].groupby(by = az_stops.stop_date.dt.month).count()\n",
    "\n",
    "stops_by_month"
   ]
  },
  {
   "cell_type": "markdown",
   "metadata": {},
   "source": [
    "Can you see where the issue is? Hint: How many months are there? What happened to December? How should we handle this?"
   ]
  },
  {
   "cell_type": "markdown",
   "metadata": {},
   "source": [
    "### Taking a visual look at our data\n",
    "\n",
    "It's nice to have the table showing our counts by month, but sometimes we want more detail. Let's look at traffic stops by day of the yar. For that much data, we probably want to look at this visually rather than in a table, so let's build a bar chart.\n",
    "\n",
    "First we need to do another `groupby`, but this time the syntax will be a bit different."
   ]
  },
  {
   "cell_type": "code",
<<<<<<< HEAD
   "execution_count": 191,
=======
   "execution_count": 79,
>>>>>>> 24f335a9f860e0149d07deba726f53692b8eb2e8
   "metadata": {},
   "outputs": [
    {
     "data": {
      "text/html": [
       "<div>\n",
       "<style scoped>\n",
       "    .dataframe tbody tr th:only-of-type {\n",
       "        vertical-align: middle;\n",
       "    }\n",
       "\n",
       "    .dataframe tbody tr th {\n",
       "        vertical-align: top;\n",
       "    }\n",
       "\n",
       "    .dataframe thead th {\n",
       "        text-align: right;\n",
       "    }\n",
       "</style>\n",
       "<table border=\"1\" class=\"dataframe\">\n",
       "  <thead>\n",
       "    <tr style=\"text-align: right;\">\n",
       "      <th></th>\n",
       "      <th>stop_date</th>\n",
       "      <th>id</th>\n",
       "    </tr>\n",
       "  </thead>\n",
       "  <tbody>\n",
       "    <tr>\n",
       "      <th>0</th>\n",
       "      <td>2014-01-01</td>\n",
       "      <td>1755</td>\n",
       "    </tr>\n",
       "    <tr>\n",
       "      <th>1</th>\n",
       "      <td>2014-01-02</td>\n",
       "      <td>1694</td>\n",
       "    </tr>\n",
       "    <tr>\n",
       "      <th>2</th>\n",
       "      <td>2014-01-03</td>\n",
       "      <td>1490</td>\n",
       "    </tr>\n",
       "    <tr>\n",
       "      <th>3</th>\n",
       "      <td>2014-01-04</td>\n",
       "      <td>1153</td>\n",
       "    </tr>\n",
       "    <tr>\n",
       "      <th>4</th>\n",
       "      <td>2014-01-05</td>\n",
       "      <td>1150</td>\n",
       "    </tr>\n",
       "  </tbody>\n",
       "</table>\n",
       "</div>"
      ],
      "text/plain": [
       "   stop_date    id\n",
       "0 2014-01-01  1755\n",
       "1 2014-01-02  1694\n",
       "2 2014-01-03  1490\n",
       "3 2014-01-04  1153\n",
       "4 2014-01-05  1150"
      ]
     },
<<<<<<< HEAD
     "execution_count": 191,
=======
     "execution_count": 79,
>>>>>>> 24f335a9f860e0149d07deba726f53692b8eb2e8
     "metadata": {},
     "output_type": "execute_result"
    }
   ],
   "source": [
    "stops_by_day = az_stops[['stop_date','id']].groupby(by = 'stop_date', as_index = False).count()\n",
    "\n",
    "# Even though our groupby ran on the whole data set, let's just look at the first few rows.\n",
    "stops_by_day.head()"
   ]
  },
  {
   "cell_type": "markdown",
   "metadata": {},
   "source": [
    "Before we draw the chart, let's change the name of the `id` column into something that makes sense."
   ]
  },
  {
   "cell_type": "code",
<<<<<<< HEAD
   "execution_count": 192,
=======
   "execution_count": 80,
>>>>>>> 24f335a9f860e0149d07deba726f53692b8eb2e8
   "metadata": {},
   "outputs": [
    {
     "data": {
      "text/html": [
       "<div>\n",
       "<style scoped>\n",
       "    .dataframe tbody tr th:only-of-type {\n",
       "        vertical-align: middle;\n",
       "    }\n",
       "\n",
       "    .dataframe tbody tr th {\n",
       "        vertical-align: top;\n",
       "    }\n",
       "\n",
       "    .dataframe thead th {\n",
       "        text-align: right;\n",
       "    }\n",
       "</style>\n",
       "<table border=\"1\" class=\"dataframe\">\n",
       "  <thead>\n",
       "    <tr style=\"text-align: right;\">\n",
       "      <th></th>\n",
       "      <th>stop_date</th>\n",
       "      <th>traffic_stops</th>\n",
       "    </tr>\n",
       "  </thead>\n",
       "  <tbody>\n",
       "    <tr>\n",
       "      <th>0</th>\n",
       "      <td>2014-01-01</td>\n",
       "      <td>1755</td>\n",
       "    </tr>\n",
       "    <tr>\n",
       "      <th>1</th>\n",
       "      <td>2014-01-02</td>\n",
       "      <td>1694</td>\n",
       "    </tr>\n",
       "    <tr>\n",
       "      <th>2</th>\n",
       "      <td>2014-01-03</td>\n",
       "      <td>1490</td>\n",
       "    </tr>\n",
       "    <tr>\n",
       "      <th>3</th>\n",
       "      <td>2014-01-04</td>\n",
       "      <td>1153</td>\n",
       "    </tr>\n",
       "    <tr>\n",
       "      <th>4</th>\n",
       "      <td>2014-01-05</td>\n",
       "      <td>1150</td>\n",
       "    </tr>\n",
       "  </tbody>\n",
       "</table>\n",
       "</div>"
      ],
      "text/plain": [
       "   stop_date  traffic_stops\n",
       "0 2014-01-01           1755\n",
       "1 2014-01-02           1694\n",
       "2 2014-01-03           1490\n",
       "3 2014-01-04           1153\n",
       "4 2014-01-05           1150"
      ]
     },
<<<<<<< HEAD
     "execution_count": 192,
=======
     "execution_count": 80,
>>>>>>> 24f335a9f860e0149d07deba726f53692b8eb2e8
     "metadata": {},
     "output_type": "execute_result"
    }
   ],
   "source": [
    "stops_by_day.rename(columns = {'id' : 'traffic_stops'}, inplace = True)\n",
    "\n",
    "# Let's see if that worked.\n",
    "stops_by_day.head()"
   ]
  },
  {
   "cell_type": "markdown",
   "metadata": {},
   "source": [
    "Now we can draw the chart using Altair. Altair requires us to use several different functions tied together to display the chart. The first function is just starting up a chart and telling it what data we want to use. Then we tell it what type of chart we want (a line or fever chart in this case). Lastly we tell it what columns in our data should be used for the chart axes. "
   ]
  },
  {
   "cell_type": "code",
<<<<<<< HEAD
   "execution_count": 193,
=======
   "execution_count": 81,
>>>>>>> 24f335a9f860e0149d07deba726f53692b8eb2e8
   "metadata": {},
   "outputs": [
    {
     "data": {
      "text/html": [
<<<<<<< HEAD
       "<div class=\"vega-embed\" id=\"d9204038-8a6e-4d42-ba93-ba0ff9716f81\"></div>\n",
=======
       "<div class=\"vega-embed\" id=\"3cbe6332-8ed6-426d-8a33-3275915dc57b\"></div>\n",
>>>>>>> 24f335a9f860e0149d07deba726f53692b8eb2e8
       "\n",
       "<style>\n",
       ".vega-embed .vega-actions > a {\n",
       "    transition: opacity 200ms ease-in;\n",
       "    opacity: 0.3;\n",
       "    margin-right: 0.6em;\n",
       "    color: #444;\n",
       "    text-decoration: none;\n",
       "}\n",
       "\n",
       ".vega-embed .vega-actions > a:hover {\n",
       "    color: #000;\n",
       "    text-decoration: underline;\n",
       "}\n",
       "\n",
       ".vega-embed:hover .vega-actions > a {\n",
       "    opacity: 1;\n",
       "    transition: 0s;\n",
       "}\n",
       "\n",
       ".vega-embed .error p {\n",
       "    color: firebrick;\n",
       "    font-size: 1.2em;\n",
       "}\n",
       "</style>\n"
      ]
     },
     "metadata": {
<<<<<<< HEAD
      "jupyter-vega3": "#d9204038-8a6e-4d42-ba93-ba0ff9716f81"
=======
      "jupyter-vega3": "#3cbe6332-8ed6-426d-8a33-3275915dc57b"
>>>>>>> 24f335a9f860e0149d07deba726f53692b8eb2e8
     },
     "output_type": "display_data"
    },
    {
     "data": {
      "application/javascript": [
<<<<<<< HEAD
       "var spec = {\"config\": {\"view\": {\"width\": 400, \"height\": 300}}, \"data\": {\"values\": [{\"stop_date\": \"2014-01-01\", \"traffic_stops\": 1755}, {\"stop_date\": \"2014-01-02\", \"traffic_stops\": 1694}, {\"stop_date\": \"2014-01-03\", \"traffic_stops\": 1490}, {\"stop_date\": \"2014-01-04\", \"traffic_stops\": 1153}, {\"stop_date\": \"2014-01-05\", \"traffic_stops\": 1150}, {\"stop_date\": \"2014-01-06\", \"traffic_stops\": 1455}, {\"stop_date\": \"2014-01-07\", \"traffic_stops\": 1618}, {\"stop_date\": \"2014-01-08\", \"traffic_stops\": 1675}, {\"stop_date\": \"2014-01-09\", \"traffic_stops\": 1620}, {\"stop_date\": \"2014-01-10\", \"traffic_stops\": 1555}, {\"stop_date\": \"2014-01-11\", \"traffic_stops\": 1274}, {\"stop_date\": \"2014-01-12\", \"traffic_stops\": 1147}, {\"stop_date\": \"2014-01-13\", \"traffic_stops\": 1340}, {\"stop_date\": \"2014-01-14\", \"traffic_stops\": 1695}, {\"stop_date\": \"2014-01-15\", \"traffic_stops\": 3810}, {\"stop_date\": \"2014-01-16\", \"traffic_stops\": 2155}, {\"stop_date\": \"2014-01-17\", \"traffic_stops\": 1774}, {\"stop_date\": \"2014-01-18\", \"traffic_stops\": 1200}, {\"stop_date\": \"2014-01-19\", \"traffic_stops\": 1192}, {\"stop_date\": \"2014-01-20\", \"traffic_stops\": 1717}, {\"stop_date\": \"2014-01-21\", \"traffic_stops\": 1640}, {\"stop_date\": \"2014-01-22\", \"traffic_stops\": 1903}, {\"stop_date\": \"2014-01-23\", \"traffic_stops\": 1667}, {\"stop_date\": \"2014-01-24\", \"traffic_stops\": 1540}, {\"stop_date\": \"2014-01-25\", \"traffic_stops\": 1304}, {\"stop_date\": \"2014-01-26\", \"traffic_stops\": 1311}, {\"stop_date\": \"2014-01-27\", \"traffic_stops\": 1537}, {\"stop_date\": \"2014-01-28\", \"traffic_stops\": 1853}, {\"stop_date\": \"2014-01-29\", \"traffic_stops\": 1869}, {\"stop_date\": \"2014-01-30\", \"traffic_stops\": 1539}, {\"stop_date\": \"2014-01-31\", \"traffic_stops\": 1566}, {\"stop_date\": \"2014-02-01\", \"traffic_stops\": 1141}, {\"stop_date\": \"2014-02-02\", \"traffic_stops\": 1242}, {\"stop_date\": \"2014-02-03\", \"traffic_stops\": 1298}, {\"stop_date\": \"2014-02-04\", \"traffic_stops\": 1475}, {\"stop_date\": \"2014-02-05\", \"traffic_stops\": 1736}, {\"stop_date\": \"2014-02-06\", \"traffic_stops\": 1507}, {\"stop_date\": \"2014-02-07\", \"traffic_stops\": 1455}, {\"stop_date\": \"2014-02-08\", \"traffic_stops\": 1181}, {\"stop_date\": \"2014-02-09\", \"traffic_stops\": 1216}, {\"stop_date\": \"2014-02-10\", \"traffic_stops\": 1282}, {\"stop_date\": \"2014-02-11\", \"traffic_stops\": 1583}, {\"stop_date\": \"2014-02-12\", \"traffic_stops\": 1646}, {\"stop_date\": \"2014-02-13\", \"traffic_stops\": 1300}, {\"stop_date\": \"2014-02-14\", \"traffic_stops\": 1556}, {\"stop_date\": \"2014-02-15\", \"traffic_stops\": 2134}, {\"stop_date\": \"2014-02-16\", \"traffic_stops\": 1239}, {\"stop_date\": \"2014-02-17\", \"traffic_stops\": 1831}, {\"stop_date\": \"2014-02-18\", \"traffic_stops\": 1549}, {\"stop_date\": \"2014-02-19\", \"traffic_stops\": 1723}, {\"stop_date\": \"2014-02-20\", \"traffic_stops\": 1524}, {\"stop_date\": \"2014-02-21\", \"traffic_stops\": 1412}, {\"stop_date\": \"2014-02-22\", \"traffic_stops\": 1013}, {\"stop_date\": \"2014-02-23\", \"traffic_stops\": 994}, {\"stop_date\": \"2014-02-24\", \"traffic_stops\": 1190}, {\"stop_date\": \"2014-02-25\", \"traffic_stops\": 1687}, {\"stop_date\": \"2014-02-26\", \"traffic_stops\": 1726}, {\"stop_date\": \"2014-02-27\", \"traffic_stops\": 1801}, {\"stop_date\": \"2014-02-28\", \"traffic_stops\": 1311}, {\"stop_date\": \"2014-03-01\", \"traffic_stops\": 565}, {\"stop_date\": \"2014-03-02\", \"traffic_stops\": 963}, {\"stop_date\": \"2014-03-03\", \"traffic_stops\": 1268}, {\"stop_date\": \"2014-03-04\", \"traffic_stops\": 1375}, {\"stop_date\": \"2014-03-05\", \"traffic_stops\": 1572}, {\"stop_date\": \"2014-03-06\", \"traffic_stops\": 1614}, {\"stop_date\": \"2014-03-07\", \"traffic_stops\": 1481}, {\"stop_date\": \"2014-03-08\", \"traffic_stops\": 956}, {\"stop_date\": \"2014-03-09\", \"traffic_stops\": 1273}, {\"stop_date\": \"2014-03-10\", \"traffic_stops\": 1149}, {\"stop_date\": \"2014-03-11\", \"traffic_stops\": 1439}, {\"stop_date\": \"2014-03-12\", \"traffic_stops\": 1534}, {\"stop_date\": \"2014-03-13\", \"traffic_stops\": 1427}, {\"stop_date\": \"2014-03-14\", \"traffic_stops\": 1499}, {\"stop_date\": \"2014-03-15\", \"traffic_stops\": 2156}, {\"stop_date\": \"2014-03-16\", \"traffic_stops\": 1160}, {\"stop_date\": \"2014-03-17\", \"traffic_stops\": 1588}, {\"stop_date\": \"2014-03-18\", \"traffic_stops\": 1637}, {\"stop_date\": \"2014-03-19\", \"traffic_stops\": 1511}, {\"stop_date\": \"2014-03-20\", \"traffic_stops\": 1500}, {\"stop_date\": \"2014-03-21\", \"traffic_stops\": 1406}, {\"stop_date\": \"2014-03-22\", \"traffic_stops\": 1102}, {\"stop_date\": \"2014-03-23\", \"traffic_stops\": 1131}, {\"stop_date\": \"2014-03-24\", \"traffic_stops\": 1212}, {\"stop_date\": \"2014-03-25\", \"traffic_stops\": 1171}, {\"stop_date\": \"2014-03-26\", \"traffic_stops\": 1477}, {\"stop_date\": \"2014-03-27\", \"traffic_stops\": 1444}, {\"stop_date\": \"2014-03-28\", \"traffic_stops\": 1311}, {\"stop_date\": \"2014-03-29\", \"traffic_stops\": 1084}, {\"stop_date\": \"2014-03-30\", \"traffic_stops\": 1078}, {\"stop_date\": \"2014-03-31\", \"traffic_stops\": 1372}, {\"stop_date\": \"2014-04-01\", \"traffic_stops\": 1667}, {\"stop_date\": \"2014-04-02\", \"traffic_stops\": 1545}, {\"stop_date\": \"2014-04-03\", \"traffic_stops\": 1647}, {\"stop_date\": \"2014-04-04\", \"traffic_stops\": 1435}, {\"stop_date\": \"2014-04-05\", \"traffic_stops\": 1053}, {\"stop_date\": \"2014-04-06\", \"traffic_stops\": 1251}, {\"stop_date\": \"2014-04-07\", \"traffic_stops\": 1477}, {\"stop_date\": \"2014-04-08\", \"traffic_stops\": 1405}, {\"stop_date\": \"2014-04-09\", \"traffic_stops\": 1677}, {\"stop_date\": \"2014-04-10\", \"traffic_stops\": 1531}, {\"stop_date\": \"2014-04-11\", \"traffic_stops\": 1332}, {\"stop_date\": \"2014-04-12\", \"traffic_stops\": 968}, {\"stop_date\": \"2014-04-13\", \"traffic_stops\": 1045}, {\"stop_date\": \"2014-04-14\", \"traffic_stops\": 1475}, {\"stop_date\": \"2014-04-15\", \"traffic_stops\": 2422}, {\"stop_date\": \"2014-04-16\", \"traffic_stops\": 1420}, {\"stop_date\": \"2014-04-17\", \"traffic_stops\": 1246}, {\"stop_date\": \"2014-04-18\", \"traffic_stops\": 1503}, {\"stop_date\": \"2014-04-19\", \"traffic_stops\": 1084}, {\"stop_date\": \"2014-04-20\", \"traffic_stops\": 1108}, {\"stop_date\": \"2014-04-21\", \"traffic_stops\": 1219}, {\"stop_date\": \"2014-04-22\", \"traffic_stops\": 1616}, {\"stop_date\": \"2014-04-23\", \"traffic_stops\": 1842}, {\"stop_date\": \"2014-04-24\", \"traffic_stops\": 1583}, {\"stop_date\": \"2014-04-25\", \"traffic_stops\": 1338}, {\"stop_date\": \"2014-04-26\", \"traffic_stops\": 933}, {\"stop_date\": \"2014-04-27\", \"traffic_stops\": 1342}, {\"stop_date\": \"2014-04-28\", \"traffic_stops\": 1249}, {\"stop_date\": \"2014-04-29\", \"traffic_stops\": 1319}, {\"stop_date\": \"2014-04-30\", \"traffic_stops\": 1598}, {\"stop_date\": \"2014-05-01\", \"traffic_stops\": 1228}, {\"stop_date\": \"2014-05-02\", \"traffic_stops\": 1400}, {\"stop_date\": \"2014-05-03\", \"traffic_stops\": 991}, {\"stop_date\": \"2014-05-04\", \"traffic_stops\": 1055}, {\"stop_date\": \"2014-05-05\", \"traffic_stops\": 1120}, {\"stop_date\": \"2014-05-06\", \"traffic_stops\": 1097}, {\"stop_date\": \"2014-05-07\", \"traffic_stops\": 1384}, {\"stop_date\": \"2014-05-08\", \"traffic_stops\": 1236}, {\"stop_date\": \"2014-05-09\", \"traffic_stops\": 1414}, {\"stop_date\": \"2014-05-10\", \"traffic_stops\": 1023}, {\"stop_date\": \"2014-05-11\", \"traffic_stops\": 933}, {\"stop_date\": \"2014-05-12\", \"traffic_stops\": 1338}, {\"stop_date\": \"2014-05-13\", \"traffic_stops\": 1280}, {\"stop_date\": \"2014-05-14\", \"traffic_stops\": 1514}, {\"stop_date\": \"2014-05-15\", \"traffic_stops\": 3016}, {\"stop_date\": \"2014-05-16\", \"traffic_stops\": 1526}, {\"stop_date\": \"2014-05-17\", \"traffic_stops\": 1169}, {\"stop_date\": \"2014-05-18\", \"traffic_stops\": 1212}, {\"stop_date\": \"2014-05-19\", \"traffic_stops\": 1080}, {\"stop_date\": \"2014-05-20\", \"traffic_stops\": 1228}, {\"stop_date\": \"2014-05-21\", \"traffic_stops\": 1405}, {\"stop_date\": \"2014-05-22\", \"traffic_stops\": 1370}, {\"stop_date\": \"2014-05-23\", \"traffic_stops\": 1765}, {\"stop_date\": \"2014-05-24\", \"traffic_stops\": 1399}, {\"stop_date\": \"2014-05-25\", \"traffic_stops\": 1251}, {\"stop_date\": \"2014-05-26\", \"traffic_stops\": 1976}, {\"stop_date\": \"2014-05-27\", \"traffic_stops\": 1214}, {\"stop_date\": \"2014-05-28\", \"traffic_stops\": 1478}, {\"stop_date\": \"2014-05-29\", \"traffic_stops\": 1291}, {\"stop_date\": \"2014-05-30\", \"traffic_stops\": 1249}, {\"stop_date\": \"2014-05-31\", \"traffic_stops\": 1100}, {\"stop_date\": \"2014-06-01\", \"traffic_stops\": 961}, {\"stop_date\": \"2014-06-02\", \"traffic_stops\": 1050}, {\"stop_date\": \"2014-06-03\", \"traffic_stops\": 1421}, {\"stop_date\": \"2014-06-04\", \"traffic_stops\": 1504}, {\"stop_date\": \"2014-06-05\", \"traffic_stops\": 1490}, {\"stop_date\": \"2014-06-06\", \"traffic_stops\": 1206}, {\"stop_date\": \"2014-06-07\", \"traffic_stops\": 906}, {\"stop_date\": \"2014-06-08\", \"traffic_stops\": 938}, {\"stop_date\": \"2014-06-09\", \"traffic_stops\": 1214}, {\"stop_date\": \"2014-06-10\", \"traffic_stops\": 1187}, {\"stop_date\": \"2014-06-11\", \"traffic_stops\": 1323}, {\"stop_date\": \"2014-06-12\", \"traffic_stops\": 1220}, {\"stop_date\": \"2014-06-13\", \"traffic_stops\": 1385}, {\"stop_date\": \"2014-06-14\", \"traffic_stops\": 911}, {\"stop_date\": \"2014-06-15\", \"traffic_stops\": 2120}, {\"stop_date\": \"2014-06-16\", \"traffic_stops\": 1134}, {\"stop_date\": \"2014-06-17\", \"traffic_stops\": 1371}, {\"stop_date\": \"2014-06-18\", \"traffic_stops\": 1532}, {\"stop_date\": \"2014-06-19\", \"traffic_stops\": 1430}, {\"stop_date\": \"2014-06-20\", \"traffic_stops\": 1361}, {\"stop_date\": \"2014-06-21\", \"traffic_stops\": 1072}, {\"stop_date\": \"2014-06-22\", \"traffic_stops\": 1064}, {\"stop_date\": \"2014-06-23\", \"traffic_stops\": 1280}, {\"stop_date\": \"2014-06-24\", \"traffic_stops\": 1348}, {\"stop_date\": \"2014-06-25\", \"traffic_stops\": 1461}, {\"stop_date\": \"2014-06-26\", \"traffic_stops\": 1158}, {\"stop_date\": \"2014-06-27\", \"traffic_stops\": 1245}, {\"stop_date\": \"2014-06-28\", \"traffic_stops\": 1026}, {\"stop_date\": \"2014-06-29\", \"traffic_stops\": 1023}, {\"stop_date\": \"2014-06-30\", \"traffic_stops\": 1357}, {\"stop_date\": \"2014-07-01\", \"traffic_stops\": 1394}, {\"stop_date\": \"2014-07-02\", \"traffic_stops\": 1725}, {\"stop_date\": \"2014-07-03\", \"traffic_stops\": 1555}, {\"stop_date\": \"2014-07-04\", \"traffic_stops\": 2012}, {\"stop_date\": \"2014-07-05\", \"traffic_stops\": 1449}, {\"stop_date\": \"2014-07-06\", \"traffic_stops\": 1444}, {\"stop_date\": \"2014-07-07\", \"traffic_stops\": 996}, {\"stop_date\": \"2014-07-08\", \"traffic_stops\": 1181}, {\"stop_date\": \"2014-07-09\", \"traffic_stops\": 1466}, {\"stop_date\": \"2014-07-10\", \"traffic_stops\": 1219}, {\"stop_date\": \"2014-07-11\", \"traffic_stops\": 1329}, {\"stop_date\": \"2014-07-12\", \"traffic_stops\": 923}, {\"stop_date\": \"2014-07-13\", \"traffic_stops\": 806}, {\"stop_date\": \"2014-07-14\", \"traffic_stops\": 962}, {\"stop_date\": \"2014-07-15\", \"traffic_stops\": 2810}, {\"stop_date\": \"2014-07-16\", \"traffic_stops\": 1436}, {\"stop_date\": \"2014-07-17\", \"traffic_stops\": 1244}, {\"stop_date\": \"2014-07-18\", \"traffic_stops\": 1348}, {\"stop_date\": \"2014-07-19\", \"traffic_stops\": 881}, {\"stop_date\": \"2014-07-20\", \"traffic_stops\": 960}, {\"stop_date\": \"2014-07-21\", \"traffic_stops\": 1156}, {\"stop_date\": \"2014-07-22\", \"traffic_stops\": 1291}, {\"stop_date\": \"2014-07-23\", \"traffic_stops\": 1422}, {\"stop_date\": \"2014-07-24\", \"traffic_stops\": 1292}, {\"stop_date\": \"2014-07-25\", \"traffic_stops\": 1401}, {\"stop_date\": \"2014-07-26\", \"traffic_stops\": 1053}, {\"stop_date\": \"2014-07-27\", \"traffic_stops\": 875}, {\"stop_date\": \"2014-07-28\", \"traffic_stops\": 1058}, {\"stop_date\": \"2014-07-29\", \"traffic_stops\": 1261}, {\"stop_date\": \"2014-07-30\", \"traffic_stops\": 1237}, {\"stop_date\": \"2014-07-31\", \"traffic_stops\": 1111}, {\"stop_date\": \"2014-08-01\", \"traffic_stops\": 1194}, {\"stop_date\": \"2014-08-02\", \"traffic_stops\": 829}, {\"stop_date\": \"2014-08-03\", \"traffic_stops\": 846}, {\"stop_date\": \"2014-08-04\", \"traffic_stops\": 1208}, {\"stop_date\": \"2014-08-05\", \"traffic_stops\": 1332}, {\"stop_date\": \"2014-08-06\", \"traffic_stops\": 1492}, {\"stop_date\": \"2014-08-07\", \"traffic_stops\": 1394}, {\"stop_date\": \"2014-08-08\", \"traffic_stops\": 1682}, {\"stop_date\": \"2014-08-09\", \"traffic_stops\": 1245}, {\"stop_date\": \"2014-08-10\", \"traffic_stops\": 1105}, {\"stop_date\": \"2014-08-11\", \"traffic_stops\": 1314}, {\"stop_date\": \"2014-08-12\", \"traffic_stops\": 1371}, {\"stop_date\": \"2014-08-13\", \"traffic_stops\": 1286}, {\"stop_date\": \"2014-08-14\", \"traffic_stops\": 1533}, {\"stop_date\": \"2014-08-15\", \"traffic_stops\": 2828}, {\"stop_date\": \"2014-08-16\", \"traffic_stops\": 1146}, {\"stop_date\": \"2014-08-17\", \"traffic_stops\": 1226}, {\"stop_date\": \"2014-08-18\", \"traffic_stops\": 1257}, {\"stop_date\": \"2014-08-19\", \"traffic_stops\": 1271}, {\"stop_date\": \"2014-08-20\", \"traffic_stops\": 1622}, {\"stop_date\": \"2014-08-21\", \"traffic_stops\": 1615}, {\"stop_date\": \"2014-08-22\", \"traffic_stops\": 1615}, {\"stop_date\": \"2014-08-23\", \"traffic_stops\": 1271}, {\"stop_date\": \"2014-08-24\", \"traffic_stops\": 1197}, {\"stop_date\": \"2014-08-25\", \"traffic_stops\": 1469}, {\"stop_date\": \"2014-08-26\", \"traffic_stops\": 1430}, {\"stop_date\": \"2014-08-27\", \"traffic_stops\": 1339}, {\"stop_date\": \"2014-08-28\", \"traffic_stops\": 1390}, {\"stop_date\": \"2014-08-29\", \"traffic_stops\": 2163}, {\"stop_date\": \"2014-08-30\", \"traffic_stops\": 1629}, {\"stop_date\": \"2014-08-31\", \"traffic_stops\": 1783}, {\"stop_date\": \"2014-09-01\", \"traffic_stops\": 2317}, {\"stop_date\": \"2014-09-02\", \"traffic_stops\": 1433}, {\"stop_date\": \"2014-09-03\", \"traffic_stops\": 1587}, {\"stop_date\": \"2014-09-04\", \"traffic_stops\": 1391}, {\"stop_date\": \"2014-09-05\", \"traffic_stops\": 1395}, {\"stop_date\": \"2014-09-06\", \"traffic_stops\": 958}, {\"stop_date\": \"2014-09-07\", \"traffic_stops\": 1074}, {\"stop_date\": \"2014-09-08\", \"traffic_stops\": 948}, {\"stop_date\": \"2014-09-09\", \"traffic_stops\": 1455}, {\"stop_date\": \"2014-09-10\", \"traffic_stops\": 1784}, {\"stop_date\": \"2014-09-11\", \"traffic_stops\": 1477}, {\"stop_date\": \"2014-09-12\", \"traffic_stops\": 1502}, {\"stop_date\": \"2014-09-13\", \"traffic_stops\": 960}, {\"stop_date\": \"2014-09-14\", \"traffic_stops\": 1094}, {\"stop_date\": \"2014-09-15\", \"traffic_stops\": 2564}, {\"stop_date\": \"2014-09-16\", \"traffic_stops\": 1127}, {\"stop_date\": \"2014-09-17\", \"traffic_stops\": 1170}, {\"stop_date\": \"2014-09-18\", \"traffic_stops\": 1185}, {\"stop_date\": \"2014-09-19\", \"traffic_stops\": 1218}, {\"stop_date\": \"2014-09-20\", \"traffic_stops\": 1141}, {\"stop_date\": \"2014-09-21\", \"traffic_stops\": 897}, {\"stop_date\": \"2014-09-22\", \"traffic_stops\": 1122}, {\"stop_date\": \"2014-09-23\", \"traffic_stops\": 1276}, {\"stop_date\": \"2014-09-24\", \"traffic_stops\": 1439}, {\"stop_date\": \"2014-09-25\", \"traffic_stops\": 1433}, {\"stop_date\": \"2014-09-26\", \"traffic_stops\": 1415}, {\"stop_date\": \"2014-09-27\", \"traffic_stops\": 807}, {\"stop_date\": \"2014-09-28\", \"traffic_stops\": 1021}, {\"stop_date\": \"2014-09-29\", \"traffic_stops\": 1167}, {\"stop_date\": \"2014-09-30\", \"traffic_stops\": 1288}, {\"stop_date\": \"2014-10-01\", \"traffic_stops\": 1316}, {\"stop_date\": \"2014-10-02\", \"traffic_stops\": 1221}, {\"stop_date\": \"2014-10-03\", \"traffic_stops\": 1375}, {\"stop_date\": \"2014-10-04\", \"traffic_stops\": 1021}, {\"stop_date\": \"2014-10-05\", \"traffic_stops\": 946}, {\"stop_date\": \"2014-10-06\", \"traffic_stops\": 1072}, {\"stop_date\": \"2014-10-07\", \"traffic_stops\": 1115}, {\"stop_date\": \"2014-10-08\", \"traffic_stops\": 893}, {\"stop_date\": \"2014-10-09\", \"traffic_stops\": 1120}, {\"stop_date\": \"2014-10-10\", \"traffic_stops\": 1237}, {\"stop_date\": \"2014-10-11\", \"traffic_stops\": 851}, {\"stop_date\": \"2014-10-12\", \"traffic_stops\": 879}, {\"stop_date\": \"2014-10-13\", \"traffic_stops\": 996}, {\"stop_date\": \"2014-10-14\", \"traffic_stops\": 1268}, {\"stop_date\": \"2014-10-15\", \"traffic_stops\": 2510}, {\"stop_date\": \"2014-10-16\", \"traffic_stops\": 1185}, {\"stop_date\": \"2014-10-17\", \"traffic_stops\": 1125}, {\"stop_date\": \"2014-10-18\", \"traffic_stops\": 946}, {\"stop_date\": \"2014-10-19\", \"traffic_stops\": 1025}, {\"stop_date\": \"2014-10-20\", \"traffic_stops\": 1282}, {\"stop_date\": \"2014-10-21\", \"traffic_stops\": 1494}, {\"stop_date\": \"2014-10-22\", \"traffic_stops\": 1637}, {\"stop_date\": \"2014-10-23\", \"traffic_stops\": 1307}, {\"stop_date\": \"2014-10-24\", \"traffic_stops\": 1215}, {\"stop_date\": \"2014-10-25\", \"traffic_stops\": 1082}, {\"stop_date\": \"2014-10-26\", \"traffic_stops\": 1026}, {\"stop_date\": \"2014-10-27\", \"traffic_stops\": 1165}, {\"stop_date\": \"2014-10-28\", \"traffic_stops\": 1266}, {\"stop_date\": \"2014-10-29\", \"traffic_stops\": 1376}, {\"stop_date\": \"2014-10-30\", \"traffic_stops\": 1182}, {\"stop_date\": \"2014-10-31\", \"traffic_stops\": 1220}, {\"stop_date\": \"2014-11-01\", \"traffic_stops\": 1056}, {\"stop_date\": \"2014-11-02\", \"traffic_stops\": 1924}, {\"stop_date\": \"2014-11-03\", \"traffic_stops\": 2362}, {\"stop_date\": \"2014-11-04\", \"traffic_stops\": 2496}, {\"stop_date\": \"2014-11-05\", \"traffic_stops\": 2804}, {\"stop_date\": \"2014-11-06\", \"traffic_stops\": 2508}, {\"stop_date\": \"2014-11-07\", \"traffic_stops\": 2518}, {\"stop_date\": \"2014-11-08\", \"traffic_stops\": 2020}, {\"stop_date\": \"2014-11-09\", \"traffic_stops\": 2212}, {\"stop_date\": \"2014-11-10\", \"traffic_stops\": 2000}, {\"stop_date\": \"2014-11-11\", \"traffic_stops\": 2458}, {\"stop_date\": \"2014-11-12\", \"traffic_stops\": 2708}, {\"stop_date\": \"2014-11-13\", \"traffic_stops\": 2486}, {\"stop_date\": \"2014-11-14\", \"traffic_stops\": 2698}, {\"stop_date\": \"2014-11-15\", \"traffic_stops\": 3105}, {\"stop_date\": \"2014-11-16\", \"traffic_stops\": 1081}, {\"stop_date\": \"2014-11-17\", \"traffic_stops\": 1006}, {\"stop_date\": \"2014-11-18\", \"traffic_stops\": 1198}, {\"stop_date\": \"2014-11-19\", \"traffic_stops\": 1272}, {\"stop_date\": \"2014-11-20\", \"traffic_stops\": 1279}, {\"stop_date\": \"2014-11-21\", \"traffic_stops\": 1265}, {\"stop_date\": \"2014-11-22\", \"traffic_stops\": 962}, {\"stop_date\": \"2014-11-23\", \"traffic_stops\": 1014}, {\"stop_date\": \"2014-11-24\", \"traffic_stops\": 1111}, {\"stop_date\": \"2014-11-25\", \"traffic_stops\": 1408}, {\"stop_date\": \"2014-11-26\", \"traffic_stops\": 2475}, {\"stop_date\": \"2014-11-27\", \"traffic_stops\": 1001}, {\"stop_date\": \"2014-11-28\", \"traffic_stops\": 1513}, {\"stop_date\": \"2014-11-29\", \"traffic_stops\": 1249}, {\"stop_date\": \"2014-11-30\", \"traffic_stops\": 1514}, {\"stop_date\": \"2014-12-01\", \"traffic_stops\": 1135}, {\"stop_date\": \"2014-12-02\", \"traffic_stops\": 1193}, {\"stop_date\": \"2014-12-03\", \"traffic_stops\": 1196}, {\"stop_date\": \"2014-12-04\", \"traffic_stops\": 847}, {\"stop_date\": \"2014-12-05\", \"traffic_stops\": 1042}, {\"stop_date\": \"2014-12-06\", \"traffic_stops\": 918}, {\"stop_date\": \"2014-12-07\", \"traffic_stops\": 926}, {\"stop_date\": \"2014-12-08\", \"traffic_stops\": 1155}, {\"stop_date\": \"2014-12-09\", \"traffic_stops\": 1321}, {\"stop_date\": \"2014-12-10\", \"traffic_stops\": 1503}, {\"stop_date\": \"2014-12-11\", \"traffic_stops\": 1310}, {\"stop_date\": \"2014-12-12\", \"traffic_stops\": 1168}, {\"stop_date\": \"2014-12-13\", \"traffic_stops\": 811}, {\"stop_date\": \"2014-12-14\", \"traffic_stops\": 1003}, {\"stop_date\": \"2014-12-15\", \"traffic_stops\": 2466}, {\"stop_date\": \"2014-12-16\", \"traffic_stops\": 1516}, {\"stop_date\": \"2014-12-17\", \"traffic_stops\": 1262}, {\"stop_date\": \"2014-12-18\", \"traffic_stops\": 1361}, {\"stop_date\": \"2014-12-19\", \"traffic_stops\": 1432}, {\"stop_date\": \"2014-12-20\", \"traffic_stops\": 1096}, {\"stop_date\": \"2014-12-21\", \"traffic_stops\": 1075}, {\"stop_date\": \"2014-12-22\", \"traffic_stops\": 1160}, {\"stop_date\": \"2014-12-23\", \"traffic_stops\": 1417}, {\"stop_date\": \"2014-12-24\", \"traffic_stops\": 1788}, {\"stop_date\": \"2014-12-25\", \"traffic_stops\": 692}, {\"stop_date\": \"2014-12-26\", \"traffic_stops\": 1299}, {\"stop_date\": \"2014-12-27\", \"traffic_stops\": 993}, {\"stop_date\": \"2014-12-28\", \"traffic_stops\": 1109}, {\"stop_date\": \"2014-12-29\", \"traffic_stops\": 1224}, {\"stop_date\": \"2014-12-30\", \"traffic_stops\": 1381}, {\"stop_date\": \"2014-12-31\", \"traffic_stops\": 1364}]}, \"mark\": \"line\", \"encoding\": {\"x\": {\"type\": \"temporal\", \"field\": \"stop_date\"}, \"y\": {\"type\": \"quantitative\", \"field\": \"traffic_stops\"}}, \"$schema\": \"https://vega.github.io/schema/vega-lite/v2.3.0.json\"};\n",
       "var selector = \"#d9204038-8a6e-4d42-ba93-ba0ff9716f81\";\n",
=======
       "var spec = {\"config\": {\"view\": {\"width\": 400, \"height\": 300}}, \"data\": {\"values\": [{\"stop_date\": \"2015-01-01\", \"traffic_stops\": 1038}, {\"stop_date\": \"2015-01-02\", \"traffic_stops\": 1153}, {\"stop_date\": \"2015-01-03\", \"traffic_stops\": 997}, {\"stop_date\": \"2015-01-04\", \"traffic_stops\": 1035}, {\"stop_date\": \"2015-01-05\", \"traffic_stops\": 1186}, {\"stop_date\": \"2015-01-06\", \"traffic_stops\": 1441}, {\"stop_date\": \"2015-01-07\", \"traffic_stops\": 1619}, {\"stop_date\": \"2015-01-08\", \"traffic_stops\": 1328}, {\"stop_date\": \"2015-01-09\", \"traffic_stops\": 1590}, {\"stop_date\": \"2015-01-10\", \"traffic_stops\": 1054}, {\"stop_date\": \"2015-01-11\", \"traffic_stops\": 1041}, {\"stop_date\": \"2015-01-12\", \"traffic_stops\": 1251}, {\"stop_date\": \"2015-01-13\", \"traffic_stops\": 1302}, {\"stop_date\": \"2015-01-14\", \"traffic_stops\": 1619}, {\"stop_date\": \"2015-01-15\", \"traffic_stops\": 3104}, {\"stop_date\": \"2015-01-16\", \"traffic_stops\": 1650}, {\"stop_date\": \"2015-01-17\", \"traffic_stops\": 1167}, {\"stop_date\": \"2015-01-18\", \"traffic_stops\": 1145}, {\"stop_date\": \"2015-01-19\", \"traffic_stops\": 1477}, {\"stop_date\": \"2015-01-20\", \"traffic_stops\": 1675}, {\"stop_date\": \"2015-01-21\", \"traffic_stops\": 1649}, {\"stop_date\": \"2015-01-22\", \"traffic_stops\": 1622}, {\"stop_date\": \"2015-01-23\", \"traffic_stops\": 1686}, {\"stop_date\": \"2015-01-24\", \"traffic_stops\": 1303}, {\"stop_date\": \"2015-01-25\", \"traffic_stops\": 1222}, {\"stop_date\": \"2015-01-26\", \"traffic_stops\": 1273}, {\"stop_date\": \"2015-01-27\", \"traffic_stops\": 1520}, {\"stop_date\": \"2015-01-28\", \"traffic_stops\": 1675}, {\"stop_date\": \"2015-01-29\", \"traffic_stops\": 1544}, {\"stop_date\": \"2015-01-30\", \"traffic_stops\": 983}, {\"stop_date\": \"2015-01-31\", \"traffic_stops\": 1222}, {\"stop_date\": \"2015-02-01\", \"traffic_stops\": 1355}, {\"stop_date\": \"2015-02-02\", \"traffic_stops\": 1084}, {\"stop_date\": \"2015-02-03\", \"traffic_stops\": 1530}, {\"stop_date\": \"2015-02-04\", \"traffic_stops\": 1375}, {\"stop_date\": \"2015-02-05\", \"traffic_stops\": 1150}, {\"stop_date\": \"2015-02-06\", \"traffic_stops\": 1138}, {\"stop_date\": \"2015-02-07\", \"traffic_stops\": 1010}, {\"stop_date\": \"2015-02-08\", \"traffic_stops\": 1043}, {\"stop_date\": \"2015-02-09\", \"traffic_stops\": 1416}, {\"stop_date\": \"2015-02-10\", \"traffic_stops\": 1510}, {\"stop_date\": \"2015-02-11\", \"traffic_stops\": 1832}, {\"stop_date\": \"2015-02-12\", \"traffic_stops\": 1557}, {\"stop_date\": \"2015-02-13\", \"traffic_stops\": 1558}, {\"stop_date\": \"2015-02-14\", \"traffic_stops\": 1036}, {\"stop_date\": \"2015-02-15\", \"traffic_stops\": 1946}, {\"stop_date\": \"2015-02-16\", \"traffic_stops\": 1346}, {\"stop_date\": \"2015-02-17\", \"traffic_stops\": 1415}, {\"stop_date\": \"2015-02-18\", \"traffic_stops\": 1716}, {\"stop_date\": \"2015-02-19\", \"traffic_stops\": 1676}, {\"stop_date\": \"2015-02-20\", \"traffic_stops\": 1690}, {\"stop_date\": \"2015-02-21\", \"traffic_stops\": 1055}, {\"stop_date\": \"2015-02-22\", \"traffic_stops\": 951}, {\"stop_date\": \"2015-02-23\", \"traffic_stops\": 1112}, {\"stop_date\": \"2015-02-24\", \"traffic_stops\": 1505}, {\"stop_date\": \"2015-02-25\", \"traffic_stops\": 1892}, {\"stop_date\": \"2015-02-26\", \"traffic_stops\": 1715}, {\"stop_date\": \"2015-02-27\", \"traffic_stops\": 1388}, {\"stop_date\": \"2015-02-28\", \"traffic_stops\": 962}, {\"stop_date\": \"2015-03-01\", \"traffic_stops\": 853}, {\"stop_date\": \"2015-03-02\", \"traffic_stops\": 929}, {\"stop_date\": \"2015-03-03\", \"traffic_stops\": 1402}, {\"stop_date\": \"2015-03-04\", \"traffic_stops\": 1769}, {\"stop_date\": \"2015-03-05\", \"traffic_stops\": 1456}, {\"stop_date\": \"2015-03-06\", \"traffic_stops\": 1509}, {\"stop_date\": \"2015-03-07\", \"traffic_stops\": 974}, {\"stop_date\": \"2015-03-08\", \"traffic_stops\": 1099}, {\"stop_date\": \"2015-03-09\", \"traffic_stops\": 1285}, {\"stop_date\": \"2015-03-10\", \"traffic_stops\": 1518}, {\"stop_date\": \"2015-03-11\", \"traffic_stops\": 1646}, {\"stop_date\": \"2015-03-12\", \"traffic_stops\": 1362}, {\"stop_date\": \"2015-03-13\", \"traffic_stops\": 1554}, {\"stop_date\": \"2015-03-14\", \"traffic_stops\": 1066}, {\"stop_date\": \"2015-03-15\", \"traffic_stops\": 2028}, {\"stop_date\": \"2015-03-16\", \"traffic_stops\": 1239}, {\"stop_date\": \"2015-03-17\", \"traffic_stops\": 1452}, {\"stop_date\": \"2015-03-18\", \"traffic_stops\": 1481}, {\"stop_date\": \"2015-03-19\", \"traffic_stops\": 1437}, {\"stop_date\": \"2015-03-20\", \"traffic_stops\": 1427}, {\"stop_date\": \"2015-03-21\", \"traffic_stops\": 1081}, {\"stop_date\": \"2015-03-22\", \"traffic_stops\": 1170}, {\"stop_date\": \"2015-03-23\", \"traffic_stops\": 1339}, {\"stop_date\": \"2015-03-24\", \"traffic_stops\": 1495}, {\"stop_date\": \"2015-03-25\", \"traffic_stops\": 1462}, {\"stop_date\": \"2015-03-26\", \"traffic_stops\": 1533}, {\"stop_date\": \"2015-03-27\", \"traffic_stops\": 1331}, {\"stop_date\": \"2015-03-28\", \"traffic_stops\": 971}, {\"stop_date\": \"2015-03-29\", \"traffic_stops\": 1079}, {\"stop_date\": \"2015-03-30\", \"traffic_stops\": 1257}, {\"stop_date\": \"2015-03-31\", \"traffic_stops\": 1707}, {\"stop_date\": \"2015-04-01\", \"traffic_stops\": 1610}, {\"stop_date\": \"2015-04-02\", \"traffic_stops\": 1436}, {\"stop_date\": \"2015-04-03\", \"traffic_stops\": 1450}, {\"stop_date\": \"2015-04-04\", \"traffic_stops\": 1018}, {\"stop_date\": \"2015-04-05\", \"traffic_stops\": 1103}, {\"stop_date\": \"2015-04-06\", \"traffic_stops\": 1295}, {\"stop_date\": \"2015-04-07\", \"traffic_stops\": 1554}, {\"stop_date\": \"2015-04-08\", \"traffic_stops\": 1614}, {\"stop_date\": \"2015-04-09\", \"traffic_stops\": 1423}, {\"stop_date\": \"2015-04-10\", \"traffic_stops\": 1392}, {\"stop_date\": \"2015-04-11\", \"traffic_stops\": 1085}, {\"stop_date\": \"2015-04-12\", \"traffic_stops\": 1114}, {\"stop_date\": \"2015-04-13\", \"traffic_stops\": 1507}, {\"stop_date\": \"2015-04-14\", \"traffic_stops\": 1355}, {\"stop_date\": \"2015-04-15\", \"traffic_stops\": 2890}, {\"stop_date\": \"2015-04-16\", \"traffic_stops\": 1438}, {\"stop_date\": \"2015-04-17\", \"traffic_stops\": 1482}, {\"stop_date\": \"2015-04-18\", \"traffic_stops\": 1112}, {\"stop_date\": \"2015-04-19\", \"traffic_stops\": 1073}, {\"stop_date\": \"2015-04-20\", \"traffic_stops\": 1274}, {\"stop_date\": \"2015-04-21\", \"traffic_stops\": 1568}, {\"stop_date\": \"2015-04-22\", \"traffic_stops\": 1815}, {\"stop_date\": \"2015-04-23\", \"traffic_stops\": 1415}, {\"stop_date\": \"2015-04-24\", \"traffic_stops\": 1452}, {\"stop_date\": \"2015-04-25\", \"traffic_stops\": 1100}, {\"stop_date\": \"2015-04-26\", \"traffic_stops\": 1055}, {\"stop_date\": \"2015-04-27\", \"traffic_stops\": 1321}, {\"stop_date\": \"2015-04-28\", \"traffic_stops\": 1413}, {\"stop_date\": \"2015-04-29\", \"traffic_stops\": 1440}, {\"stop_date\": \"2015-04-30\", \"traffic_stops\": 1507}, {\"stop_date\": \"2015-05-01\", \"traffic_stops\": 1505}, {\"stop_date\": \"2015-05-02\", \"traffic_stops\": 1218}, {\"stop_date\": \"2015-05-03\", \"traffic_stops\": 1140}, {\"stop_date\": \"2015-05-04\", \"traffic_stops\": 1090}, {\"stop_date\": \"2015-05-05\", \"traffic_stops\": 1497}, {\"stop_date\": \"2015-05-06\", \"traffic_stops\": 1431}, {\"stop_date\": \"2015-05-07\", \"traffic_stops\": 1332}, {\"stop_date\": \"2015-05-08\", \"traffic_stops\": 1293}, {\"stop_date\": \"2015-05-09\", \"traffic_stops\": 1070}, {\"stop_date\": \"2015-05-10\", \"traffic_stops\": 1107}, {\"stop_date\": \"2015-05-11\", \"traffic_stops\": 1555}, {\"stop_date\": \"2015-05-12\", \"traffic_stops\": 1598}, {\"stop_date\": \"2015-05-13\", \"traffic_stops\": 1796}, {\"stop_date\": \"2015-05-14\", \"traffic_stops\": 1434}, {\"stop_date\": \"2015-05-15\", \"traffic_stops\": 2632}, {\"stop_date\": \"2015-05-16\", \"traffic_stops\": 1053}, {\"stop_date\": \"2015-05-17\", \"traffic_stops\": 1268}, {\"stop_date\": \"2015-05-18\", \"traffic_stops\": 1310}, {\"stop_date\": \"2015-05-19\", \"traffic_stops\": 1475}, {\"stop_date\": \"2015-05-20\", \"traffic_stops\": 1442}, {\"stop_date\": \"2015-05-21\", \"traffic_stops\": 1616}, {\"stop_date\": \"2015-05-22\", \"traffic_stops\": 1942}, {\"stop_date\": \"2015-05-23\", \"traffic_stops\": 1579}, {\"stop_date\": \"2015-05-24\", \"traffic_stops\": 1509}, {\"stop_date\": \"2015-05-25\", \"traffic_stops\": 2145}, {\"stop_date\": \"2015-05-26\", \"traffic_stops\": 1562}, {\"stop_date\": \"2015-05-27\", \"traffic_stops\": 1450}, {\"stop_date\": \"2015-05-28\", \"traffic_stops\": 1272}, {\"stop_date\": \"2015-05-29\", \"traffic_stops\": 1274}, {\"stop_date\": \"2015-05-30\", \"traffic_stops\": 949}, {\"stop_date\": \"2015-05-31\", \"traffic_stops\": 949}, {\"stop_date\": \"2015-06-01\", \"traffic_stops\": 962}, {\"stop_date\": \"2015-06-02\", \"traffic_stops\": 1601}, {\"stop_date\": \"2015-06-03\", \"traffic_stops\": 1570}, {\"stop_date\": \"2015-06-04\", \"traffic_stops\": 1541}, {\"stop_date\": \"2015-06-05\", \"traffic_stops\": 1312}, {\"stop_date\": \"2015-06-06\", \"traffic_stops\": 987}, {\"stop_date\": \"2015-06-07\", \"traffic_stops\": 1128}, {\"stop_date\": \"2015-06-08\", \"traffic_stops\": 1256}, {\"stop_date\": \"2015-06-09\", \"traffic_stops\": 1440}, {\"stop_date\": \"2015-06-10\", \"traffic_stops\": 1411}, {\"stop_date\": \"2015-06-11\", \"traffic_stops\": 1306}, {\"stop_date\": \"2015-06-12\", \"traffic_stops\": 1561}, {\"stop_date\": \"2015-06-13\", \"traffic_stops\": 1093}, {\"stop_date\": \"2015-06-14\", \"traffic_stops\": 1201}, {\"stop_date\": \"2015-06-15\", \"traffic_stops\": 2576}, {\"stop_date\": \"2015-06-16\", \"traffic_stops\": 1401}, {\"stop_date\": \"2015-06-17\", \"traffic_stops\": 1419}, {\"stop_date\": \"2015-06-18\", \"traffic_stops\": 1338}, {\"stop_date\": \"2015-06-19\", \"traffic_stops\": 1360}, {\"stop_date\": \"2015-06-20\", \"traffic_stops\": 1027}, {\"stop_date\": \"2015-06-21\", \"traffic_stops\": 968}, {\"stop_date\": \"2015-06-22\", \"traffic_stops\": 1028}, {\"stop_date\": \"2015-06-23\", \"traffic_stops\": 1201}, {\"stop_date\": \"2015-06-24\", \"traffic_stops\": 1406}, {\"stop_date\": \"2015-06-25\", \"traffic_stops\": 1316}, {\"stop_date\": \"2015-06-26\", \"traffic_stops\": 1396}, {\"stop_date\": \"2015-06-27\", \"traffic_stops\": 917}, {\"stop_date\": \"2015-06-28\", \"traffic_stops\": 1008}, {\"stop_date\": \"2015-06-29\", \"traffic_stops\": 1321}, {\"stop_date\": \"2015-06-30\", \"traffic_stops\": 1491}, {\"stop_date\": \"2015-07-01\", \"traffic_stops\": 1742}, {\"stop_date\": \"2015-07-02\", \"traffic_stops\": 1634}, {\"stop_date\": \"2015-07-03\", \"traffic_stops\": 2174}, {\"stop_date\": \"2015-07-04\", \"traffic_stops\": 1518}, {\"stop_date\": \"2015-07-05\", \"traffic_stops\": 1266}, {\"stop_date\": \"2015-07-06\", \"traffic_stops\": 1197}, {\"stop_date\": \"2015-07-07\", \"traffic_stops\": 1483}, {\"stop_date\": \"2015-07-08\", \"traffic_stops\": 1357}, {\"stop_date\": \"2015-07-09\", \"traffic_stops\": 1476}, {\"stop_date\": \"2015-07-10\", \"traffic_stops\": 1433}, {\"stop_date\": \"2015-07-11\", \"traffic_stops\": 1053}, {\"stop_date\": \"2015-07-12\", \"traffic_stops\": 1051}, {\"stop_date\": \"2015-07-13\", \"traffic_stops\": 1332}, {\"stop_date\": \"2015-07-14\", \"traffic_stops\": 1383}, {\"stop_date\": \"2015-07-15\", \"traffic_stops\": 3018}, {\"stop_date\": \"2015-07-16\", \"traffic_stops\": 1366}, {\"stop_date\": \"2015-07-17\", \"traffic_stops\": 1578}, {\"stop_date\": \"2015-07-18\", \"traffic_stops\": 1014}, {\"stop_date\": \"2015-07-19\", \"traffic_stops\": 1173}, {\"stop_date\": \"2015-07-20\", \"traffic_stops\": 1219}, {\"stop_date\": \"2015-07-21\", \"traffic_stops\": 1392}, {\"stop_date\": \"2015-07-22\", \"traffic_stops\": 1882}, {\"stop_date\": \"2015-07-23\", \"traffic_stops\": 1510}, {\"stop_date\": \"2015-07-24\", \"traffic_stops\": 1365}, {\"stop_date\": \"2015-07-25\", \"traffic_stops\": 917}, {\"stop_date\": \"2015-07-26\", \"traffic_stops\": 984}, {\"stop_date\": \"2015-07-27\", \"traffic_stops\": 1124}, {\"stop_date\": \"2015-07-28\", \"traffic_stops\": 1345}, {\"stop_date\": \"2015-07-29\", \"traffic_stops\": 1885}, {\"stop_date\": \"2015-07-30\", \"traffic_stops\": 1481}, {\"stop_date\": \"2015-07-31\", \"traffic_stops\": 1311}, {\"stop_date\": \"2015-08-01\", \"traffic_stops\": 1067}, {\"stop_date\": \"2015-08-02\", \"traffic_stops\": 1134}, {\"stop_date\": \"2015-08-03\", \"traffic_stops\": 1274}, {\"stop_date\": \"2015-08-04\", \"traffic_stops\": 1306}, {\"stop_date\": \"2015-08-05\", \"traffic_stops\": 1577}, {\"stop_date\": \"2015-08-06\", \"traffic_stops\": 1518}, {\"stop_date\": \"2015-08-07\", \"traffic_stops\": 1358}, {\"stop_date\": \"2015-08-08\", \"traffic_stops\": 1307}, {\"stop_date\": \"2015-08-09\", \"traffic_stops\": 1194}, {\"stop_date\": \"2015-08-10\", \"traffic_stops\": 1238}, {\"stop_date\": \"2015-08-11\", \"traffic_stops\": 1206}, {\"stop_date\": \"2015-08-12\", \"traffic_stops\": 1803}, {\"stop_date\": \"2015-08-13\", \"traffic_stops\": 1458}, {\"stop_date\": \"2015-08-14\", \"traffic_stops\": 1370}, {\"stop_date\": \"2015-08-15\", \"traffic_stops\": 2082}, {\"stop_date\": \"2015-08-16\", \"traffic_stops\": 1090}, {\"stop_date\": \"2015-08-17\", \"traffic_stops\": 1269}, {\"stop_date\": \"2015-08-18\", \"traffic_stops\": 1427}, {\"stop_date\": \"2015-08-19\", \"traffic_stops\": 1547}, {\"stop_date\": \"2015-08-20\", \"traffic_stops\": 1653}, {\"stop_date\": \"2015-08-21\", \"traffic_stops\": 1820}, {\"stop_date\": \"2015-08-22\", \"traffic_stops\": 1197}, {\"stop_date\": \"2015-08-23\", \"traffic_stops\": 1184}, {\"stop_date\": \"2015-08-24\", \"traffic_stops\": 1329}, {\"stop_date\": \"2015-08-25\", \"traffic_stops\": 1455}, {\"stop_date\": \"2015-08-26\", \"traffic_stops\": 1513}, {\"stop_date\": \"2015-08-27\", \"traffic_stops\": 1492}, {\"stop_date\": \"2015-08-28\", \"traffic_stops\": 1494}, {\"stop_date\": \"2015-08-29\", \"traffic_stops\": 1188}, {\"stop_date\": \"2015-08-30\", \"traffic_stops\": 1172}, {\"stop_date\": \"2015-08-31\", \"traffic_stops\": 1004}, {\"stop_date\": \"2015-09-01\", \"traffic_stops\": 1137}, {\"stop_date\": \"2015-09-02\", \"traffic_stops\": 1274}, {\"stop_date\": \"2015-09-03\", \"traffic_stops\": 1309}, {\"stop_date\": \"2015-09-04\", \"traffic_stops\": 2236}, {\"stop_date\": \"2015-09-05\", \"traffic_stops\": 1595}, {\"stop_date\": \"2015-09-06\", \"traffic_stops\": 1512}, {\"stop_date\": \"2015-09-07\", \"traffic_stops\": 2349}, {\"stop_date\": \"2015-09-08\", \"traffic_stops\": 1445}, {\"stop_date\": \"2015-09-09\", \"traffic_stops\": 1504}, {\"stop_date\": \"2015-09-10\", \"traffic_stops\": 1084}, {\"stop_date\": \"2015-09-11\", \"traffic_stops\": 1237}, {\"stop_date\": \"2015-09-12\", \"traffic_stops\": 999}, {\"stop_date\": \"2015-09-13\", \"traffic_stops\": 1026}, {\"stop_date\": \"2015-09-14\", \"traffic_stops\": 1130}, {\"stop_date\": \"2015-09-15\", \"traffic_stops\": 2530}, {\"stop_date\": \"2015-09-16\", \"traffic_stops\": 1523}, {\"stop_date\": \"2015-09-17\", \"traffic_stops\": 1460}, {\"stop_date\": \"2015-09-18\", \"traffic_stops\": 1440}, {\"stop_date\": \"2015-09-19\", \"traffic_stops\": 1081}, {\"stop_date\": \"2015-09-20\", \"traffic_stops\": 1068}, {\"stop_date\": \"2015-09-21\", \"traffic_stops\": 869}, {\"stop_date\": \"2015-09-22\", \"traffic_stops\": 1236}, {\"stop_date\": \"2015-09-23\", \"traffic_stops\": 1326}, {\"stop_date\": \"2015-09-24\", \"traffic_stops\": 1392}, {\"stop_date\": \"2015-09-25\", \"traffic_stops\": 1382}, {\"stop_date\": \"2015-09-26\", \"traffic_stops\": 887}, {\"stop_date\": \"2015-09-27\", \"traffic_stops\": 1039}, {\"stop_date\": \"2015-09-28\", \"traffic_stops\": 1171}, {\"stop_date\": \"2015-09-29\", \"traffic_stops\": 1389}, {\"stop_date\": \"2015-09-30\", \"traffic_stops\": 1289}, {\"stop_date\": \"2015-10-01\", \"traffic_stops\": 1265}, {\"stop_date\": \"2015-10-02\", \"traffic_stops\": 1203}, {\"stop_date\": \"2015-10-03\", \"traffic_stops\": 912}, {\"stop_date\": \"2015-10-04\", \"traffic_stops\": 857}, {\"stop_date\": \"2015-10-05\", \"traffic_stops\": 1034}, {\"stop_date\": \"2015-10-06\", \"traffic_stops\": 1110}, {\"stop_date\": \"2015-10-07\", \"traffic_stops\": 1263}, {\"stop_date\": \"2015-10-08\", \"traffic_stops\": 1353}, {\"stop_date\": \"2015-10-09\", \"traffic_stops\": 1204}, {\"stop_date\": \"2015-10-10\", \"traffic_stops\": 1027}, {\"stop_date\": \"2015-10-11\", \"traffic_stops\": 1086}, {\"stop_date\": \"2015-10-12\", \"traffic_stops\": 1089}, {\"stop_date\": \"2015-10-13\", \"traffic_stops\": 1189}, {\"stop_date\": \"2015-10-14\", \"traffic_stops\": 1225}, {\"stop_date\": \"2015-10-15\", \"traffic_stops\": 2256}, {\"stop_date\": \"2015-10-16\", \"traffic_stops\": 1116}, {\"stop_date\": \"2015-10-17\", \"traffic_stops\": 855}, {\"stop_date\": \"2015-10-18\", \"traffic_stops\": 769}, {\"stop_date\": \"2015-10-19\", \"traffic_stops\": 1056}, {\"stop_date\": \"2015-10-20\", \"traffic_stops\": 1069}, {\"stop_date\": \"2015-10-21\", \"traffic_stops\": 1214}, {\"stop_date\": \"2015-10-22\", \"traffic_stops\": 1346}, {\"stop_date\": \"2015-10-23\", \"traffic_stops\": 1393}, {\"stop_date\": \"2015-10-24\", \"traffic_stops\": 1006}, {\"stop_date\": \"2015-10-25\", \"traffic_stops\": 957}, {\"stop_date\": \"2015-10-26\", \"traffic_stops\": 1101}, {\"stop_date\": \"2015-10-27\", \"traffic_stops\": 1342}, {\"stop_date\": \"2015-10-28\", \"traffic_stops\": 1438}, {\"stop_date\": \"2015-10-29\", \"traffic_stops\": 1101}, {\"stop_date\": \"2015-10-30\", \"traffic_stops\": 1140}, {\"stop_date\": \"2015-10-31\", \"traffic_stops\": 1012}, {\"stop_date\": \"2015-11-01\", \"traffic_stops\": 1190}, {\"stop_date\": \"2015-11-02\", \"traffic_stops\": 1171}, {\"stop_date\": \"2015-11-03\", \"traffic_stops\": 1234}, {\"stop_date\": \"2015-11-04\", \"traffic_stops\": 1182}, {\"stop_date\": \"2015-11-05\", \"traffic_stops\": 1149}, {\"stop_date\": \"2015-11-06\", \"traffic_stops\": 1143}, {\"stop_date\": \"2015-11-07\", \"traffic_stops\": 868}, {\"stop_date\": \"2015-11-08\", \"traffic_stops\": 891}, {\"stop_date\": \"2015-11-09\", \"traffic_stops\": 1020}, {\"stop_date\": \"2015-11-10\", \"traffic_stops\": 1146}, {\"stop_date\": \"2015-11-11\", \"traffic_stops\": 1265}, {\"stop_date\": \"2015-11-12\", \"traffic_stops\": 1075}, {\"stop_date\": \"2015-11-13\", \"traffic_stops\": 1157}, {\"stop_date\": \"2015-11-14\", \"traffic_stops\": 890}, {\"stop_date\": \"2015-11-15\", \"traffic_stops\": 1522}, {\"stop_date\": \"2015-11-16\", \"traffic_stops\": 742}, {\"stop_date\": \"2015-11-17\", \"traffic_stops\": 1264}, {\"stop_date\": \"2015-11-18\", \"traffic_stops\": 1221}, {\"stop_date\": \"2015-11-19\", \"traffic_stops\": 1318}, {\"stop_date\": \"2015-11-20\", \"traffic_stops\": 1158}, {\"stop_date\": \"2015-11-21\", \"traffic_stops\": 908}, {\"stop_date\": \"2015-11-22\", \"traffic_stops\": 1101}, {\"stop_date\": \"2015-11-23\", \"traffic_stops\": 1265}, {\"stop_date\": \"2015-11-24\", \"traffic_stops\": 1401}, {\"stop_date\": \"2015-11-25\", \"traffic_stops\": 2245}, {\"stop_date\": \"2015-11-26\", \"traffic_stops\": 932}, {\"stop_date\": \"2015-11-27\", \"traffic_stops\": 1464}, {\"stop_date\": \"2015-11-28\", \"traffic_stops\": 1037}, {\"stop_date\": \"2015-11-29\", \"traffic_stops\": 1457}, {\"stop_date\": \"2015-11-30\", \"traffic_stops\": 1016}]}, \"mark\": \"line\", \"encoding\": {\"x\": {\"type\": \"temporal\", \"field\": \"stop_date\"}, \"y\": {\"type\": \"quantitative\", \"field\": \"traffic_stops\"}}, \"$schema\": \"https://vega.github.io/schema/vega-lite/v2.3.0.json\"};\n",
       "var opt = {};\n",
       "var selector = \"#3cbe6332-8ed6-426d-8a33-3275915dc57b\";\n",
>>>>>>> 24f335a9f860e0149d07deba726f53692b8eb2e8
       "var type = \"vega-lite\";\n",
       "\n",
       "var output_area = this;\n",
       "\n",
       "require(['nbextensions/jupyter-vega3/index'], function(vega) {\n",
       "  vega.render(selector, spec, type, opt, output_area);\n",
       "}, function (err) {\n",
       "  if (err.requireType !== 'scripterror') {\n",
       "    throw(err);\n",
       "  }\n",
       "});\n"
      ]
     },
     "metadata": {
<<<<<<< HEAD
      "jupyter-vega3": "#d9204038-8a6e-4d42-ba93-ba0ff9716f81"
=======
      "jupyter-vega3": "#3cbe6332-8ed6-426d-8a33-3275915dc57b"
>>>>>>> 24f335a9f860e0149d07deba726f53692b8eb2e8
     },
     "output_type": "display_data"
    },
    {
     "data": {
      "text/plain": []
     },
<<<<<<< HEAD
     "execution_count": 193,
=======
     "execution_count": 81,
>>>>>>> 24f335a9f860e0149d07deba726f53692b8eb2e8
     "metadata": {},
     "output_type": "execute_result"
    },
    {
     "data": {
<<<<<<< HEAD
      "image/png": "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"
     },
     "metadata": {
      "jupyter-vega3": "#d9204038-8a6e-4d42-ba93-ba0ff9716f81"
=======
      "image/png": "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"
     },
     "metadata": {
      "jupyter-vega3": "#3cbe6332-8ed6-426d-8a33-3275915dc57b"
>>>>>>> 24f335a9f860e0149d07deba726f53692b8eb2e8
     },
     "output_type": "display_data"
    }
   ],
   "source": [
    "alt.Chart(stops_by_day).mark_line().encode(x = 'stop_date:T', y = 'traffic_stops')"
   ]
  },
  {
   "cell_type": "markdown",
   "metadata": {},
   "source": [
    "There's something fishy here. You can see there are spikes throughout the year where there are more stops than normal -- sometimes the stops nearly double from one day to the next. Let's see if we can find out more information about those spikes. We can do this by filtering the `stops_by_day` data to show only days where more than 2,000 stops occurred."
   ]
  },
  {
   "cell_type": "code",
<<<<<<< HEAD
   "execution_count": 194,
=======
   "execution_count": 82,
>>>>>>> 24f335a9f860e0149d07deba726f53692b8eb2e8
   "metadata": {},
   "outputs": [
    {
     "data": {
      "text/html": [
       "<div>\n",
       "<style scoped>\n",
       "    .dataframe tbody tr th:only-of-type {\n",
       "        vertical-align: middle;\n",
       "    }\n",
       "\n",
       "    .dataframe tbody tr th {\n",
       "        vertical-align: top;\n",
       "    }\n",
       "\n",
       "    .dataframe thead th {\n",
       "        text-align: right;\n",
       "    }\n",
       "</style>\n",
       "<table border=\"1\" class=\"dataframe\">\n",
       "  <thead>\n",
       "    <tr style=\"text-align: right;\">\n",
       "      <th></th>\n",
       "      <th>stop_date</th>\n",
       "      <th>traffic_stops</th>\n",
       "    </tr>\n",
       "  </thead>\n",
       "  <tbody>\n",
       "    <tr>\n",
       "      <th>14</th>\n",
       "      <td>2014-01-15</td>\n",
       "      <td>3810</td>\n",
       "    </tr>\n",
       "    <tr>\n",
       "      <th>15</th>\n",
       "      <td>2014-01-16</td>\n",
       "      <td>2155</td>\n",
       "    </tr>\n",
       "    <tr>\n",
       "      <th>45</th>\n",
       "      <td>2014-02-15</td>\n",
       "      <td>2134</td>\n",
       "    </tr>\n",
       "    <tr>\n",
       "      <th>73</th>\n",
       "      <td>2014-03-15</td>\n",
       "      <td>2156</td>\n",
       "    </tr>\n",
       "    <tr>\n",
       "      <th>104</th>\n",
       "      <td>2014-04-15</td>\n",
       "      <td>2422</td>\n",
       "    </tr>\n",
       "    <tr>\n",
       "      <th>134</th>\n",
       "      <td>2014-05-15</td>\n",
       "      <td>3016</td>\n",
       "    </tr>\n",
       "    <tr>\n",
       "      <th>165</th>\n",
       "      <td>2014-06-15</td>\n",
       "      <td>2120</td>\n",
       "    </tr>\n",
       "    <tr>\n",
       "      <th>184</th>\n",
       "      <td>2014-07-04</td>\n",
       "      <td>2012</td>\n",
       "    </tr>\n",
       "    <tr>\n",
       "      <th>195</th>\n",
       "      <td>2014-07-15</td>\n",
       "      <td>2810</td>\n",
       "    </tr>\n",
       "    <tr>\n",
       "      <th>226</th>\n",
       "      <td>2014-08-15</td>\n",
       "      <td>2828</td>\n",
       "    </tr>\n",
       "    <tr>\n",
       "      <th>240</th>\n",
       "      <td>2014-08-29</td>\n",
       "      <td>2163</td>\n",
       "    </tr>\n",
       "    <tr>\n",
       "      <th>243</th>\n",
       "      <td>2014-09-01</td>\n",
       "      <td>2317</td>\n",
       "    </tr>\n",
       "    <tr>\n",
       "      <th>257</th>\n",
       "      <td>2014-09-15</td>\n",
       "      <td>2564</td>\n",
       "    </tr>\n",
       "    <tr>\n",
       "      <th>287</th>\n",
       "      <td>2014-10-15</td>\n",
       "      <td>2510</td>\n",
       "    </tr>\n",
       "    <tr>\n",
       "      <th>306</th>\n",
       "      <td>2014-11-03</td>\n",
       "      <td>2362</td>\n",
       "    </tr>\n",
       "    <tr>\n",
       "      <th>307</th>\n",
       "      <td>2014-11-04</td>\n",
       "      <td>2496</td>\n",
       "    </tr>\n",
       "    <tr>\n",
       "      <th>308</th>\n",
       "      <td>2014-11-05</td>\n",
       "      <td>2804</td>\n",
       "    </tr>\n",
       "    <tr>\n",
       "      <th>309</th>\n",
       "      <td>2014-11-06</td>\n",
       "      <td>2508</td>\n",
       "    </tr>\n",
       "    <tr>\n",
       "      <th>310</th>\n",
       "      <td>2014-11-07</td>\n",
       "      <td>2518</td>\n",
       "    </tr>\n",
       "    <tr>\n",
       "      <th>311</th>\n",
       "      <td>2014-11-08</td>\n",
       "      <td>2020</td>\n",
       "    </tr>\n",
       "    <tr>\n",
       "      <th>312</th>\n",
       "      <td>2014-11-09</td>\n",
       "      <td>2212</td>\n",
       "    </tr>\n",
       "    <tr>\n",
       "      <th>313</th>\n",
       "      <td>2014-11-10</td>\n",
       "      <td>2000</td>\n",
       "    </tr>\n",
       "    <tr>\n",
       "      <th>314</th>\n",
       "      <td>2014-11-11</td>\n",
       "      <td>2458</td>\n",
       "    </tr>\n",
       "    <tr>\n",
       "      <th>315</th>\n",
       "      <td>2014-11-12</td>\n",
       "      <td>2708</td>\n",
       "    </tr>\n",
       "    <tr>\n",
       "      <th>316</th>\n",
       "      <td>2014-11-13</td>\n",
       "      <td>2486</td>\n",
       "    </tr>\n",
       "    <tr>\n",
       "      <th>317</th>\n",
       "      <td>2014-11-14</td>\n",
       "      <td>2698</td>\n",
       "    </tr>\n",
       "    <tr>\n",
       "      <th>318</th>\n",
       "      <td>2014-11-15</td>\n",
       "      <td>3105</td>\n",
       "    </tr>\n",
       "    <tr>\n",
       "      <th>329</th>\n",
       "      <td>2014-11-26</td>\n",
       "      <td>2475</td>\n",
       "    </tr>\n",
       "    <tr>\n",
       "      <th>348</th>\n",
       "      <td>2014-12-15</td>\n",
       "      <td>2466</td>\n",
       "    </tr>\n",
       "  </tbody>\n",
       "</table>\n",
       "</div>"
      ],
      "text/plain": [
       "     stop_date  traffic_stops\n",
       "14  2014-01-15           3810\n",
       "15  2014-01-16           2155\n",
       "45  2014-02-15           2134\n",
       "73  2014-03-15           2156\n",
       "104 2014-04-15           2422\n",
       "134 2014-05-15           3016\n",
       "165 2014-06-15           2120\n",
       "184 2014-07-04           2012\n",
       "195 2014-07-15           2810\n",
       "226 2014-08-15           2828\n",
       "240 2014-08-29           2163\n",
       "243 2014-09-01           2317\n",
       "257 2014-09-15           2564\n",
       "287 2014-10-15           2510\n",
       "306 2014-11-03           2362\n",
       "307 2014-11-04           2496\n",
       "308 2014-11-05           2804\n",
       "309 2014-11-06           2508\n",
       "310 2014-11-07           2518\n",
       "311 2014-11-08           2020\n",
       "312 2014-11-09           2212\n",
       "313 2014-11-10           2000\n",
       "314 2014-11-11           2458\n",
       "315 2014-11-12           2708\n",
       "316 2014-11-13           2486\n",
       "317 2014-11-14           2698\n",
       "318 2014-11-15           3105\n",
       "329 2014-11-26           2475\n",
       "348 2014-12-15           2466"
      ]
     },
<<<<<<< HEAD
     "execution_count": 194,
=======
     "execution_count": 82,
>>>>>>> 24f335a9f860e0149d07deba726f53692b8eb2e8
     "metadata": {},
     "output_type": "execute_result"
    }
   ],
   "source": [
    "stops_by_day[stops_by_day['traffic_stops'] >= 2000]"
   ]
  },
  {
   "cell_type": "markdown",
   "metadata": {},
   "source": [
    "We really don't have a good answer to what is going on here. For some reason, traffic stops seem to spike towards the middle of the month. Sometimes it happens at the beginning of the month. Maybe some spikes could be related to holiday enforcement actions such as Fourth of July and Thanksgiving DUI checkpoints? But at this point, we don't know. This is a great example of a case where you would need to do additional reporting to try to figure out what's going on before publishing results of this data. However, this shouldn't impact our training analysis greatly because time is not a factor in what we want to uncover."
   ]
  },
  {
   "cell_type": "markdown",
   "metadata": {},
   "source": [
    "### Work on your own, part I\n",
    "\n",
    "Now that we have taken a fairly in-depth look at the `stop_date` column, let's take a closer look at counties where the stops occurred. Use the `county_name` column to generate your own table of traffic stops throughout the state."
   ]
  },
  {
   "cell_type": "code",
<<<<<<< HEAD
   "execution_count": 195,
=======
   "execution_count": 83,
>>>>>>> 24f335a9f860e0149d07deba726f53692b8eb2e8
   "metadata": {},
   "outputs": [
    {
     "data": {
      "text/html": [
       "<div>\n",
       "<style scoped>\n",
       "    .dataframe tbody tr th:only-of-type {\n",
       "        vertical-align: middle;\n",
       "    }\n",
       "\n",
       "    .dataframe tbody tr th {\n",
       "        vertical-align: top;\n",
       "    }\n",
       "\n",
       "    .dataframe thead th {\n",
       "        text-align: right;\n",
       "    }\n",
       "</style>\n",
       "<table border=\"1\" class=\"dataframe\">\n",
       "  <thead>\n",
       "    <tr style=\"text-align: right;\">\n",
       "      <th></th>\n",
       "      <th>county_name</th>\n",
       "      <th>id</th>\n",
       "    </tr>\n",
       "  </thead>\n",
       "  <tbody>\n",
       "    <tr>\n",
       "      <th>0</th>\n",
       "      <td>Apache County</td>\n",
       "      <td>11550</td>\n",
       "    </tr>\n",
       "    <tr>\n",
       "      <th>1</th>\n",
       "      <td>Cochise County</td>\n",
       "      <td>27766</td>\n",
       "    </tr>\n",
       "    <tr>\n",
       "      <th>2</th>\n",
       "      <td>Coconino County</td>\n",
       "      <td>34147</td>\n",
       "    </tr>\n",
       "    <tr>\n",
       "      <th>3</th>\n",
       "      <td>Gila County</td>\n",
       "      <td>13966</td>\n",
       "    </tr>\n",
       "    <tr>\n",
       "      <th>4</th>\n",
       "      <td>Graham County</td>\n",
       "      <td>5282</td>\n",
       "    </tr>\n",
       "    <tr>\n",
       "      <th>5</th>\n",
       "      <td>Greenlee County</td>\n",
       "      <td>1285</td>\n",
       "    </tr>\n",
       "    <tr>\n",
       "      <th>6</th>\n",
       "      <td>La Paz County</td>\n",
       "      <td>14248</td>\n",
       "    </tr>\n",
       "    <tr>\n",
       "      <th>7</th>\n",
       "      <td>Maricopa County</td>\n",
       "      <td>149932</td>\n",
       "    </tr>\n",
       "    <tr>\n",
       "      <th>8</th>\n",
       "      <td>Mohave County</td>\n",
       "      <td>22962</td>\n",
       "    </tr>\n",
       "    <tr>\n",
       "      <th>9</th>\n",
       "      <td>Navajo County</td>\n",
       "      <td>24072</td>\n",
       "    </tr>\n",
       "    <tr>\n",
       "      <th>10</th>\n",
       "      <td>Pima County</td>\n",
       "      <td>45048</td>\n",
       "    </tr>\n",
       "    <tr>\n",
       "      <th>11</th>\n",
       "      <td>Pinal County</td>\n",
       "      <td>35634</td>\n",
       "    </tr>\n",
       "    <tr>\n",
       "      <th>12</th>\n",
       "      <td>Santa Cruz County</td>\n",
       "      <td>8621</td>\n",
       "    </tr>\n",
       "    <tr>\n",
       "      <th>13</th>\n",
       "      <td>Yavapai County</td>\n",
       "      <td>34412</td>\n",
       "    </tr>\n",
       "    <tr>\n",
       "      <th>14</th>\n",
       "      <td>Yuma County</td>\n",
       "      <td>18287</td>\n",
       "    </tr>\n",
       "  </tbody>\n",
       "</table>\n",
       "</div>"
      ],
      "text/plain": [
       "          county_name      id\n",
       "0       Apache County   11550\n",
       "1      Cochise County   27766\n",
       "2     Coconino County   34147\n",
       "3         Gila County   13966\n",
       "4       Graham County    5282\n",
       "5     Greenlee County    1285\n",
       "6       La Paz County   14248\n",
       "7     Maricopa County  149932\n",
       "8       Mohave County   22962\n",
       "9       Navajo County   24072\n",
       "10        Pima County   45048\n",
       "11       Pinal County   35634\n",
       "12  Santa Cruz County    8621\n",
       "13     Yavapai County   34412\n",
       "14        Yuma County   18287"
      ]
     },
<<<<<<< HEAD
     "execution_count": 195,
=======
     "execution_count": 83,
>>>>>>> 24f335a9f860e0149d07deba726f53692b8eb2e8
     "metadata": {},
     "output_type": "execute_result"
    }
   ],
   "source": [
    "# do the group by\n",
    "stops_by_county = az_stops[['county_name','id']].groupby(by = 'county_name', as_index = False).count()\n",
    "stops_by_county"
   ]
  },
  {
   "cell_type": "code",
<<<<<<< HEAD
   "execution_count": 196,
=======
   "execution_count": 84,
>>>>>>> 24f335a9f860e0149d07deba726f53692b8eb2e8
   "metadata": {},
   "outputs": [
    {
     "data": {
      "text/html": [
       "<div>\n",
       "<style scoped>\n",
       "    .dataframe tbody tr th:only-of-type {\n",
       "        vertical-align: middle;\n",
       "    }\n",
       "\n",
       "    .dataframe tbody tr th {\n",
       "        vertical-align: top;\n",
       "    }\n",
       "\n",
       "    .dataframe thead th {\n",
       "        text-align: right;\n",
       "    }\n",
       "</style>\n",
       "<table border=\"1\" class=\"dataframe\">\n",
       "  <thead>\n",
       "    <tr style=\"text-align: right;\">\n",
       "      <th></th>\n",
       "      <th>county</th>\n",
       "      <th>traffic_stops</th>\n",
       "    </tr>\n",
       "  </thead>\n",
       "  <tbody>\n",
       "    <tr>\n",
       "      <th>0</th>\n",
       "      <td>Apache County</td>\n",
       "      <td>11550</td>\n",
       "    </tr>\n",
       "    <tr>\n",
       "      <th>1</th>\n",
       "      <td>Cochise County</td>\n",
       "      <td>27766</td>\n",
       "    </tr>\n",
       "    <tr>\n",
       "      <th>2</th>\n",
       "      <td>Coconino County</td>\n",
       "      <td>34147</td>\n",
       "    </tr>\n",
       "    <tr>\n",
       "      <th>3</th>\n",
       "      <td>Gila County</td>\n",
       "      <td>13966</td>\n",
       "    </tr>\n",
       "    <tr>\n",
       "      <th>4</th>\n",
       "      <td>Graham County</td>\n",
       "      <td>5282</td>\n",
       "    </tr>\n",
       "    <tr>\n",
       "      <th>5</th>\n",
       "      <td>Greenlee County</td>\n",
       "      <td>1285</td>\n",
       "    </tr>\n",
       "    <tr>\n",
       "      <th>6</th>\n",
       "      <td>La Paz County</td>\n",
       "      <td>14248</td>\n",
       "    </tr>\n",
       "    <tr>\n",
       "      <th>7</th>\n",
       "      <td>Maricopa County</td>\n",
       "      <td>149932</td>\n",
       "    </tr>\n",
       "    <tr>\n",
       "      <th>8</th>\n",
       "      <td>Mohave County</td>\n",
       "      <td>22962</td>\n",
       "    </tr>\n",
       "    <tr>\n",
       "      <th>9</th>\n",
       "      <td>Navajo County</td>\n",
       "      <td>24072</td>\n",
       "    </tr>\n",
       "    <tr>\n",
       "      <th>10</th>\n",
       "      <td>Pima County</td>\n",
       "      <td>45048</td>\n",
       "    </tr>\n",
       "    <tr>\n",
       "      <th>11</th>\n",
       "      <td>Pinal County</td>\n",
       "      <td>35634</td>\n",
       "    </tr>\n",
       "    <tr>\n",
       "      <th>12</th>\n",
       "      <td>Santa Cruz County</td>\n",
       "      <td>8621</td>\n",
       "    </tr>\n",
       "    <tr>\n",
       "      <th>13</th>\n",
       "      <td>Yavapai County</td>\n",
       "      <td>34412</td>\n",
       "    </tr>\n",
       "    <tr>\n",
       "      <th>14</th>\n",
       "      <td>Yuma County</td>\n",
       "      <td>18287</td>\n",
       "    </tr>\n",
       "  </tbody>\n",
       "</table>\n",
       "</div>"
      ],
      "text/plain": [
       "               county  traffic_stops\n",
       "0       Apache County          11550\n",
       "1      Cochise County          27766\n",
       "2     Coconino County          34147\n",
       "3         Gila County          13966\n",
       "4       Graham County           5282\n",
       "5     Greenlee County           1285\n",
       "6       La Paz County          14248\n",
       "7     Maricopa County         149932\n",
       "8       Mohave County          22962\n",
       "9       Navajo County          24072\n",
       "10        Pima County          45048\n",
       "11       Pinal County          35634\n",
       "12  Santa Cruz County           8621\n",
       "13     Yavapai County          34412\n",
       "14        Yuma County          18287"
      ]
     },
<<<<<<< HEAD
     "execution_count": 196,
=======
     "execution_count": 84,
>>>>>>> 24f335a9f860e0149d07deba726f53692b8eb2e8
     "metadata": {},
     "output_type": "execute_result"
    }
   ],
   "source": [
    "# change column names\n",
    "stops_by_county.rename(columns = {'county_name' : 'county', 'id' : 'traffic_stops'}, inplace = True)\n",
    "stops_by_county"
   ]
  },
  {
   "cell_type": "markdown",
   "metadata": {},
   "source": [
    "### Coming back\n",
    "\n",
    "So now we have an idea of how many traffic stops occurred in each county. For the purposes of our analysis this actually means very little since we will be taking a look at the entire state. However if you wanted to localize this to your area it is probably a good idea to take a look at how many stops are occurring in your coverage area.\n",
    "\n",
    "## Visualizing the results"
   ]
  },
  {
   "cell_type": "code",
<<<<<<< HEAD
   "execution_count": 197,
=======
   "execution_count": 85,
>>>>>>> 24f335a9f860e0149d07deba726f53692b8eb2e8
   "metadata": {},
   "outputs": [
    {
     "data": {
      "text/html": [
<<<<<<< HEAD
       "<div class=\"vega-embed\" id=\"d9b418a1-88c0-445a-827a-21abfe373b78\"></div>\n",
=======
       "<div class=\"vega-embed\" id=\"e29444d7-fb47-4641-978f-405e7afe2ecf\"></div>\n",
>>>>>>> 24f335a9f860e0149d07deba726f53692b8eb2e8
       "\n",
       "<style>\n",
       ".vega-embed .vega-actions > a {\n",
       "    transition: opacity 200ms ease-in;\n",
       "    opacity: 0.3;\n",
       "    margin-right: 0.6em;\n",
       "    color: #444;\n",
       "    text-decoration: none;\n",
       "}\n",
       "\n",
       ".vega-embed .vega-actions > a:hover {\n",
       "    color: #000;\n",
       "    text-decoration: underline;\n",
       "}\n",
       "\n",
       ".vega-embed:hover .vega-actions > a {\n",
       "    opacity: 1;\n",
       "    transition: 0s;\n",
       "}\n",
       "\n",
       ".vega-embed .error p {\n",
       "    color: firebrick;\n",
       "    font-size: 1.2em;\n",
       "}\n",
       "</style>\n"
      ]
     },
     "metadata": {
<<<<<<< HEAD
      "jupyter-vega3": "#d9b418a1-88c0-445a-827a-21abfe373b78"
=======
      "jupyter-vega3": "#e29444d7-fb47-4641-978f-405e7afe2ecf"
>>>>>>> 24f335a9f860e0149d07deba726f53692b8eb2e8
     },
     "output_type": "display_data"
    },
    {
     "data": {
      "application/javascript": [
<<<<<<< HEAD
       "var spec = {\"config\": {\"view\": {\"width\": 400, \"height\": 300}}, \"data\": {\"values\": [{\"county\": \"Apache County\", \"traffic_stops\": 11550}, {\"county\": \"Cochise County\", \"traffic_stops\": 27766}, {\"county\": \"Coconino County\", \"traffic_stops\": 34147}, {\"county\": \"Gila County\", \"traffic_stops\": 13966}, {\"county\": \"Graham County\", \"traffic_stops\": 5282}, {\"county\": \"Greenlee County\", \"traffic_stops\": 1285}, {\"county\": \"La Paz County\", \"traffic_stops\": 14248}, {\"county\": \"Maricopa County\", \"traffic_stops\": 149932}, {\"county\": \"Mohave County\", \"traffic_stops\": 22962}, {\"county\": \"Navajo County\", \"traffic_stops\": 24072}, {\"county\": \"Pima County\", \"traffic_stops\": 45048}, {\"county\": \"Pinal County\", \"traffic_stops\": 35634}, {\"county\": \"Santa Cruz County\", \"traffic_stops\": 8621}, {\"county\": \"Yavapai County\", \"traffic_stops\": 34412}, {\"county\": \"Yuma County\", \"traffic_stops\": 18287}]}, \"mark\": \"bar\", \"encoding\": {\"x\": {\"type\": \"quantitative\", \"field\": \"traffic_stops\"}, \"y\": {\"type\": \"nominal\", \"field\": \"county\"}}, \"$schema\": \"https://vega.github.io/schema/vega-lite/v2.3.0.json\"};\n",
       "var selector = \"#d9b418a1-88c0-445a-827a-21abfe373b78\";\n",
=======
       "var spec = {\"config\": {\"view\": {\"width\": 400, \"height\": 300}}, \"data\": {\"values\": [{\"county\": \"Apache County\", \"traffic_stops\": 14152}, {\"county\": \"Cochise County\", \"traffic_stops\": 26613}, {\"county\": \"Coconino County\", \"traffic_stops\": 33005}, {\"county\": \"Gila County\", \"traffic_stops\": 15097}, {\"county\": \"Graham County\", \"traffic_stops\": 6489}, {\"county\": \"Greenlee County\", \"traffic_stops\": 1053}, {\"county\": \"La Paz County\", \"traffic_stops\": 12233}, {\"county\": \"Maricopa County\", \"traffic_stops\": 144674}, {\"county\": \"Mohave County\", \"traffic_stops\": 20143}, {\"county\": \"Navajo County\", \"traffic_stops\": 22506}, {\"county\": \"Pima County\", \"traffic_stops\": 37651}, {\"county\": \"Pinal County\", \"traffic_stops\": 33458}, {\"county\": \"Santa Cruz County\", \"traffic_stops\": 9202}, {\"county\": \"Yavapai County\", \"traffic_stops\": 30308}, {\"county\": \"Yuma County\", \"traffic_stops\": 17245}]}, \"mark\": \"bar\", \"encoding\": {\"x\": {\"type\": \"quantitative\", \"field\": \"traffic_stops\"}, \"y\": {\"type\": \"nominal\", \"field\": \"county\"}}, \"$schema\": \"https://vega.github.io/schema/vega-lite/v2.3.0.json\"};\n",
       "var opt = {};\n",
       "var selector = \"#e29444d7-fb47-4641-978f-405e7afe2ecf\";\n",
>>>>>>> 24f335a9f860e0149d07deba726f53692b8eb2e8
       "var type = \"vega-lite\";\n",
       "\n",
       "var output_area = this;\n",
       "\n",
       "require(['nbextensions/jupyter-vega3/index'], function(vega) {\n",
       "  vega.render(selector, spec, type, opt, output_area);\n",
       "}, function (err) {\n",
       "  if (err.requireType !== 'scripterror') {\n",
       "    throw(err);\n",
       "  }\n",
       "});\n"
      ]
     },
     "metadata": {
<<<<<<< HEAD
      "jupyter-vega3": "#d9b418a1-88c0-445a-827a-21abfe373b78"
=======
      "jupyter-vega3": "#e29444d7-fb47-4641-978f-405e7afe2ecf"
>>>>>>> 24f335a9f860e0149d07deba726f53692b8eb2e8
     },
     "output_type": "display_data"
    },
    {
     "data": {
      "text/plain": []
     },
<<<<<<< HEAD
     "execution_count": 197,
=======
     "execution_count": 85,
>>>>>>> 24f335a9f860e0149d07deba726f53692b8eb2e8
     "metadata": {},
     "output_type": "execute_result"
    },
    {
     "data": {
<<<<<<< HEAD
      "image/png": "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"
     },
     "metadata": {
      "jupyter-vega3": "#d9b418a1-88c0-445a-827a-21abfe373b78"
=======
      "image/png": "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"
     },
     "metadata": {
      "jupyter-vega3": "#e29444d7-fb47-4641-978f-405e7afe2ecf"
>>>>>>> 24f335a9f860e0149d07deba726f53692b8eb2e8
     },
     "output_type": "display_data"
    }
   ],
   "source": [
    "alt.Chart(stops_by_county).mark_bar().encode(x = 'traffic_stops', y = 'county')"
   ]
  },
  {
   "cell_type": "markdown",
   "metadata": {},
   "source": [
    "## Digging into the demographics\n",
    "\n",
    "Now we can start playing with demographic data that we have in the data set. Our initial look at the data showed us that there isn't any information on the age of the driver, but we do have pretty good data on gender and race/ethnicity. Rather than examining both gender and race separately, let's see if we can do an analysis on both columns at the same time.\n",
    "\n",
    "To do this we will use what is called a pivot table. Those of you who have worked with Excel may be familiar with pivot tables. They are a way to restructure your data to provide a different perspective.\n",
    "\n",
    "Before we get started though, let's do some housekeeping. The `driver_gender` column identifies gender by abbreviation. Let's change that to a full spelling. Earlier, we used `rename` to change the column name, but now we're changing the data, not the column name. So we'll use the `replace` function."
   ]
  },
  {
   "cell_type": "code",
<<<<<<< HEAD
   "execution_count": 198,
=======
   "execution_count": 86,
>>>>>>> 24f335a9f860e0149d07deba726f53692b8eb2e8
   "metadata": {},
   "outputs": [
    {
     "data": {
      "text/html": [
       "<div>\n",
       "<style scoped>\n",
       "    .dataframe tbody tr th:only-of-type {\n",
       "        vertical-align: middle;\n",
       "    }\n",
       "\n",
       "    .dataframe tbody tr th {\n",
       "        vertical-align: top;\n",
       "    }\n",
       "\n",
       "    .dataframe thead th {\n",
       "        text-align: right;\n",
       "    }\n",
       "</style>\n",
       "<table border=\"1\" class=\"dataframe\">\n",
       "  <thead>\n",
       "    <tr style=\"text-align: right;\">\n",
       "      <th></th>\n",
       "      <th>driver_gender</th>\n",
       "    </tr>\n",
       "  </thead>\n",
       "  <tbody>\n",
       "    <tr>\n",
       "      <th>0</th>\n",
       "      <td>Female</td>\n",
       "    </tr>\n",
       "    <tr>\n",
       "      <th>1</th>\n",
       "      <td>Male</td>\n",
       "    </tr>\n",
       "    <tr>\n",
       "      <th>2</th>\n",
       "      <td>Female</td>\n",
       "    </tr>\n",
       "    <tr>\n",
       "      <th>3</th>\n",
       "      <td>Male</td>\n",
       "    </tr>\n",
       "    <tr>\n",
       "      <th>4</th>\n",
       "      <td>Female</td>\n",
       "    </tr>\n",
       "  </tbody>\n",
       "</table>\n",
       "</div>"
      ],
      "text/plain": [
       "  driver_gender\n",
       "0        Female\n",
       "1          Male\n",
       "2        Female\n",
       "3          Male\n",
       "4        Female"
      ]
     },
<<<<<<< HEAD
     "execution_count": 198,
=======
     "execution_count": 86,
>>>>>>> 24f335a9f860e0149d07deba726f53692b8eb2e8
     "metadata": {},
     "output_type": "execute_result"
    }
   ],
   "source": [
    "az_stops['driver_gender'].replace({'F' : 'Female', 'M' : 'Male'}, inplace = True)\n",
    "az_stops[['driver_gender']].head()"
   ]
  },
  {
   "cell_type": "markdown",
   "metadata": {},
   "source": [
    "Much better. While we are at it let's take a peek at the `driver_race` column to see how race is coded."
   ]
  },
  {
   "cell_type": "code",
<<<<<<< HEAD
   "execution_count": 199,
=======
   "execution_count": 87,
>>>>>>> 24f335a9f860e0149d07deba726f53692b8eb2e8
   "metadata": {},
   "outputs": [
    {
     "data": {
      "text/html": [
       "<div>\n",
       "<style scoped>\n",
       "    .dataframe tbody tr th:only-of-type {\n",
       "        vertical-align: middle;\n",
       "    }\n",
       "\n",
       "    .dataframe tbody tr th {\n",
       "        vertical-align: top;\n",
       "    }\n",
       "\n",
       "    .dataframe thead th {\n",
       "        text-align: right;\n",
       "    }\n",
       "</style>\n",
       "<table border=\"1\" class=\"dataframe\">\n",
       "  <thead>\n",
       "    <tr style=\"text-align: right;\">\n",
       "      <th></th>\n",
       "      <th>driver_race</th>\n",
       "    </tr>\n",
       "  </thead>\n",
       "  <tbody>\n",
       "    <tr>\n",
       "      <th>0</th>\n",
       "      <td>Other</td>\n",
       "    </tr>\n",
       "    <tr>\n",
       "      <th>1</th>\n",
       "      <td>White</td>\n",
       "    </tr>\n",
       "    <tr>\n",
       "      <th>2</th>\n",
       "      <td>Other</td>\n",
       "    </tr>\n",
       "    <tr>\n",
       "      <th>3</th>\n",
       "      <td>Hispanic</td>\n",
       "    </tr>\n",
       "    <tr>\n",
       "      <th>4</th>\n",
       "      <td>White</td>\n",
       "    </tr>\n",
       "  </tbody>\n",
       "</table>\n",
       "</div>"
      ],
      "text/plain": [
       "  driver_race\n",
       "0       Other\n",
       "1       White\n",
       "2       Other\n",
       "3    Hispanic\n",
       "4       White"
      ]
     },
<<<<<<< HEAD
     "execution_count": 199,
=======
     "execution_count": 87,
>>>>>>> 24f335a9f860e0149d07deba726f53692b8eb2e8
     "metadata": {},
     "output_type": "execute_result"
    }
   ],
   "source": [
    "az_stops[['driver_race']].head()"
   ]
  },
  {
   "cell_type": "markdown",
   "metadata": {},
   "source": [
    "Now what we want to know is the number of stops by gender and race. Let's build our pivot table to show us that."
   ]
  },
  {
   "cell_type": "code",
<<<<<<< HEAD
   "execution_count": 200,
=======
   "execution_count": 88,
>>>>>>> 24f335a9f860e0149d07deba726f53692b8eb2e8
   "metadata": {},
   "outputs": [
    {
     "data": {
      "text/html": [
       "<div>\n",
       "<style scoped>\n",
       "    .dataframe tbody tr th:only-of-type {\n",
       "        vertical-align: middle;\n",
       "    }\n",
       "\n",
       "    .dataframe tbody tr th {\n",
       "        vertical-align: top;\n",
       "    }\n",
       "\n",
       "    .dataframe thead th {\n",
       "        text-align: right;\n",
       "    }\n",
       "</style>\n",
       "<table border=\"1\" class=\"dataframe\">\n",
       "  <thead>\n",
       "    <tr style=\"text-align: right;\">\n",
       "      <th>driver_gender</th>\n",
       "      <th>Female</th>\n",
       "      <th>Male</th>\n",
       "    </tr>\n",
       "    <tr>\n",
       "      <th>driver_race</th>\n",
       "      <th></th>\n",
       "      <th></th>\n",
       "    </tr>\n",
       "  </thead>\n",
       "  <tbody>\n",
       "    <tr>\n",
       "      <th>Asian</th>\n",
       "      <td>3097</td>\n",
       "      <td>9253</td>\n",
       "    </tr>\n",
       "    <tr>\n",
       "      <th>Black</th>\n",
       "      <td>8378</td>\n",
       "      <td>20594</td>\n",
       "    </tr>\n",
       "    <tr>\n",
       "      <th>Hispanic</th>\n",
       "      <td>35429</td>\n",
       "      <td>99974</td>\n",
       "    </tr>\n",
       "    <tr>\n",
       "      <th>Other</th>\n",
       "      <td>12703</td>\n",
       "      <td>23295</td>\n",
       "    </tr>\n",
       "    <tr>\n",
       "      <th>White</th>\n",
       "      <td>96813</td>\n",
       "      <td>198882</td>\n",
       "    </tr>\n",
       "  </tbody>\n",
       "</table>\n",
       "</div>"
      ],
      "text/plain": [
       "driver_gender  Female    Male\n",
       "driver_race                  \n",
       "Asian            3097    9253\n",
       "Black            8378   20594\n",
       "Hispanic        35429   99974\n",
       "Other           12703   23295\n",
       "White           96813  198882"
      ]
     },
<<<<<<< HEAD
     "execution_count": 200,
=======
     "execution_count": 88,
>>>>>>> 24f335a9f860e0149d07deba726f53692b8eb2e8
     "metadata": {},
     "output_type": "execute_result"
    }
   ],
   "source": [
    "stops_by_sex_race = pd.pivot_table(az_stops, \n",
    "                                   columns = 'driver_gender', \n",
    "                                   index = 'driver_race', \n",
    "                                   values = 'id', \n",
    "                                   aggfunc = 'count')\n",
    "stops_by_sex_race"
   ]
  },
  {
   "cell_type": "markdown",
   "metadata": {},
   "source": [
    "Now we have our results. But again, data presented this way is a bit difficult to for humans to read easily. So we should probably chart this out as well. First we have to clean the table up a bit. We need to get rid of the totals and restructure the dataframe a bit.\n",
    "\n",
    "TODO: What does melt mean?"
   ]
  },
  {
   "cell_type": "code",
<<<<<<< HEAD
   "execution_count": 201,
=======
   "execution_count": 89,
>>>>>>> 24f335a9f860e0149d07deba726f53692b8eb2e8
   "metadata": {},
   "outputs": [
    {
     "data": {
      "text/html": [
       "<div>\n",
       "<style scoped>\n",
       "    .dataframe tbody tr th:only-of-type {\n",
       "        vertical-align: middle;\n",
       "    }\n",
       "\n",
       "    .dataframe tbody tr th {\n",
       "        vertical-align: top;\n",
       "    }\n",
       "\n",
       "    .dataframe thead th {\n",
       "        text-align: right;\n",
       "    }\n",
       "</style>\n",
       "<table border=\"1\" class=\"dataframe\">\n",
       "  <thead>\n",
       "    <tr style=\"text-align: right;\">\n",
       "      <th></th>\n",
       "      <th>driver_race</th>\n",
       "      <th>driver_gender</th>\n",
       "      <th>traffic_stops</th>\n",
       "    </tr>\n",
       "  </thead>\n",
       "  <tbody>\n",
       "    <tr>\n",
       "      <th>0</th>\n",
       "      <td>Asian</td>\n",
       "      <td>Female</td>\n",
       "      <td>3097</td>\n",
       "    </tr>\n",
       "    <tr>\n",
       "      <th>1</th>\n",
       "      <td>Black</td>\n",
       "      <td>Female</td>\n",
       "      <td>8378</td>\n",
       "    </tr>\n",
       "    <tr>\n",
       "      <th>2</th>\n",
       "      <td>Hispanic</td>\n",
       "      <td>Female</td>\n",
       "      <td>35429</td>\n",
       "    </tr>\n",
       "    <tr>\n",
       "      <th>3</th>\n",
       "      <td>Other</td>\n",
       "      <td>Female</td>\n",
       "      <td>12703</td>\n",
       "    </tr>\n",
       "    <tr>\n",
       "      <th>4</th>\n",
       "      <td>White</td>\n",
       "      <td>Female</td>\n",
       "      <td>96813</td>\n",
       "    </tr>\n",
       "    <tr>\n",
       "      <th>5</th>\n",
       "      <td>Asian</td>\n",
       "      <td>Male</td>\n",
       "      <td>9253</td>\n",
       "    </tr>\n",
       "    <tr>\n",
       "      <th>6</th>\n",
       "      <td>Black</td>\n",
       "      <td>Male</td>\n",
       "      <td>20594</td>\n",
       "    </tr>\n",
       "    <tr>\n",
       "      <th>7</th>\n",
       "      <td>Hispanic</td>\n",
       "      <td>Male</td>\n",
       "      <td>99974</td>\n",
       "    </tr>\n",
       "    <tr>\n",
       "      <th>8</th>\n",
       "      <td>Other</td>\n",
       "      <td>Male</td>\n",
       "      <td>23295</td>\n",
       "    </tr>\n",
       "    <tr>\n",
       "      <th>9</th>\n",
       "      <td>White</td>\n",
       "      <td>Male</td>\n",
       "      <td>198882</td>\n",
       "    </tr>\n",
       "  </tbody>\n",
       "</table>\n",
       "</div>"
      ],
      "text/plain": [
       "  driver_race driver_gender  traffic_stops\n",
       "0       Asian        Female           3097\n",
       "1       Black        Female           8378\n",
       "2    Hispanic        Female          35429\n",
       "3       Other        Female          12703\n",
       "4       White        Female          96813\n",
       "5       Asian          Male           9253\n",
       "6       Black          Male          20594\n",
       "7    Hispanic          Male          99974\n",
       "8       Other          Male          23295\n",
       "9       White          Male         198882"
      ]
     },
<<<<<<< HEAD
     "execution_count": 201,
=======
     "execution_count": 89,
>>>>>>> 24f335a9f860e0149d07deba726f53692b8eb2e8
     "metadata": {},
     "output_type": "execute_result"
    }
   ],
   "source": [
    "stops_by_sex_race = pd.DataFrame(stops_by_sex_race.to_records())\n",
    "\n",
    "stops_by_sex_race = stops_by_sex_race.melt(id_vars = 'driver_race', var_name = 'driver_gender', value_name = 'traffic_stops')\n",
    "\n",
    "stops_by_sex_race"
   ]
  },
  {
   "cell_type": "code",
<<<<<<< HEAD
   "execution_count": 202,
=======
   "execution_count": 90,
>>>>>>> 24f335a9f860e0149d07deba726f53692b8eb2e8
   "metadata": {},
   "outputs": [
    {
     "data": {
      "text/html": [
<<<<<<< HEAD
       "<div class=\"vega-embed\" id=\"3dfe0cc6-f130-47c7-a964-093a4db8d050\"></div>\n",
=======
       "<div class=\"vega-embed\" id=\"e26454bd-4186-4b05-b019-fcc1a5fb09ae\"></div>\n",
>>>>>>> 24f335a9f860e0149d07deba726f53692b8eb2e8
       "\n",
       "<style>\n",
       ".vega-embed .vega-actions > a {\n",
       "    transition: opacity 200ms ease-in;\n",
       "    opacity: 0.3;\n",
       "    margin-right: 0.6em;\n",
       "    color: #444;\n",
       "    text-decoration: none;\n",
       "}\n",
       "\n",
       ".vega-embed .vega-actions > a:hover {\n",
       "    color: #000;\n",
       "    text-decoration: underline;\n",
       "}\n",
       "\n",
       ".vega-embed:hover .vega-actions > a {\n",
       "    opacity: 1;\n",
       "    transition: 0s;\n",
       "}\n",
       "\n",
       ".vega-embed .error p {\n",
       "    color: firebrick;\n",
       "    font-size: 1.2em;\n",
       "}\n",
       "</style>\n"
      ]
     },
     "metadata": {
<<<<<<< HEAD
      "jupyter-vega3": "#3dfe0cc6-f130-47c7-a964-093a4db8d050"
=======
      "jupyter-vega3": "#e26454bd-4186-4b05-b019-fcc1a5fb09ae"
>>>>>>> 24f335a9f860e0149d07deba726f53692b8eb2e8
     },
     "output_type": "display_data"
    },
    {
     "data": {
      "application/javascript": [
<<<<<<< HEAD
       "var spec = {\"config\": {\"view\": {\"width\": 400, \"height\": 300}}, \"data\": {\"values\": [{\"driver_race\": \"Asian\", \"driver_gender\": \"Female\", \"traffic_stops\": 3097}, {\"driver_race\": \"Black\", \"driver_gender\": \"Female\", \"traffic_stops\": 8378}, {\"driver_race\": \"Hispanic\", \"driver_gender\": \"Female\", \"traffic_stops\": 35429}, {\"driver_race\": \"Other\", \"driver_gender\": \"Female\", \"traffic_stops\": 12703}, {\"driver_race\": \"White\", \"driver_gender\": \"Female\", \"traffic_stops\": 96813}, {\"driver_race\": \"Asian\", \"driver_gender\": \"Male\", \"traffic_stops\": 9253}, {\"driver_race\": \"Black\", \"driver_gender\": \"Male\", \"traffic_stops\": 20594}, {\"driver_race\": \"Hispanic\", \"driver_gender\": \"Male\", \"traffic_stops\": 99974}, {\"driver_race\": \"Other\", \"driver_gender\": \"Male\", \"traffic_stops\": 23295}, {\"driver_race\": \"White\", \"driver_gender\": \"Male\", \"traffic_stops\": 198882}]}, \"mark\": \"bar\", \"encoding\": {\"color\": {\"type\": \"nominal\", \"field\": \"driver_gender\", \"scale\": {\"range\": [\"#EA98D2\", \"#659CCA\"]}}, \"column\": {\"type\": \"nominal\", \"field\": \"driver_race\"}, \"x\": {\"type\": \"nominal\", \"field\": \"driver_gender\"}, \"y\": {\"type\": \"quantitative\", \"field\": \"traffic_stops\"}}, \"$schema\": \"https://vega.github.io/schema/vega-lite/v2.3.0.json\"};\n",
       "var selector = \"#3dfe0cc6-f130-47c7-a964-093a4db8d050\";\n",
=======
       "var spec = {\"config\": {\"view\": {\"width\": 400, \"height\": 300}}, \"data\": {\"values\": [{\"driver_race\": \"Asian\", \"driver_gender\": \"Female\", \"traffic_stops\": 2859}, {\"driver_race\": \"Black\", \"driver_gender\": \"Female\", \"traffic_stops\": 8475}, {\"driver_race\": \"Hispanic\", \"driver_gender\": \"Female\", \"traffic_stops\": 32303}, {\"driver_race\": \"Other\", \"driver_gender\": \"Female\", \"traffic_stops\": 12153}, {\"driver_race\": \"White\", \"driver_gender\": \"Female\", \"traffic_stops\": 83136}, {\"driver_race\": \"Asian\", \"driver_gender\": \"Male\", \"traffic_stops\": 8615}, {\"driver_race\": \"Black\", \"driver_gender\": \"Male\", \"traffic_stops\": 20048}, {\"driver_race\": \"Hispanic\", \"driver_gender\": \"Male\", \"traffic_stops\": 89769}, {\"driver_race\": \"Other\", \"driver_gender\": \"Male\", \"traffic_stops\": 21459}, {\"driver_race\": \"White\", \"driver_gender\": \"Male\", \"traffic_stops\": 171702}]}, \"mark\": \"bar\", \"encoding\": {\"color\": {\"type\": \"nominal\", \"field\": \"driver_gender\", \"scale\": {\"range\": [\"#EA98D2\", \"#659CCA\"]}}, \"column\": {\"type\": \"nominal\", \"field\": \"driver_race\"}, \"x\": {\"type\": \"nominal\", \"field\": \"driver_gender\"}, \"y\": {\"type\": \"quantitative\", \"field\": \"traffic_stops\"}}, \"$schema\": \"https://vega.github.io/schema/vega-lite/v2.3.0.json\"};\n",
       "var opt = {};\n",
       "var selector = \"#e26454bd-4186-4b05-b019-fcc1a5fb09ae\";\n",
>>>>>>> 24f335a9f860e0149d07deba726f53692b8eb2e8
       "var type = \"vega-lite\";\n",
       "\n",
       "var output_area = this;\n",
       "\n",
       "require(['nbextensions/jupyter-vega3/index'], function(vega) {\n",
       "  vega.render(selector, spec, type, opt, output_area);\n",
       "}, function (err) {\n",
       "  if (err.requireType !== 'scripterror') {\n",
       "    throw(err);\n",
       "  }\n",
       "});\n"
      ]
     },
     "metadata": {
<<<<<<< HEAD
      "jupyter-vega3": "#3dfe0cc6-f130-47c7-a964-093a4db8d050"
=======
      "jupyter-vega3": "#e26454bd-4186-4b05-b019-fcc1a5fb09ae"
>>>>>>> 24f335a9f860e0149d07deba726f53692b8eb2e8
     },
     "output_type": "display_data"
    },
    {
     "data": {
      "text/plain": []
     },
<<<<<<< HEAD
     "execution_count": 202,
=======
     "execution_count": 90,
>>>>>>> 24f335a9f860e0149d07deba726f53692b8eb2e8
     "metadata": {},
     "output_type": "execute_result"
    },
    {
     "data": {
<<<<<<< HEAD
      "image/png": "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"
     },
     "metadata": {
      "jupyter-vega3": "#3dfe0cc6-f130-47c7-a964-093a4db8d050"
=======
      "image/png": "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"
     },
     "metadata": {
      "jupyter-vega3": "#e26454bd-4186-4b05-b019-fcc1a5fb09ae"
>>>>>>> 24f335a9f860e0149d07deba726f53692b8eb2e8
     },
     "output_type": "display_data"
    }
   ],
   "source": [
    "alt.Chart(stops_by_sex_race).mark_bar().encode(\n",
    "    alt.X('driver_gender:N'),\n",
    "    alt.Y('traffic_stops:Q'),\n",
    "    color=alt.Color('driver_gender', scale=alt.Scale(range=[\"#EA98D2\", \"#659CCA\"])),\n",
    "    column = 'driver_race'\n",
    ")"
   ]
  },
  {
   "cell_type": "markdown",
   "metadata": {},
   "source": [
    "## Do we have a story yet?\n",
    "\n",
    "At this point it doesn't look like it. As you can see in the graphic above, whites account for a large majority of the stops. And men got stopped more than women, regardless of race. But what is wrong with this analysis?\n",
    "\n",
    "In short it doesn't tell us whether or not minority groups are over- or under-represented in the data. To find that out we would need to compare stops by race to some other metric. One option would be Census data showing the racial make up of the state's population. Another choice would be to look at demographic breakdowns of licensed drivers. This sort of information is usually requested from the state's Department of Motor Vehicles.\n",
    "\n",
    "However there is a flaw in this sort of analysis. These are stops conducted by the Arizona Department of Public Safety, which means most stops were conducted on highways or state routes. This means drivers stopped by the DPS are more likely to be from outside the state – or given the proximity to the border – from Mexico. So population figures from a secondary source would not necessarily represent the population on the road.\n",
    "\n",
    "Fortunately there is another metric in the data that we can use to look for bias – search patterns."
   ]
  },
  {
   "cell_type": "markdown",
   "metadata": {},
   "source": [
    "## Analyzing search patterns\n",
    "\n",
    "Another metric that could show bias is whether or not a search was conducted during the course of the traffic stop. For our purposes there are three different types of searches – probable cause, warrant and consent searches. The ones we want to focus on are consent searches. This type of search does not require a search warrant, and the officer most likely does not have probable cause. As such this search is completely up to the officer's discretion.\n",
    "\n",
    "There is a `consent_search` column in the data set, but let's explore a bit more before we dive into our analysis.\n",
    "\n",
    "Let's start by getting a better feel for how many searches were conducted overall, broken out by whether or not they were a consent search."
   ]
  },
  {
   "cell_type": "code",
<<<<<<< HEAD
   "execution_count": 203,
=======
   "execution_count": 91,
>>>>>>> 24f335a9f860e0149d07deba726f53692b8eb2e8
   "metadata": {},
   "outputs": [
    {
     "data": {
      "text/html": [
       "<div>\n",
       "<style scoped>\n",
       "    .dataframe tbody tr th:only-of-type {\n",
       "        vertical-align: middle;\n",
       "    }\n",
       "\n",
       "    .dataframe tbody tr th {\n",
       "        vertical-align: top;\n",
       "    }\n",
       "\n",
       "    .dataframe thead th {\n",
       "        text-align: right;\n",
       "    }\n",
       "</style>\n",
       "<table border=\"1\" class=\"dataframe\">\n",
       "  <thead>\n",
       "    <tr style=\"text-align: right;\">\n",
       "      <th>search_conducted</th>\n",
       "      <th>FALSE</th>\n",
       "      <th>TRUE</th>\n",
       "      <th>total</th>\n",
       "    </tr>\n",
       "    <tr>\n",
       "      <th>consent_search</th>\n",
       "      <th></th>\n",
       "      <th></th>\n",
       "      <th></th>\n",
       "    </tr>\n",
       "  </thead>\n",
       "  <tbody>\n",
       "    <tr>\n",
       "      <th>FALSE</th>\n",
<<<<<<< HEAD
       "      <td>484588.0</td>\n",
       "      <td>475.0</td>\n",
       "      <td>485063</td>\n",
=======
       "      <td>429094.0</td>\n",
       "      <td>439.0</td>\n",
       "      <td>429533</td>\n",
>>>>>>> 24f335a9f860e0149d07deba726f53692b8eb2e8
       "    </tr>\n",
       "    <tr>\n",
       "      <th>TRUE</th>\n",
       "      <td>NaN</td>\n",
<<<<<<< HEAD
       "      <td>2650.0</td>\n",
       "      <td>2650</td>\n",
       "    </tr>\n",
       "    <tr>\n",
       "      <th>total</th>\n",
       "      <td>484588.0</td>\n",
       "      <td>3125.0</td>\n",
       "      <td>487713</td>\n",
=======
       "      <td>2513.0</td>\n",
       "      <td>2513</td>\n",
       "    </tr>\n",
       "    <tr>\n",
       "      <th>total</th>\n",
       "      <td>429094.0</td>\n",
       "      <td>2952.0</td>\n",
       "      <td>432046</td>\n",
>>>>>>> 24f335a9f860e0149d07deba726f53692b8eb2e8
       "    </tr>\n",
       "  </tbody>\n",
       "</table>\n",
       "</div>"
      ],
      "text/plain": [
       "search_conducted     FALSE    TRUE   total\n",
       "consent_search                            \n",
<<<<<<< HEAD
       "FALSE             484588.0   475.0  485063\n",
       "TRUE                   NaN  2650.0    2650\n",
       "total             484588.0  3125.0  487713"
      ]
     },
     "execution_count": 203,
=======
       "FALSE             429094.0   439.0  429533\n",
       "TRUE                   NaN  2513.0    2513\n",
       "total             429094.0  2952.0  432046"
      ]
     },
     "execution_count": 91,
>>>>>>> 24f335a9f860e0149d07deba726f53692b8eb2e8
     "metadata": {},
     "output_type": "execute_result"
    }
   ],
   "source": [
    "# talk about null values here\n",
    "pd.pivot_table(az_stops, index = 'consent_search', \n",
    "               columns = 'search_conducted', \n",
    "               values = 'id', \n",
    "               aggfunc = 'count', \n",
    "               margins = True, \n",
    "               margins_name = 'total')"
   ]
  },
  {
   "cell_type": "markdown",
   "metadata": {},
   "source": [
    "This is a little difficult to read. What we can tell is that the majority of searches are consent searches. Let's see if we can rename some values to make this easier to search. We can start by getting a count of the null values in the `consent_search` column. These are cases where no searches occurred."
   ]
  },
  {
   "cell_type": "code",
<<<<<<< HEAD
   "execution_count": 204,
=======
   "execution_count": 92,
>>>>>>> 24f335a9f860e0149d07deba726f53692b8eb2e8
   "metadata": {},
   "outputs": [
    {
     "data": {
      "text/plain": [
       "20705"
      ]
     },
<<<<<<< HEAD
     "execution_count": 204,
=======
     "execution_count": 92,
>>>>>>> 24f335a9f860e0149d07deba726f53692b8eb2e8
     "metadata": {},
     "output_type": "execute_result"
    }
   ],
   "source": [
    "len(az_stops[az_stops['consent_search'].isnull()])"
   ]
  },
  {
   "cell_type": "markdown",
   "metadata": {},
   "source": [
    "Those null values are cases where a probable cause or warrant search was conducted. Let's replace those null values with a value of `unknown_search`."
   ]
  },
  {
   "cell_type": "code",
<<<<<<< HEAD
   "execution_count": 205,
=======
   "execution_count": 93,
>>>>>>> 24f335a9f860e0149d07deba726f53692b8eb2e8
   "metadata": {},
   "outputs": [],
   "source": [
    "az_stops.fillna(value = {'consent_search' : 'unknown_search'}, inplace = True)"
   ]
  },
  {
   "cell_type": "markdown",
   "metadata": {},
   "source": [
    "Now we need to filter for cases where a search was conducted but it was not a consent search. We will replace those values with `unknown_search` as well."
   ]
  },
  {
   "cell_type": "code",
<<<<<<< HEAD
   "execution_count": 206,
=======
   "execution_count": 94,
>>>>>>> 24f335a9f860e0149d07deba726f53692b8eb2e8
   "metadata": {},
   "outputs": [],
   "source": [
    "mask = (az_stops.search_conducted == 'TRUE') & (az_stops.consent_search == 'FALSE')\n",
    "az_stops.loc[mask, 'consent_search'] = 'unknown_search'"
   ]
  },
  {
   "cell_type": "markdown",
   "metadata": {},
   "source": [
    "Lastly we will rename `TRUE` values as `consent_search` and any remaining `FALSE` values as `no_search`."
   ]
  },
  {
   "cell_type": "code",
<<<<<<< HEAD
   "execution_count": 207,
=======
   "execution_count": 95,
>>>>>>> 24f335a9f860e0149d07deba726f53692b8eb2e8
   "metadata": {},
   "outputs": [],
   "source": [
    "az_stops['consent_search'].replace({'TRUE' : 'consent_search', 'FALSE' : 'no_search'}, inplace = True)"
   ]
  },
  {
   "cell_type": "markdown",
   "metadata": {},
   "source": [
    "Now build the pivot table again. It should be easier to read and contain more information."
   ]
  },
  {
   "cell_type": "code",
<<<<<<< HEAD
   "execution_count": 208,
=======
   "execution_count": 96,
>>>>>>> 24f335a9f860e0149d07deba726f53692b8eb2e8
   "metadata": {},
   "outputs": [
    {
     "data": {
      "text/html": [
       "<div>\n",
       "<style scoped>\n",
       "    .dataframe tbody tr th:only-of-type {\n",
       "        vertical-align: middle;\n",
       "    }\n",
       "\n",
       "    .dataframe tbody tr th {\n",
       "        vertical-align: top;\n",
       "    }\n",
       "\n",
       "    .dataframe thead th {\n",
       "        text-align: right;\n",
       "    }\n",
       "</style>\n",
       "<table border=\"1\" class=\"dataframe\">\n",
       "  <thead>\n",
       "    <tr style=\"text-align: right;\">\n",
       "      <th>search_conducted</th>\n",
       "      <th>FALSE</th>\n",
       "      <th>TRUE</th>\n",
       "      <th>total</th>\n",
       "    </tr>\n",
       "    <tr>\n",
       "      <th>consent_search</th>\n",
       "      <th></th>\n",
       "      <th></th>\n",
       "      <th></th>\n",
       "    </tr>\n",
       "  </thead>\n",
       "  <tbody>\n",
       "    <tr>\n",
       "      <th>consent_search</th>\n",
       "      <td>NaN</td>\n",
       "      <td>2650.0</td>\n",
       "      <td>2650</td>\n",
       "    </tr>\n",
       "    <tr>\n",
       "      <th>no_search</th>\n",
       "      <td>484588.0</td>\n",
       "      <td>NaN</td>\n",
       "      <td>484588</td>\n",
       "    </tr>\n",
       "    <tr>\n",
       "      <th>unknown_search</th>\n",
       "      <td>NaN</td>\n",
       "      <td>21180.0</td>\n",
       "      <td>21180</td>\n",
       "    </tr>\n",
       "    <tr>\n",
       "      <th>total</th>\n",
       "      <td>484588.0</td>\n",
       "      <td>23830.0</td>\n",
       "      <td>508418</td>\n",
       "    </tr>\n",
       "  </tbody>\n",
       "</table>\n",
       "</div>"
      ],
      "text/plain": [
       "search_conducted     FALSE     TRUE   total\n",
       "consent_search                             \n",
       "consent_search         NaN   2650.0    2650\n",
       "no_search         484588.0      NaN  484588\n",
       "unknown_search         NaN  21180.0   21180\n",
       "total             484588.0  23830.0  508418"
      ]
     },
<<<<<<< HEAD
     "execution_count": 208,
=======
     "execution_count": 96,
>>>>>>> 24f335a9f860e0149d07deba726f53692b8eb2e8
     "metadata": {},
     "output_type": "execute_result"
    }
   ],
   "source": [
    "pd.pivot_table(az_stops, index = 'consent_search', \n",
    "               columns = 'search_conducted', \n",
    "               values = 'id', \n",
    "               aggfunc = 'count', \n",
    "               margins = True, \n",
    "               margins_name = 'total')"
   ]
  },
  {
   "cell_type": "markdown",
   "metadata": {},
   "source": [
    "### Work on your own, part II\n",
    "\n",
    "Now that we have the `consent_search` column cleaned up, we can start doing our analysis. The first step is to create a pivot table with `consent_search` as the columns, `driver_race` as the race and a count of `id` as the values. Call it `search_rates`. Make sure to convert it back to a dataframe after you are done."
   ]
  },
  {
   "cell_type": "code",
<<<<<<< HEAD
   "execution_count": 209,
=======
   "execution_count": 97,
>>>>>>> 24f335a9f860e0149d07deba726f53692b8eb2e8
   "metadata": {},
   "outputs": [
    {
     "data": {
      "text/html": [
       "<div>\n",
       "<style scoped>\n",
       "    .dataframe tbody tr th:only-of-type {\n",
       "        vertical-align: middle;\n",
       "    }\n",
       "\n",
       "    .dataframe tbody tr th {\n",
       "        vertical-align: top;\n",
       "    }\n",
       "\n",
       "    .dataframe thead th {\n",
       "        text-align: right;\n",
       "    }\n",
       "</style>\n",
       "<table border=\"1\" class=\"dataframe\">\n",
       "  <thead>\n",
       "    <tr style=\"text-align: right;\">\n",
       "      <th></th>\n",
       "      <th>driver_race</th>\n",
       "      <th>consent_search</th>\n",
       "      <th>no_search</th>\n",
       "      <th>unknown_search</th>\n",
       "      <th>total</th>\n",
       "    </tr>\n",
       "  </thead>\n",
       "  <tbody>\n",
       "    <tr>\n",
       "      <th>0</th>\n",
       "      <td>Asian</td>\n",
       "      <td>51</td>\n",
       "      <td>12033</td>\n",
       "      <td>266</td>\n",
       "      <td>12350</td>\n",
       "    </tr>\n",
       "    <tr>\n",
       "      <th>1</th>\n",
       "      <td>Black</td>\n",
       "      <td>183</td>\n",
       "      <td>26770</td>\n",
       "      <td>2019</td>\n",
       "      <td>28972</td>\n",
       "    </tr>\n",
       "    <tr>\n",
       "      <th>2</th>\n",
       "      <td>Hispanic</td>\n",
       "      <td>1677</td>\n",
       "      <td>125849</td>\n",
       "      <td>7877</td>\n",
       "      <td>135403</td>\n",
       "    </tr>\n",
       "    <tr>\n",
       "      <th>3</th>\n",
       "      <td>Other</td>\n",
       "      <td>93</td>\n",
       "      <td>33834</td>\n",
       "      <td>2071</td>\n",
       "      <td>35998</td>\n",
       "    </tr>\n",
       "    <tr>\n",
       "      <th>4</th>\n",
       "      <td>White</td>\n",
       "      <td>646</td>\n",
       "      <td>286102</td>\n",
       "      <td>8947</td>\n",
       "      <td>295695</td>\n",
       "    </tr>\n",
       "    <tr>\n",
       "      <th>5</th>\n",
       "      <td>total</td>\n",
       "      <td>2650</td>\n",
       "      <td>484588</td>\n",
       "      <td>21180</td>\n",
       "      <td>508418</td>\n",
       "    </tr>\n",
       "  </tbody>\n",
       "</table>\n",
       "</div>"
      ],
      "text/plain": [
       "  driver_race  consent_search  no_search  unknown_search   total\n",
       "0       Asian              51      12033             266   12350\n",
       "1       Black             183      26770            2019   28972\n",
       "2    Hispanic            1677     125849            7877  135403\n",
       "3       Other              93      33834            2071   35998\n",
       "4       White             646     286102            8947  295695\n",
       "5       total            2650     484588           21180  508418"
      ]
     },
<<<<<<< HEAD
     "execution_count": 209,
=======
     "execution_count": 97,
>>>>>>> 24f335a9f860e0149d07deba726f53692b8eb2e8
     "metadata": {},
     "output_type": "execute_result"
    }
   ],
   "source": [
    "# create the pivot table\n",
    "search_rates = pd.pivot_table(az_stops, \n",
    "                              columns = 'consent_search', \n",
    "                              index = 'driver_race', \n",
    "                              values = 'id', \n",
    "                              aggfunc = 'count', \n",
    "                              margins = True, \n",
    "                              margins_name = 'total')\n",
    "\n",
    "search_rates = pd.DataFrame(search_rates.to_records())\n",
    "search_rates"
   ]
  },
  {
   "cell_type": "markdown",
   "metadata": {},
   "source": [
    "### Coming back\n",
    "\n",
    "Now we are starting to get somewhere. We now know the number of consent searches, the number of other searches and the total number of stops by race. This is enough for us to start doing some math.\n",
    "\n",
    "## Calculating search rates\n",
    "\n",
    "Here we will need to add a new column to our data - a ratio of searches to stops."
   ]
  },
  {
   "cell_type": "code",
<<<<<<< HEAD
   "execution_count": 210,
=======
   "execution_count": 98,
>>>>>>> 24f335a9f860e0149d07deba726f53692b8eb2e8
   "metadata": {},
   "outputs": [
    {
     "data": {
      "text/html": [
       "<div>\n",
       "<style scoped>\n",
       "    .dataframe tbody tr th:only-of-type {\n",
       "        vertical-align: middle;\n",
       "    }\n",
       "\n",
       "    .dataframe tbody tr th {\n",
       "        vertical-align: top;\n",
       "    }\n",
       "\n",
       "    .dataframe thead th {\n",
       "        text-align: right;\n",
       "    }\n",
       "</style>\n",
       "<table border=\"1\" class=\"dataframe\">\n",
       "  <thead>\n",
       "    <tr style=\"text-align: right;\">\n",
       "      <th></th>\n",
       "      <th>driver_race</th>\n",
       "      <th>consent_search</th>\n",
       "      <th>no_search</th>\n",
       "      <th>unknown_search</th>\n",
       "      <th>total</th>\n",
       "      <th>search_rate</th>\n",
       "    </tr>\n",
       "  </thead>\n",
       "  <tbody>\n",
       "    <tr>\n",
       "      <th>0</th>\n",
       "      <td>Asian</td>\n",
       "      <td>51</td>\n",
       "      <td>12033</td>\n",
       "      <td>266</td>\n",
       "      <td>12350</td>\n",
       "      <td>4.129555</td>\n",
       "    </tr>\n",
       "    <tr>\n",
       "      <th>1</th>\n",
       "      <td>Black</td>\n",
       "      <td>183</td>\n",
       "      <td>26770</td>\n",
       "      <td>2019</td>\n",
       "      <td>28972</td>\n",
       "      <td>6.316443</td>\n",
       "    </tr>\n",
       "    <tr>\n",
       "      <th>2</th>\n",
       "      <td>Hispanic</td>\n",
       "      <td>1677</td>\n",
       "      <td>125849</td>\n",
       "      <td>7877</td>\n",
       "      <td>135403</td>\n",
       "      <td>12.385250</td>\n",
       "    </tr>\n",
       "    <tr>\n",
       "      <th>3</th>\n",
       "      <td>Other</td>\n",
       "      <td>93</td>\n",
       "      <td>33834</td>\n",
       "      <td>2071</td>\n",
       "      <td>35998</td>\n",
       "      <td>2.583477</td>\n",
       "    </tr>\n",
       "    <tr>\n",
       "      <th>4</th>\n",
       "      <td>White</td>\n",
       "      <td>646</td>\n",
       "      <td>286102</td>\n",
       "      <td>8947</td>\n",
       "      <td>295695</td>\n",
       "      <td>2.184684</td>\n",
       "    </tr>\n",
       "    <tr>\n",
       "      <th>5</th>\n",
       "      <td>total</td>\n",
       "      <td>2650</td>\n",
       "      <td>484588</td>\n",
       "      <td>21180</td>\n",
       "      <td>508418</td>\n",
       "      <td>5.212247</td>\n",
       "    </tr>\n",
       "  </tbody>\n",
       "</table>\n",
       "</div>"
      ],
      "text/plain": [
       "  driver_race  consent_search  no_search  unknown_search   total  search_rate\n",
       "0       Asian              51      12033             266   12350     4.129555\n",
       "1       Black             183      26770            2019   28972     6.316443\n",
       "2    Hispanic            1677     125849            7877  135403    12.385250\n",
       "3       Other              93      33834            2071   35998     2.583477\n",
       "4       White             646     286102            8947  295695     2.184684\n",
       "5       total            2650     484588           21180  508418     5.212247"
      ]
     },
<<<<<<< HEAD
     "execution_count": 210,
=======
     "execution_count": 98,
>>>>>>> 24f335a9f860e0149d07deba726f53692b8eb2e8
     "metadata": {},
     "output_type": "execute_result"
    }
   ],
   "source": [
    "# do this without the multiplier first, show how we end up with small numbers \n",
    "# and then multiply by 1000 to make it per 1,000 stops\n",
    "search_rates['search_rate'] = (search_rates['consent_search'] / search_rates['total']) * 1000\n",
    "search_rates"
   ]
  },
  {
   "cell_type": "markdown",
   "metadata": {},
   "source": [
    "## Now we have a story...\n",
    "\n",
    "A little math was able to do a lot in this case. We can now see that comparatively speaking, Hispanics were searched at rates much higher than whites in 2015. In fact they were searched at a rate nearly twice that of any other racial/ethnic group. So how do we write about that? What are some sentences that we could write in a story? What is the best way to present those numbers visually?"
   ]
  },
  {
   "cell_type": "markdown",
   "metadata": {},
   "source": [
    "### Work on your own, part III\n",
    "\n",
    "Now that we have some results, let's create a simple bar chart to display them."
   ]
  },
  {
   "cell_type": "code",
<<<<<<< HEAD
   "execution_count": 211,
=======
   "execution_count": 99,
>>>>>>> 24f335a9f860e0149d07deba726f53692b8eb2e8
   "metadata": {},
   "outputs": [
    {
     "data": {
      "text/html": [
<<<<<<< HEAD
       "<div class=\"vega-embed\" id=\"d7611b1d-e093-495e-819a-f1552d087026\"></div>\n",
=======
       "<div class=\"vega-embed\" id=\"50b434e7-8764-40ae-ae29-a594442b8c24\"></div>\n",
>>>>>>> 24f335a9f860e0149d07deba726f53692b8eb2e8
       "\n",
       "<style>\n",
       ".vega-embed .vega-actions > a {\n",
       "    transition: opacity 200ms ease-in;\n",
       "    opacity: 0.3;\n",
       "    margin-right: 0.6em;\n",
       "    color: #444;\n",
       "    text-decoration: none;\n",
       "}\n",
       "\n",
       ".vega-embed .vega-actions > a:hover {\n",
       "    color: #000;\n",
       "    text-decoration: underline;\n",
       "}\n",
       "\n",
       ".vega-embed:hover .vega-actions > a {\n",
       "    opacity: 1;\n",
       "    transition: 0s;\n",
       "}\n",
       "\n",
       ".vega-embed .error p {\n",
       "    color: firebrick;\n",
       "    font-size: 1.2em;\n",
       "}\n",
       "</style>\n"
      ]
     },
     "metadata": {
<<<<<<< HEAD
      "jupyter-vega3": "#d7611b1d-e093-495e-819a-f1552d087026"
=======
      "jupyter-vega3": "#50b434e7-8764-40ae-ae29-a594442b8c24"
>>>>>>> 24f335a9f860e0149d07deba726f53692b8eb2e8
     },
     "output_type": "display_data"
    },
    {
     "data": {
      "application/javascript": [
<<<<<<< HEAD
       "var spec = {\"config\": {\"view\": {\"width\": 400, \"height\": 300}}, \"data\": {\"values\": [{\"driver_race\": \"Asian\", \"consent_search\": 51, \"no_search\": 12033, \"unknown_search\": 266, \"total\": 12350, \"search_rate\": 4.129554655870446}, {\"driver_race\": \"Black\", \"consent_search\": 183, \"no_search\": 26770, \"unknown_search\": 2019, \"total\": 28972, \"search_rate\": 6.316443462653597}, {\"driver_race\": \"Hispanic\", \"consent_search\": 1677, \"no_search\": 125849, \"unknown_search\": 7877, \"total\": 135403, \"search_rate\": 12.385249957534176}, {\"driver_race\": \"Other\", \"consent_search\": 93, \"no_search\": 33834, \"unknown_search\": 2071, \"total\": 35998, \"search_rate\": 2.5834768598255455}, {\"driver_race\": \"White\", \"consent_search\": 646, \"no_search\": 286102, \"unknown_search\": 8947, \"total\": 295695, \"search_rate\": 2.184683542163378}, {\"driver_race\": \"total\", \"consent_search\": 2650, \"no_search\": 484588, \"unknown_search\": 21180, \"total\": 508418, \"search_rate\": 5.21224661597347}]}, \"mark\": \"bar\", \"encoding\": {\"x\": {\"type\": \"nominal\", \"field\": \"driver_race\"}, \"y\": {\"type\": \"quantitative\", \"field\": \"search_rate\"}}, \"$schema\": \"https://vega.github.io/schema/vega-lite/v2.3.0.json\"};\n",
       "var selector = \"#d7611b1d-e093-495e-819a-f1552d087026\";\n",
=======
       "var spec = {\"config\": {\"view\": {\"width\": 400, \"height\": 300}}, \"data\": {\"values\": [{\"driver_race\": \"Asian\", \"consent_search\": 35, \"no_search\": 11260, \"unknown_search\": 179, \"total\": 11474, \"search_rate\": 3.0503747603276974}, {\"driver_race\": \"Black\", \"consent_search\": 199, \"no_search\": 26348, \"unknown_search\": 1976, \"total\": 28523, \"search_rate\": 6.9768257195947125}, {\"driver_race\": \"Hispanic\", \"consent_search\": 1563, \"no_search\": 113518, \"unknown_search\": 6991, \"total\": 122072, \"search_rate\": 12.803918998623763}, {\"driver_race\": \"Other\", \"consent_search\": 76, \"no_search\": 31579, \"unknown_search\": 1957, \"total\": 33612, \"search_rate\": 2.2610972271807688}, {\"driver_race\": \"White\", \"consent_search\": 640, \"no_search\": 246389, \"unknown_search\": 7809, \"total\": 254838, \"search_rate\": 2.511399398833769}, {\"driver_race\": \"total\", \"consent_search\": 2513, \"no_search\": 429094, \"unknown_search\": 18912, \"total\": 450519, \"search_rate\": 5.578011138264979}]}, \"mark\": \"bar\", \"encoding\": {\"x\": {\"type\": \"nominal\", \"field\": \"driver_race\"}, \"y\": {\"type\": \"quantitative\", \"field\": \"search_rate\"}}, \"$schema\": \"https://vega.github.io/schema/vega-lite/v2.3.0.json\"};\n",
       "var opt = {};\n",
       "var selector = \"#50b434e7-8764-40ae-ae29-a594442b8c24\";\n",
>>>>>>> 24f335a9f860e0149d07deba726f53692b8eb2e8
       "var type = \"vega-lite\";\n",
       "\n",
       "var output_area = this;\n",
       "\n",
       "require(['nbextensions/jupyter-vega3/index'], function(vega) {\n",
       "  vega.render(selector, spec, type, opt, output_area);\n",
       "}, function (err) {\n",
       "  if (err.requireType !== 'scripterror') {\n",
       "    throw(err);\n",
       "  }\n",
       "});\n"
      ]
     },
     "metadata": {
<<<<<<< HEAD
      "jupyter-vega3": "#d7611b1d-e093-495e-819a-f1552d087026"
=======
      "jupyter-vega3": "#50b434e7-8764-40ae-ae29-a594442b8c24"
>>>>>>> 24f335a9f860e0149d07deba726f53692b8eb2e8
     },
     "output_type": "display_data"
    },
    {
     "data": {
      "text/plain": []
     },
<<<<<<< HEAD
     "execution_count": 211,
=======
     "execution_count": 99,
>>>>>>> 24f335a9f860e0149d07deba726f53692b8eb2e8
     "metadata": {},
     "output_type": "execute_result"
    },
    {
     "data": {
<<<<<<< HEAD
      "image/png": "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"
     },
     "metadata": {
      "jupyter-vega3": "#d7611b1d-e093-495e-819a-f1552d087026"
=======
      "image/png": "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"
     },
     "metadata": {
      "jupyter-vega3": "#50b434e7-8764-40ae-ae29-a594442b8c24"
>>>>>>> 24f335a9f860e0149d07deba726f53692b8eb2e8
     },
     "output_type": "display_data"
    }
   ],
   "source": [
    "alt.Chart(search_rates).mark_bar().encode(x = 'driver_race', y = 'search_rate')"
   ]
  },
  {
   "cell_type": "markdown",
   "metadata": {},
   "source": [
    "## But what if...\n",
    "\n",
    "Some critics may argue that officers have good reason when they search somebody's vehicle and that reason may not be race. Fortunately the data contains a column that can help us check that – `contraband_found`. Basically we can check to see how often a consent_search actually turned up something illegal. \n",
    "\n",
    "### Work on your own, part III\n",
    "\n",
    "This exercise has multiple parts:\n",
    "1. First you need to filter the `az_stops` dataframe so you are looking at only consent searches. \n",
    "2. Then you need to create a pivot table called `hit_rates` based on the `driver_race` and the `contraband_found` columns. Convert it back to a dataframe.\n",
    "3. Create a new `hit_rate` column and calculate the hit rate per 100 stops."
   ]
  },
  {
   "cell_type": "code",
<<<<<<< HEAD
   "execution_count": 212,
=======
   "execution_count": 100,
>>>>>>> 24f335a9f860e0149d07deba726f53692b8eb2e8
   "metadata": {},
   "outputs": [],
   "source": [
    "# filter for consent_searches\n",
    "consent_searches = az_stops[az_stops.consent_search == 'consent_search']"
   ]
  },
  {
   "cell_type": "code",
<<<<<<< HEAD
   "execution_count": 213,
=======
   "execution_count": 101,
>>>>>>> 24f335a9f860e0149d07deba726f53692b8eb2e8
   "metadata": {},
   "outputs": [
    {
     "data": {
      "text/html": [
       "<div>\n",
       "<style scoped>\n",
       "    .dataframe tbody tr th:only-of-type {\n",
       "        vertical-align: middle;\n",
       "    }\n",
       "\n",
       "    .dataframe tbody tr th {\n",
       "        vertical-align: top;\n",
       "    }\n",
       "\n",
       "    .dataframe thead th {\n",
       "        text-align: right;\n",
       "    }\n",
       "</style>\n",
       "<table border=\"1\" class=\"dataframe\">\n",
       "  <thead>\n",
       "    <tr style=\"text-align: right;\">\n",
       "      <th></th>\n",
       "      <th>driver_race</th>\n",
       "      <th>miss</th>\n",
       "      <th>hit</th>\n",
       "      <th>total</th>\n",
       "    </tr>\n",
       "  </thead>\n",
       "  <tbody>\n",
       "    <tr>\n",
       "      <th>0</th>\n",
       "      <td>Asian</td>\n",
       "      <td>42</td>\n",
       "      <td>9</td>\n",
       "      <td>51</td>\n",
       "    </tr>\n",
       "    <tr>\n",
       "      <th>1</th>\n",
       "      <td>Black</td>\n",
       "      <td>131</td>\n",
       "      <td>52</td>\n",
       "      <td>183</td>\n",
       "    </tr>\n",
       "    <tr>\n",
       "      <th>2</th>\n",
       "      <td>Hispanic</td>\n",
       "      <td>1466</td>\n",
       "      <td>211</td>\n",
       "      <td>1677</td>\n",
       "    </tr>\n",
       "    <tr>\n",
       "      <th>3</th>\n",
       "      <td>Other</td>\n",
       "      <td>66</td>\n",
       "      <td>27</td>\n",
       "      <td>93</td>\n",
       "    </tr>\n",
       "    <tr>\n",
       "      <th>4</th>\n",
       "      <td>White</td>\n",
       "      <td>503</td>\n",
       "      <td>143</td>\n",
       "      <td>646</td>\n",
       "    </tr>\n",
       "    <tr>\n",
       "      <th>5</th>\n",
       "      <td>total</td>\n",
       "      <td>2208</td>\n",
       "      <td>442</td>\n",
       "      <td>2650</td>\n",
       "    </tr>\n",
       "  </tbody>\n",
       "</table>\n",
       "</div>"
      ],
      "text/plain": [
       "  driver_race  miss  hit  total\n",
       "0       Asian    42    9     51\n",
       "1       Black   131   52    183\n",
       "2    Hispanic  1466  211   1677\n",
       "3       Other    66   27     93\n",
       "4       White   503  143    646\n",
       "5       total  2208  442   2650"
      ]
     },
<<<<<<< HEAD
     "execution_count": 213,
=======
     "execution_count": 101,
>>>>>>> 24f335a9f860e0149d07deba726f53692b8eb2e8
     "metadata": {},
     "output_type": "execute_result"
    }
   ],
   "source": [
    "# create the pivot table\n",
    "hit_rates = pd.pivot_table(consent_searches, \n",
    "                           columns = 'contraband_found', \n",
    "                           index = 'driver_race', \n",
    "                           values = 'id', \n",
    "                           aggfunc = 'count', \n",
    "                           margins = True, \n",
    "                           margins_name = 'total')\n",
    "\n",
    "hit_rates = pd.DataFrame(hit_rates.to_records())\n",
    "# optional rename columns\n",
    "hit_rates.rename(columns = {'FALSE' : 'miss', 'TRUE' : 'hit'}, inplace = True)\n",
    "hit_rates"
   ]
  },
  {
   "cell_type": "code",
<<<<<<< HEAD
   "execution_count": 214,
=======
   "execution_count": 102,
>>>>>>> 24f335a9f860e0149d07deba726f53692b8eb2e8
   "metadata": {},
   "outputs": [
    {
     "data": {
      "text/html": [
       "<div>\n",
       "<style scoped>\n",
       "    .dataframe tbody tr th:only-of-type {\n",
       "        vertical-align: middle;\n",
       "    }\n",
       "\n",
       "    .dataframe tbody tr th {\n",
       "        vertical-align: top;\n",
       "    }\n",
       "\n",
       "    .dataframe thead th {\n",
       "        text-align: right;\n",
       "    }\n",
       "</style>\n",
       "<table border=\"1\" class=\"dataframe\">\n",
       "  <thead>\n",
       "    <tr style=\"text-align: right;\">\n",
       "      <th></th>\n",
       "      <th>driver_race</th>\n",
       "      <th>miss</th>\n",
       "      <th>hit</th>\n",
       "      <th>total</th>\n",
       "      <th>hit_rate</th>\n",
       "    </tr>\n",
       "  </thead>\n",
       "  <tbody>\n",
       "    <tr>\n",
       "      <th>0</th>\n",
       "      <td>Asian</td>\n",
       "      <td>42</td>\n",
       "      <td>9</td>\n",
       "      <td>51</td>\n",
       "      <td>17.647059</td>\n",
       "    </tr>\n",
       "    <tr>\n",
       "      <th>1</th>\n",
       "      <td>Black</td>\n",
       "      <td>131</td>\n",
       "      <td>52</td>\n",
       "      <td>183</td>\n",
       "      <td>28.415301</td>\n",
       "    </tr>\n",
       "    <tr>\n",
       "      <th>2</th>\n",
       "      <td>Hispanic</td>\n",
       "      <td>1466</td>\n",
       "      <td>211</td>\n",
       "      <td>1677</td>\n",
       "      <td>12.581992</td>\n",
       "    </tr>\n",
       "    <tr>\n",
       "      <th>3</th>\n",
       "      <td>Other</td>\n",
       "      <td>66</td>\n",
       "      <td>27</td>\n",
       "      <td>93</td>\n",
       "      <td>29.032258</td>\n",
       "    </tr>\n",
       "    <tr>\n",
       "      <th>4</th>\n",
       "      <td>White</td>\n",
       "      <td>503</td>\n",
       "      <td>143</td>\n",
       "      <td>646</td>\n",
       "      <td>22.136223</td>\n",
       "    </tr>\n",
       "    <tr>\n",
       "      <th>5</th>\n",
       "      <td>total</td>\n",
       "      <td>2208</td>\n",
       "      <td>442</td>\n",
       "      <td>2650</td>\n",
       "      <td>16.679245</td>\n",
       "    </tr>\n",
       "  </tbody>\n",
       "</table>\n",
       "</div>"
      ],
      "text/plain": [
       "  driver_race  miss  hit  total   hit_rate\n",
       "0       Asian    42    9     51  17.647059\n",
       "1       Black   131   52    183  28.415301\n",
       "2    Hispanic  1466  211   1677  12.581992\n",
       "3       Other    66   27     93  29.032258\n",
       "4       White   503  143    646  22.136223\n",
       "5       total  2208  442   2650  16.679245"
      ]
     },
<<<<<<< HEAD
     "execution_count": 214,
=======
     "execution_count": 102,
>>>>>>> 24f335a9f860e0149d07deba726f53692b8eb2e8
     "metadata": {},
     "output_type": "execute_result"
    }
   ],
   "source": [
    "# calculate the hit rate\n",
    "hit_rates['hit_rate'] = (hit_rates['hit'] / hit_rates['total']) * 100\n",
    "\n",
    "hit_rates"
   ]
  },
  {
   "cell_type": "markdown",
   "metadata": {},
   "source": [
    "### Coming back\n",
    "\n",
    "Whoa. It looks like we found something amazing here. **Not only are Hispanics searched at rates much higher than any other racial/ethnicity but police find contraband on them at rates lower than any other racial/ethnic group.**\n",
    "\n",
    "But rather than scrolling up and down the page here, let's combine our results into a single table. To do this we will use the merge function in Pandas. (If you have worked with SQL, this is very similar to a SQL join.)"
   ]
  },
  {
   "cell_type": "code",
<<<<<<< HEAD
   "execution_count": 215,
=======
   "execution_count": 103,
>>>>>>> 24f335a9f860e0149d07deba726f53692b8eb2e8
   "metadata": {},
   "outputs": [
    {
     "data": {
      "text/html": [
       "<div>\n",
       "<style scoped>\n",
       "    .dataframe tbody tr th:only-of-type {\n",
       "        vertical-align: middle;\n",
       "    }\n",
       "\n",
       "    .dataframe tbody tr th {\n",
       "        vertical-align: top;\n",
       "    }\n",
       "\n",
       "    .dataframe thead th {\n",
       "        text-align: right;\n",
       "    }\n",
       "</style>\n",
       "<table border=\"1\" class=\"dataframe\">\n",
       "  <thead>\n",
       "    <tr style=\"text-align: right;\">\n",
       "      <th></th>\n",
       "      <th>driver_race</th>\n",
       "      <th>consent_search</th>\n",
       "      <th>no_search</th>\n",
       "      <th>unknown_search</th>\n",
       "      <th>total_x</th>\n",
       "      <th>search_rate</th>\n",
       "      <th>miss</th>\n",
       "      <th>hit</th>\n",
       "      <th>total_y</th>\n",
       "      <th>hit_rate</th>\n",
       "    </tr>\n",
       "  </thead>\n",
       "  <tbody>\n",
       "    <tr>\n",
       "      <th>0</th>\n",
       "      <td>Asian</td>\n",
       "      <td>51</td>\n",
       "      <td>12033</td>\n",
       "      <td>266</td>\n",
       "      <td>12350</td>\n",
       "      <td>4.129555</td>\n",
       "      <td>42</td>\n",
       "      <td>9</td>\n",
       "      <td>51</td>\n",
       "      <td>17.647059</td>\n",
       "    </tr>\n",
       "    <tr>\n",
       "      <th>1</th>\n",
       "      <td>Black</td>\n",
       "      <td>183</td>\n",
       "      <td>26770</td>\n",
       "      <td>2019</td>\n",
       "      <td>28972</td>\n",
       "      <td>6.316443</td>\n",
       "      <td>131</td>\n",
       "      <td>52</td>\n",
       "      <td>183</td>\n",
       "      <td>28.415301</td>\n",
       "    </tr>\n",
       "    <tr>\n",
       "      <th>2</th>\n",
       "      <td>Hispanic</td>\n",
       "      <td>1677</td>\n",
       "      <td>125849</td>\n",
       "      <td>7877</td>\n",
       "      <td>135403</td>\n",
       "      <td>12.385250</td>\n",
       "      <td>1466</td>\n",
       "      <td>211</td>\n",
       "      <td>1677</td>\n",
       "      <td>12.581992</td>\n",
       "    </tr>\n",
       "    <tr>\n",
       "      <th>3</th>\n",
       "      <td>Other</td>\n",
       "      <td>93</td>\n",
       "      <td>33834</td>\n",
       "      <td>2071</td>\n",
       "      <td>35998</td>\n",
       "      <td>2.583477</td>\n",
       "      <td>66</td>\n",
       "      <td>27</td>\n",
       "      <td>93</td>\n",
       "      <td>29.032258</td>\n",
       "    </tr>\n",
       "    <tr>\n",
       "      <th>4</th>\n",
       "      <td>White</td>\n",
       "      <td>646</td>\n",
       "      <td>286102</td>\n",
       "      <td>8947</td>\n",
       "      <td>295695</td>\n",
       "      <td>2.184684</td>\n",
       "      <td>503</td>\n",
       "      <td>143</td>\n",
       "      <td>646</td>\n",
       "      <td>22.136223</td>\n",
       "    </tr>\n",
       "    <tr>\n",
       "      <th>5</th>\n",
       "      <td>total</td>\n",
       "      <td>2650</td>\n",
       "      <td>484588</td>\n",
       "      <td>21180</td>\n",
       "      <td>508418</td>\n",
       "      <td>5.212247</td>\n",
       "      <td>2208</td>\n",
       "      <td>442</td>\n",
       "      <td>2650</td>\n",
       "      <td>16.679245</td>\n",
       "    </tr>\n",
       "  </tbody>\n",
       "</table>\n",
       "</div>"
      ],
      "text/plain": [
       "  driver_race  consent_search  no_search  unknown_search  total_x  \\\n",
       "0       Asian              51      12033             266    12350   \n",
       "1       Black             183      26770            2019    28972   \n",
       "2    Hispanic            1677     125849            7877   135403   \n",
       "3       Other              93      33834            2071    35998   \n",
       "4       White             646     286102            8947   295695   \n",
       "5       total            2650     484588           21180   508418   \n",
       "\n",
       "   search_rate  miss  hit  total_y   hit_rate  \n",
       "0     4.129555    42    9       51  17.647059  \n",
       "1     6.316443   131   52      183  28.415301  \n",
       "2    12.385250  1466  211     1677  12.581992  \n",
       "3     2.583477    66   27       93  29.032258  \n",
       "4     2.184684   503  143      646  22.136223  \n",
       "5     5.212247  2208  442     2650  16.679245  "
      ]
     },
<<<<<<< HEAD
     "execution_count": 215,
=======
     "execution_count": 103,
>>>>>>> 24f335a9f860e0149d07deba726f53692b8eb2e8
     "metadata": {},
     "output_type": "execute_result"
    }
   ],
   "source": [
    "combined = search_rates.merge(hit_rates, on = 'driver_race', how = 'inner')\n",
    "combined"
   ]
  },
  {
   "cell_type": "markdown",
   "metadata": {},
   "source": [
    "And let's clean up the columns a bit. We want to rename the `total_x` to `traffic_stops` and drop the `total_y` column since it duplicates `consent_search`. We can drop the other search columns as well as the `miss` column. We also should rename the `search_rate` and `hit_rate` columns to make more sense. While we are at it, let's re-order the columns."
   ]
  },
  {
   "cell_type": "code",
<<<<<<< HEAD
   "execution_count": 216,
   "metadata": {},
   "outputs": [
    {
     "data": {
      "text/html": [
       "<div>\n",
       "<style scoped>\n",
       "    .dataframe tbody tr th:only-of-type {\n",
       "        vertical-align: middle;\n",
       "    }\n",
       "\n",
       "    .dataframe tbody tr th {\n",
       "        vertical-align: top;\n",
       "    }\n",
       "\n",
       "    .dataframe thead th {\n",
       "        text-align: right;\n",
       "    }\n",
       "</style>\n",
       "<table border=\"1\" class=\"dataframe\">\n",
       "  <thead>\n",
       "    <tr style=\"text-align: right;\">\n",
       "      <th></th>\n",
       "      <th>driver_race</th>\n",
       "      <th>traffic_stops</th>\n",
       "      <th>consent_search</th>\n",
       "      <th>hit</th>\n",
       "      <th>searches_per_1k_stops</th>\n",
       "      <th>hits_per_100_searches</th>\n",
       "    </tr>\n",
       "  </thead>\n",
       "  <tbody>\n",
       "    <tr>\n",
       "      <th>0</th>\n",
       "      <td>Asian</td>\n",
       "      <td>12350</td>\n",
       "      <td>51</td>\n",
       "      <td>9</td>\n",
       "      <td>4.129555</td>\n",
       "      <td>17.647059</td>\n",
       "    </tr>\n",
       "    <tr>\n",
       "      <th>1</th>\n",
       "      <td>Black</td>\n",
       "      <td>28972</td>\n",
       "      <td>183</td>\n",
       "      <td>52</td>\n",
       "      <td>6.316443</td>\n",
       "      <td>28.415301</td>\n",
       "    </tr>\n",
       "    <tr>\n",
       "      <th>2</th>\n",
       "      <td>Hispanic</td>\n",
       "      <td>135403</td>\n",
       "      <td>1677</td>\n",
       "      <td>211</td>\n",
       "      <td>12.385250</td>\n",
       "      <td>12.581992</td>\n",
       "    </tr>\n",
       "    <tr>\n",
       "      <th>3</th>\n",
       "      <td>Other</td>\n",
       "      <td>35998</td>\n",
       "      <td>93</td>\n",
       "      <td>27</td>\n",
       "      <td>2.583477</td>\n",
       "      <td>29.032258</td>\n",
       "    </tr>\n",
       "    <tr>\n",
       "      <th>4</th>\n",
       "      <td>White</td>\n",
       "      <td>295695</td>\n",
       "      <td>646</td>\n",
       "      <td>143</td>\n",
       "      <td>2.184684</td>\n",
       "      <td>22.136223</td>\n",
       "    </tr>\n",
       "    <tr>\n",
       "      <th>5</th>\n",
       "      <td>total</td>\n",
       "      <td>508418</td>\n",
       "      <td>2650</td>\n",
       "      <td>442</td>\n",
       "      <td>5.212247</td>\n",
       "      <td>16.679245</td>\n",
       "    </tr>\n",
       "  </tbody>\n",
       "</table>\n",
       "</div>"
      ],
      "text/plain": [
       "  driver_race  traffic_stops  consent_search  hit  searches_per_1k_stops  \\\n",
       "0       Asian          12350              51    9               4.129555   \n",
       "1       Black          28972             183   52               6.316443   \n",
       "2    Hispanic         135403            1677  211              12.385250   \n",
       "3       Other          35998              93   27               2.583477   \n",
       "4       White         295695             646  143               2.184684   \n",
       "5       total         508418            2650  442               5.212247   \n",
       "\n",
       "   hits_per_100_searches  \n",
       "0              17.647059  \n",
       "1              28.415301  \n",
       "2              12.581992  \n",
       "3              29.032258  \n",
       "4              22.136223  \n",
       "5              16.679245  "
      ]
     },
     "execution_count": 216,
     "metadata": {},
     "output_type": "execute_result"
=======
   "execution_count": 104,
   "metadata": {},
   "outputs": [
    {
     "ename": "KeyError",
     "evalue": "\"['search_rate' 'hit_rate'] not in index\"",
     "output_type": "error",
     "traceback": [
      "\u001b[0;31m---------------------------------------------------------------------------\u001b[0m",
      "\u001b[0;31mKeyError\u001b[0m                                  Traceback (most recent call last)",
      "\u001b[0;32m<ipython-input-104-407f05ade97f>\u001b[0m in \u001b[0;36m<module>\u001b[0;34m()\u001b[0m\n\u001b[1;32m      1\u001b[0m \u001b[0mcombined\u001b[0m\u001b[0;34m.\u001b[0m\u001b[0mrename\u001b[0m\u001b[0;34m(\u001b[0m\u001b[0mcolumns\u001b[0m \u001b[0;34m=\u001b[0m \u001b[0;34m{\u001b[0m\u001b[0;34m'total_x'\u001b[0m \u001b[0;34m:\u001b[0m \u001b[0;34m'traffic_stops'\u001b[0m\u001b[0;34m,\u001b[0m \u001b[0;34m'search_rate'\u001b[0m \u001b[0;34m:\u001b[0m \u001b[0;34m'searches_per_1k_stops'\u001b[0m\u001b[0;34m,\u001b[0m \u001b[0;34m'hit_rate'\u001b[0m \u001b[0;34m:\u001b[0m \u001b[0;34m'hits_per_100_searches'\u001b[0m\u001b[0;34m}\u001b[0m\u001b[0;34m,\u001b[0m \u001b[0minplace\u001b[0m \u001b[0;34m=\u001b[0m \u001b[0;32mTrue\u001b[0m\u001b[0;34m)\u001b[0m\u001b[0;34m\u001b[0m\u001b[0m\n\u001b[1;32m      2\u001b[0m \u001b[0;34m\u001b[0m\u001b[0m\n\u001b[0;32m----> 3\u001b[0;31m \u001b[0mcombined\u001b[0m \u001b[0;34m=\u001b[0m \u001b[0mcombined\u001b[0m\u001b[0;34m[\u001b[0m\u001b[0;34m[\u001b[0m\u001b[0;34m'driver_race'\u001b[0m\u001b[0;34m,\u001b[0m \u001b[0;34m'traffic_stops'\u001b[0m\u001b[0;34m,\u001b[0m \u001b[0;34m'consent_search'\u001b[0m\u001b[0;34m,\u001b[0m \u001b[0;34m'hit'\u001b[0m\u001b[0;34m,\u001b[0m \u001b[0;34m'search_rate'\u001b[0m\u001b[0;34m,\u001b[0m \u001b[0;34m'hit_rate'\u001b[0m\u001b[0;34m]\u001b[0m\u001b[0;34m]\u001b[0m\u001b[0;34m.\u001b[0m\u001b[0mcopy\u001b[0m\u001b[0;34m(\u001b[0m\u001b[0;34m)\u001b[0m\u001b[0;34m\u001b[0m\u001b[0m\n\u001b[0m\u001b[1;32m      4\u001b[0m \u001b[0mcombined\u001b[0m\u001b[0;34m\u001b[0m\u001b[0m\n",
      "\u001b[0;32m~/.pyenv/versions/3.6.3/envs/az_stops/lib/python3.6/site-packages/pandas/core/frame.py\u001b[0m in \u001b[0;36m__getitem__\u001b[0;34m(self, key)\u001b[0m\n\u001b[1;32m   2131\u001b[0m         \u001b[0;32mif\u001b[0m \u001b[0misinstance\u001b[0m\u001b[0;34m(\u001b[0m\u001b[0mkey\u001b[0m\u001b[0;34m,\u001b[0m \u001b[0;34m(\u001b[0m\u001b[0mSeries\u001b[0m\u001b[0;34m,\u001b[0m \u001b[0mnp\u001b[0m\u001b[0;34m.\u001b[0m\u001b[0mndarray\u001b[0m\u001b[0;34m,\u001b[0m \u001b[0mIndex\u001b[0m\u001b[0;34m,\u001b[0m \u001b[0mlist\u001b[0m\u001b[0;34m)\u001b[0m\u001b[0;34m)\u001b[0m\u001b[0;34m:\u001b[0m\u001b[0;34m\u001b[0m\u001b[0m\n\u001b[1;32m   2132\u001b[0m             \u001b[0;31m# either boolean or fancy integer index\u001b[0m\u001b[0;34m\u001b[0m\u001b[0;34m\u001b[0m\u001b[0m\n\u001b[0;32m-> 2133\u001b[0;31m             \u001b[0;32mreturn\u001b[0m \u001b[0mself\u001b[0m\u001b[0;34m.\u001b[0m\u001b[0m_getitem_array\u001b[0m\u001b[0;34m(\u001b[0m\u001b[0mkey\u001b[0m\u001b[0;34m)\u001b[0m\u001b[0;34m\u001b[0m\u001b[0m\n\u001b[0m\u001b[1;32m   2134\u001b[0m         \u001b[0;32melif\u001b[0m \u001b[0misinstance\u001b[0m\u001b[0;34m(\u001b[0m\u001b[0mkey\u001b[0m\u001b[0;34m,\u001b[0m \u001b[0mDataFrame\u001b[0m\u001b[0;34m)\u001b[0m\u001b[0;34m:\u001b[0m\u001b[0;34m\u001b[0m\u001b[0m\n\u001b[1;32m   2135\u001b[0m             \u001b[0;32mreturn\u001b[0m \u001b[0mself\u001b[0m\u001b[0;34m.\u001b[0m\u001b[0m_getitem_frame\u001b[0m\u001b[0;34m(\u001b[0m\u001b[0mkey\u001b[0m\u001b[0;34m)\u001b[0m\u001b[0;34m\u001b[0m\u001b[0m\n",
      "\u001b[0;32m~/.pyenv/versions/3.6.3/envs/az_stops/lib/python3.6/site-packages/pandas/core/frame.py\u001b[0m in \u001b[0;36m_getitem_array\u001b[0;34m(self, key)\u001b[0m\n\u001b[1;32m   2175\u001b[0m             \u001b[0;32mreturn\u001b[0m \u001b[0mself\u001b[0m\u001b[0;34m.\u001b[0m\u001b[0m_take\u001b[0m\u001b[0;34m(\u001b[0m\u001b[0mindexer\u001b[0m\u001b[0;34m,\u001b[0m \u001b[0maxis\u001b[0m\u001b[0;34m=\u001b[0m\u001b[0;36m0\u001b[0m\u001b[0;34m,\u001b[0m \u001b[0mconvert\u001b[0m\u001b[0;34m=\u001b[0m\u001b[0;32mFalse\u001b[0m\u001b[0;34m)\u001b[0m\u001b[0;34m\u001b[0m\u001b[0m\n\u001b[1;32m   2176\u001b[0m         \u001b[0;32melse\u001b[0m\u001b[0;34m:\u001b[0m\u001b[0;34m\u001b[0m\u001b[0m\n\u001b[0;32m-> 2177\u001b[0;31m             \u001b[0mindexer\u001b[0m \u001b[0;34m=\u001b[0m \u001b[0mself\u001b[0m\u001b[0;34m.\u001b[0m\u001b[0mloc\u001b[0m\u001b[0;34m.\u001b[0m\u001b[0m_convert_to_indexer\u001b[0m\u001b[0;34m(\u001b[0m\u001b[0mkey\u001b[0m\u001b[0;34m,\u001b[0m \u001b[0maxis\u001b[0m\u001b[0;34m=\u001b[0m\u001b[0;36m1\u001b[0m\u001b[0;34m)\u001b[0m\u001b[0;34m\u001b[0m\u001b[0m\n\u001b[0m\u001b[1;32m   2178\u001b[0m             \u001b[0;32mreturn\u001b[0m \u001b[0mself\u001b[0m\u001b[0;34m.\u001b[0m\u001b[0m_take\u001b[0m\u001b[0;34m(\u001b[0m\u001b[0mindexer\u001b[0m\u001b[0;34m,\u001b[0m \u001b[0maxis\u001b[0m\u001b[0;34m=\u001b[0m\u001b[0;36m1\u001b[0m\u001b[0;34m,\u001b[0m \u001b[0mconvert\u001b[0m\u001b[0;34m=\u001b[0m\u001b[0;32mTrue\u001b[0m\u001b[0;34m)\u001b[0m\u001b[0;34m\u001b[0m\u001b[0m\n\u001b[1;32m   2179\u001b[0m \u001b[0;34m\u001b[0m\u001b[0m\n",
      "\u001b[0;32m~/.pyenv/versions/3.6.3/envs/az_stops/lib/python3.6/site-packages/pandas/core/indexing.py\u001b[0m in \u001b[0;36m_convert_to_indexer\u001b[0;34m(self, obj, axis, is_setter)\u001b[0m\n\u001b[1;32m   1267\u001b[0m                 \u001b[0;32mif\u001b[0m \u001b[0mmask\u001b[0m\u001b[0;34m.\u001b[0m\u001b[0many\u001b[0m\u001b[0;34m(\u001b[0m\u001b[0;34m)\u001b[0m\u001b[0;34m:\u001b[0m\u001b[0;34m\u001b[0m\u001b[0m\n\u001b[1;32m   1268\u001b[0m                     raise KeyError('{mask} not in index'\n\u001b[0;32m-> 1269\u001b[0;31m                                    .format(mask=objarr[mask]))\n\u001b[0m\u001b[1;32m   1270\u001b[0m \u001b[0;34m\u001b[0m\u001b[0m\n\u001b[1;32m   1271\u001b[0m                 \u001b[0;32mreturn\u001b[0m \u001b[0m_values_from_object\u001b[0m\u001b[0;34m(\u001b[0m\u001b[0mindexer\u001b[0m\u001b[0;34m)\u001b[0m\u001b[0;34m\u001b[0m\u001b[0m\n",
      "\u001b[0;31mKeyError\u001b[0m: \"['search_rate' 'hit_rate'] not in index\""
     ]
>>>>>>> 24f335a9f860e0149d07deba726f53692b8eb2e8
    }
   ],
   "source": [
    "combined.rename(columns = {'total_x' : 'traffic_stops', 'search_rate' : 'searches_per_1k_stops', 'hit_rate' : 'hits_per_100_searches'}, inplace = True)\n",
    "\n",
    "combined = combined[['driver_race', 'traffic_stops', 'consent_search', 'hit', 'searches_per_1k_stops', 'hits_per_100_searches']].copy()\n",
    "combined"
   ]
  },
  {
   "cell_type": "markdown",
   "metadata": {},
   "source": [
    "## Let's visualize it\n",
    "\n",
    "Again it may help to visualize the data. Let's create a scatter plot comparing hit rates and search rates by race."
   ]
  },
  {
   "cell_type": "code",
<<<<<<< HEAD
   "execution_count": 217,
   "metadata": {},
   "outputs": [
    {
     "data": {
      "text/html": [
       "<div class=\"vega-embed\" id=\"e21885f3-bdf2-49cc-9c2b-8e93c51cf371\"></div>\n",
       "\n",
       "<style>\n",
       ".vega-embed svg, .vega-embed canvas {\n",
       "    border: 1px dotted gray;\n",
       "}\n",
       "\n",
       ".vega-embed .vega-actions a {\n",
       "    margin-right: 6px;\n",
       "}\n",
       "\n",
       ".vega-embed .error p {\n",
       "    color: firebrick;\n",
       "    font-size: 1.2em;\n",
       "}\n",
       "</style>\n"
      ]
     },
     "metadata": {
      "jupyter-vega3": "#e21885f3-bdf2-49cc-9c2b-8e93c51cf371"
     },
     "output_type": "display_data"
    },
    {
     "data": {
      "application/javascript": [
       "var spec = {\"config\": {\"view\": {\"width\": 400, \"height\": 300}}, \"data\": {\"values\": [{\"driver_race\": \"Asian\", \"traffic_stops\": 12350, \"consent_search\": 51, \"hit\": 9, \"searches_per_1k_stops\": 4.129554655870446, \"hits_per_100_searches\": 17.647058823529413}, {\"driver_race\": \"Black\", \"traffic_stops\": 28972, \"consent_search\": 183, \"hit\": 52, \"searches_per_1k_stops\": 6.316443462653597, \"hits_per_100_searches\": 28.415300546448087}, {\"driver_race\": \"Hispanic\", \"traffic_stops\": 135403, \"consent_search\": 1677, \"hit\": 211, \"searches_per_1k_stops\": 12.385249957534176, \"hits_per_100_searches\": 12.581991651759095}, {\"driver_race\": \"Other\", \"traffic_stops\": 35998, \"consent_search\": 93, \"hit\": 27, \"searches_per_1k_stops\": 2.5834768598255455, \"hits_per_100_searches\": 29.03225806451613}, {\"driver_race\": \"White\", \"traffic_stops\": 295695, \"consent_search\": 646, \"hit\": 143, \"searches_per_1k_stops\": 2.184683542163378, \"hits_per_100_searches\": 22.13622291021672}, {\"driver_race\": \"total\", \"traffic_stops\": 508418, \"consent_search\": 2650, \"hit\": 442, \"searches_per_1k_stops\": 5.21224661597347, \"hits_per_100_searches\": 16.67924528301887}]}, \"mark\": {\"type\": \"circle\", \"size\": 200}, \"encoding\": {\"color\": {\"type\": \"nominal\", \"field\": \"driver_race\"}, \"x\": {\"type\": \"quantitative\", \"field\": \"searches_per_1k_stops\"}, \"y\": {\"type\": \"quantitative\", \"field\": \"hits_per_100_searches\"}}, \"$schema\": \"https://vega.github.io/schema/vega-lite/v2.3.0.json\"};\n",
       "var selector = \"#e21885f3-bdf2-49cc-9c2b-8e93c51cf371\";\n",
       "var type = \"vega-lite\";\n",
       "\n",
       "var output_area = this;\n",
       "require(['nbextensions/jupyter-vega3/index'], function(vega) {\n",
       "  vega.render(selector, spec, type, output_area);\n",
       "}, function (err) {\n",
       "  if (err.requireType !== 'scripterror') {\n",
       "    throw(err);\n",
       "  }\n",
       "});\n"
      ]
     },
     "metadata": {
      "jupyter-vega3": "#e21885f3-bdf2-49cc-9c2b-8e93c51cf371"
     },
     "output_type": "display_data"
    },
    {
     "data": {
      "text/plain": []
     },
     "execution_count": 217,
     "metadata": {},
     "output_type": "execute_result"
    },
    {
     "data": {
      "image/png": "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"
     },
     "metadata": {
      "jupyter-vega3": "#e21885f3-bdf2-49cc-9c2b-8e93c51cf371"
     },
     "output_type": "display_data"
=======
   "execution_count": 105,
   "metadata": {},
   "outputs": [
    {
     "ename": "ValueError",
     "evalue": "search_rate encoding field is specified without a type; the type cannot be inferred because it does not match any column in the data.",
     "output_type": "error",
     "traceback": [
      "\u001b[0;31m---------------------------------------------------------------------------\u001b[0m",
      "\u001b[0;31mValueError\u001b[0m                                Traceback (most recent call last)",
      "\u001b[0;32m~/.pyenv/versions/3.6.3/envs/az_stops/lib/python3.6/site-packages/altair/vegalite/v2/api.py\u001b[0m in \u001b[0;36mto_dict\u001b[0;34m(self, *args, **kwargs)\u001b[0m\n\u001b[1;32m    327\u001b[0m \u001b[0;34m\u001b[0m\u001b[0m\n\u001b[1;32m    328\u001b[0m         \u001b[0;32mtry\u001b[0m\u001b[0;34m:\u001b[0m\u001b[0;34m\u001b[0m\u001b[0m\n\u001b[0;32m--> 329\u001b[0;31m             \u001b[0mdct\u001b[0m \u001b[0;34m=\u001b[0m \u001b[0msuper\u001b[0m\u001b[0;34m(\u001b[0m\u001b[0mTopLevelMixin\u001b[0m\u001b[0;34m,\u001b[0m \u001b[0mcopy\u001b[0m\u001b[0;34m)\u001b[0m\u001b[0;34m.\u001b[0m\u001b[0mto_dict\u001b[0m\u001b[0;34m(\u001b[0m\u001b[0;34m*\u001b[0m\u001b[0margs\u001b[0m\u001b[0;34m,\u001b[0m \u001b[0;34m**\u001b[0m\u001b[0mkwargs\u001b[0m\u001b[0;34m)\u001b[0m\u001b[0;34m\u001b[0m\u001b[0m\n\u001b[0m\u001b[1;32m    330\u001b[0m         \u001b[0;32mexcept\u001b[0m \u001b[0mjsonschema\u001b[0m\u001b[0;34m.\u001b[0m\u001b[0mValidationError\u001b[0m\u001b[0;34m:\u001b[0m\u001b[0;34m\u001b[0m\u001b[0m\n\u001b[1;32m    331\u001b[0m             \u001b[0mdct\u001b[0m \u001b[0;34m=\u001b[0m \u001b[0;32mNone\u001b[0m\u001b[0;34m\u001b[0m\u001b[0m\n",
      "\u001b[0;32m~/.pyenv/versions/3.6.3/envs/az_stops/lib/python3.6/site-packages/altair/utils/schemapi.py\u001b[0m in \u001b[0;36mto_dict\u001b[0;34m(self, validate, ignore, context)\u001b[0m\n\u001b[1;32m    243\u001b[0m             \u001b[0mresult\u001b[0m \u001b[0;34m=\u001b[0m \u001b[0m_todict\u001b[0m\u001b[0;34m(\u001b[0m\u001b[0mself\u001b[0m\u001b[0;34m.\u001b[0m\u001b[0m_args\u001b[0m\u001b[0;34m[\u001b[0m\u001b[0;36m0\u001b[0m\u001b[0;34m]\u001b[0m\u001b[0;34m)\u001b[0m\u001b[0;34m\u001b[0m\u001b[0m\n\u001b[1;32m    244\u001b[0m         \u001b[0;32melif\u001b[0m \u001b[0;32mnot\u001b[0m \u001b[0mself\u001b[0m\u001b[0;34m.\u001b[0m\u001b[0m_args\u001b[0m\u001b[0;34m:\u001b[0m\u001b[0;34m\u001b[0m\u001b[0m\n\u001b[0;32m--> 245\u001b[0;31m             result = _todict({k: v for k, v in self._kwds.items()\n\u001b[0m\u001b[1;32m    246\u001b[0m                               if k not in ignore})\n\u001b[1;32m    247\u001b[0m         \u001b[0;32melse\u001b[0m\u001b[0;34m:\u001b[0m\u001b[0;34m\u001b[0m\u001b[0m\n",
      "\u001b[0;32m~/.pyenv/versions/3.6.3/envs/az_stops/lib/python3.6/site-packages/altair/utils/schemapi.py\u001b[0m in \u001b[0;36m_todict\u001b[0;34m(val)\u001b[0m\n\u001b[1;32m    235\u001b[0m                 \u001b[0;32mreturn\u001b[0m \u001b[0;34m[\u001b[0m\u001b[0m_todict\u001b[0m\u001b[0;34m(\u001b[0m\u001b[0mv\u001b[0m\u001b[0;34m)\u001b[0m \u001b[0;32mfor\u001b[0m \u001b[0mv\u001b[0m \u001b[0;32min\u001b[0m \u001b[0mval\u001b[0m\u001b[0;34m]\u001b[0m\u001b[0;34m\u001b[0m\u001b[0m\n\u001b[1;32m    236\u001b[0m             \u001b[0;32melif\u001b[0m \u001b[0misinstance\u001b[0m\u001b[0;34m(\u001b[0m\u001b[0mval\u001b[0m\u001b[0;34m,\u001b[0m \u001b[0mdict\u001b[0m\u001b[0;34m)\u001b[0m\u001b[0;34m:\u001b[0m\u001b[0;34m\u001b[0m\u001b[0m\n\u001b[0;32m--> 237\u001b[0;31m                 return {k: _todict(v) for k, v in val.items()\n\u001b[0m\u001b[1;32m    238\u001b[0m                         if v is not Undefined}\n\u001b[1;32m    239\u001b[0m             \u001b[0;32melse\u001b[0m\u001b[0;34m:\u001b[0m\u001b[0;34m\u001b[0m\u001b[0m\n",
      "\u001b[0;32m~/.pyenv/versions/3.6.3/envs/az_stops/lib/python3.6/site-packages/altair/utils/schemapi.py\u001b[0m in \u001b[0;36m<dictcomp>\u001b[0;34m(.0)\u001b[0m\n\u001b[1;32m    236\u001b[0m             \u001b[0;32melif\u001b[0m \u001b[0misinstance\u001b[0m\u001b[0;34m(\u001b[0m\u001b[0mval\u001b[0m\u001b[0;34m,\u001b[0m \u001b[0mdict\u001b[0m\u001b[0;34m)\u001b[0m\u001b[0;34m:\u001b[0m\u001b[0;34m\u001b[0m\u001b[0m\n\u001b[1;32m    237\u001b[0m                 return {k: _todict(v) for k, v in val.items()\n\u001b[0;32m--> 238\u001b[0;31m                         if v is not Undefined}\n\u001b[0m\u001b[1;32m    239\u001b[0m             \u001b[0;32melse\u001b[0m\u001b[0;34m:\u001b[0m\u001b[0;34m\u001b[0m\u001b[0m\n\u001b[1;32m    240\u001b[0m                 \u001b[0;32mreturn\u001b[0m \u001b[0mval\u001b[0m\u001b[0;34m\u001b[0m\u001b[0m\n",
      "\u001b[0;32m~/.pyenv/versions/3.6.3/envs/az_stops/lib/python3.6/site-packages/altair/utils/schemapi.py\u001b[0m in \u001b[0;36m_todict\u001b[0;34m(val)\u001b[0m\n\u001b[1;32m    231\u001b[0m         \u001b[0;32mdef\u001b[0m \u001b[0m_todict\u001b[0m\u001b[0;34m(\u001b[0m\u001b[0mval\u001b[0m\u001b[0;34m)\u001b[0m\u001b[0;34m:\u001b[0m\u001b[0;34m\u001b[0m\u001b[0m\n\u001b[1;32m    232\u001b[0m             \u001b[0;32mif\u001b[0m \u001b[0misinstance\u001b[0m\u001b[0;34m(\u001b[0m\u001b[0mval\u001b[0m\u001b[0;34m,\u001b[0m \u001b[0mSchemaBase\u001b[0m\u001b[0;34m)\u001b[0m\u001b[0;34m:\u001b[0m\u001b[0;34m\u001b[0m\u001b[0m\n\u001b[0;32m--> 233\u001b[0;31m                 \u001b[0;32mreturn\u001b[0m \u001b[0mval\u001b[0m\u001b[0;34m.\u001b[0m\u001b[0mto_dict\u001b[0m\u001b[0;34m(\u001b[0m\u001b[0mvalidate\u001b[0m\u001b[0;34m=\u001b[0m\u001b[0msub_validate\u001b[0m\u001b[0;34m,\u001b[0m \u001b[0mcontext\u001b[0m\u001b[0;34m=\u001b[0m\u001b[0mcontext\u001b[0m\u001b[0;34m)\u001b[0m\u001b[0;34m\u001b[0m\u001b[0m\n\u001b[0m\u001b[1;32m    234\u001b[0m             \u001b[0;32melif\u001b[0m \u001b[0misinstance\u001b[0m\u001b[0;34m(\u001b[0m\u001b[0mval\u001b[0m\u001b[0;34m,\u001b[0m \u001b[0;34m(\u001b[0m\u001b[0mlist\u001b[0m\u001b[0;34m,\u001b[0m \u001b[0mtuple\u001b[0m\u001b[0;34m)\u001b[0m\u001b[0;34m)\u001b[0m\u001b[0;34m:\u001b[0m\u001b[0;34m\u001b[0m\u001b[0m\n\u001b[1;32m    235\u001b[0m                 \u001b[0;32mreturn\u001b[0m \u001b[0;34m[\u001b[0m\u001b[0m_todict\u001b[0m\u001b[0;34m(\u001b[0m\u001b[0mv\u001b[0m\u001b[0;34m)\u001b[0m \u001b[0;32mfor\u001b[0m \u001b[0mv\u001b[0m \u001b[0;32min\u001b[0m \u001b[0mval\u001b[0m\u001b[0;34m]\u001b[0m\u001b[0;34m\u001b[0m\u001b[0m\n",
      "\u001b[0;32m~/.pyenv/versions/3.6.3/envs/az_stops/lib/python3.6/site-packages/altair/utils/schemapi.py\u001b[0m in \u001b[0;36mto_dict\u001b[0;34m(self, validate, ignore, context)\u001b[0m\n\u001b[1;32m    243\u001b[0m             \u001b[0mresult\u001b[0m \u001b[0;34m=\u001b[0m \u001b[0m_todict\u001b[0m\u001b[0;34m(\u001b[0m\u001b[0mself\u001b[0m\u001b[0;34m.\u001b[0m\u001b[0m_args\u001b[0m\u001b[0;34m[\u001b[0m\u001b[0;36m0\u001b[0m\u001b[0;34m]\u001b[0m\u001b[0;34m)\u001b[0m\u001b[0;34m\u001b[0m\u001b[0m\n\u001b[1;32m    244\u001b[0m         \u001b[0;32melif\u001b[0m \u001b[0;32mnot\u001b[0m \u001b[0mself\u001b[0m\u001b[0;34m.\u001b[0m\u001b[0m_args\u001b[0m\u001b[0;34m:\u001b[0m\u001b[0;34m\u001b[0m\u001b[0m\n\u001b[0;32m--> 245\u001b[0;31m             result = _todict({k: v for k, v in self._kwds.items()\n\u001b[0m\u001b[1;32m    246\u001b[0m                               if k not in ignore})\n\u001b[1;32m    247\u001b[0m         \u001b[0;32melse\u001b[0m\u001b[0;34m:\u001b[0m\u001b[0;34m\u001b[0m\u001b[0m\n",
      "\u001b[0;32m~/.pyenv/versions/3.6.3/envs/az_stops/lib/python3.6/site-packages/altair/utils/schemapi.py\u001b[0m in \u001b[0;36m_todict\u001b[0;34m(val)\u001b[0m\n\u001b[1;32m    235\u001b[0m                 \u001b[0;32mreturn\u001b[0m \u001b[0;34m[\u001b[0m\u001b[0m_todict\u001b[0m\u001b[0;34m(\u001b[0m\u001b[0mv\u001b[0m\u001b[0;34m)\u001b[0m \u001b[0;32mfor\u001b[0m \u001b[0mv\u001b[0m \u001b[0;32min\u001b[0m \u001b[0mval\u001b[0m\u001b[0;34m]\u001b[0m\u001b[0;34m\u001b[0m\u001b[0m\n\u001b[1;32m    236\u001b[0m             \u001b[0;32melif\u001b[0m \u001b[0misinstance\u001b[0m\u001b[0;34m(\u001b[0m\u001b[0mval\u001b[0m\u001b[0;34m,\u001b[0m \u001b[0mdict\u001b[0m\u001b[0;34m)\u001b[0m\u001b[0;34m:\u001b[0m\u001b[0;34m\u001b[0m\u001b[0m\n\u001b[0;32m--> 237\u001b[0;31m                 return {k: _todict(v) for k, v in val.items()\n\u001b[0m\u001b[1;32m    238\u001b[0m                         if v is not Undefined}\n\u001b[1;32m    239\u001b[0m             \u001b[0;32melse\u001b[0m\u001b[0;34m:\u001b[0m\u001b[0;34m\u001b[0m\u001b[0m\n",
      "\u001b[0;32m~/.pyenv/versions/3.6.3/envs/az_stops/lib/python3.6/site-packages/altair/utils/schemapi.py\u001b[0m in \u001b[0;36m<dictcomp>\u001b[0;34m(.0)\u001b[0m\n\u001b[1;32m    236\u001b[0m             \u001b[0;32melif\u001b[0m \u001b[0misinstance\u001b[0m\u001b[0;34m(\u001b[0m\u001b[0mval\u001b[0m\u001b[0;34m,\u001b[0m \u001b[0mdict\u001b[0m\u001b[0;34m)\u001b[0m\u001b[0;34m:\u001b[0m\u001b[0;34m\u001b[0m\u001b[0m\n\u001b[1;32m    237\u001b[0m                 return {k: _todict(v) for k, v in val.items()\n\u001b[0;32m--> 238\u001b[0;31m                         if v is not Undefined}\n\u001b[0m\u001b[1;32m    239\u001b[0m             \u001b[0;32melse\u001b[0m\u001b[0;34m:\u001b[0m\u001b[0;34m\u001b[0m\u001b[0m\n\u001b[1;32m    240\u001b[0m                 \u001b[0;32mreturn\u001b[0m \u001b[0mval\u001b[0m\u001b[0;34m\u001b[0m\u001b[0m\n",
      "\u001b[0;32m~/.pyenv/versions/3.6.3/envs/az_stops/lib/python3.6/site-packages/altair/utils/schemapi.py\u001b[0m in \u001b[0;36m_todict\u001b[0;34m(val)\u001b[0m\n\u001b[1;32m    231\u001b[0m         \u001b[0;32mdef\u001b[0m \u001b[0m_todict\u001b[0m\u001b[0;34m(\u001b[0m\u001b[0mval\u001b[0m\u001b[0;34m)\u001b[0m\u001b[0;34m:\u001b[0m\u001b[0;34m\u001b[0m\u001b[0m\n\u001b[1;32m    232\u001b[0m             \u001b[0;32mif\u001b[0m \u001b[0misinstance\u001b[0m\u001b[0;34m(\u001b[0m\u001b[0mval\u001b[0m\u001b[0;34m,\u001b[0m \u001b[0mSchemaBase\u001b[0m\u001b[0;34m)\u001b[0m\u001b[0;34m:\u001b[0m\u001b[0;34m\u001b[0m\u001b[0m\n\u001b[0;32m--> 233\u001b[0;31m                 \u001b[0;32mreturn\u001b[0m \u001b[0mval\u001b[0m\u001b[0;34m.\u001b[0m\u001b[0mto_dict\u001b[0m\u001b[0;34m(\u001b[0m\u001b[0mvalidate\u001b[0m\u001b[0;34m=\u001b[0m\u001b[0msub_validate\u001b[0m\u001b[0;34m,\u001b[0m \u001b[0mcontext\u001b[0m\u001b[0;34m=\u001b[0m\u001b[0mcontext\u001b[0m\u001b[0;34m)\u001b[0m\u001b[0;34m\u001b[0m\u001b[0m\n\u001b[0m\u001b[1;32m    234\u001b[0m             \u001b[0;32melif\u001b[0m \u001b[0misinstance\u001b[0m\u001b[0;34m(\u001b[0m\u001b[0mval\u001b[0m\u001b[0;34m,\u001b[0m \u001b[0;34m(\u001b[0m\u001b[0mlist\u001b[0m\u001b[0;34m,\u001b[0m \u001b[0mtuple\u001b[0m\u001b[0;34m)\u001b[0m\u001b[0;34m)\u001b[0m\u001b[0;34m:\u001b[0m\u001b[0;34m\u001b[0m\u001b[0m\n\u001b[1;32m    235\u001b[0m                 \u001b[0;32mreturn\u001b[0m \u001b[0;34m[\u001b[0m\u001b[0m_todict\u001b[0m\u001b[0;34m(\u001b[0m\u001b[0mv\u001b[0m\u001b[0;34m)\u001b[0m \u001b[0;32mfor\u001b[0m \u001b[0mv\u001b[0m \u001b[0;32min\u001b[0m \u001b[0mval\u001b[0m\u001b[0;34m]\u001b[0m\u001b[0;34m\u001b[0m\u001b[0m\n",
      "\u001b[0;32m~/.pyenv/versions/3.6.3/envs/az_stops/lib/python3.6/site-packages/altair/vegalite/v2/schema/channels.py\u001b[0m in \u001b[0;36mto_dict\u001b[0;34m(self, validate, ignore, context)\u001b[0m\n\u001b[1;32m   2156\u001b[0m                     raise ValueError(\"{0} encoding field is specified without a type; \"\n\u001b[1;32m   2157\u001b[0m                                      \u001b[0;34m\"the type cannot be inferred because it does not \"\u001b[0m\u001b[0;34m\u001b[0m\u001b[0m\n\u001b[0;32m-> 2158\u001b[0;31m                                      \"match any column in the data.\".format(self.shorthand))\n\u001b[0m\u001b[1;32m   2159\u001b[0m                 \u001b[0;32melse\u001b[0m\u001b[0;34m:\u001b[0m\u001b[0;34m\u001b[0m\u001b[0m\n\u001b[1;32m   2160\u001b[0m                     raise ValueError(\"{0} encoding field is specified without a type; \"\n",
      "\u001b[0;31mValueError\u001b[0m: search_rate encoding field is specified without a type; the type cannot be inferred because it does not match any column in the data."
     ]
    },
    {
     "data": {
      "text/plain": [
       "Chart({\n",
       "  data:   driver_race  consent_search  no_search  unknown_search  traffic_stops  \\\n",
       "  0       Asian              35      11260             179          11474   \n",
       "  1       Black             199      26348            1976          28523   \n",
       "  2    Hispanic            1563     113518            6991         122072   \n",
       "  3       Other              76      31579            1957          33612   \n",
       "  4       White             640     246389            7809         254838   \n",
       "  5       total            2513     429094           18912         450519   \n",
       "  \n",
       "     searches_per_1k_stops  miss  hit  total_y  hits_per_100_searches  \n",
       "  0               3.050375    30    5       35              14.285714  \n",
       "  1               6.976826   148   51      199              25.628141  \n",
       "  2              12.803919  1378  185     1563              11.836212  \n",
       "  3               2.261097    61   15       76              19.736842  \n",
       "  4               2.511399   479  161      640              25.156250  \n",
       "  5               5.578011  2096  417     2513              16.593713  ,\n",
       "  encoding: EncodingWithFacet({\n",
       "    color: Color({\n",
       "      shorthand: 'driver_race'\n",
       "    }),\n",
       "    x: X({\n",
       "      shorthand: 'search_rate'\n",
       "    }),\n",
       "    y: Y({\n",
       "      shorthand: 'hit_rate'\n",
       "    })\n",
       "  }),\n",
       "  mark: MarkDef({\n",
       "    size: 200,\n",
       "    type: 'circle'\n",
       "  })\n",
       "})"
      ]
     },
     "execution_count": 105,
     "metadata": {},
     "output_type": "execute_result"
>>>>>>> 24f335a9f860e0149d07deba726f53692b8eb2e8
    }
   ],
   "source": [
    "alt.Chart(combined).mark_circle(size = 200).encode(x = 'searches_per_1k_stops', y = 'hits_per_100_searches', color = 'driver_race')"
   ]
  },
  {
   "cell_type": "markdown",
   "metadata": {},
   "source": [
    "## Export your results"
   ]
  },
  {
   "cell_type": "code",
<<<<<<< HEAD
   "execution_count": 218,
=======
   "execution_count": null,
>>>>>>> 24f335a9f860e0149d07deba726f53692b8eb2e8
   "metadata": {},
   "outputs": [],
   "source": [
    "combined.to_csv('./results.csv', index = False)"
   ]
  },
  {
   "cell_type": "markdown",
   "metadata": {},
   "source": [
    "## How can we make this better?\n",
    "\n",
    "1. Multiple years of analysis\n",
    "2. Break up by county?"
   ]
  }
 ],
 "metadata": {
  "kernelspec": {
   "display_name": "Python 3",
   "language": "python",
   "name": "python3"
  },
  "language_info": {
   "codemirror_mode": {
    "name": "ipython",
    "version": 3
   },
   "file_extension": ".py",
   "mimetype": "text/x-python",
   "name": "python",
   "nbconvert_exporter": "python",
   "pygments_lexer": "ipython3",
   "version": "3.6.3"
  }
 },
 "nbformat": 4,
 "nbformat_minor": 2
}
