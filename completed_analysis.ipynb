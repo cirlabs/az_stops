{
 "cells": [
  {
   "cell_type": "markdown",
   "metadata": {},
   "source": [
    "# Analyzing AZ traffic stops\n",
    "\n",
    "This tutorial is built in Python, a powerful programming language with a wide variety of applications. In addition to Python we will need to bring in some additional tools to make our jobs easier. These tools are:\n",
    "\n",
    "- [Jupyter Notebook](http://jupyter.org/) - An environment for writing Python and other languages interactively.\n",
    "- [Pandas](https://pandas.pydata.org/) - an open-source toolkit widely used for data analysis. \n",
    "- [Altair](https://altair-viz.github.io) - a charting library used in conjunction with Pandas to display data visually.\n",
    "\n",
    "We're working in Jupyter Notebook right now. Each chunk of code or documentation is written into a cell. To run the code in each cell, press SHIFT + return. Cells should be run in order -- top to bottom. Otherwise, you may see error messages if you try to run code cells that rely on earlier cells that have not yet been run."
   ]
  },
  {
   "cell_type": "markdown",
   "metadata": {},
   "source": [
    "The first step in writing Python is to import tools like Pandas and Altair before we can start working with them. We also want to assign them shorter names so we don't have to type so much and because some abbreviations are commonly used -- might as well follow the convention to make your life easier."
   ]
  },
  {
   "cell_type": "code",
   "execution_count": 72,
   "metadata": {},
   "outputs": [],
   "source": [
    "import pandas as pd\n",
    "import altair as alt"
   ]
  },
  {
   "cell_type": "markdown",
   "metadata": {},
   "source": [
    "While we are at it, we are going to set an option so Pandas will display all the columns when we ask it to. We also have to enable Altair so we can see Altair's fancy charts later on."
   ]
  },
  {
   "cell_type": "code",
   "execution_count": 73,
   "metadata": {},
   "outputs": [],
   "source": [
    "pd.set_option('display.max_columns', 29)\n",
    "alt.renderers.enable('notebook')"
   ]
  },
  {
   "cell_type": "markdown",
   "metadata": {},
   "source": [
    "## Loading the data\n",
    "\n",
    "Now that our tools are in place we can load the data. To do so we will use a **function** built into Pandas. It's easiest to think of functions as tools that conduct a task. These tools can take different **arguments**, which are variables that help functions complete their tasks. In this case we will use Pandas' `read_csv` function. In its simplest form, the function takes one argument - the path to the file we want to open.\n",
    "\n",
    "We're basically going to tell Pandas where our data is located - in this case it is at `./data/az_2015.csv`.\n",
    "\n",
    "We're also going to pass on additional argument to the `read_csv` function: a `dtype`. Since our spreadsheet data mostly consists of categories (e.g. the race of a driver) rather than numbers (e.g. the driver was going 53 mph) we are going to tell Pandas to import everything in the spreadsheet as if it was just text using the `dtype=object` argument. This has the added benefit of suppressing a warning issued by Pandas because it cannot determine the data types for each column.\n",
    "\n",
    "Now, let's use Pandas to load our csv data into a new variable called `az_stops`."
   ]
  },
  {
   "cell_type": "code",
   "execution_count": 74,
   "metadata": {},
   "outputs": [],
   "source": [
    "az_stops = pd.read_csv('./data/az_2015.csv', dtype=object)"
   ]
  },
  {
   "cell_type": "markdown",
   "metadata": {},
   "source": [
    "## Getting to know our data\n",
    "\n",
    "One of the first steps in data analysis is getting a general feel for the data. What does it look like? How many columns are there? Is any data missing? Let's start answering some of these questions.\n",
    "\n",
    "We'll use a function called `head` to look at the top of the dataset. It's very similar to the command-line `head` tool we used earlier."
   ]
  },
  {
   "cell_type": "code",
   "execution_count": 75,
   "metadata": {},
   "outputs": [
    {
     "data": {
      "text/html": [
       "<div>\n",
       "<style scoped>\n",
       "    .dataframe tbody tr th:only-of-type {\n",
       "        vertical-align: middle;\n",
       "    }\n",
       "\n",
       "    .dataframe tbody tr th {\n",
       "        vertical-align: top;\n",
       "    }\n",
       "\n",
       "    .dataframe thead th {\n",
       "        text-align: right;\n",
       "    }\n",
       "</style>\n",
       "<table border=\"1\" class=\"dataframe\">\n",
       "  <thead>\n",
       "    <tr style=\"text-align: right;\">\n",
       "      <th></th>\n",
       "      <th>id</th>\n",
       "      <th>state</th>\n",
       "      <th>stop_date</th>\n",
       "      <th>stop_time</th>\n",
       "      <th>location_raw</th>\n",
       "      <th>county_name</th>\n",
       "      <th>county_fips</th>\n",
       "      <th>fine_grained_location</th>\n",
       "      <th>police_department</th>\n",
       "      <th>driver_gender</th>\n",
       "      <th>driver_age_raw</th>\n",
       "      <th>driver_age</th>\n",
       "      <th>driver_race_raw</th>\n",
       "      <th>driver_race</th>\n",
       "      <th>violation_raw</th>\n",
       "      <th>violation</th>\n",
       "      <th>search_conducted</th>\n",
       "      <th>search_type_raw</th>\n",
       "      <th>search_type</th>\n",
       "      <th>contraband_found</th>\n",
       "      <th>stop_outcome</th>\n",
       "      <th>is_arrested</th>\n",
       "      <th>officer_id</th>\n",
       "      <th>stop_duration</th>\n",
       "      <th>road_number</th>\n",
       "      <th>milepost</th>\n",
       "      <th>consent_search</th>\n",
       "      <th>vehicle_type</th>\n",
       "      <th>ethnicity</th>\n",
       "    </tr>\n",
       "  </thead>\n",
       "  <tbody>\n",
       "    <tr>\n",
       "      <th>0</th>\n",
       "      <td>AZ-2015-000001</td>\n",
       "      <td>AZ</td>\n",
       "      <td>2015-01-01</td>\n",
       "      <td>00:01</td>\n",
       "      <td>NaN</td>\n",
       "      <td>Maricopa County</td>\n",
       "      <td>04013</td>\n",
       "      <td>SR101 6.7 NA</td>\n",
       "      <td>NaN</td>\n",
       "      <td>M</td>\n",
       "      <td>NaN</td>\n",
       "      <td>NaN</td>\n",
       "      <td>White</td>\n",
       "      <td>White</td>\n",
       "      <td>Other movin</td>\n",
       "      <td>Moving violation</td>\n",
       "      <td>FALSE</td>\n",
       "      <td>NaN</td>\n",
       "      <td>NaN</td>\n",
       "      <td>FALSE</td>\n",
       "      <td>Citation</td>\n",
       "      <td>FALSE</td>\n",
       "      <td>6143</td>\n",
       "      <td>11-20</td>\n",
       "      <td>SR101</td>\n",
       "      <td>6.7</td>\n",
       "      <td>FALSE</td>\n",
       "      <td>4DHT 2013</td>\n",
       "      <td>W</td>\n",
       "    </tr>\n",
       "    <tr>\n",
       "      <th>1</th>\n",
       "      <td>AZ-2015-000002</td>\n",
       "      <td>AZ</td>\n",
       "      <td>2015-01-01</td>\n",
       "      <td>00:01</td>\n",
       "      <td>NaN</td>\n",
       "      <td>NaN</td>\n",
       "      <td>NaN</td>\n",
       "      <td>NA NA MAIN ST/3RD AVE SAFFORD</td>\n",
       "      <td>NaN</td>\n",
       "      <td>M</td>\n",
       "      <td>NaN</td>\n",
       "      <td>NaN</td>\n",
       "      <td>White</td>\n",
       "      <td>White</td>\n",
       "      <td>NaN</td>\n",
       "      <td>NaN</td>\n",
       "      <td>FALSE</td>\n",
       "      <td>NaN</td>\n",
       "      <td>NaN</td>\n",
       "      <td>FALSE</td>\n",
       "      <td>Warning</td>\n",
       "      <td>FALSE</td>\n",
       "      <td>6181</td>\n",
       "      <td>0-10</td>\n",
       "      <td>NaN</td>\n",
       "      <td>NaN</td>\n",
       "      <td>FALSE</td>\n",
       "      <td>12PU 1997</td>\n",
       "      <td>W</td>\n",
       "    </tr>\n",
       "    <tr>\n",
       "      <th>2</th>\n",
       "      <td>AZ-2015-000003</td>\n",
       "      <td>AZ</td>\n",
       "      <td>2015-01-01</td>\n",
       "      <td>00:05</td>\n",
       "      <td>NaN</td>\n",
       "      <td>NaN</td>\n",
       "      <td>NaN</td>\n",
       "      <td>SR347 175 NA</td>\n",
       "      <td>NaN</td>\n",
       "      <td>F</td>\n",
       "      <td>NaN</td>\n",
       "      <td>NaN</td>\n",
       "      <td>Black</td>\n",
       "      <td>Black</td>\n",
       "      <td>NaN</td>\n",
       "      <td>NaN</td>\n",
       "      <td>FALSE</td>\n",
       "      <td>NaN</td>\n",
       "      <td>NaN</td>\n",
       "      <td>FALSE</td>\n",
       "      <td>Warning</td>\n",
       "      <td>FALSE</td>\n",
       "      <td>7469</td>\n",
       "      <td>21-30</td>\n",
       "      <td>SR347</td>\n",
       "      <td>175</td>\n",
       "      <td>FALSE</td>\n",
       "      <td>2DSD 2003</td>\n",
       "      <td>B</td>\n",
       "    </tr>\n",
       "    <tr>\n",
       "      <th>3</th>\n",
       "      <td>AZ-2015-000004</td>\n",
       "      <td>AZ</td>\n",
       "      <td>2015-01-01</td>\n",
       "      <td>00:07</td>\n",
       "      <td>NaN</td>\n",
       "      <td>Maricopa County</td>\n",
       "      <td>04013</td>\n",
       "      <td>SR101 7 NA</td>\n",
       "      <td>NaN</td>\n",
       "      <td>F</td>\n",
       "      <td>NaN</td>\n",
       "      <td>NaN</td>\n",
       "      <td>Hispanic</td>\n",
       "      <td>Hispanic</td>\n",
       "      <td>NaN</td>\n",
       "      <td>NaN</td>\n",
       "      <td>FALSE</td>\n",
       "      <td>NaN</td>\n",
       "      <td>NaN</td>\n",
       "      <td>FALSE</td>\n",
       "      <td>Warning</td>\n",
       "      <td>FALSE</td>\n",
       "      <td>7014</td>\n",
       "      <td>11-20</td>\n",
       "      <td>SR101</td>\n",
       "      <td>7</td>\n",
       "      <td>FALSE</td>\n",
       "      <td>4DSD 2011</td>\n",
       "      <td>H</td>\n",
       "    </tr>\n",
       "    <tr>\n",
       "      <th>4</th>\n",
       "      <td>AZ-2015-000005</td>\n",
       "      <td>AZ</td>\n",
       "      <td>2015-01-01</td>\n",
       "      <td>00:10</td>\n",
       "      <td>NaN</td>\n",
       "      <td>Maricopa County</td>\n",
       "      <td>04013</td>\n",
       "      <td>I10 131 NA</td>\n",
       "      <td>NaN</td>\n",
       "      <td>M</td>\n",
       "      <td>NaN</td>\n",
       "      <td>NaN</td>\n",
       "      <td>Asian / Pacific Islander</td>\n",
       "      <td>Asian</td>\n",
       "      <td>NaN</td>\n",
       "      <td>NaN</td>\n",
       "      <td>FALSE</td>\n",
       "      <td>NaN</td>\n",
       "      <td>NaN</td>\n",
       "      <td>FALSE</td>\n",
       "      <td>Repair Order</td>\n",
       "      <td>FALSE</td>\n",
       "      <td>6280</td>\n",
       "      <td>11-20</td>\n",
       "      <td>I10</td>\n",
       "      <td>131</td>\n",
       "      <td>FALSE</td>\n",
       "      <td>4DSD 2003</td>\n",
       "      <td>A</td>\n",
       "    </tr>\n",
       "  </tbody>\n",
       "</table>\n",
       "</div>"
      ],
      "text/plain": [
       "               id state   stop_date stop_time location_raw      county_name  \\\n",
       "0  AZ-2015-000001    AZ  2015-01-01     00:01          NaN  Maricopa County   \n",
       "1  AZ-2015-000002    AZ  2015-01-01     00:01          NaN              NaN   \n",
       "2  AZ-2015-000003    AZ  2015-01-01     00:05          NaN              NaN   \n",
       "3  AZ-2015-000004    AZ  2015-01-01     00:07          NaN  Maricopa County   \n",
       "4  AZ-2015-000005    AZ  2015-01-01     00:10          NaN  Maricopa County   \n",
       "\n",
       "  county_fips          fine_grained_location police_department driver_gender  \\\n",
       "0       04013                   SR101 6.7 NA               NaN             M   \n",
       "1         NaN  NA NA MAIN ST/3RD AVE SAFFORD               NaN             M   \n",
       "2         NaN                   SR347 175 NA               NaN             F   \n",
       "3       04013                     SR101 7 NA               NaN             F   \n",
       "4       04013                     I10 131 NA               NaN             M   \n",
       "\n",
       "  driver_age_raw driver_age           driver_race_raw driver_race  \\\n",
       "0            NaN        NaN                     White       White   \n",
       "1            NaN        NaN                     White       White   \n",
       "2            NaN        NaN                     Black       Black   \n",
       "3            NaN        NaN                  Hispanic    Hispanic   \n",
       "4            NaN        NaN  Asian / Pacific Islander       Asian   \n",
       "\n",
       "  violation_raw         violation search_conducted search_type_raw  \\\n",
       "0   Other movin  Moving violation            FALSE             NaN   \n",
       "1           NaN               NaN            FALSE             NaN   \n",
       "2           NaN               NaN            FALSE             NaN   \n",
       "3           NaN               NaN            FALSE             NaN   \n",
       "4           NaN               NaN            FALSE             NaN   \n",
       "\n",
       "  search_type contraband_found  stop_outcome is_arrested officer_id  \\\n",
       "0         NaN            FALSE      Citation       FALSE       6143   \n",
       "1         NaN            FALSE       Warning       FALSE       6181   \n",
       "2         NaN            FALSE       Warning       FALSE       7469   \n",
       "3         NaN            FALSE       Warning       FALSE       7014   \n",
       "4         NaN            FALSE  Repair Order       FALSE       6280   \n",
       "\n",
       "  stop_duration road_number milepost consent_search vehicle_type ethnicity  \n",
       "0         11-20       SR101      6.7          FALSE    4DHT 2013         W  \n",
       "1          0-10         NaN      NaN          FALSE    12PU 1997         W  \n",
       "2         21-30       SR347      175          FALSE    2DSD 2003         B  \n",
       "3         11-20       SR101        7          FALSE    4DSD 2011         H  \n",
       "4         11-20         I10      131          FALSE    4DSD 2003         A  "
      ]
     },
     "execution_count": 75,
     "metadata": {},
     "output_type": "execute_result"
    }
   ],
   "source": [
    "az_stops.head()"
   ]
  },
  {
   "cell_type": "markdown",
   "metadata": {},
   "source": [
    "This gives us a general idea as to what columns we have and what the data looks like. Notice all the `NaN` (Not a Number) values. We will talk about those shortly. Keep in mind that this is only the first few rows. Now let's use a different function to take a more comprehensive look at the columns and how they are made up:"
   ]
  },
  {
   "cell_type": "code",
   "execution_count": 76,
   "metadata": {},
   "outputs": [
    {
     "name": "stdout",
     "output_type": "stream",
     "text": [
      "<class 'pandas.core.frame.DataFrame'>\n",
      "RangeIndex: 450519 entries, 0 to 450518\n",
      "Data columns (total 29 columns):\n",
      "id                       450519 non-null object\n",
      "state                    450519 non-null object\n",
      "stop_date                450519 non-null object\n",
      "stop_time                450519 non-null object\n",
      "location_raw             237984 non-null object\n",
      "county_name              423829 non-null object\n",
      "county_fips              423829 non-null object\n",
      "fine_grained_location    450519 non-null object\n",
      "police_department        0 non-null object\n",
      "driver_gender            450519 non-null object\n",
      "driver_age_raw           0 non-null object\n",
      "driver_age               0 non-null object\n",
      "driver_race_raw          450519 non-null object\n",
      "driver_race              450519 non-null object\n",
      "violation_raw            86391 non-null object\n",
      "violation                86391 non-null object\n",
      "search_conducted         450519 non-null object\n",
      "search_type_raw          2513 non-null object\n",
      "search_type              2513 non-null object\n",
      "contraband_found         450519 non-null object\n",
      "stop_outcome             450504 non-null object\n",
      "is_arrested              450519 non-null object\n",
      "officer_id               450519 non-null object\n",
      "stop_duration            442706 non-null object\n",
      "road_number              420018 non-null object\n",
      "milepost                 420018 non-null object\n",
      "consent_search           432046 non-null object\n",
      "vehicle_type             450519 non-null object\n",
      "ethnicity                450519 non-null object\n",
      "dtypes: object(29)\n",
      "memory usage: 99.7+ MB\n"
     ]
    }
   ],
   "source": [
    "az_stops.info()"
   ]
  },
  {
   "cell_type": "markdown",
   "metadata": {},
   "source": [
    "Now we have a list showing information about each column, including:\n",
    "\n",
    "- The column name\n",
    "- The number of records which have data in each column\n",
    "- Whether or not there is missing or null data (see below)\n",
    "- The data type of the column - in this case everything is listed as an `object`, which is how Pandas describes text fields.\n",
    "\n",
    "Additionally we get information on how many records are in our data - this translates directly to the number of traffic stops we are analyzing. You will notice this matches up with the counts we checked earlier when extracting the data.\n",
    "\n",
    "**Note:** One side effect of our importing our fields as `object` is that Pandas will handle missing, null or blank data (those `NaN` values from above) a little differently than it does by default. Normally Pandas would automatically exclude null values from any sort of analysis. We don't necessarily want that. It may be important to keep track of how many records do not have actual data in it for a given column. By telling Pandas that everything should be rendered as text when we import the data it allows us to keep null, missing or blank values in the analysis. But don't worry: we will talk about how to handle those later.\n",
    "\n",
    "### Diving a little deeper\n",
    "\n",
    "Now that we have a general sense of of our data, let's do some preliminary analysis to see what else we can learn.\n",
    "\n",
    "One of the first things we want to learn is if there are any gaps in our data that we haven't been able to see so far. Let's start by taking a look at traffic stops by month. To do this we will work with the `stop_date` column, but we will need to convert it to the proper data type -- a Python `datetime` instead of an object -- before we can perform an analysis on it. Luckily, Pandas has a handy function to do that."
   ]
  },
  {
   "cell_type": "code",
   "execution_count": 77,
   "metadata": {},
   "outputs": [],
   "source": [
    "az_stops['stop_date'] = pd.to_datetime(az_stops['stop_date'])"
   ]
  },
  {
   "cell_type": "markdown",
   "metadata": {},
   "source": [
    "OK, that syntax is pretty weird -- what just happened? Essentially, we told Pandas to rewrite the stop_date field for each row in our data."
   ]
  },
  {
   "cell_type": "markdown",
   "metadata": {},
   "source": [
    "Now that our `stop_date` column is in the correct format, we want to get a count of stops by month to check if we have the entire year. To do this we will use the `groupby` function. \n",
    "\n",
    "Since we only want to count stops by month we should try to count a column that has no missing data - in this case it would be the `id` column. We isolate that column by using the `az_stops['id']` syntax.\n",
    "\n",
    "The `groupby` function takes several different arguments, but only one is required - which field you want to group by. In this case we need to group by the month of the `stop_date` column. Because we turned our stop_date into a fancy Python date, we can access that using this method: `az_stops.stop_date.dt.month`.\n",
    "\n",
    "Lastly, since `groupby` is meant to aggregate data using different mathmatical functions (think sum, average, count, etc) we need to specify what kind of math we want to use when aggregating. In this case, we want to count how many stops are in each month, so we use `count()`."
   ]
  },
  {
   "cell_type": "code",
   "execution_count": 78,
   "metadata": {
    "scrolled": true
   },
   "outputs": [
    {
     "data": {
      "text/html": [
       "<div>\n",
       "<style scoped>\n",
       "    .dataframe tbody tr th:only-of-type {\n",
       "        vertical-align: middle;\n",
       "    }\n",
       "\n",
       "    .dataframe tbody tr th {\n",
       "        vertical-align: top;\n",
       "    }\n",
       "\n",
       "    .dataframe thead th {\n",
       "        text-align: right;\n",
       "    }\n",
       "</style>\n",
       "<table border=\"1\" class=\"dataframe\">\n",
       "  <thead>\n",
       "    <tr style=\"text-align: right;\">\n",
       "      <th></th>\n",
       "      <th>id</th>\n",
       "    </tr>\n",
       "    <tr>\n",
       "      <th>stop_date</th>\n",
       "      <th></th>\n",
       "    </tr>\n",
       "  </thead>\n",
       "  <tbody>\n",
       "    <tr>\n",
       "      <th>1</th>\n",
       "      <td>43571</td>\n",
       "    </tr>\n",
       "    <tr>\n",
       "      <th>2</th>\n",
       "      <td>38963</td>\n",
       "    </tr>\n",
       "    <tr>\n",
       "      <th>3</th>\n",
       "      <td>41911</td>\n",
       "    </tr>\n",
       "    <tr>\n",
       "      <th>4</th>\n",
       "      <td>42311</td>\n",
       "    </tr>\n",
       "    <tr>\n",
       "      <th>5</th>\n",
       "      <td>44493</td>\n",
       "    </tr>\n",
       "    <tr>\n",
       "      <th>6</th>\n",
       "      <td>39542</td>\n",
       "    </tr>\n",
       "    <tr>\n",
       "      <th>7</th>\n",
       "      <td>44663</td>\n",
       "    </tr>\n",
       "    <tr>\n",
       "      <th>8</th>\n",
       "      <td>42726</td>\n",
       "    </tr>\n",
       "    <tr>\n",
       "      <th>9</th>\n",
       "      <td>40919</td>\n",
       "    </tr>\n",
       "    <tr>\n",
       "      <th>10</th>\n",
       "      <td>35988</td>\n",
       "    </tr>\n",
       "    <tr>\n",
       "      <th>11</th>\n",
       "      <td>35432</td>\n",
       "    </tr>\n",
       "  </tbody>\n",
       "</table>\n",
       "</div>"
      ],
      "text/plain": [
       "              id\n",
       "stop_date       \n",
       "1          43571\n",
       "2          38963\n",
       "3          41911\n",
       "4          42311\n",
       "5          44493\n",
       "6          39542\n",
       "7          44663\n",
       "8          42726\n",
       "9          40919\n",
       "10         35988\n",
       "11         35432"
      ]
     },
     "execution_count": 78,
     "metadata": {},
     "output_type": "execute_result"
    }
   ],
   "source": [
    "stops_by_month = az_stops[['id']].groupby(by = az_stops.stop_date.dt.month).count()\n",
    "\n",
    "stops_by_month"
   ]
  },
  {
   "cell_type": "markdown",
   "metadata": {},
   "source": [
    "Can you see where the issue is? Hint: How many months are there? What happened to December? How should we handle this?"
   ]
  },
  {
   "cell_type": "markdown",
   "metadata": {},
   "source": [
    "### Taking a visual look at our data\n",
    "\n",
    "It's nice to have the table showing our counts by month, but sometimes we want more detail. Let's look at traffic stops by day of the yar. For that much data, we probably want to look at this visually rather than in a table, so let's build a bar chart.\n",
    "\n",
    "First we need to do another `groupby`, but this time the syntax will be a bit different."
   ]
  },
  {
   "cell_type": "code",
   "execution_count": 79,
   "metadata": {},
   "outputs": [
    {
     "data": {
      "text/html": [
       "<div>\n",
       "<style scoped>\n",
       "    .dataframe tbody tr th:only-of-type {\n",
       "        vertical-align: middle;\n",
       "    }\n",
       "\n",
       "    .dataframe tbody tr th {\n",
       "        vertical-align: top;\n",
       "    }\n",
       "\n",
       "    .dataframe thead th {\n",
       "        text-align: right;\n",
       "    }\n",
       "</style>\n",
       "<table border=\"1\" class=\"dataframe\">\n",
       "  <thead>\n",
       "    <tr style=\"text-align: right;\">\n",
       "      <th></th>\n",
       "      <th>stop_date</th>\n",
       "      <th>id</th>\n",
       "    </tr>\n",
       "  </thead>\n",
       "  <tbody>\n",
       "    <tr>\n",
       "      <th>0</th>\n",
       "      <td>2015-01-01</td>\n",
       "      <td>1038</td>\n",
       "    </tr>\n",
       "    <tr>\n",
       "      <th>1</th>\n",
       "      <td>2015-01-02</td>\n",
       "      <td>1153</td>\n",
       "    </tr>\n",
       "    <tr>\n",
       "      <th>2</th>\n",
       "      <td>2015-01-03</td>\n",
       "      <td>997</td>\n",
       "    </tr>\n",
       "    <tr>\n",
       "      <th>3</th>\n",
       "      <td>2015-01-04</td>\n",
       "      <td>1035</td>\n",
       "    </tr>\n",
       "    <tr>\n",
       "      <th>4</th>\n",
       "      <td>2015-01-05</td>\n",
       "      <td>1186</td>\n",
       "    </tr>\n",
       "  </tbody>\n",
       "</table>\n",
       "</div>"
      ],
      "text/plain": [
       "   stop_date    id\n",
       "0 2015-01-01  1038\n",
       "1 2015-01-02  1153\n",
       "2 2015-01-03   997\n",
       "3 2015-01-04  1035\n",
       "4 2015-01-05  1186"
      ]
     },
     "execution_count": 79,
     "metadata": {},
     "output_type": "execute_result"
    }
   ],
   "source": [
    "stops_by_day = az_stops[['stop_date','id']].groupby(by = 'stop_date', as_index = False).count()\n",
    "\n",
    "# Even though our groupby ran on the whole data set, let's just look at the first few rows.\n",
    "stops_by_day.head()"
   ]
  },
  {
   "cell_type": "markdown",
   "metadata": {},
   "source": [
    "Before we draw the chart, let's change the name of the `id` column into something that makes sense."
   ]
  },
  {
   "cell_type": "code",
   "execution_count": 80,
   "metadata": {},
   "outputs": [
    {
     "data": {
      "text/html": [
       "<div>\n",
       "<style scoped>\n",
       "    .dataframe tbody tr th:only-of-type {\n",
       "        vertical-align: middle;\n",
       "    }\n",
       "\n",
       "    .dataframe tbody tr th {\n",
       "        vertical-align: top;\n",
       "    }\n",
       "\n",
       "    .dataframe thead th {\n",
       "        text-align: right;\n",
       "    }\n",
       "</style>\n",
       "<table border=\"1\" class=\"dataframe\">\n",
       "  <thead>\n",
       "    <tr style=\"text-align: right;\">\n",
       "      <th></th>\n",
       "      <th>stop_date</th>\n",
       "      <th>traffic_stops</th>\n",
       "    </tr>\n",
       "  </thead>\n",
       "  <tbody>\n",
       "    <tr>\n",
       "      <th>0</th>\n",
       "      <td>2015-01-01</td>\n",
       "      <td>1038</td>\n",
       "    </tr>\n",
       "    <tr>\n",
       "      <th>1</th>\n",
       "      <td>2015-01-02</td>\n",
       "      <td>1153</td>\n",
       "    </tr>\n",
       "    <tr>\n",
       "      <th>2</th>\n",
       "      <td>2015-01-03</td>\n",
       "      <td>997</td>\n",
       "    </tr>\n",
       "    <tr>\n",
       "      <th>3</th>\n",
       "      <td>2015-01-04</td>\n",
       "      <td>1035</td>\n",
       "    </tr>\n",
       "    <tr>\n",
       "      <th>4</th>\n",
       "      <td>2015-01-05</td>\n",
       "      <td>1186</td>\n",
       "    </tr>\n",
       "  </tbody>\n",
       "</table>\n",
       "</div>"
      ],
      "text/plain": [
       "   stop_date  traffic_stops\n",
       "0 2015-01-01           1038\n",
       "1 2015-01-02           1153\n",
       "2 2015-01-03            997\n",
       "3 2015-01-04           1035\n",
       "4 2015-01-05           1186"
      ]
     },
     "execution_count": 80,
     "metadata": {},
     "output_type": "execute_result"
    }
   ],
   "source": [
    "stops_by_day.rename(columns = {'id' : 'traffic_stops'}, inplace = True)\n",
    "\n",
    "# Let's see if that worked.\n",
    "stops_by_day.head()"
   ]
  },
  {
   "cell_type": "markdown",
   "metadata": {},
   "source": [
    "Now we can draw the chart using Altair. Altair requires us to use several different functions tied together to display the chart. The first function is just starting up a chart and telling it what data we want to use. Then we tell it what type of chart we want (a line or fever chart in this case). Lastly we tell it what columns in our data should be used for the chart axes. "
   ]
  },
  {
   "cell_type": "code",
   "execution_count": 81,
   "metadata": {},
   "outputs": [
    {
     "data": {
      "text/html": [
       "<div class=\"vega-embed\" id=\"3cbe6332-8ed6-426d-8a33-3275915dc57b\"></div>\n",
       "\n",
       "<style>\n",
       ".vega-embed .vega-actions > a {\n",
       "    transition: opacity 200ms ease-in;\n",
       "    opacity: 0.3;\n",
       "    margin-right: 0.6em;\n",
       "    color: #444;\n",
       "    text-decoration: none;\n",
       "}\n",
       "\n",
       ".vega-embed .vega-actions > a:hover {\n",
       "    color: #000;\n",
       "    text-decoration: underline;\n",
       "}\n",
       "\n",
       ".vega-embed:hover .vega-actions > a {\n",
       "    opacity: 1;\n",
       "    transition: 0s;\n",
       "}\n",
       "\n",
       ".vega-embed .error p {\n",
       "    color: firebrick;\n",
       "    font-size: 1.2em;\n",
       "}\n",
       "</style>\n"
      ]
     },
     "metadata": {
      "jupyter-vega3": "#3cbe6332-8ed6-426d-8a33-3275915dc57b"
     },
     "output_type": "display_data"
    },
    {
     "data": {
      "application/javascript": [
       "var spec = {\"config\": {\"view\": {\"width\": 400, \"height\": 300}}, \"data\": {\"values\": [{\"stop_date\": \"2015-01-01\", \"traffic_stops\": 1038}, {\"stop_date\": \"2015-01-02\", \"traffic_stops\": 1153}, {\"stop_date\": \"2015-01-03\", \"traffic_stops\": 997}, {\"stop_date\": \"2015-01-04\", \"traffic_stops\": 1035}, {\"stop_date\": \"2015-01-05\", \"traffic_stops\": 1186}, {\"stop_date\": \"2015-01-06\", \"traffic_stops\": 1441}, {\"stop_date\": \"2015-01-07\", \"traffic_stops\": 1619}, {\"stop_date\": \"2015-01-08\", \"traffic_stops\": 1328}, {\"stop_date\": \"2015-01-09\", \"traffic_stops\": 1590}, {\"stop_date\": \"2015-01-10\", \"traffic_stops\": 1054}, {\"stop_date\": \"2015-01-11\", \"traffic_stops\": 1041}, {\"stop_date\": \"2015-01-12\", \"traffic_stops\": 1251}, {\"stop_date\": \"2015-01-13\", \"traffic_stops\": 1302}, {\"stop_date\": \"2015-01-14\", \"traffic_stops\": 1619}, {\"stop_date\": \"2015-01-15\", \"traffic_stops\": 3104}, {\"stop_date\": \"2015-01-16\", \"traffic_stops\": 1650}, {\"stop_date\": \"2015-01-17\", \"traffic_stops\": 1167}, {\"stop_date\": \"2015-01-18\", \"traffic_stops\": 1145}, {\"stop_date\": \"2015-01-19\", \"traffic_stops\": 1477}, {\"stop_date\": \"2015-01-20\", \"traffic_stops\": 1675}, {\"stop_date\": \"2015-01-21\", \"traffic_stops\": 1649}, {\"stop_date\": \"2015-01-22\", \"traffic_stops\": 1622}, {\"stop_date\": \"2015-01-23\", \"traffic_stops\": 1686}, {\"stop_date\": \"2015-01-24\", \"traffic_stops\": 1303}, {\"stop_date\": \"2015-01-25\", \"traffic_stops\": 1222}, {\"stop_date\": \"2015-01-26\", \"traffic_stops\": 1273}, {\"stop_date\": \"2015-01-27\", \"traffic_stops\": 1520}, {\"stop_date\": \"2015-01-28\", \"traffic_stops\": 1675}, {\"stop_date\": \"2015-01-29\", \"traffic_stops\": 1544}, {\"stop_date\": \"2015-01-30\", \"traffic_stops\": 983}, {\"stop_date\": \"2015-01-31\", \"traffic_stops\": 1222}, {\"stop_date\": \"2015-02-01\", \"traffic_stops\": 1355}, {\"stop_date\": \"2015-02-02\", \"traffic_stops\": 1084}, {\"stop_date\": \"2015-02-03\", \"traffic_stops\": 1530}, {\"stop_date\": \"2015-02-04\", \"traffic_stops\": 1375}, {\"stop_date\": \"2015-02-05\", \"traffic_stops\": 1150}, {\"stop_date\": \"2015-02-06\", \"traffic_stops\": 1138}, {\"stop_date\": \"2015-02-07\", \"traffic_stops\": 1010}, {\"stop_date\": \"2015-02-08\", \"traffic_stops\": 1043}, {\"stop_date\": \"2015-02-09\", \"traffic_stops\": 1416}, {\"stop_date\": \"2015-02-10\", \"traffic_stops\": 1510}, {\"stop_date\": \"2015-02-11\", \"traffic_stops\": 1832}, {\"stop_date\": \"2015-02-12\", \"traffic_stops\": 1557}, {\"stop_date\": \"2015-02-13\", \"traffic_stops\": 1558}, {\"stop_date\": \"2015-02-14\", \"traffic_stops\": 1036}, {\"stop_date\": \"2015-02-15\", \"traffic_stops\": 1946}, {\"stop_date\": \"2015-02-16\", \"traffic_stops\": 1346}, {\"stop_date\": \"2015-02-17\", \"traffic_stops\": 1415}, {\"stop_date\": \"2015-02-18\", \"traffic_stops\": 1716}, {\"stop_date\": \"2015-02-19\", \"traffic_stops\": 1676}, {\"stop_date\": \"2015-02-20\", \"traffic_stops\": 1690}, {\"stop_date\": \"2015-02-21\", \"traffic_stops\": 1055}, {\"stop_date\": \"2015-02-22\", \"traffic_stops\": 951}, {\"stop_date\": \"2015-02-23\", \"traffic_stops\": 1112}, {\"stop_date\": \"2015-02-24\", \"traffic_stops\": 1505}, {\"stop_date\": \"2015-02-25\", \"traffic_stops\": 1892}, {\"stop_date\": \"2015-02-26\", \"traffic_stops\": 1715}, {\"stop_date\": \"2015-02-27\", \"traffic_stops\": 1388}, {\"stop_date\": \"2015-02-28\", \"traffic_stops\": 962}, {\"stop_date\": \"2015-03-01\", \"traffic_stops\": 853}, {\"stop_date\": \"2015-03-02\", \"traffic_stops\": 929}, {\"stop_date\": \"2015-03-03\", \"traffic_stops\": 1402}, {\"stop_date\": \"2015-03-04\", \"traffic_stops\": 1769}, {\"stop_date\": \"2015-03-05\", \"traffic_stops\": 1456}, {\"stop_date\": \"2015-03-06\", \"traffic_stops\": 1509}, {\"stop_date\": \"2015-03-07\", \"traffic_stops\": 974}, {\"stop_date\": \"2015-03-08\", \"traffic_stops\": 1099}, {\"stop_date\": \"2015-03-09\", \"traffic_stops\": 1285}, {\"stop_date\": \"2015-03-10\", \"traffic_stops\": 1518}, {\"stop_date\": \"2015-03-11\", \"traffic_stops\": 1646}, {\"stop_date\": \"2015-03-12\", \"traffic_stops\": 1362}, {\"stop_date\": \"2015-03-13\", \"traffic_stops\": 1554}, {\"stop_date\": \"2015-03-14\", \"traffic_stops\": 1066}, {\"stop_date\": \"2015-03-15\", \"traffic_stops\": 2028}, {\"stop_date\": \"2015-03-16\", \"traffic_stops\": 1239}, {\"stop_date\": \"2015-03-17\", \"traffic_stops\": 1452}, {\"stop_date\": \"2015-03-18\", \"traffic_stops\": 1481}, {\"stop_date\": \"2015-03-19\", \"traffic_stops\": 1437}, {\"stop_date\": \"2015-03-20\", \"traffic_stops\": 1427}, {\"stop_date\": \"2015-03-21\", \"traffic_stops\": 1081}, {\"stop_date\": \"2015-03-22\", \"traffic_stops\": 1170}, {\"stop_date\": \"2015-03-23\", \"traffic_stops\": 1339}, {\"stop_date\": \"2015-03-24\", \"traffic_stops\": 1495}, {\"stop_date\": \"2015-03-25\", \"traffic_stops\": 1462}, {\"stop_date\": \"2015-03-26\", \"traffic_stops\": 1533}, {\"stop_date\": \"2015-03-27\", \"traffic_stops\": 1331}, {\"stop_date\": \"2015-03-28\", \"traffic_stops\": 971}, {\"stop_date\": \"2015-03-29\", \"traffic_stops\": 1079}, {\"stop_date\": \"2015-03-30\", \"traffic_stops\": 1257}, {\"stop_date\": \"2015-03-31\", \"traffic_stops\": 1707}, {\"stop_date\": \"2015-04-01\", \"traffic_stops\": 1610}, {\"stop_date\": \"2015-04-02\", \"traffic_stops\": 1436}, {\"stop_date\": \"2015-04-03\", \"traffic_stops\": 1450}, {\"stop_date\": \"2015-04-04\", \"traffic_stops\": 1018}, {\"stop_date\": \"2015-04-05\", \"traffic_stops\": 1103}, {\"stop_date\": \"2015-04-06\", \"traffic_stops\": 1295}, {\"stop_date\": \"2015-04-07\", \"traffic_stops\": 1554}, {\"stop_date\": \"2015-04-08\", \"traffic_stops\": 1614}, {\"stop_date\": \"2015-04-09\", \"traffic_stops\": 1423}, {\"stop_date\": \"2015-04-10\", \"traffic_stops\": 1392}, {\"stop_date\": \"2015-04-11\", \"traffic_stops\": 1085}, {\"stop_date\": \"2015-04-12\", \"traffic_stops\": 1114}, {\"stop_date\": \"2015-04-13\", \"traffic_stops\": 1507}, {\"stop_date\": \"2015-04-14\", \"traffic_stops\": 1355}, {\"stop_date\": \"2015-04-15\", \"traffic_stops\": 2890}, {\"stop_date\": \"2015-04-16\", \"traffic_stops\": 1438}, {\"stop_date\": \"2015-04-17\", \"traffic_stops\": 1482}, {\"stop_date\": \"2015-04-18\", \"traffic_stops\": 1112}, {\"stop_date\": \"2015-04-19\", \"traffic_stops\": 1073}, {\"stop_date\": \"2015-04-20\", \"traffic_stops\": 1274}, {\"stop_date\": \"2015-04-21\", \"traffic_stops\": 1568}, {\"stop_date\": \"2015-04-22\", \"traffic_stops\": 1815}, {\"stop_date\": \"2015-04-23\", \"traffic_stops\": 1415}, {\"stop_date\": \"2015-04-24\", \"traffic_stops\": 1452}, {\"stop_date\": \"2015-04-25\", \"traffic_stops\": 1100}, {\"stop_date\": \"2015-04-26\", \"traffic_stops\": 1055}, {\"stop_date\": \"2015-04-27\", \"traffic_stops\": 1321}, {\"stop_date\": \"2015-04-28\", \"traffic_stops\": 1413}, {\"stop_date\": \"2015-04-29\", \"traffic_stops\": 1440}, {\"stop_date\": \"2015-04-30\", \"traffic_stops\": 1507}, {\"stop_date\": \"2015-05-01\", \"traffic_stops\": 1505}, {\"stop_date\": \"2015-05-02\", \"traffic_stops\": 1218}, {\"stop_date\": \"2015-05-03\", \"traffic_stops\": 1140}, {\"stop_date\": \"2015-05-04\", \"traffic_stops\": 1090}, {\"stop_date\": \"2015-05-05\", \"traffic_stops\": 1497}, {\"stop_date\": \"2015-05-06\", \"traffic_stops\": 1431}, {\"stop_date\": \"2015-05-07\", \"traffic_stops\": 1332}, {\"stop_date\": \"2015-05-08\", \"traffic_stops\": 1293}, {\"stop_date\": \"2015-05-09\", \"traffic_stops\": 1070}, {\"stop_date\": \"2015-05-10\", \"traffic_stops\": 1107}, {\"stop_date\": \"2015-05-11\", \"traffic_stops\": 1555}, {\"stop_date\": \"2015-05-12\", \"traffic_stops\": 1598}, {\"stop_date\": \"2015-05-13\", \"traffic_stops\": 1796}, {\"stop_date\": \"2015-05-14\", \"traffic_stops\": 1434}, {\"stop_date\": \"2015-05-15\", \"traffic_stops\": 2632}, {\"stop_date\": \"2015-05-16\", \"traffic_stops\": 1053}, {\"stop_date\": \"2015-05-17\", \"traffic_stops\": 1268}, {\"stop_date\": \"2015-05-18\", \"traffic_stops\": 1310}, {\"stop_date\": \"2015-05-19\", \"traffic_stops\": 1475}, {\"stop_date\": \"2015-05-20\", \"traffic_stops\": 1442}, {\"stop_date\": \"2015-05-21\", \"traffic_stops\": 1616}, {\"stop_date\": \"2015-05-22\", \"traffic_stops\": 1942}, {\"stop_date\": \"2015-05-23\", \"traffic_stops\": 1579}, {\"stop_date\": \"2015-05-24\", \"traffic_stops\": 1509}, {\"stop_date\": \"2015-05-25\", \"traffic_stops\": 2145}, {\"stop_date\": \"2015-05-26\", \"traffic_stops\": 1562}, {\"stop_date\": \"2015-05-27\", \"traffic_stops\": 1450}, {\"stop_date\": \"2015-05-28\", \"traffic_stops\": 1272}, {\"stop_date\": \"2015-05-29\", \"traffic_stops\": 1274}, {\"stop_date\": \"2015-05-30\", \"traffic_stops\": 949}, {\"stop_date\": \"2015-05-31\", \"traffic_stops\": 949}, {\"stop_date\": \"2015-06-01\", \"traffic_stops\": 962}, {\"stop_date\": \"2015-06-02\", \"traffic_stops\": 1601}, {\"stop_date\": \"2015-06-03\", \"traffic_stops\": 1570}, {\"stop_date\": \"2015-06-04\", \"traffic_stops\": 1541}, {\"stop_date\": \"2015-06-05\", \"traffic_stops\": 1312}, {\"stop_date\": \"2015-06-06\", \"traffic_stops\": 987}, {\"stop_date\": \"2015-06-07\", \"traffic_stops\": 1128}, {\"stop_date\": \"2015-06-08\", \"traffic_stops\": 1256}, {\"stop_date\": \"2015-06-09\", \"traffic_stops\": 1440}, {\"stop_date\": \"2015-06-10\", \"traffic_stops\": 1411}, {\"stop_date\": \"2015-06-11\", \"traffic_stops\": 1306}, {\"stop_date\": \"2015-06-12\", \"traffic_stops\": 1561}, {\"stop_date\": \"2015-06-13\", \"traffic_stops\": 1093}, {\"stop_date\": \"2015-06-14\", \"traffic_stops\": 1201}, {\"stop_date\": \"2015-06-15\", \"traffic_stops\": 2576}, {\"stop_date\": \"2015-06-16\", \"traffic_stops\": 1401}, {\"stop_date\": \"2015-06-17\", \"traffic_stops\": 1419}, {\"stop_date\": \"2015-06-18\", \"traffic_stops\": 1338}, {\"stop_date\": \"2015-06-19\", \"traffic_stops\": 1360}, {\"stop_date\": \"2015-06-20\", \"traffic_stops\": 1027}, {\"stop_date\": \"2015-06-21\", \"traffic_stops\": 968}, {\"stop_date\": \"2015-06-22\", \"traffic_stops\": 1028}, {\"stop_date\": \"2015-06-23\", \"traffic_stops\": 1201}, {\"stop_date\": \"2015-06-24\", \"traffic_stops\": 1406}, {\"stop_date\": \"2015-06-25\", \"traffic_stops\": 1316}, {\"stop_date\": \"2015-06-26\", \"traffic_stops\": 1396}, {\"stop_date\": \"2015-06-27\", \"traffic_stops\": 917}, {\"stop_date\": \"2015-06-28\", \"traffic_stops\": 1008}, {\"stop_date\": \"2015-06-29\", \"traffic_stops\": 1321}, {\"stop_date\": \"2015-06-30\", \"traffic_stops\": 1491}, {\"stop_date\": \"2015-07-01\", \"traffic_stops\": 1742}, {\"stop_date\": \"2015-07-02\", \"traffic_stops\": 1634}, {\"stop_date\": \"2015-07-03\", \"traffic_stops\": 2174}, {\"stop_date\": \"2015-07-04\", \"traffic_stops\": 1518}, {\"stop_date\": \"2015-07-05\", \"traffic_stops\": 1266}, {\"stop_date\": \"2015-07-06\", \"traffic_stops\": 1197}, {\"stop_date\": \"2015-07-07\", \"traffic_stops\": 1483}, {\"stop_date\": \"2015-07-08\", \"traffic_stops\": 1357}, {\"stop_date\": \"2015-07-09\", \"traffic_stops\": 1476}, {\"stop_date\": \"2015-07-10\", \"traffic_stops\": 1433}, {\"stop_date\": \"2015-07-11\", \"traffic_stops\": 1053}, {\"stop_date\": \"2015-07-12\", \"traffic_stops\": 1051}, {\"stop_date\": \"2015-07-13\", \"traffic_stops\": 1332}, {\"stop_date\": \"2015-07-14\", \"traffic_stops\": 1383}, {\"stop_date\": \"2015-07-15\", \"traffic_stops\": 3018}, {\"stop_date\": \"2015-07-16\", \"traffic_stops\": 1366}, {\"stop_date\": \"2015-07-17\", \"traffic_stops\": 1578}, {\"stop_date\": \"2015-07-18\", \"traffic_stops\": 1014}, {\"stop_date\": \"2015-07-19\", \"traffic_stops\": 1173}, {\"stop_date\": \"2015-07-20\", \"traffic_stops\": 1219}, {\"stop_date\": \"2015-07-21\", \"traffic_stops\": 1392}, {\"stop_date\": \"2015-07-22\", \"traffic_stops\": 1882}, {\"stop_date\": \"2015-07-23\", \"traffic_stops\": 1510}, {\"stop_date\": \"2015-07-24\", \"traffic_stops\": 1365}, {\"stop_date\": \"2015-07-25\", \"traffic_stops\": 917}, {\"stop_date\": \"2015-07-26\", \"traffic_stops\": 984}, {\"stop_date\": \"2015-07-27\", \"traffic_stops\": 1124}, {\"stop_date\": \"2015-07-28\", \"traffic_stops\": 1345}, {\"stop_date\": \"2015-07-29\", \"traffic_stops\": 1885}, {\"stop_date\": \"2015-07-30\", \"traffic_stops\": 1481}, {\"stop_date\": \"2015-07-31\", \"traffic_stops\": 1311}, {\"stop_date\": \"2015-08-01\", \"traffic_stops\": 1067}, {\"stop_date\": \"2015-08-02\", \"traffic_stops\": 1134}, {\"stop_date\": \"2015-08-03\", \"traffic_stops\": 1274}, {\"stop_date\": \"2015-08-04\", \"traffic_stops\": 1306}, {\"stop_date\": \"2015-08-05\", \"traffic_stops\": 1577}, {\"stop_date\": \"2015-08-06\", \"traffic_stops\": 1518}, {\"stop_date\": \"2015-08-07\", \"traffic_stops\": 1358}, {\"stop_date\": \"2015-08-08\", \"traffic_stops\": 1307}, {\"stop_date\": \"2015-08-09\", \"traffic_stops\": 1194}, {\"stop_date\": \"2015-08-10\", \"traffic_stops\": 1238}, {\"stop_date\": \"2015-08-11\", \"traffic_stops\": 1206}, {\"stop_date\": \"2015-08-12\", \"traffic_stops\": 1803}, {\"stop_date\": \"2015-08-13\", \"traffic_stops\": 1458}, {\"stop_date\": \"2015-08-14\", \"traffic_stops\": 1370}, {\"stop_date\": \"2015-08-15\", \"traffic_stops\": 2082}, {\"stop_date\": \"2015-08-16\", \"traffic_stops\": 1090}, {\"stop_date\": \"2015-08-17\", \"traffic_stops\": 1269}, {\"stop_date\": \"2015-08-18\", \"traffic_stops\": 1427}, {\"stop_date\": \"2015-08-19\", \"traffic_stops\": 1547}, {\"stop_date\": \"2015-08-20\", \"traffic_stops\": 1653}, {\"stop_date\": \"2015-08-21\", \"traffic_stops\": 1820}, {\"stop_date\": \"2015-08-22\", \"traffic_stops\": 1197}, {\"stop_date\": \"2015-08-23\", \"traffic_stops\": 1184}, {\"stop_date\": \"2015-08-24\", \"traffic_stops\": 1329}, {\"stop_date\": \"2015-08-25\", \"traffic_stops\": 1455}, {\"stop_date\": \"2015-08-26\", \"traffic_stops\": 1513}, {\"stop_date\": \"2015-08-27\", \"traffic_stops\": 1492}, {\"stop_date\": \"2015-08-28\", \"traffic_stops\": 1494}, {\"stop_date\": \"2015-08-29\", \"traffic_stops\": 1188}, {\"stop_date\": \"2015-08-30\", \"traffic_stops\": 1172}, {\"stop_date\": \"2015-08-31\", \"traffic_stops\": 1004}, {\"stop_date\": \"2015-09-01\", \"traffic_stops\": 1137}, {\"stop_date\": \"2015-09-02\", \"traffic_stops\": 1274}, {\"stop_date\": \"2015-09-03\", \"traffic_stops\": 1309}, {\"stop_date\": \"2015-09-04\", \"traffic_stops\": 2236}, {\"stop_date\": \"2015-09-05\", \"traffic_stops\": 1595}, {\"stop_date\": \"2015-09-06\", \"traffic_stops\": 1512}, {\"stop_date\": \"2015-09-07\", \"traffic_stops\": 2349}, {\"stop_date\": \"2015-09-08\", \"traffic_stops\": 1445}, {\"stop_date\": \"2015-09-09\", \"traffic_stops\": 1504}, {\"stop_date\": \"2015-09-10\", \"traffic_stops\": 1084}, {\"stop_date\": \"2015-09-11\", \"traffic_stops\": 1237}, {\"stop_date\": \"2015-09-12\", \"traffic_stops\": 999}, {\"stop_date\": \"2015-09-13\", \"traffic_stops\": 1026}, {\"stop_date\": \"2015-09-14\", \"traffic_stops\": 1130}, {\"stop_date\": \"2015-09-15\", \"traffic_stops\": 2530}, {\"stop_date\": \"2015-09-16\", \"traffic_stops\": 1523}, {\"stop_date\": \"2015-09-17\", \"traffic_stops\": 1460}, {\"stop_date\": \"2015-09-18\", \"traffic_stops\": 1440}, {\"stop_date\": \"2015-09-19\", \"traffic_stops\": 1081}, {\"stop_date\": \"2015-09-20\", \"traffic_stops\": 1068}, {\"stop_date\": \"2015-09-21\", \"traffic_stops\": 869}, {\"stop_date\": \"2015-09-22\", \"traffic_stops\": 1236}, {\"stop_date\": \"2015-09-23\", \"traffic_stops\": 1326}, {\"stop_date\": \"2015-09-24\", \"traffic_stops\": 1392}, {\"stop_date\": \"2015-09-25\", \"traffic_stops\": 1382}, {\"stop_date\": \"2015-09-26\", \"traffic_stops\": 887}, {\"stop_date\": \"2015-09-27\", \"traffic_stops\": 1039}, {\"stop_date\": \"2015-09-28\", \"traffic_stops\": 1171}, {\"stop_date\": \"2015-09-29\", \"traffic_stops\": 1389}, {\"stop_date\": \"2015-09-30\", \"traffic_stops\": 1289}, {\"stop_date\": \"2015-10-01\", \"traffic_stops\": 1265}, {\"stop_date\": \"2015-10-02\", \"traffic_stops\": 1203}, {\"stop_date\": \"2015-10-03\", \"traffic_stops\": 912}, {\"stop_date\": \"2015-10-04\", \"traffic_stops\": 857}, {\"stop_date\": \"2015-10-05\", \"traffic_stops\": 1034}, {\"stop_date\": \"2015-10-06\", \"traffic_stops\": 1110}, {\"stop_date\": \"2015-10-07\", \"traffic_stops\": 1263}, {\"stop_date\": \"2015-10-08\", \"traffic_stops\": 1353}, {\"stop_date\": \"2015-10-09\", \"traffic_stops\": 1204}, {\"stop_date\": \"2015-10-10\", \"traffic_stops\": 1027}, {\"stop_date\": \"2015-10-11\", \"traffic_stops\": 1086}, {\"stop_date\": \"2015-10-12\", \"traffic_stops\": 1089}, {\"stop_date\": \"2015-10-13\", \"traffic_stops\": 1189}, {\"stop_date\": \"2015-10-14\", \"traffic_stops\": 1225}, {\"stop_date\": \"2015-10-15\", \"traffic_stops\": 2256}, {\"stop_date\": \"2015-10-16\", \"traffic_stops\": 1116}, {\"stop_date\": \"2015-10-17\", \"traffic_stops\": 855}, {\"stop_date\": \"2015-10-18\", \"traffic_stops\": 769}, {\"stop_date\": \"2015-10-19\", \"traffic_stops\": 1056}, {\"stop_date\": \"2015-10-20\", \"traffic_stops\": 1069}, {\"stop_date\": \"2015-10-21\", \"traffic_stops\": 1214}, {\"stop_date\": \"2015-10-22\", \"traffic_stops\": 1346}, {\"stop_date\": \"2015-10-23\", \"traffic_stops\": 1393}, {\"stop_date\": \"2015-10-24\", \"traffic_stops\": 1006}, {\"stop_date\": \"2015-10-25\", \"traffic_stops\": 957}, {\"stop_date\": \"2015-10-26\", \"traffic_stops\": 1101}, {\"stop_date\": \"2015-10-27\", \"traffic_stops\": 1342}, {\"stop_date\": \"2015-10-28\", \"traffic_stops\": 1438}, {\"stop_date\": \"2015-10-29\", \"traffic_stops\": 1101}, {\"stop_date\": \"2015-10-30\", \"traffic_stops\": 1140}, {\"stop_date\": \"2015-10-31\", \"traffic_stops\": 1012}, {\"stop_date\": \"2015-11-01\", \"traffic_stops\": 1190}, {\"stop_date\": \"2015-11-02\", \"traffic_stops\": 1171}, {\"stop_date\": \"2015-11-03\", \"traffic_stops\": 1234}, {\"stop_date\": \"2015-11-04\", \"traffic_stops\": 1182}, {\"stop_date\": \"2015-11-05\", \"traffic_stops\": 1149}, {\"stop_date\": \"2015-11-06\", \"traffic_stops\": 1143}, {\"stop_date\": \"2015-11-07\", \"traffic_stops\": 868}, {\"stop_date\": \"2015-11-08\", \"traffic_stops\": 891}, {\"stop_date\": \"2015-11-09\", \"traffic_stops\": 1020}, {\"stop_date\": \"2015-11-10\", \"traffic_stops\": 1146}, {\"stop_date\": \"2015-11-11\", \"traffic_stops\": 1265}, {\"stop_date\": \"2015-11-12\", \"traffic_stops\": 1075}, {\"stop_date\": \"2015-11-13\", \"traffic_stops\": 1157}, {\"stop_date\": \"2015-11-14\", \"traffic_stops\": 890}, {\"stop_date\": \"2015-11-15\", \"traffic_stops\": 1522}, {\"stop_date\": \"2015-11-16\", \"traffic_stops\": 742}, {\"stop_date\": \"2015-11-17\", \"traffic_stops\": 1264}, {\"stop_date\": \"2015-11-18\", \"traffic_stops\": 1221}, {\"stop_date\": \"2015-11-19\", \"traffic_stops\": 1318}, {\"stop_date\": \"2015-11-20\", \"traffic_stops\": 1158}, {\"stop_date\": \"2015-11-21\", \"traffic_stops\": 908}, {\"stop_date\": \"2015-11-22\", \"traffic_stops\": 1101}, {\"stop_date\": \"2015-11-23\", \"traffic_stops\": 1265}, {\"stop_date\": \"2015-11-24\", \"traffic_stops\": 1401}, {\"stop_date\": \"2015-11-25\", \"traffic_stops\": 2245}, {\"stop_date\": \"2015-11-26\", \"traffic_stops\": 932}, {\"stop_date\": \"2015-11-27\", \"traffic_stops\": 1464}, {\"stop_date\": \"2015-11-28\", \"traffic_stops\": 1037}, {\"stop_date\": \"2015-11-29\", \"traffic_stops\": 1457}, {\"stop_date\": \"2015-11-30\", \"traffic_stops\": 1016}]}, \"mark\": \"line\", \"encoding\": {\"x\": {\"type\": \"temporal\", \"field\": \"stop_date\"}, \"y\": {\"type\": \"quantitative\", \"field\": \"traffic_stops\"}}, \"$schema\": \"https://vega.github.io/schema/vega-lite/v2.3.0.json\"};\n",
       "var opt = {};\n",
       "var selector = \"#3cbe6332-8ed6-426d-8a33-3275915dc57b\";\n",
       "var type = \"vega-lite\";\n",
       "\n",
       "var output_area = this;\n",
       "\n",
       "require(['nbextensions/jupyter-vega3/index'], function(vega) {\n",
       "  vega.render(selector, spec, type, opt, output_area);\n",
       "}, function (err) {\n",
       "  if (err.requireType !== 'scripterror') {\n",
       "    throw(err);\n",
       "  }\n",
       "});\n"
      ]
     },
     "metadata": {
      "jupyter-vega3": "#3cbe6332-8ed6-426d-8a33-3275915dc57b"
     },
     "output_type": "display_data"
    },
    {
     "data": {
      "text/plain": []
     },
     "execution_count": 81,
     "metadata": {},
     "output_type": "execute_result"
    },
    {
     "data": {
      "image/png": "[encoded data removed]"
     },
     "metadata": {
      "jupyter-vega3": "#3cbe6332-8ed6-426d-8a33-3275915dc57b"
     },
     "output_type": "display_data"
    }
   ],
   "source": [
    "alt.Chart(stops_by_day).mark_line().encode(x = 'stop_date:T', y = 'traffic_stops')"
   ]
  },
  {
   "cell_type": "markdown",
   "metadata": {},
   "source": [
    "There's something fishy here. You can see there are spikes throughout the year where there are more stops than normal -- sometimes the stops nearly double from one day to the next. Let's see if we can find out more information about those spikes. We can do this by filtering the `stops_by_day` data to show only days where more than 2,000 stops occurred."
   ]
  },
  {
   "cell_type": "code",
   "execution_count": 82,
   "metadata": {},
   "outputs": [
    {
     "data": {
      "text/html": [
       "<div>\n",
       "<style scoped>\n",
       "    .dataframe tbody tr th:only-of-type {\n",
       "        vertical-align: middle;\n",
       "    }\n",
       "\n",
       "    .dataframe tbody tr th {\n",
       "        vertical-align: top;\n",
       "    }\n",
       "\n",
       "    .dataframe thead th {\n",
       "        text-align: right;\n",
       "    }\n",
       "</style>\n",
       "<table border=\"1\" class=\"dataframe\">\n",
       "  <thead>\n",
       "    <tr style=\"text-align: right;\">\n",
       "      <th></th>\n",
       "      <th>stop_date</th>\n",
       "      <th>traffic_stops</th>\n",
       "    </tr>\n",
       "  </thead>\n",
       "  <tbody>\n",
       "    <tr>\n",
       "      <th>14</th>\n",
       "      <td>2015-01-15</td>\n",
       "      <td>3104</td>\n",
       "    </tr>\n",
       "    <tr>\n",
       "      <th>73</th>\n",
       "      <td>2015-03-15</td>\n",
       "      <td>2028</td>\n",
       "    </tr>\n",
       "    <tr>\n",
       "      <th>104</th>\n",
       "      <td>2015-04-15</td>\n",
       "      <td>2890</td>\n",
       "    </tr>\n",
       "    <tr>\n",
       "      <th>134</th>\n",
       "      <td>2015-05-15</td>\n",
       "      <td>2632</td>\n",
       "    </tr>\n",
       "    <tr>\n",
       "      <th>144</th>\n",
       "      <td>2015-05-25</td>\n",
       "      <td>2145</td>\n",
       "    </tr>\n",
       "    <tr>\n",
       "      <th>165</th>\n",
       "      <td>2015-06-15</td>\n",
       "      <td>2576</td>\n",
       "    </tr>\n",
       "    <tr>\n",
       "      <th>183</th>\n",
       "      <td>2015-07-03</td>\n",
       "      <td>2174</td>\n",
       "    </tr>\n",
       "    <tr>\n",
       "      <th>195</th>\n",
       "      <td>2015-07-15</td>\n",
       "      <td>3018</td>\n",
       "    </tr>\n",
       "    <tr>\n",
       "      <th>226</th>\n",
       "      <td>2015-08-15</td>\n",
       "      <td>2082</td>\n",
       "    </tr>\n",
       "    <tr>\n",
       "      <th>246</th>\n",
       "      <td>2015-09-04</td>\n",
       "      <td>2236</td>\n",
       "    </tr>\n",
       "    <tr>\n",
       "      <th>249</th>\n",
       "      <td>2015-09-07</td>\n",
       "      <td>2349</td>\n",
       "    </tr>\n",
       "    <tr>\n",
       "      <th>257</th>\n",
       "      <td>2015-09-15</td>\n",
       "      <td>2530</td>\n",
       "    </tr>\n",
       "    <tr>\n",
       "      <th>287</th>\n",
       "      <td>2015-10-15</td>\n",
       "      <td>2256</td>\n",
       "    </tr>\n",
       "    <tr>\n",
       "      <th>328</th>\n",
       "      <td>2015-11-25</td>\n",
       "      <td>2245</td>\n",
       "    </tr>\n",
       "  </tbody>\n",
       "</table>\n",
       "</div>"
      ],
      "text/plain": [
       "     stop_date  traffic_stops\n",
       "14  2015-01-15           3104\n",
       "73  2015-03-15           2028\n",
       "104 2015-04-15           2890\n",
       "134 2015-05-15           2632\n",
       "144 2015-05-25           2145\n",
       "165 2015-06-15           2576\n",
       "183 2015-07-03           2174\n",
       "195 2015-07-15           3018\n",
       "226 2015-08-15           2082\n",
       "246 2015-09-04           2236\n",
       "249 2015-09-07           2349\n",
       "257 2015-09-15           2530\n",
       "287 2015-10-15           2256\n",
       "328 2015-11-25           2245"
      ]
     },
     "execution_count": 82,
     "metadata": {},
     "output_type": "execute_result"
    }
   ],
   "source": [
    "stops_by_day[stops_by_day['traffic_stops'] >= 2000]"
   ]
  },
  {
   "cell_type": "markdown",
   "metadata": {},
   "source": [
    "We really don't have a good answer to what is going on here. For some reason, traffic stops seem to spike towards the middle of the month. Sometimes it happens at the beginning of the month. Maybe some spikes could be related to holiday enforcement actions such as Fourth of July and Thanksgiving DUI checkpoints? But at this point, we don't know. This is a great example of a case where you would need to do additional reporting to try to figure out what's going on before publishing results of this data. However, this shouldn't impact our training analysis greatly because time is not a factor in what we want to uncover."
   ]
  },
  {
   "cell_type": "markdown",
   "metadata": {},
   "source": [
    "### Work on your own, part I\n",
    "\n",
    "Now that we have taken a fairly in-depth look at the `stop_date` column, let's take a closer look at counties where the stops occurred. Use the `county_name` column to generate your own table of traffic stops throughout the state."
   ]
  },
  {
   "cell_type": "code",
   "execution_count": 83,
   "metadata": {},
   "outputs": [
    {
     "data": {
      "text/html": [
       "<div>\n",
       "<style scoped>\n",
       "    .dataframe tbody tr th:only-of-type {\n",
       "        vertical-align: middle;\n",
       "    }\n",
       "\n",
       "    .dataframe tbody tr th {\n",
       "        vertical-align: top;\n",
       "    }\n",
       "\n",
       "    .dataframe thead th {\n",
       "        text-align: right;\n",
       "    }\n",
       "</style>\n",
       "<table border=\"1\" class=\"dataframe\">\n",
       "  <thead>\n",
       "    <tr style=\"text-align: right;\">\n",
       "      <th></th>\n",
       "      <th>county_name</th>\n",
       "      <th>id</th>\n",
       "    </tr>\n",
       "  </thead>\n",
       "  <tbody>\n",
       "    <tr>\n",
       "      <th>0</th>\n",
       "      <td>Apache County</td>\n",
       "      <td>14152</td>\n",
       "    </tr>\n",
       "    <tr>\n",
       "      <th>1</th>\n",
       "      <td>Cochise County</td>\n",
       "      <td>26613</td>\n",
       "    </tr>\n",
       "    <tr>\n",
       "      <th>2</th>\n",
       "      <td>Coconino County</td>\n",
       "      <td>33005</td>\n",
       "    </tr>\n",
       "    <tr>\n",
       "      <th>3</th>\n",
       "      <td>Gila County</td>\n",
       "      <td>15097</td>\n",
       "    </tr>\n",
       "    <tr>\n",
       "      <th>4</th>\n",
       "      <td>Graham County</td>\n",
       "      <td>6489</td>\n",
       "    </tr>\n",
       "    <tr>\n",
       "      <th>5</th>\n",
       "      <td>Greenlee County</td>\n",
       "      <td>1053</td>\n",
       "    </tr>\n",
       "    <tr>\n",
       "      <th>6</th>\n",
       "      <td>La Paz County</td>\n",
       "      <td>12233</td>\n",
       "    </tr>\n",
       "    <tr>\n",
       "      <th>7</th>\n",
       "      <td>Maricopa County</td>\n",
       "      <td>144674</td>\n",
       "    </tr>\n",
       "    <tr>\n",
       "      <th>8</th>\n",
       "      <td>Mohave County</td>\n",
       "      <td>20143</td>\n",
       "    </tr>\n",
       "    <tr>\n",
       "      <th>9</th>\n",
       "      <td>Navajo County</td>\n",
       "      <td>22506</td>\n",
       "    </tr>\n",
       "    <tr>\n",
       "      <th>10</th>\n",
       "      <td>Pima County</td>\n",
       "      <td>37651</td>\n",
       "    </tr>\n",
       "    <tr>\n",
       "      <th>11</th>\n",
       "      <td>Pinal County</td>\n",
       "      <td>33458</td>\n",
       "    </tr>\n",
       "    <tr>\n",
       "      <th>12</th>\n",
       "      <td>Santa Cruz County</td>\n",
       "      <td>9202</td>\n",
       "    </tr>\n",
       "    <tr>\n",
       "      <th>13</th>\n",
       "      <td>Yavapai County</td>\n",
       "      <td>30308</td>\n",
       "    </tr>\n",
       "    <tr>\n",
       "      <th>14</th>\n",
       "      <td>Yuma County</td>\n",
       "      <td>17245</td>\n",
       "    </tr>\n",
       "  </tbody>\n",
       "</table>\n",
       "</div>"
      ],
      "text/plain": [
       "          county_name      id\n",
       "0       Apache County   14152\n",
       "1      Cochise County   26613\n",
       "2     Coconino County   33005\n",
       "3         Gila County   15097\n",
       "4       Graham County    6489\n",
       "5     Greenlee County    1053\n",
       "6       La Paz County   12233\n",
       "7     Maricopa County  144674\n",
       "8       Mohave County   20143\n",
       "9       Navajo County   22506\n",
       "10        Pima County   37651\n",
       "11       Pinal County   33458\n",
       "12  Santa Cruz County    9202\n",
       "13     Yavapai County   30308\n",
       "14        Yuma County   17245"
      ]
     },
     "execution_count": 83,
     "metadata": {},
     "output_type": "execute_result"
    }
   ],
   "source": [
    "# do the group by\n",
    "stops_by_county = az_stops[['county_name','id']].groupby(by = 'county_name', as_index = False).count()\n",
    "stops_by_county"
   ]
  },
  {
   "cell_type": "code",
   "execution_count": 84,
   "metadata": {},
   "outputs": [
    {
     "data": {
      "text/html": [
       "<div>\n",
       "<style scoped>\n",
       "    .dataframe tbody tr th:only-of-type {\n",
       "        vertical-align: middle;\n",
       "    }\n",
       "\n",
       "    .dataframe tbody tr th {\n",
       "        vertical-align: top;\n",
       "    }\n",
       "\n",
       "    .dataframe thead th {\n",
       "        text-align: right;\n",
       "    }\n",
       "</style>\n",
       "<table border=\"1\" class=\"dataframe\">\n",
       "  <thead>\n",
       "    <tr style=\"text-align: right;\">\n",
       "      <th></th>\n",
       "      <th>county</th>\n",
       "      <th>traffic_stops</th>\n",
       "    </tr>\n",
       "  </thead>\n",
       "  <tbody>\n",
       "    <tr>\n",
       "      <th>0</th>\n",
       "      <td>Apache County</td>\n",
       "      <td>14152</td>\n",
       "    </tr>\n",
       "    <tr>\n",
       "      <th>1</th>\n",
       "      <td>Cochise County</td>\n",
       "      <td>26613</td>\n",
       "    </tr>\n",
       "    <tr>\n",
       "      <th>2</th>\n",
       "      <td>Coconino County</td>\n",
       "      <td>33005</td>\n",
       "    </tr>\n",
       "    <tr>\n",
       "      <th>3</th>\n",
       "      <td>Gila County</td>\n",
       "      <td>15097</td>\n",
       "    </tr>\n",
       "    <tr>\n",
       "      <th>4</th>\n",
       "      <td>Graham County</td>\n",
       "      <td>6489</td>\n",
       "    </tr>\n",
       "    <tr>\n",
       "      <th>5</th>\n",
       "      <td>Greenlee County</td>\n",
       "      <td>1053</td>\n",
       "    </tr>\n",
       "    <tr>\n",
       "      <th>6</th>\n",
       "      <td>La Paz County</td>\n",
       "      <td>12233</td>\n",
       "    </tr>\n",
       "    <tr>\n",
       "      <th>7</th>\n",
       "      <td>Maricopa County</td>\n",
       "      <td>144674</td>\n",
       "    </tr>\n",
       "    <tr>\n",
       "      <th>8</th>\n",
       "      <td>Mohave County</td>\n",
       "      <td>20143</td>\n",
       "    </tr>\n",
       "    <tr>\n",
       "      <th>9</th>\n",
       "      <td>Navajo County</td>\n",
       "      <td>22506</td>\n",
       "    </tr>\n",
       "    <tr>\n",
       "      <th>10</th>\n",
       "      <td>Pima County</td>\n",
       "      <td>37651</td>\n",
       "    </tr>\n",
       "    <tr>\n",
       "      <th>11</th>\n",
       "      <td>Pinal County</td>\n",
       "      <td>33458</td>\n",
       "    </tr>\n",
       "    <tr>\n",
       "      <th>12</th>\n",
       "      <td>Santa Cruz County</td>\n",
       "      <td>9202</td>\n",
       "    </tr>\n",
       "    <tr>\n",
       "      <th>13</th>\n",
       "      <td>Yavapai County</td>\n",
       "      <td>30308</td>\n",
       "    </tr>\n",
       "    <tr>\n",
       "      <th>14</th>\n",
       "      <td>Yuma County</td>\n",
       "      <td>17245</td>\n",
       "    </tr>\n",
       "  </tbody>\n",
       "</table>\n",
       "</div>"
      ],
      "text/plain": [
       "               county  traffic_stops\n",
       "0       Apache County          14152\n",
       "1      Cochise County          26613\n",
       "2     Coconino County          33005\n",
       "3         Gila County          15097\n",
       "4       Graham County           6489\n",
       "5     Greenlee County           1053\n",
       "6       La Paz County          12233\n",
       "7     Maricopa County         144674\n",
       "8       Mohave County          20143\n",
       "9       Navajo County          22506\n",
       "10        Pima County          37651\n",
       "11       Pinal County          33458\n",
       "12  Santa Cruz County           9202\n",
       "13     Yavapai County          30308\n",
       "14        Yuma County          17245"
      ]
     },
     "execution_count": 84,
     "metadata": {},
     "output_type": "execute_result"
    }
   ],
   "source": [
    "# change column names\n",
    "stops_by_county.rename(columns = {'county_name' : 'county', 'id' : 'traffic_stops'}, inplace = True)\n",
    "stops_by_county"
   ]
  },
  {
   "cell_type": "markdown",
   "metadata": {},
   "source": [
    "### Coming back\n",
    "\n",
    "So now we have an idea of how many traffic stops occurred in each county. For the purposes of our analysis this actually means very little since we will be taking a look at the entire state. However if you wanted to localize this to your area it is probably a good idea to take a look at how many stops are occurring in your coverage area.\n",
    "\n",
    "## Visualizing the results"
   ]
  },
  {
   "cell_type": "code",
   "execution_count": 85,
   "metadata": {},
   "outputs": [
    {
     "data": {
      "text/html": [
       "<div class=\"vega-embed\" id=\"e29444d7-fb47-4641-978f-405e7afe2ecf\"></div>\n",
       "\n",
       "<style>\n",
       ".vega-embed .vega-actions > a {\n",
       "    transition: opacity 200ms ease-in;\n",
       "    opacity: 0.3;\n",
       "    margin-right: 0.6em;\n",
       "    color: #444;\n",
       "    text-decoration: none;\n",
       "}\n",
       "\n",
       ".vega-embed .vega-actions > a:hover {\n",
       "    color: #000;\n",
       "    text-decoration: underline;\n",
       "}\n",
       "\n",
       ".vega-embed:hover .vega-actions > a {\n",
       "    opacity: 1;\n",
       "    transition: 0s;\n",
       "}\n",
       "\n",
       ".vega-embed .error p {\n",
       "    color: firebrick;\n",
       "    font-size: 1.2em;\n",
       "}\n",
       "</style>\n"
      ]
     },
     "metadata": {
      "jupyter-vega3": "#e29444d7-fb47-4641-978f-405e7afe2ecf"
     },
     "output_type": "display_data"
    },
    {
     "data": {
      "application/javascript": [
       "var spec = {\"config\": {\"view\": {\"width\": 400, \"height\": 300}}, \"data\": {\"values\": [{\"county\": \"Apache County\", \"traffic_stops\": 14152}, {\"county\": \"Cochise County\", \"traffic_stops\": 26613}, {\"county\": \"Coconino County\", \"traffic_stops\": 33005}, {\"county\": \"Gila County\", \"traffic_stops\": 15097}, {\"county\": \"Graham County\", \"traffic_stops\": 6489}, {\"county\": \"Greenlee County\", \"traffic_stops\": 1053}, {\"county\": \"La Paz County\", \"traffic_stops\": 12233}, {\"county\": \"Maricopa County\", \"traffic_stops\": 144674}, {\"county\": \"Mohave County\", \"traffic_stops\": 20143}, {\"county\": \"Navajo County\", \"traffic_stops\": 22506}, {\"county\": \"Pima County\", \"traffic_stops\": 37651}, {\"county\": \"Pinal County\", \"traffic_stops\": 33458}, {\"county\": \"Santa Cruz County\", \"traffic_stops\": 9202}, {\"county\": \"Yavapai County\", \"traffic_stops\": 30308}, {\"county\": \"Yuma County\", \"traffic_stops\": 17245}]}, \"mark\": \"bar\", \"encoding\": {\"x\": {\"type\": \"quantitative\", \"field\": \"traffic_stops\"}, \"y\": {\"type\": \"nominal\", \"field\": \"county\"}}, \"$schema\": \"https://vega.github.io/schema/vega-lite/v2.3.0.json\"};\n",
       "var opt = {};\n",
       "var selector = \"#e29444d7-fb47-4641-978f-405e7afe2ecf\";\n",
       "var type = \"vega-lite\";\n",
       "\n",
       "var output_area = this;\n",
       "\n",
       "require(['nbextensions/jupyter-vega3/index'], function(vega) {\n",
       "  vega.render(selector, spec, type, opt, output_area);\n",
       "}, function (err) {\n",
       "  if (err.requireType !== 'scripterror') {\n",
       "    throw(err);\n",
       "  }\n",
       "});\n"
      ]
     },
     "metadata": {
      "jupyter-vega3": "#e29444d7-fb47-4641-978f-405e7afe2ecf"
     },
     "output_type": "display_data"
    },
    {
     "data": {
      "text/plain": []
     },
     "execution_count": 85,
     "metadata": {},
     "output_type": "execute_result"
    },
    {
     "data": {
      "image/png": "[encoded data removed]"
     },
     "metadata": {
      "jupyter-vega3": "#e29444d7-fb47-4641-978f-405e7afe2ecf"
     },
     "output_type": "display_data"
    }
   ],
   "source": [
    "alt.Chart(stops_by_county).mark_bar().encode(x = 'traffic_stops', y = 'county')"
   ]
  },
  {
   "cell_type": "markdown",
   "metadata": {},
   "source": [
    "## Digging into the demographics\n",
    "\n",
    "Now we can start playing with demographic data that we have in the data set. Our initial look at the data showed us that there isn't any information on the age of the driver, but we do have pretty good data on gender and race/ethnicity. Rather than examining both gender and race separately, let's see if we can do an analysis on both columns at the same time.\n",
    "\n",
    "To do this we will use what is called a pivot table. Those of you who have worked with Excel may be familiar with pivot tables. They are a way to restructure your data to provide a different perspective.\n",
    "\n",
    "Before we get started though, let's do some housekeeping. The `driver_gender` column identifies gender by abbreviation. Let's change that to a full spelling. Earlier, we used `rename` to change the column name, but now we're changing the data, not the column name. So we'll use the `replace` function."
   ]
  },
  {
   "cell_type": "code",
   "execution_count": 86,
   "metadata": {},
   "outputs": [
    {
     "data": {
      "text/html": [
       "<div>\n",
       "<style scoped>\n",
       "    .dataframe tbody tr th:only-of-type {\n",
       "        vertical-align: middle;\n",
       "    }\n",
       "\n",
       "    .dataframe tbody tr th {\n",
       "        vertical-align: top;\n",
       "    }\n",
       "\n",
       "    .dataframe thead th {\n",
       "        text-align: right;\n",
       "    }\n",
       "</style>\n",
       "<table border=\"1\" class=\"dataframe\">\n",
       "  <thead>\n",
       "    <tr style=\"text-align: right;\">\n",
       "      <th></th>\n",
       "      <th>driver_gender</th>\n",
       "    </tr>\n",
       "  </thead>\n",
       "  <tbody>\n",
       "    <tr>\n",
       "      <th>0</th>\n",
       "      <td>Male</td>\n",
       "    </tr>\n",
       "    <tr>\n",
       "      <th>1</th>\n",
       "      <td>Male</td>\n",
       "    </tr>\n",
       "    <tr>\n",
       "      <th>2</th>\n",
       "      <td>Female</td>\n",
       "    </tr>\n",
       "    <tr>\n",
       "      <th>3</th>\n",
       "      <td>Female</td>\n",
       "    </tr>\n",
       "    <tr>\n",
       "      <th>4</th>\n",
       "      <td>Male</td>\n",
       "    </tr>\n",
       "  </tbody>\n",
       "</table>\n",
       "</div>"
      ],
      "text/plain": [
       "  driver_gender\n",
       "0          Male\n",
       "1          Male\n",
       "2        Female\n",
       "3        Female\n",
       "4          Male"
      ]
     },
     "execution_count": 86,
     "metadata": {},
     "output_type": "execute_result"
    }
   ],
   "source": [
    "az_stops['driver_gender'].replace({'F' : 'Female', 'M' : 'Male'}, inplace = True)\n",
    "az_stops[['driver_gender']].head()"
   ]
  },
  {
   "cell_type": "markdown",
   "metadata": {},
   "source": [
    "Much better. While we are at it let's take a peek at the `driver_race` column to see how race is coded."
   ]
  },
  {
   "cell_type": "code",
   "execution_count": 87,
   "metadata": {},
   "outputs": [
    {
     "data": {
      "text/html": [
       "<div>\n",
       "<style scoped>\n",
       "    .dataframe tbody tr th:only-of-type {\n",
       "        vertical-align: middle;\n",
       "    }\n",
       "\n",
       "    .dataframe tbody tr th {\n",
       "        vertical-align: top;\n",
       "    }\n",
       "\n",
       "    .dataframe thead th {\n",
       "        text-align: right;\n",
       "    }\n",
       "</style>\n",
       "<table border=\"1\" class=\"dataframe\">\n",
       "  <thead>\n",
       "    <tr style=\"text-align: right;\">\n",
       "      <th></th>\n",
       "      <th>driver_race</th>\n",
       "    </tr>\n",
       "  </thead>\n",
       "  <tbody>\n",
       "    <tr>\n",
       "      <th>0</th>\n",
       "      <td>White</td>\n",
       "    </tr>\n",
       "    <tr>\n",
       "      <th>1</th>\n",
       "      <td>White</td>\n",
       "    </tr>\n",
       "    <tr>\n",
       "      <th>2</th>\n",
       "      <td>Black</td>\n",
       "    </tr>\n",
       "    <tr>\n",
       "      <th>3</th>\n",
       "      <td>Hispanic</td>\n",
       "    </tr>\n",
       "    <tr>\n",
       "      <th>4</th>\n",
       "      <td>Asian</td>\n",
       "    </tr>\n",
       "  </tbody>\n",
       "</table>\n",
       "</div>"
      ],
      "text/plain": [
       "  driver_race\n",
       "0       White\n",
       "1       White\n",
       "2       Black\n",
       "3    Hispanic\n",
       "4       Asian"
      ]
     },
     "execution_count": 87,
     "metadata": {},
     "output_type": "execute_result"
    }
   ],
   "source": [
    "az_stops[['driver_race']].head()"
   ]
  },
  {
   "cell_type": "markdown",
   "metadata": {},
   "source": [
    "Now what we want to know is the number of stops by gender and race. Let's build our pivot table to show us that."
   ]
  },
  {
   "cell_type": "code",
   "execution_count": 88,
   "metadata": {},
   "outputs": [
    {
     "data": {
      "text/html": [
       "<div>\n",
       "<style scoped>\n",
       "    .dataframe tbody tr th:only-of-type {\n",
       "        vertical-align: middle;\n",
       "    }\n",
       "\n",
       "    .dataframe tbody tr th {\n",
       "        vertical-align: top;\n",
       "    }\n",
       "\n",
       "    .dataframe thead th {\n",
       "        text-align: right;\n",
       "    }\n",
       "</style>\n",
       "<table border=\"1\" class=\"dataframe\">\n",
       "  <thead>\n",
       "    <tr style=\"text-align: right;\">\n",
       "      <th>driver_gender</th>\n",
       "      <th>Female</th>\n",
       "      <th>Male</th>\n",
       "    </tr>\n",
       "    <tr>\n",
       "      <th>driver_race</th>\n",
       "      <th></th>\n",
       "      <th></th>\n",
       "    </tr>\n",
       "  </thead>\n",
       "  <tbody>\n",
       "    <tr>\n",
       "      <th>Asian</th>\n",
       "      <td>2859</td>\n",
       "      <td>8615</td>\n",
       "    </tr>\n",
       "    <tr>\n",
       "      <th>Black</th>\n",
       "      <td>8475</td>\n",
       "      <td>20048</td>\n",
       "    </tr>\n",
       "    <tr>\n",
       "      <th>Hispanic</th>\n",
       "      <td>32303</td>\n",
       "      <td>89769</td>\n",
       "    </tr>\n",
       "    <tr>\n",
       "      <th>Other</th>\n",
       "      <td>12153</td>\n",
       "      <td>21459</td>\n",
       "    </tr>\n",
       "    <tr>\n",
       "      <th>White</th>\n",
       "      <td>83136</td>\n",
       "      <td>171702</td>\n",
       "    </tr>\n",
       "  </tbody>\n",
       "</table>\n",
       "</div>"
      ],
      "text/plain": [
       "driver_gender  Female    Male\n",
       "driver_race                  \n",
       "Asian            2859    8615\n",
       "Black            8475   20048\n",
       "Hispanic        32303   89769\n",
       "Other           12153   21459\n",
       "White           83136  171702"
      ]
     },
     "execution_count": 88,
     "metadata": {},
     "output_type": "execute_result"
    }
   ],
   "source": [
    "stops_by_sex_race = pd.pivot_table(az_stops, \n",
    "                                   columns = 'driver_gender', \n",
    "                                   index = 'driver_race', \n",
    "                                   values = 'id', \n",
    "                                   aggfunc = 'count')\n",
    "stops_by_sex_race"
   ]
  },
  {
   "cell_type": "markdown",
   "metadata": {},
   "source": [
    "Now we have our results. But again, data presented this way is a bit difficult to for humans to read easily. So we should probably chart this out as well. First we have to clean the table up a bit. We need to get rid of the totals and restructure the dataframe a bit.\n",
    "\n",
    "TODO: What does melt mean?"
   ]
  },
  {
   "cell_type": "code",
   "execution_count": 89,
   "metadata": {},
   "outputs": [
    {
     "data": {
      "text/html": [
       "<div>\n",
       "<style scoped>\n",
       "    .dataframe tbody tr th:only-of-type {\n",
       "        vertical-align: middle;\n",
       "    }\n",
       "\n",
       "    .dataframe tbody tr th {\n",
       "        vertical-align: top;\n",
       "    }\n",
       "\n",
       "    .dataframe thead th {\n",
       "        text-align: right;\n",
       "    }\n",
       "</style>\n",
       "<table border=\"1\" class=\"dataframe\">\n",
       "  <thead>\n",
       "    <tr style=\"text-align: right;\">\n",
       "      <th></th>\n",
       "      <th>driver_race</th>\n",
       "      <th>driver_gender</th>\n",
       "      <th>traffic_stops</th>\n",
       "    </tr>\n",
       "  </thead>\n",
       "  <tbody>\n",
       "    <tr>\n",
       "      <th>0</th>\n",
       "      <td>Asian</td>\n",
       "      <td>Female</td>\n",
       "      <td>2859</td>\n",
       "    </tr>\n",
       "    <tr>\n",
       "      <th>1</th>\n",
       "      <td>Black</td>\n",
       "      <td>Female</td>\n",
       "      <td>8475</td>\n",
       "    </tr>\n",
       "    <tr>\n",
       "      <th>2</th>\n",
       "      <td>Hispanic</td>\n",
       "      <td>Female</td>\n",
       "      <td>32303</td>\n",
       "    </tr>\n",
       "    <tr>\n",
       "      <th>3</th>\n",
       "      <td>Other</td>\n",
       "      <td>Female</td>\n",
       "      <td>12153</td>\n",
       "    </tr>\n",
       "    <tr>\n",
       "      <th>4</th>\n",
       "      <td>White</td>\n",
       "      <td>Female</td>\n",
       "      <td>83136</td>\n",
       "    </tr>\n",
       "    <tr>\n",
       "      <th>5</th>\n",
       "      <td>Asian</td>\n",
       "      <td>Male</td>\n",
       "      <td>8615</td>\n",
       "    </tr>\n",
       "    <tr>\n",
       "      <th>6</th>\n",
       "      <td>Black</td>\n",
       "      <td>Male</td>\n",
       "      <td>20048</td>\n",
       "    </tr>\n",
       "    <tr>\n",
       "      <th>7</th>\n",
       "      <td>Hispanic</td>\n",
       "      <td>Male</td>\n",
       "      <td>89769</td>\n",
       "    </tr>\n",
       "    <tr>\n",
       "      <th>8</th>\n",
       "      <td>Other</td>\n",
       "      <td>Male</td>\n",
       "      <td>21459</td>\n",
       "    </tr>\n",
       "    <tr>\n",
       "      <th>9</th>\n",
       "      <td>White</td>\n",
       "      <td>Male</td>\n",
       "      <td>171702</td>\n",
       "    </tr>\n",
       "  </tbody>\n",
       "</table>\n",
       "</div>"
      ],
      "text/plain": [
       "  driver_race driver_gender  traffic_stops\n",
       "0       Asian        Female           2859\n",
       "1       Black        Female           8475\n",
       "2    Hispanic        Female          32303\n",
       "3       Other        Female          12153\n",
       "4       White        Female          83136\n",
       "5       Asian          Male           8615\n",
       "6       Black          Male          20048\n",
       "7    Hispanic          Male          89769\n",
       "8       Other          Male          21459\n",
       "9       White          Male         171702"
      ]
     },
     "execution_count": 89,
     "metadata": {},
     "output_type": "execute_result"
    }
   ],
   "source": [
    "stops_by_sex_race = pd.DataFrame(stops_by_sex_race.to_records())\n",
    "\n",
    "stops_by_sex_race = stops_by_sex_race.melt(id_vars = 'driver_race', var_name = 'driver_gender', value_name = 'traffic_stops')\n",
    "\n",
    "stops_by_sex_race"
   ]
  },
  {
   "cell_type": "code",
   "execution_count": 90,
   "metadata": {},
   "outputs": [
    {
     "data": {
      "text/html": [
       "<div class=\"vega-embed\" id=\"e26454bd-4186-4b05-b019-fcc1a5fb09ae\"></div>\n",
       "\n",
       "<style>\n",
       ".vega-embed .vega-actions > a {\n",
       "    transition: opacity 200ms ease-in;\n",
       "    opacity: 0.3;\n",
       "    margin-right: 0.6em;\n",
       "    color: #444;\n",
       "    text-decoration: none;\n",
       "}\n",
       "\n",
       ".vega-embed .vega-actions > a:hover {\n",
       "    color: #000;\n",
       "    text-decoration: underline;\n",
       "}\n",
       "\n",
       ".vega-embed:hover .vega-actions > a {\n",
       "    opacity: 1;\n",
       "    transition: 0s;\n",
       "}\n",
       "\n",
       ".vega-embed .error p {\n",
       "    color: firebrick;\n",
       "    font-size: 1.2em;\n",
       "}\n",
       "</style>\n"
      ]
     },
     "metadata": {
      "jupyter-vega3": "#e26454bd-4186-4b05-b019-fcc1a5fb09ae"
     },
     "output_type": "display_data"
    },
    {
     "data": {
      "application/javascript": [
       "var spec = {\"config\": {\"view\": {\"width\": 400, \"height\": 300}}, \"data\": {\"values\": [{\"driver_race\": \"Asian\", \"driver_gender\": \"Female\", \"traffic_stops\": 2859}, {\"driver_race\": \"Black\", \"driver_gender\": \"Female\", \"traffic_stops\": 8475}, {\"driver_race\": \"Hispanic\", \"driver_gender\": \"Female\", \"traffic_stops\": 32303}, {\"driver_race\": \"Other\", \"driver_gender\": \"Female\", \"traffic_stops\": 12153}, {\"driver_race\": \"White\", \"driver_gender\": \"Female\", \"traffic_stops\": 83136}, {\"driver_race\": \"Asian\", \"driver_gender\": \"Male\", \"traffic_stops\": 8615}, {\"driver_race\": \"Black\", \"driver_gender\": \"Male\", \"traffic_stops\": 20048}, {\"driver_race\": \"Hispanic\", \"driver_gender\": \"Male\", \"traffic_stops\": 89769}, {\"driver_race\": \"Other\", \"driver_gender\": \"Male\", \"traffic_stops\": 21459}, {\"driver_race\": \"White\", \"driver_gender\": \"Male\", \"traffic_stops\": 171702}]}, \"mark\": \"bar\", \"encoding\": {\"color\": {\"type\": \"nominal\", \"field\": \"driver_gender\", \"scale\": {\"range\": [\"#EA98D2\", \"#659CCA\"]}}, \"column\": {\"type\": \"nominal\", \"field\": \"driver_race\"}, \"x\": {\"type\": \"nominal\", \"field\": \"driver_gender\"}, \"y\": {\"type\": \"quantitative\", \"field\": \"traffic_stops\"}}, \"$schema\": \"https://vega.github.io/schema/vega-lite/v2.3.0.json\"};\n",
       "var opt = {};\n",
       "var selector = \"#e26454bd-4186-4b05-b019-fcc1a5fb09ae\";\n",
       "var type = \"vega-lite\";\n",
       "\n",
       "var output_area = this;\n",
       "\n",
       "require(['nbextensions/jupyter-vega3/index'], function(vega) {\n",
       "  vega.render(selector, spec, type, opt, output_area);\n",
       "}, function (err) {\n",
       "  if (err.requireType !== 'scripterror') {\n",
       "    throw(err);\n",
       "  }\n",
       "});\n"
      ]
     },
     "metadata": {
      "jupyter-vega3": "#e26454bd-4186-4b05-b019-fcc1a5fb09ae"
     },
     "output_type": "display_data"
    },
    {
     "data": {
      "text/plain": []
     },
     "execution_count": 90,
     "metadata": {},
     "output_type": "execute_result"
    },
    {
     "data": {
      "image/png": "[encoded data removed]"
     },
     "metadata": {
      "jupyter-vega3": "#e26454bd-4186-4b05-b019-fcc1a5fb09ae"
     },
     "output_type": "display_data"
    }
   ],
   "source": [
    "alt.Chart(stops_by_sex_race).mark_bar().encode(\n",
    "    alt.X('driver_gender:N'),\n",
    "    alt.Y('traffic_stops:Q'),\n",
    "    color=alt.Color('driver_gender', scale=alt.Scale(range=[\"#EA98D2\", \"#659CCA\"])),\n",
    "    column = 'driver_race'\n",
    ")"
   ]
  },
  {
   "cell_type": "markdown",
   "metadata": {},
   "source": [
    "## Do we have a story yet?\n",
    "\n",
    "At this point it doesn't look like it. As you can see in the graphic above, whites account for a large majority of the stops. And men got stopped more than women, regardless of race. But what is wrong with this analysis?\n",
    "\n",
    "In short it doesn't tell us whether or not minority groups are over- or under-represented in the data. To find that out we would need to compare stops by race to some other metric. One option would be Census data showing the racial make up of the state's population. Another choice would be to look at demographic breakdowns of licensed drivers. This sort of information is usually requested from the state's Department of Motor Vehicles.\n",
    "\n",
    "However there is a flaw in this sort of analysis. These are stops conducted by the Arizona Department of Public Safety, which means most stops were conducted on highways or state routes. This means drivers stopped by the DPS are more likely to be from outside the state – or given the proximity to the border – from Mexico. So population figures from a secondary source would not necessarily represent the population on the road.\n",
    "\n",
    "Fortunately there is another metric in the data that we can use to look for bias – search patterns."
   ]
  },
  {
   "cell_type": "markdown",
   "metadata": {},
   "source": [
    "## Analyzing search patterns\n",
    "\n",
    "Another metric that could show bias is whether or not a search was conducted during the course of the traffic stop. For our purposes there are three different types of searches – probable cause, warrant and consent searches. The ones we want to focus on are consent searches. This type of search does not require a search warrant, and the officer most likely does not have probable cause. As such this search is completely up to the officer's discretion.\n",
    "\n",
    "There is a `consent_search` column in the data set, but let's explore a bit more before we dive into our analysis.\n",
    "\n",
    "Let's start by getting a better feel for how many searches were conducted overall, broken out by whether or not they were a consent search."
   ]
  },
  {
   "cell_type": "code",
   "execution_count": 91,
   "metadata": {},
   "outputs": [
    {
     "data": {
      "text/html": [
       "<div>\n",
       "<style scoped>\n",
       "    .dataframe tbody tr th:only-of-type {\n",
       "        vertical-align: middle;\n",
       "    }\n",
       "\n",
       "    .dataframe tbody tr th {\n",
       "        vertical-align: top;\n",
       "    }\n",
       "\n",
       "    .dataframe thead th {\n",
       "        text-align: right;\n",
       "    }\n",
       "</style>\n",
       "<table border=\"1\" class=\"dataframe\">\n",
       "  <thead>\n",
       "    <tr style=\"text-align: right;\">\n",
       "      <th>search_conducted</th>\n",
       "      <th>FALSE</th>\n",
       "      <th>TRUE</th>\n",
       "      <th>total</th>\n",
       "    </tr>\n",
       "    <tr>\n",
       "      <th>consent_search</th>\n",
       "      <th></th>\n",
       "      <th></th>\n",
       "      <th></th>\n",
       "    </tr>\n",
       "  </thead>\n",
       "  <tbody>\n",
       "    <tr>\n",
       "      <th>FALSE</th>\n",
       "      <td>429094.0</td>\n",
       "      <td>439.0</td>\n",
       "      <td>429533</td>\n",
       "    </tr>\n",
       "    <tr>\n",
       "      <th>TRUE</th>\n",
       "      <td>NaN</td>\n",
       "      <td>2513.0</td>\n",
       "      <td>2513</td>\n",
       "    </tr>\n",
       "    <tr>\n",
       "      <th>total</th>\n",
       "      <td>429094.0</td>\n",
       "      <td>2952.0</td>\n",
       "      <td>432046</td>\n",
       "    </tr>\n",
       "  </tbody>\n",
       "</table>\n",
       "</div>"
      ],
      "text/plain": [
       "search_conducted     FALSE    TRUE   total\n",
       "consent_search                            \n",
       "FALSE             429094.0   439.0  429533\n",
       "TRUE                   NaN  2513.0    2513\n",
       "total             429094.0  2952.0  432046"
      ]
     },
     "execution_count": 91,
     "metadata": {},
     "output_type": "execute_result"
    }
   ],
   "source": [
    "# talk about null values here\n",
    "pd.pivot_table(az_stops, index = 'consent_search', \n",
    "               columns = 'search_conducted', \n",
    "               values = 'id', \n",
    "               aggfunc = 'count', \n",
    "               margins = True, \n",
    "               margins_name = 'total')"
   ]
  },
  {
   "cell_type": "markdown",
   "metadata": {},
   "source": [
    "This is a little difficult to read. What we can tell is that the majority of searches are consent searches. Let's see if we can rename some values to make this easier to search. We can start by getting a count of the null values in the `consent_search` column. These are cases where no searches occurred."
   ]
  },
  {
   "cell_type": "code",
   "execution_count": 92,
   "metadata": {},
   "outputs": [
    {
     "data": {
      "text/plain": [
       "18473"
      ]
     },
     "execution_count": 92,
     "metadata": {},
     "output_type": "execute_result"
    }
   ],
   "source": [
    "len(az_stops[az_stops['consent_search'].isnull()])"
   ]
  },
  {
   "cell_type": "markdown",
   "metadata": {},
   "source": [
    "Those null values are cases where a probable cause or warrant search was conducted. Let's replace those null values with a value of `unknown_search`."
   ]
  },
  {
   "cell_type": "code",
   "execution_count": 93,
   "metadata": {},
   "outputs": [],
   "source": [
    "az_stops.fillna(value = {'consent_search' : 'unknown_search'}, inplace = True)"
   ]
  },
  {
   "cell_type": "markdown",
   "metadata": {},
   "source": [
    "Now we need to filter for cases where a search was conducted but it was not a consent search. We will replace those values with `unknown_search` as well."
   ]
  },
  {
   "cell_type": "code",
   "execution_count": 94,
   "metadata": {},
   "outputs": [],
   "source": [
    "mask = (az_stops.search_conducted == 'TRUE') & (az_stops.consent_search == 'FALSE')\n",
    "az_stops.loc[mask, 'consent_search'] = 'unknown_search'"
   ]
  },
  {
   "cell_type": "markdown",
   "metadata": {},
   "source": [
    "Lastly we will rename `TRUE` values as `consent_search` and any remaining `FALSE` values as `no_search`."
   ]
  },
  {
   "cell_type": "code",
   "execution_count": 95,
   "metadata": {},
   "outputs": [],
   "source": [
    "az_stops['consent_search'].replace({'TRUE' : 'consent_search', 'FALSE' : 'no_search'}, inplace = True)"
   ]
  },
  {
   "cell_type": "markdown",
   "metadata": {},
   "source": [
    "Now build the pivot table again. It should be easier to read and contain more information."
   ]
  },
  {
   "cell_type": "code",
   "execution_count": 96,
   "metadata": {},
   "outputs": [
    {
     "data": {
      "text/html": [
       "<div>\n",
       "<style scoped>\n",
       "    .dataframe tbody tr th:only-of-type {\n",
       "        vertical-align: middle;\n",
       "    }\n",
       "\n",
       "    .dataframe tbody tr th {\n",
       "        vertical-align: top;\n",
       "    }\n",
       "\n",
       "    .dataframe thead th {\n",
       "        text-align: right;\n",
       "    }\n",
       "</style>\n",
       "<table border=\"1\" class=\"dataframe\">\n",
       "  <thead>\n",
       "    <tr style=\"text-align: right;\">\n",
       "      <th>search_conducted</th>\n",
       "      <th>FALSE</th>\n",
       "      <th>TRUE</th>\n",
       "      <th>total</th>\n",
       "    </tr>\n",
       "    <tr>\n",
       "      <th>consent_search</th>\n",
       "      <th></th>\n",
       "      <th></th>\n",
       "      <th></th>\n",
       "    </tr>\n",
       "  </thead>\n",
       "  <tbody>\n",
       "    <tr>\n",
       "      <th>consent_search</th>\n",
       "      <td>NaN</td>\n",
       "      <td>2513.0</td>\n",
       "      <td>2513</td>\n",
       "    </tr>\n",
       "    <tr>\n",
       "      <th>no_search</th>\n",
       "      <td>429094.0</td>\n",
       "      <td>NaN</td>\n",
       "      <td>429094</td>\n",
       "    </tr>\n",
       "    <tr>\n",
       "      <th>unknown_search</th>\n",
       "      <td>NaN</td>\n",
       "      <td>18912.0</td>\n",
       "      <td>18912</td>\n",
       "    </tr>\n",
       "    <tr>\n",
       "      <th>total</th>\n",
       "      <td>429094.0</td>\n",
       "      <td>21425.0</td>\n",
       "      <td>450519</td>\n",
       "    </tr>\n",
       "  </tbody>\n",
       "</table>\n",
       "</div>"
      ],
      "text/plain": [
       "search_conducted     FALSE     TRUE   total\n",
       "consent_search                             \n",
       "consent_search         NaN   2513.0    2513\n",
       "no_search         429094.0      NaN  429094\n",
       "unknown_search         NaN  18912.0   18912\n",
       "total             429094.0  21425.0  450519"
      ]
     },
     "execution_count": 96,
     "metadata": {},
     "output_type": "execute_result"
    }
   ],
   "source": [
    "pd.pivot_table(az_stops, index = 'consent_search', \n",
    "               columns = 'search_conducted', \n",
    "               values = 'id', \n",
    "               aggfunc = 'count', \n",
    "               margins = True, \n",
    "               margins_name = 'total')"
   ]
  },
  {
   "cell_type": "markdown",
   "metadata": {},
   "source": [
    "### Work on your own, part II\n",
    "\n",
    "Now that we have the `consent_search` column cleaned up, we can start doing our analysis. The first step is to create a pivot table with `consent_search` as the columns, `driver_race` as the race and a count of `id` as the values. Call it `search_rates`. Make sure to convert it back to a dataframe after you are done."
   ]
  },
  {
   "cell_type": "code",
   "execution_count": 97,
   "metadata": {},
   "outputs": [
    {
     "data": {
      "text/html": [
       "<div>\n",
       "<style scoped>\n",
       "    .dataframe tbody tr th:only-of-type {\n",
       "        vertical-align: middle;\n",
       "    }\n",
       "\n",
       "    .dataframe tbody tr th {\n",
       "        vertical-align: top;\n",
       "    }\n",
       "\n",
       "    .dataframe thead th {\n",
       "        text-align: right;\n",
       "    }\n",
       "</style>\n",
       "<table border=\"1\" class=\"dataframe\">\n",
       "  <thead>\n",
       "    <tr style=\"text-align: right;\">\n",
       "      <th></th>\n",
       "      <th>driver_race</th>\n",
       "      <th>consent_search</th>\n",
       "      <th>no_search</th>\n",
       "      <th>unknown_search</th>\n",
       "      <th>total</th>\n",
       "    </tr>\n",
       "  </thead>\n",
       "  <tbody>\n",
       "    <tr>\n",
       "      <th>0</th>\n",
       "      <td>Asian</td>\n",
       "      <td>35</td>\n",
       "      <td>11260</td>\n",
       "      <td>179</td>\n",
       "      <td>11474</td>\n",
       "    </tr>\n",
       "    <tr>\n",
       "      <th>1</th>\n",
       "      <td>Black</td>\n",
       "      <td>199</td>\n",
       "      <td>26348</td>\n",
       "      <td>1976</td>\n",
       "      <td>28523</td>\n",
       "    </tr>\n",
       "    <tr>\n",
       "      <th>2</th>\n",
       "      <td>Hispanic</td>\n",
       "      <td>1563</td>\n",
       "      <td>113518</td>\n",
       "      <td>6991</td>\n",
       "      <td>122072</td>\n",
       "    </tr>\n",
       "    <tr>\n",
       "      <th>3</th>\n",
       "      <td>Other</td>\n",
       "      <td>76</td>\n",
       "      <td>31579</td>\n",
       "      <td>1957</td>\n",
       "      <td>33612</td>\n",
       "    </tr>\n",
       "    <tr>\n",
       "      <th>4</th>\n",
       "      <td>White</td>\n",
       "      <td>640</td>\n",
       "      <td>246389</td>\n",
       "      <td>7809</td>\n",
       "      <td>254838</td>\n",
       "    </tr>\n",
       "    <tr>\n",
       "      <th>5</th>\n",
       "      <td>total</td>\n",
       "      <td>2513</td>\n",
       "      <td>429094</td>\n",
       "      <td>18912</td>\n",
       "      <td>450519</td>\n",
       "    </tr>\n",
       "  </tbody>\n",
       "</table>\n",
       "</div>"
      ],
      "text/plain": [
       "  driver_race  consent_search  no_search  unknown_search   total\n",
       "0       Asian              35      11260             179   11474\n",
       "1       Black             199      26348            1976   28523\n",
       "2    Hispanic            1563     113518            6991  122072\n",
       "3       Other              76      31579            1957   33612\n",
       "4       White             640     246389            7809  254838\n",
       "5       total            2513     429094           18912  450519"
      ]
     },
     "execution_count": 97,
     "metadata": {},
     "output_type": "execute_result"
    }
   ],
   "source": [
    "# create the pivot table\n",
    "search_rates = pd.pivot_table(az_stops, \n",
    "                              columns = 'consent_search', \n",
    "                              index = 'driver_race', \n",
    "                              values = 'id', \n",
    "                              aggfunc = 'count', \n",
    "                              margins = True, \n",
    "                              margins_name = 'total')\n",
    "\n",
    "search_rates = pd.DataFrame(search_rates.to_records())\n",
    "search_rates"
   ]
  },
  {
   "cell_type": "markdown",
   "metadata": {},
   "source": [
    "### Coming back\n",
    "\n",
    "Now we are starting to get somewhere. We now know the number of consent searches, the number of other searches and the total number of stops by race. This is enough for us to start doing some math.\n",
    "\n",
    "## Calculating search rates\n",
    "\n",
    "Here we will need to add a new column to our data - a ratio of searches to stops."
   ]
  },
  {
   "cell_type": "code",
   "execution_count": 98,
   "metadata": {},
   "outputs": [
    {
     "data": {
      "text/html": [
       "<div>\n",
       "<style scoped>\n",
       "    .dataframe tbody tr th:only-of-type {\n",
       "        vertical-align: middle;\n",
       "    }\n",
       "\n",
       "    .dataframe tbody tr th {\n",
       "        vertical-align: top;\n",
       "    }\n",
       "\n",
       "    .dataframe thead th {\n",
       "        text-align: right;\n",
       "    }\n",
       "</style>\n",
       "<table border=\"1\" class=\"dataframe\">\n",
       "  <thead>\n",
       "    <tr style=\"text-align: right;\">\n",
       "      <th></th>\n",
       "      <th>driver_race</th>\n",
       "      <th>consent_search</th>\n",
       "      <th>no_search</th>\n",
       "      <th>unknown_search</th>\n",
       "      <th>total</th>\n",
       "      <th>search_rate</th>\n",
       "    </tr>\n",
       "  </thead>\n",
       "  <tbody>\n",
       "    <tr>\n",
       "      <th>0</th>\n",
       "      <td>Asian</td>\n",
       "      <td>35</td>\n",
       "      <td>11260</td>\n",
       "      <td>179</td>\n",
       "      <td>11474</td>\n",
       "      <td>3.050375</td>\n",
       "    </tr>\n",
       "    <tr>\n",
       "      <th>1</th>\n",
       "      <td>Black</td>\n",
       "      <td>199</td>\n",
       "      <td>26348</td>\n",
       "      <td>1976</td>\n",
       "      <td>28523</td>\n",
       "      <td>6.976826</td>\n",
       "    </tr>\n",
       "    <tr>\n",
       "      <th>2</th>\n",
       "      <td>Hispanic</td>\n",
       "      <td>1563</td>\n",
       "      <td>113518</td>\n",
       "      <td>6991</td>\n",
       "      <td>122072</td>\n",
       "      <td>12.803919</td>\n",
       "    </tr>\n",
       "    <tr>\n",
       "      <th>3</th>\n",
       "      <td>Other</td>\n",
       "      <td>76</td>\n",
       "      <td>31579</td>\n",
       "      <td>1957</td>\n",
       "      <td>33612</td>\n",
       "      <td>2.261097</td>\n",
       "    </tr>\n",
       "    <tr>\n",
       "      <th>4</th>\n",
       "      <td>White</td>\n",
       "      <td>640</td>\n",
       "      <td>246389</td>\n",
       "      <td>7809</td>\n",
       "      <td>254838</td>\n",
       "      <td>2.511399</td>\n",
       "    </tr>\n",
       "    <tr>\n",
       "      <th>5</th>\n",
       "      <td>total</td>\n",
       "      <td>2513</td>\n",
       "      <td>429094</td>\n",
       "      <td>18912</td>\n",
       "      <td>450519</td>\n",
       "      <td>5.578011</td>\n",
       "    </tr>\n",
       "  </tbody>\n",
       "</table>\n",
       "</div>"
      ],
      "text/plain": [
       "  driver_race  consent_search  no_search  unknown_search   total  search_rate\n",
       "0       Asian              35      11260             179   11474     3.050375\n",
       "1       Black             199      26348            1976   28523     6.976826\n",
       "2    Hispanic            1563     113518            6991  122072    12.803919\n",
       "3       Other              76      31579            1957   33612     2.261097\n",
       "4       White             640     246389            7809  254838     2.511399\n",
       "5       total            2513     429094           18912  450519     5.578011"
      ]
     },
     "execution_count": 98,
     "metadata": {},
     "output_type": "execute_result"
    }
   ],
   "source": [
    "# do this without the multiplier first, show how we end up with small numbers \n",
    "# and then multiply by 1000 to make it per 1,000 stops\n",
    "search_rates['search_rate'] = (search_rates['consent_search'] / search_rates['total']) * 1000\n",
    "search_rates"
   ]
  },
  {
   "cell_type": "markdown",
   "metadata": {},
   "source": [
    "## Now we have a story...\n",
    "\n",
    "A little math was able to do a lot in this case. We can now see that comparatively speaking, Hispanics were searched at rates much higher than whites in 2015. In fact they were searched at a rate nearly twice that of any other racial/ethnic group. So how do we write about that? What are some sentences that we could write in a story? What is the best way to present those numbers visually?"
   ]
  },
  {
   "cell_type": "markdown",
   "metadata": {},
   "source": [
    "### Work on your own, part III\n",
    "\n",
    "Now that we have some results, let's create a simple bar chart to display them."
   ]
  },
  {
   "cell_type": "code",
   "execution_count": 99,
   "metadata": {},
   "outputs": [
    {
     "data": {
      "text/html": [
       "<div class=\"vega-embed\" id=\"50b434e7-8764-40ae-ae29-a594442b8c24\"></div>\n",
       "\n",
       "<style>\n",
       ".vega-embed .vega-actions > a {\n",
       "    transition: opacity 200ms ease-in;\n",
       "    opacity: 0.3;\n",
       "    margin-right: 0.6em;\n",
       "    color: #444;\n",
       "    text-decoration: none;\n",
       "}\n",
       "\n",
       ".vega-embed .vega-actions > a:hover {\n",
       "    color: #000;\n",
       "    text-decoration: underline;\n",
       "}\n",
       "\n",
       ".vega-embed:hover .vega-actions > a {\n",
       "    opacity: 1;\n",
       "    transition: 0s;\n",
       "}\n",
       "\n",
       ".vega-embed .error p {\n",
       "    color: firebrick;\n",
       "    font-size: 1.2em;\n",
       "}\n",
       "</style>\n"
      ]
     },
     "metadata": {
      "jupyter-vega3": "#50b434e7-8764-40ae-ae29-a594442b8c24"
     },
     "output_type": "display_data"
    },
    {
     "data": {
      "application/javascript": [
       "var spec = {\"config\": {\"view\": {\"width\": 400, \"height\": 300}}, \"data\": {\"values\": [{\"driver_race\": \"Asian\", \"consent_search\": 35, \"no_search\": 11260, \"unknown_search\": 179, \"total\": 11474, \"search_rate\": 3.0503747603276974}, {\"driver_race\": \"Black\", \"consent_search\": 199, \"no_search\": 26348, \"unknown_search\": 1976, \"total\": 28523, \"search_rate\": 6.9768257195947125}, {\"driver_race\": \"Hispanic\", \"consent_search\": 1563, \"no_search\": 113518, \"unknown_search\": 6991, \"total\": 122072, \"search_rate\": 12.803918998623763}, {\"driver_race\": \"Other\", \"consent_search\": 76, \"no_search\": 31579, \"unknown_search\": 1957, \"total\": 33612, \"search_rate\": 2.2610972271807688}, {\"driver_race\": \"White\", \"consent_search\": 640, \"no_search\": 246389, \"unknown_search\": 7809, \"total\": 254838, \"search_rate\": 2.511399398833769}, {\"driver_race\": \"total\", \"consent_search\": 2513, \"no_search\": 429094, \"unknown_search\": 18912, \"total\": 450519, \"search_rate\": 5.578011138264979}]}, \"mark\": \"bar\", \"encoding\": {\"x\": {\"type\": \"nominal\", \"field\": \"driver_race\"}, \"y\": {\"type\": \"quantitative\", \"field\": \"search_rate\"}}, \"$schema\": \"https://vega.github.io/schema/vega-lite/v2.3.0.json\"};\n",
       "var opt = {};\n",
       "var selector = \"#50b434e7-8764-40ae-ae29-a594442b8c24\";\n",
       "var type = \"vega-lite\";\n",
       "\n",
       "var output_area = this;\n",
       "\n",
       "require(['nbextensions/jupyter-vega3/index'], function(vega) {\n",
       "  vega.render(selector, spec, type, opt, output_area);\n",
       "}, function (err) {\n",
       "  if (err.requireType !== 'scripterror') {\n",
       "    throw(err);\n",
       "  }\n",
       "});\n"
      ]
     },
     "metadata": {
      "jupyter-vega3": "#50b434e7-8764-40ae-ae29-a594442b8c24"
     },
     "output_type": "display_data"
    },
    {
     "data": {
      "text/plain": []
     },
     "execution_count": 99,
     "metadata": {},
     "output_type": "execute_result"
    },
    {
     "data": {
      "image/png": "[encoded data removed]"
     },
     "metadata": {
      "jupyter-vega3": "#50b434e7-8764-40ae-ae29-a594442b8c24"
     },
     "output_type": "display_data"
    }
   ],
   "source": [
    "alt.Chart(search_rates).mark_bar().encode(x = 'driver_race', y = 'search_rate')"
   ]
  },
  {
   "cell_type": "markdown",
   "metadata": {},
   "source": [
    "## But what if...\n",
    "\n",
    "Some critics may argue that officers have good reason when they search somebody's vehicle and that reason may not be race. Fortunately the data contains a column that can help us check that – `contraband_found`. Basically we can check to see how often a consent_search actually turned up something illegal. \n",
    "\n",
    "### Work on your own, part III\n",
    "\n",
    "This exercise has multiple parts:\n",
    "1. First you need to filter the `az_stops` dataframe so you are looking at only consent searches. \n",
    "2. Then you need to create a pivot table called `hit_rates` based on the `driver_race` and the `contraband_found` columns. Convert it back to a dataframe.\n",
    "3. Create a new `hit_rate` column and calculate the hit rate per 100 stops."
   ]
  },
  {
   "cell_type": "code",
   "execution_count": 100,
   "metadata": {},
   "outputs": [],
   "source": [
    "# filter for consent_searches\n",
    "consent_searches = az_stops[az_stops.consent_search == 'consent_search']"
   ]
  },
  {
   "cell_type": "code",
   "execution_count": 101,
   "metadata": {},
   "outputs": [
    {
     "data": {
      "text/html": [
       "<div>\n",
       "<style scoped>\n",
       "    .dataframe tbody tr th:only-of-type {\n",
       "        vertical-align: middle;\n",
       "    }\n",
       "\n",
       "    .dataframe tbody tr th {\n",
       "        vertical-align: top;\n",
       "    }\n",
       "\n",
       "    .dataframe thead th {\n",
       "        text-align: right;\n",
       "    }\n",
       "</style>\n",
       "<table border=\"1\" class=\"dataframe\">\n",
       "  <thead>\n",
       "    <tr style=\"text-align: right;\">\n",
       "      <th></th>\n",
       "      <th>driver_race</th>\n",
       "      <th>miss</th>\n",
       "      <th>hit</th>\n",
       "      <th>total</th>\n",
       "    </tr>\n",
       "  </thead>\n",
       "  <tbody>\n",
       "    <tr>\n",
       "      <th>0</th>\n",
       "      <td>Asian</td>\n",
       "      <td>30</td>\n",
       "      <td>5</td>\n",
       "      <td>35</td>\n",
       "    </tr>\n",
       "    <tr>\n",
       "      <th>1</th>\n",
       "      <td>Black</td>\n",
       "      <td>148</td>\n",
       "      <td>51</td>\n",
       "      <td>199</td>\n",
       "    </tr>\n",
       "    <tr>\n",
       "      <th>2</th>\n",
       "      <td>Hispanic</td>\n",
       "      <td>1378</td>\n",
       "      <td>185</td>\n",
       "      <td>1563</td>\n",
       "    </tr>\n",
       "    <tr>\n",
       "      <th>3</th>\n",
       "      <td>Other</td>\n",
       "      <td>61</td>\n",
       "      <td>15</td>\n",
       "      <td>76</td>\n",
       "    </tr>\n",
       "    <tr>\n",
       "      <th>4</th>\n",
       "      <td>White</td>\n",
       "      <td>479</td>\n",
       "      <td>161</td>\n",
       "      <td>640</td>\n",
       "    </tr>\n",
       "    <tr>\n",
       "      <th>5</th>\n",
       "      <td>total</td>\n",
       "      <td>2096</td>\n",
       "      <td>417</td>\n",
       "      <td>2513</td>\n",
       "    </tr>\n",
       "  </tbody>\n",
       "</table>\n",
       "</div>"
      ],
      "text/plain": [
       "  driver_race  miss  hit  total\n",
       "0       Asian    30    5     35\n",
       "1       Black   148   51    199\n",
       "2    Hispanic  1378  185   1563\n",
       "3       Other    61   15     76\n",
       "4       White   479  161    640\n",
       "5       total  2096  417   2513"
      ]
     },
     "execution_count": 101,
     "metadata": {},
     "output_type": "execute_result"
    }
   ],
   "source": [
    "# create the pivot table\n",
    "hit_rates = pd.pivot_table(consent_searches, \n",
    "                           columns = 'contraband_found', \n",
    "                           index = 'driver_race', \n",
    "                           values = 'id', \n",
    "                           aggfunc = 'count', \n",
    "                           margins = True, \n",
    "                           margins_name = 'total')\n",
    "\n",
    "hit_rates = pd.DataFrame(hit_rates.to_records())\n",
    "# optional rename columns\n",
    "hit_rates.rename(columns = {'FALSE' : 'miss', 'TRUE' : 'hit'}, inplace = True)\n",
    "hit_rates"
   ]
  },
  {
   "cell_type": "code",
   "execution_count": 102,
   "metadata": {},
   "outputs": [
    {
     "data": {
      "text/html": [
       "<div>\n",
       "<style scoped>\n",
       "    .dataframe tbody tr th:only-of-type {\n",
       "        vertical-align: middle;\n",
       "    }\n",
       "\n",
       "    .dataframe tbody tr th {\n",
       "        vertical-align: top;\n",
       "    }\n",
       "\n",
       "    .dataframe thead th {\n",
       "        text-align: right;\n",
       "    }\n",
       "</style>\n",
       "<table border=\"1\" class=\"dataframe\">\n",
       "  <thead>\n",
       "    <tr style=\"text-align: right;\">\n",
       "      <th></th>\n",
       "      <th>driver_race</th>\n",
       "      <th>miss</th>\n",
       "      <th>hit</th>\n",
       "      <th>total</th>\n",
       "      <th>hit_rate</th>\n",
       "    </tr>\n",
       "  </thead>\n",
       "  <tbody>\n",
       "    <tr>\n",
       "      <th>0</th>\n",
       "      <td>Asian</td>\n",
       "      <td>30</td>\n",
       "      <td>5</td>\n",
       "      <td>35</td>\n",
       "      <td>14.285714</td>\n",
       "    </tr>\n",
       "    <tr>\n",
       "      <th>1</th>\n",
       "      <td>Black</td>\n",
       "      <td>148</td>\n",
       "      <td>51</td>\n",
       "      <td>199</td>\n",
       "      <td>25.628141</td>\n",
       "    </tr>\n",
       "    <tr>\n",
       "      <th>2</th>\n",
       "      <td>Hispanic</td>\n",
       "      <td>1378</td>\n",
       "      <td>185</td>\n",
       "      <td>1563</td>\n",
       "      <td>11.836212</td>\n",
       "    </tr>\n",
       "    <tr>\n",
       "      <th>3</th>\n",
       "      <td>Other</td>\n",
       "      <td>61</td>\n",
       "      <td>15</td>\n",
       "      <td>76</td>\n",
       "      <td>19.736842</td>\n",
       "    </tr>\n",
       "    <tr>\n",
       "      <th>4</th>\n",
       "      <td>White</td>\n",
       "      <td>479</td>\n",
       "      <td>161</td>\n",
       "      <td>640</td>\n",
       "      <td>25.156250</td>\n",
       "    </tr>\n",
       "    <tr>\n",
       "      <th>5</th>\n",
       "      <td>total</td>\n",
       "      <td>2096</td>\n",
       "      <td>417</td>\n",
       "      <td>2513</td>\n",
       "      <td>16.593713</td>\n",
       "    </tr>\n",
       "  </tbody>\n",
       "</table>\n",
       "</div>"
      ],
      "text/plain": [
       "  driver_race  miss  hit  total   hit_rate\n",
       "0       Asian    30    5     35  14.285714\n",
       "1       Black   148   51    199  25.628141\n",
       "2    Hispanic  1378  185   1563  11.836212\n",
       "3       Other    61   15     76  19.736842\n",
       "4       White   479  161    640  25.156250\n",
       "5       total  2096  417   2513  16.593713"
      ]
     },
     "execution_count": 102,
     "metadata": {},
     "output_type": "execute_result"
    }
   ],
   "source": [
    "# calculate the hit rate\n",
    "hit_rates['hit_rate'] = (hit_rates['hit'] / hit_rates['total']) * 100\n",
    "\n",
    "hit_rates"
   ]
  },
  {
   "cell_type": "markdown",
   "metadata": {},
   "source": [
    "### Coming back\n",
    "\n",
    "Whoa. It looks like we found something amazing here. **Not only are Hispanics searched at rates much higher than any other racial/ethnicity but police find contraband on them at rates lower than any other racial/ethnic group.**\n",
    "\n",
    "But rather than scrolling up and down the page here, let's combine our results into a single table. To do this we will use the merge function in Pandas. (If you have worked with SQL, this is very similar to a SQL join.)"
   ]
  },
  {
   "cell_type": "code",
   "execution_count": 103,
   "metadata": {},
   "outputs": [
    {
     "data": {
      "text/html": [
       "<div>\n",
       "<style scoped>\n",
       "    .dataframe tbody tr th:only-of-type {\n",
       "        vertical-align: middle;\n",
       "    }\n",
       "\n",
       "    .dataframe tbody tr th {\n",
       "        vertical-align: top;\n",
       "    }\n",
       "\n",
       "    .dataframe thead th {\n",
       "        text-align: right;\n",
       "    }\n",
       "</style>\n",
       "<table border=\"1\" class=\"dataframe\">\n",
       "  <thead>\n",
       "    <tr style=\"text-align: right;\">\n",
       "      <th></th>\n",
       "      <th>driver_race</th>\n",
       "      <th>consent_search</th>\n",
       "      <th>no_search</th>\n",
       "      <th>unknown_search</th>\n",
       "      <th>total_x</th>\n",
       "      <th>search_rate</th>\n",
       "      <th>miss</th>\n",
       "      <th>hit</th>\n",
       "      <th>total_y</th>\n",
       "      <th>hit_rate</th>\n",
       "    </tr>\n",
       "  </thead>\n",
       "  <tbody>\n",
       "    <tr>\n",
       "      <th>0</th>\n",
       "      <td>Asian</td>\n",
       "      <td>35</td>\n",
       "      <td>11260</td>\n",
       "      <td>179</td>\n",
       "      <td>11474</td>\n",
       "      <td>3.050375</td>\n",
       "      <td>30</td>\n",
       "      <td>5</td>\n",
       "      <td>35</td>\n",
       "      <td>14.285714</td>\n",
       "    </tr>\n",
       "    <tr>\n",
       "      <th>1</th>\n",
       "      <td>Black</td>\n",
       "      <td>199</td>\n",
       "      <td>26348</td>\n",
       "      <td>1976</td>\n",
       "      <td>28523</td>\n",
       "      <td>6.976826</td>\n",
       "      <td>148</td>\n",
       "      <td>51</td>\n",
       "      <td>199</td>\n",
       "      <td>25.628141</td>\n",
       "    </tr>\n",
       "    <tr>\n",
       "      <th>2</th>\n",
       "      <td>Hispanic</td>\n",
       "      <td>1563</td>\n",
       "      <td>113518</td>\n",
       "      <td>6991</td>\n",
       "      <td>122072</td>\n",
       "      <td>12.803919</td>\n",
       "      <td>1378</td>\n",
       "      <td>185</td>\n",
       "      <td>1563</td>\n",
       "      <td>11.836212</td>\n",
       "    </tr>\n",
       "    <tr>\n",
       "      <th>3</th>\n",
       "      <td>Other</td>\n",
       "      <td>76</td>\n",
       "      <td>31579</td>\n",
       "      <td>1957</td>\n",
       "      <td>33612</td>\n",
       "      <td>2.261097</td>\n",
       "      <td>61</td>\n",
       "      <td>15</td>\n",
       "      <td>76</td>\n",
       "      <td>19.736842</td>\n",
       "    </tr>\n",
       "    <tr>\n",
       "      <th>4</th>\n",
       "      <td>White</td>\n",
       "      <td>640</td>\n",
       "      <td>246389</td>\n",
       "      <td>7809</td>\n",
       "      <td>254838</td>\n",
       "      <td>2.511399</td>\n",
       "      <td>479</td>\n",
       "      <td>161</td>\n",
       "      <td>640</td>\n",
       "      <td>25.156250</td>\n",
       "    </tr>\n",
       "    <tr>\n",
       "      <th>5</th>\n",
       "      <td>total</td>\n",
       "      <td>2513</td>\n",
       "      <td>429094</td>\n",
       "      <td>18912</td>\n",
       "      <td>450519</td>\n",
       "      <td>5.578011</td>\n",
       "      <td>2096</td>\n",
       "      <td>417</td>\n",
       "      <td>2513</td>\n",
       "      <td>16.593713</td>\n",
       "    </tr>\n",
       "  </tbody>\n",
       "</table>\n",
       "</div>"
      ],
      "text/plain": [
       "  driver_race  consent_search  no_search  unknown_search  total_x  \\\n",
       "0       Asian              35      11260             179    11474   \n",
       "1       Black             199      26348            1976    28523   \n",
       "2    Hispanic            1563     113518            6991   122072   \n",
       "3       Other              76      31579            1957    33612   \n",
       "4       White             640     246389            7809   254838   \n",
       "5       total            2513     429094           18912   450519   \n",
       "\n",
       "   search_rate  miss  hit  total_y   hit_rate  \n",
       "0     3.050375    30    5       35  14.285714  \n",
       "1     6.976826   148   51      199  25.628141  \n",
       "2    12.803919  1378  185     1563  11.836212  \n",
       "3     2.261097    61   15       76  19.736842  \n",
       "4     2.511399   479  161      640  25.156250  \n",
       "5     5.578011  2096  417     2513  16.593713  "
      ]
     },
     "execution_count": 103,
     "metadata": {},
     "output_type": "execute_result"
    }
   ],
   "source": [
    "combined = search_rates.merge(hit_rates, on = 'driver_race', how = 'inner')\n",
    "combined"
   ]
  },
  {
   "cell_type": "markdown",
   "metadata": {},
   "source": [
    "And let's clean up the columns a bit. We want to rename the `total_x` to `traffic_stops` and drop the `total_y` column since it duplicates `consent_search`. We can drop the other search columns as well as the `miss` column. We also should rename the `search_rate` and `hit_rate` columns to make more sense. While we are at it, let's re-order the columns."
   ]
  },
  {
   "cell_type": "code",
   "execution_count": 104,
   "metadata": {},
   "outputs": [
    {
     "ename": "KeyError",
     "evalue": "\"['search_rate' 'hit_rate'] not in index\"",
     "output_type": "error",
     "traceback": [
      "\u001b[0;31m---------------------------------------------------------------------------\u001b[0m",
      "\u001b[0;31mKeyError\u001b[0m                                  Traceback (most recent call last)",
      "\u001b[0;32m<ipython-input-104-407f05ade97f>\u001b[0m in \u001b[0;36m<module>\u001b[0;34m()\u001b[0m\n\u001b[1;32m      1\u001b[0m \u001b[0mcombined\u001b[0m\u001b[0;34m.\u001b[0m\u001b[0mrename\u001b[0m\u001b[0;34m(\u001b[0m\u001b[0mcolumns\u001b[0m \u001b[0;34m=\u001b[0m \u001b[0;34m{\u001b[0m\u001b[0;34m'total_x'\u001b[0m \u001b[0;34m:\u001b[0m \u001b[0;34m'traffic_stops'\u001b[0m\u001b[0;34m,\u001b[0m \u001b[0;34m'search_rate'\u001b[0m \u001b[0;34m:\u001b[0m \u001b[0;34m'searches_per_1k_stops'\u001b[0m\u001b[0;34m,\u001b[0m \u001b[0;34m'hit_rate'\u001b[0m \u001b[0;34m:\u001b[0m \u001b[0;34m'hits_per_100_searches'\u001b[0m\u001b[0;34m}\u001b[0m\u001b[0;34m,\u001b[0m \u001b[0minplace\u001b[0m \u001b[0;34m=\u001b[0m \u001b[0;32mTrue\u001b[0m\u001b[0;34m)\u001b[0m\u001b[0;34m\u001b[0m\u001b[0m\n\u001b[1;32m      2\u001b[0m \u001b[0;34m\u001b[0m\u001b[0m\n\u001b[0;32m----> 3\u001b[0;31m \u001b[0mcombined\u001b[0m \u001b[0;34m=\u001b[0m \u001b[0mcombined\u001b[0m\u001b[0;34m[\u001b[0m\u001b[0;34m[\u001b[0m\u001b[0;34m'driver_race'\u001b[0m\u001b[0;34m,\u001b[0m \u001b[0;34m'traffic_stops'\u001b[0m\u001b[0;34m,\u001b[0m \u001b[0;34m'consent_search'\u001b[0m\u001b[0;34m,\u001b[0m \u001b[0;34m'hit'\u001b[0m\u001b[0;34m,\u001b[0m \u001b[0;34m'search_rate'\u001b[0m\u001b[0;34m,\u001b[0m \u001b[0;34m'hit_rate'\u001b[0m\u001b[0;34m]\u001b[0m\u001b[0;34m]\u001b[0m\u001b[0;34m.\u001b[0m\u001b[0mcopy\u001b[0m\u001b[0;34m(\u001b[0m\u001b[0;34m)\u001b[0m\u001b[0;34m\u001b[0m\u001b[0m\n\u001b[0m\u001b[1;32m      4\u001b[0m \u001b[0mcombined\u001b[0m\u001b[0;34m\u001b[0m\u001b[0m\n",
      "\u001b[0;32m~/.pyenv/versions/3.6.3/envs/az_stops/lib/python3.6/site-packages/pandas/core/frame.py\u001b[0m in \u001b[0;36m__getitem__\u001b[0;34m(self, key)\u001b[0m\n\u001b[1;32m   2131\u001b[0m         \u001b[0;32mif\u001b[0m \u001b[0misinstance\u001b[0m\u001b[0;34m(\u001b[0m\u001b[0mkey\u001b[0m\u001b[0;34m,\u001b[0m \u001b[0;34m(\u001b[0m\u001b[0mSeries\u001b[0m\u001b[0;34m,\u001b[0m \u001b[0mnp\u001b[0m\u001b[0;34m.\u001b[0m\u001b[0mndarray\u001b[0m\u001b[0;34m,\u001b[0m \u001b[0mIndex\u001b[0m\u001b[0;34m,\u001b[0m \u001b[0mlist\u001b[0m\u001b[0;34m)\u001b[0m\u001b[0;34m)\u001b[0m\u001b[0;34m:\u001b[0m\u001b[0;34m\u001b[0m\u001b[0m\n\u001b[1;32m   2132\u001b[0m             \u001b[0;31m# either boolean or fancy integer index\u001b[0m\u001b[0;34m\u001b[0m\u001b[0;34m\u001b[0m\u001b[0m\n\u001b[0;32m-> 2133\u001b[0;31m             \u001b[0;32mreturn\u001b[0m \u001b[0mself\u001b[0m\u001b[0;34m.\u001b[0m\u001b[0m_getitem_array\u001b[0m\u001b[0;34m(\u001b[0m\u001b[0mkey\u001b[0m\u001b[0;34m)\u001b[0m\u001b[0;34m\u001b[0m\u001b[0m\n\u001b[0m\u001b[1;32m   2134\u001b[0m         \u001b[0;32melif\u001b[0m \u001b[0misinstance\u001b[0m\u001b[0;34m(\u001b[0m\u001b[0mkey\u001b[0m\u001b[0;34m,\u001b[0m \u001b[0mDataFrame\u001b[0m\u001b[0;34m)\u001b[0m\u001b[0;34m:\u001b[0m\u001b[0;34m\u001b[0m\u001b[0m\n\u001b[1;32m   2135\u001b[0m             \u001b[0;32mreturn\u001b[0m \u001b[0mself\u001b[0m\u001b[0;34m.\u001b[0m\u001b[0m_getitem_frame\u001b[0m\u001b[0;34m(\u001b[0m\u001b[0mkey\u001b[0m\u001b[0;34m)\u001b[0m\u001b[0;34m\u001b[0m\u001b[0m\n",
      "\u001b[0;32m~/.pyenv/versions/3.6.3/envs/az_stops/lib/python3.6/site-packages/pandas/core/frame.py\u001b[0m in \u001b[0;36m_getitem_array\u001b[0;34m(self, key)\u001b[0m\n\u001b[1;32m   2175\u001b[0m             \u001b[0;32mreturn\u001b[0m \u001b[0mself\u001b[0m\u001b[0;34m.\u001b[0m\u001b[0m_take\u001b[0m\u001b[0;34m(\u001b[0m\u001b[0mindexer\u001b[0m\u001b[0;34m,\u001b[0m \u001b[0maxis\u001b[0m\u001b[0;34m=\u001b[0m\u001b[0;36m0\u001b[0m\u001b[0;34m,\u001b[0m \u001b[0mconvert\u001b[0m\u001b[0;34m=\u001b[0m\u001b[0;32mFalse\u001b[0m\u001b[0;34m)\u001b[0m\u001b[0;34m\u001b[0m\u001b[0m\n\u001b[1;32m   2176\u001b[0m         \u001b[0;32melse\u001b[0m\u001b[0;34m:\u001b[0m\u001b[0;34m\u001b[0m\u001b[0m\n\u001b[0;32m-> 2177\u001b[0;31m             \u001b[0mindexer\u001b[0m \u001b[0;34m=\u001b[0m \u001b[0mself\u001b[0m\u001b[0;34m.\u001b[0m\u001b[0mloc\u001b[0m\u001b[0;34m.\u001b[0m\u001b[0m_convert_to_indexer\u001b[0m\u001b[0;34m(\u001b[0m\u001b[0mkey\u001b[0m\u001b[0;34m,\u001b[0m \u001b[0maxis\u001b[0m\u001b[0;34m=\u001b[0m\u001b[0;36m1\u001b[0m\u001b[0;34m)\u001b[0m\u001b[0;34m\u001b[0m\u001b[0m\n\u001b[0m\u001b[1;32m   2178\u001b[0m             \u001b[0;32mreturn\u001b[0m \u001b[0mself\u001b[0m\u001b[0;34m.\u001b[0m\u001b[0m_take\u001b[0m\u001b[0;34m(\u001b[0m\u001b[0mindexer\u001b[0m\u001b[0;34m,\u001b[0m \u001b[0maxis\u001b[0m\u001b[0;34m=\u001b[0m\u001b[0;36m1\u001b[0m\u001b[0;34m,\u001b[0m \u001b[0mconvert\u001b[0m\u001b[0;34m=\u001b[0m\u001b[0;32mTrue\u001b[0m\u001b[0;34m)\u001b[0m\u001b[0;34m\u001b[0m\u001b[0m\n\u001b[1;32m   2179\u001b[0m \u001b[0;34m\u001b[0m\u001b[0m\n",
      "\u001b[0;32m~/.pyenv/versions/3.6.3/envs/az_stops/lib/python3.6/site-packages/pandas/core/indexing.py\u001b[0m in \u001b[0;36m_convert_to_indexer\u001b[0;34m(self, obj, axis, is_setter)\u001b[0m\n\u001b[1;32m   1267\u001b[0m                 \u001b[0;32mif\u001b[0m \u001b[0mmask\u001b[0m\u001b[0;34m.\u001b[0m\u001b[0many\u001b[0m\u001b[0;34m(\u001b[0m\u001b[0;34m)\u001b[0m\u001b[0;34m:\u001b[0m\u001b[0;34m\u001b[0m\u001b[0m\n\u001b[1;32m   1268\u001b[0m                     raise KeyError('{mask} not in index'\n\u001b[0;32m-> 1269\u001b[0;31m                                    .format(mask=objarr[mask]))\n\u001b[0m\u001b[1;32m   1270\u001b[0m \u001b[0;34m\u001b[0m\u001b[0m\n\u001b[1;32m   1271\u001b[0m                 \u001b[0;32mreturn\u001b[0m \u001b[0m_values_from_object\u001b[0m\u001b[0;34m(\u001b[0m\u001b[0mindexer\u001b[0m\u001b[0;34m)\u001b[0m\u001b[0;34m\u001b[0m\u001b[0m\n",
      "\u001b[0;31mKeyError\u001b[0m: \"['search_rate' 'hit_rate'] not in index\""
     ]
    }
   ],
   "source": [
    "combined.rename(columns = {'total_x' : 'traffic_stops', 'search_rate' : 'searches_per_1k_stops', 'hit_rate' : 'hits_per_100_searches'}, inplace = True)\n",
    "\n",
    "combined = combined[['driver_race', 'traffic_stops', 'consent_search', 'hit', 'search_rate', 'hit_rate']].copy()\n",
    "combined"
   ]
  },
  {
   "cell_type": "markdown",
   "metadata": {},
   "source": [
    "## Let's visualize it\n",
    "\n",
    "Again it may help to visualize the data. Let's create a scatter plot comparing hit rates and search rates by race."
   ]
  },
  {
   "cell_type": "code",
   "execution_count": 105,
   "metadata": {},
   "outputs": [
    {
     "ename": "ValueError",
     "evalue": "search_rate encoding field is specified without a type; the type cannot be inferred because it does not match any column in the data.",
     "output_type": "error",
     "traceback": [
      "\u001b[0;31m---------------------------------------------------------------------------\u001b[0m",
      "\u001b[0;31mValueError\u001b[0m                                Traceback (most recent call last)",
      "\u001b[0;32m~/.pyenv/versions/3.6.3/envs/az_stops/lib/python3.6/site-packages/altair/vegalite/v2/api.py\u001b[0m in \u001b[0;36mto_dict\u001b[0;34m(self, *args, **kwargs)\u001b[0m\n\u001b[1;32m    327\u001b[0m \u001b[0;34m\u001b[0m\u001b[0m\n\u001b[1;32m    328\u001b[0m         \u001b[0;32mtry\u001b[0m\u001b[0;34m:\u001b[0m\u001b[0;34m\u001b[0m\u001b[0m\n\u001b[0;32m--> 329\u001b[0;31m             \u001b[0mdct\u001b[0m \u001b[0;34m=\u001b[0m \u001b[0msuper\u001b[0m\u001b[0;34m(\u001b[0m\u001b[0mTopLevelMixin\u001b[0m\u001b[0;34m,\u001b[0m \u001b[0mcopy\u001b[0m\u001b[0;34m)\u001b[0m\u001b[0;34m.\u001b[0m\u001b[0mto_dict\u001b[0m\u001b[0;34m(\u001b[0m\u001b[0;34m*\u001b[0m\u001b[0margs\u001b[0m\u001b[0;34m,\u001b[0m \u001b[0;34m**\u001b[0m\u001b[0mkwargs\u001b[0m\u001b[0;34m)\u001b[0m\u001b[0;34m\u001b[0m\u001b[0m\n\u001b[0m\u001b[1;32m    330\u001b[0m         \u001b[0;32mexcept\u001b[0m \u001b[0mjsonschema\u001b[0m\u001b[0;34m.\u001b[0m\u001b[0mValidationError\u001b[0m\u001b[0;34m:\u001b[0m\u001b[0;34m\u001b[0m\u001b[0m\n\u001b[1;32m    331\u001b[0m             \u001b[0mdct\u001b[0m \u001b[0;34m=\u001b[0m \u001b[0;32mNone\u001b[0m\u001b[0;34m\u001b[0m\u001b[0m\n",
      "\u001b[0;32m~/.pyenv/versions/3.6.3/envs/az_stops/lib/python3.6/site-packages/altair/utils/schemapi.py\u001b[0m in \u001b[0;36mto_dict\u001b[0;34m(self, validate, ignore, context)\u001b[0m\n\u001b[1;32m    243\u001b[0m             \u001b[0mresult\u001b[0m \u001b[0;34m=\u001b[0m \u001b[0m_todict\u001b[0m\u001b[0;34m(\u001b[0m\u001b[0mself\u001b[0m\u001b[0;34m.\u001b[0m\u001b[0m_args\u001b[0m\u001b[0;34m[\u001b[0m\u001b[0;36m0\u001b[0m\u001b[0;34m]\u001b[0m\u001b[0;34m)\u001b[0m\u001b[0;34m\u001b[0m\u001b[0m\n\u001b[1;32m    244\u001b[0m         \u001b[0;32melif\u001b[0m \u001b[0;32mnot\u001b[0m \u001b[0mself\u001b[0m\u001b[0;34m.\u001b[0m\u001b[0m_args\u001b[0m\u001b[0;34m:\u001b[0m\u001b[0;34m\u001b[0m\u001b[0m\n\u001b[0;32m--> 245\u001b[0;31m             result = _todict({k: v for k, v in self._kwds.items()\n\u001b[0m\u001b[1;32m    246\u001b[0m                               if k not in ignore})\n\u001b[1;32m    247\u001b[0m         \u001b[0;32melse\u001b[0m\u001b[0;34m:\u001b[0m\u001b[0;34m\u001b[0m\u001b[0m\n",
      "\u001b[0;32m~/.pyenv/versions/3.6.3/envs/az_stops/lib/python3.6/site-packages/altair/utils/schemapi.py\u001b[0m in \u001b[0;36m_todict\u001b[0;34m(val)\u001b[0m\n\u001b[1;32m    235\u001b[0m                 \u001b[0;32mreturn\u001b[0m \u001b[0;34m[\u001b[0m\u001b[0m_todict\u001b[0m\u001b[0;34m(\u001b[0m\u001b[0mv\u001b[0m\u001b[0;34m)\u001b[0m \u001b[0;32mfor\u001b[0m \u001b[0mv\u001b[0m \u001b[0;32min\u001b[0m \u001b[0mval\u001b[0m\u001b[0;34m]\u001b[0m\u001b[0;34m\u001b[0m\u001b[0m\n\u001b[1;32m    236\u001b[0m             \u001b[0;32melif\u001b[0m \u001b[0misinstance\u001b[0m\u001b[0;34m(\u001b[0m\u001b[0mval\u001b[0m\u001b[0;34m,\u001b[0m \u001b[0mdict\u001b[0m\u001b[0;34m)\u001b[0m\u001b[0;34m:\u001b[0m\u001b[0;34m\u001b[0m\u001b[0m\n\u001b[0;32m--> 237\u001b[0;31m                 return {k: _todict(v) for k, v in val.items()\n\u001b[0m\u001b[1;32m    238\u001b[0m                         if v is not Undefined}\n\u001b[1;32m    239\u001b[0m             \u001b[0;32melse\u001b[0m\u001b[0;34m:\u001b[0m\u001b[0;34m\u001b[0m\u001b[0m\n",
      "\u001b[0;32m~/.pyenv/versions/3.6.3/envs/az_stops/lib/python3.6/site-packages/altair/utils/schemapi.py\u001b[0m in \u001b[0;36m<dictcomp>\u001b[0;34m(.0)\u001b[0m\n\u001b[1;32m    236\u001b[0m             \u001b[0;32melif\u001b[0m \u001b[0misinstance\u001b[0m\u001b[0;34m(\u001b[0m\u001b[0mval\u001b[0m\u001b[0;34m,\u001b[0m \u001b[0mdict\u001b[0m\u001b[0;34m)\u001b[0m\u001b[0;34m:\u001b[0m\u001b[0;34m\u001b[0m\u001b[0m\n\u001b[1;32m    237\u001b[0m                 return {k: _todict(v) for k, v in val.items()\n\u001b[0;32m--> 238\u001b[0;31m                         if v is not Undefined}\n\u001b[0m\u001b[1;32m    239\u001b[0m             \u001b[0;32melse\u001b[0m\u001b[0;34m:\u001b[0m\u001b[0;34m\u001b[0m\u001b[0m\n\u001b[1;32m    240\u001b[0m                 \u001b[0;32mreturn\u001b[0m \u001b[0mval\u001b[0m\u001b[0;34m\u001b[0m\u001b[0m\n",
      "\u001b[0;32m~/.pyenv/versions/3.6.3/envs/az_stops/lib/python3.6/site-packages/altair/utils/schemapi.py\u001b[0m in \u001b[0;36m_todict\u001b[0;34m(val)\u001b[0m\n\u001b[1;32m    231\u001b[0m         \u001b[0;32mdef\u001b[0m \u001b[0m_todict\u001b[0m\u001b[0;34m(\u001b[0m\u001b[0mval\u001b[0m\u001b[0;34m)\u001b[0m\u001b[0;34m:\u001b[0m\u001b[0;34m\u001b[0m\u001b[0m\n\u001b[1;32m    232\u001b[0m             \u001b[0;32mif\u001b[0m \u001b[0misinstance\u001b[0m\u001b[0;34m(\u001b[0m\u001b[0mval\u001b[0m\u001b[0;34m,\u001b[0m \u001b[0mSchemaBase\u001b[0m\u001b[0;34m)\u001b[0m\u001b[0;34m:\u001b[0m\u001b[0;34m\u001b[0m\u001b[0m\n\u001b[0;32m--> 233\u001b[0;31m                 \u001b[0;32mreturn\u001b[0m \u001b[0mval\u001b[0m\u001b[0;34m.\u001b[0m\u001b[0mto_dict\u001b[0m\u001b[0;34m(\u001b[0m\u001b[0mvalidate\u001b[0m\u001b[0;34m=\u001b[0m\u001b[0msub_validate\u001b[0m\u001b[0;34m,\u001b[0m \u001b[0mcontext\u001b[0m\u001b[0;34m=\u001b[0m\u001b[0mcontext\u001b[0m\u001b[0;34m)\u001b[0m\u001b[0;34m\u001b[0m\u001b[0m\n\u001b[0m\u001b[1;32m    234\u001b[0m             \u001b[0;32melif\u001b[0m \u001b[0misinstance\u001b[0m\u001b[0;34m(\u001b[0m\u001b[0mval\u001b[0m\u001b[0;34m,\u001b[0m \u001b[0;34m(\u001b[0m\u001b[0mlist\u001b[0m\u001b[0;34m,\u001b[0m \u001b[0mtuple\u001b[0m\u001b[0;34m)\u001b[0m\u001b[0;34m)\u001b[0m\u001b[0;34m:\u001b[0m\u001b[0;34m\u001b[0m\u001b[0m\n\u001b[1;32m    235\u001b[0m                 \u001b[0;32mreturn\u001b[0m \u001b[0;34m[\u001b[0m\u001b[0m_todict\u001b[0m\u001b[0;34m(\u001b[0m\u001b[0mv\u001b[0m\u001b[0;34m)\u001b[0m \u001b[0;32mfor\u001b[0m \u001b[0mv\u001b[0m \u001b[0;32min\u001b[0m \u001b[0mval\u001b[0m\u001b[0;34m]\u001b[0m\u001b[0;34m\u001b[0m\u001b[0m\n",
      "\u001b[0;32m~/.pyenv/versions/3.6.3/envs/az_stops/lib/python3.6/site-packages/altair/utils/schemapi.py\u001b[0m in \u001b[0;36mto_dict\u001b[0;34m(self, validate, ignore, context)\u001b[0m\n\u001b[1;32m    243\u001b[0m             \u001b[0mresult\u001b[0m \u001b[0;34m=\u001b[0m \u001b[0m_todict\u001b[0m\u001b[0;34m(\u001b[0m\u001b[0mself\u001b[0m\u001b[0;34m.\u001b[0m\u001b[0m_args\u001b[0m\u001b[0;34m[\u001b[0m\u001b[0;36m0\u001b[0m\u001b[0;34m]\u001b[0m\u001b[0;34m)\u001b[0m\u001b[0;34m\u001b[0m\u001b[0m\n\u001b[1;32m    244\u001b[0m         \u001b[0;32melif\u001b[0m \u001b[0;32mnot\u001b[0m \u001b[0mself\u001b[0m\u001b[0;34m.\u001b[0m\u001b[0m_args\u001b[0m\u001b[0;34m:\u001b[0m\u001b[0;34m\u001b[0m\u001b[0m\n\u001b[0;32m--> 245\u001b[0;31m             result = _todict({k: v for k, v in self._kwds.items()\n\u001b[0m\u001b[1;32m    246\u001b[0m                               if k not in ignore})\n\u001b[1;32m    247\u001b[0m         \u001b[0;32melse\u001b[0m\u001b[0;34m:\u001b[0m\u001b[0;34m\u001b[0m\u001b[0m\n",
      "\u001b[0;32m~/.pyenv/versions/3.6.3/envs/az_stops/lib/python3.6/site-packages/altair/utils/schemapi.py\u001b[0m in \u001b[0;36m_todict\u001b[0;34m(val)\u001b[0m\n\u001b[1;32m    235\u001b[0m                 \u001b[0;32mreturn\u001b[0m \u001b[0;34m[\u001b[0m\u001b[0m_todict\u001b[0m\u001b[0;34m(\u001b[0m\u001b[0mv\u001b[0m\u001b[0;34m)\u001b[0m \u001b[0;32mfor\u001b[0m \u001b[0mv\u001b[0m \u001b[0;32min\u001b[0m \u001b[0mval\u001b[0m\u001b[0;34m]\u001b[0m\u001b[0;34m\u001b[0m\u001b[0m\n\u001b[1;32m    236\u001b[0m             \u001b[0;32melif\u001b[0m \u001b[0misinstance\u001b[0m\u001b[0;34m(\u001b[0m\u001b[0mval\u001b[0m\u001b[0;34m,\u001b[0m \u001b[0mdict\u001b[0m\u001b[0;34m)\u001b[0m\u001b[0;34m:\u001b[0m\u001b[0;34m\u001b[0m\u001b[0m\n\u001b[0;32m--> 237\u001b[0;31m                 return {k: _todict(v) for k, v in val.items()\n\u001b[0m\u001b[1;32m    238\u001b[0m                         if v is not Undefined}\n\u001b[1;32m    239\u001b[0m             \u001b[0;32melse\u001b[0m\u001b[0;34m:\u001b[0m\u001b[0;34m\u001b[0m\u001b[0m\n",
      "\u001b[0;32m~/.pyenv/versions/3.6.3/envs/az_stops/lib/python3.6/site-packages/altair/utils/schemapi.py\u001b[0m in \u001b[0;36m<dictcomp>\u001b[0;34m(.0)\u001b[0m\n\u001b[1;32m    236\u001b[0m             \u001b[0;32melif\u001b[0m \u001b[0misinstance\u001b[0m\u001b[0;34m(\u001b[0m\u001b[0mval\u001b[0m\u001b[0;34m,\u001b[0m \u001b[0mdict\u001b[0m\u001b[0;34m)\u001b[0m\u001b[0;34m:\u001b[0m\u001b[0;34m\u001b[0m\u001b[0m\n\u001b[1;32m    237\u001b[0m                 return {k: _todict(v) for k, v in val.items()\n\u001b[0;32m--> 238\u001b[0;31m                         if v is not Undefined}\n\u001b[0m\u001b[1;32m    239\u001b[0m             \u001b[0;32melse\u001b[0m\u001b[0;34m:\u001b[0m\u001b[0;34m\u001b[0m\u001b[0m\n\u001b[1;32m    240\u001b[0m                 \u001b[0;32mreturn\u001b[0m \u001b[0mval\u001b[0m\u001b[0;34m\u001b[0m\u001b[0m\n",
      "\u001b[0;32m~/.pyenv/versions/3.6.3/envs/az_stops/lib/python3.6/site-packages/altair/utils/schemapi.py\u001b[0m in \u001b[0;36m_todict\u001b[0;34m(val)\u001b[0m\n\u001b[1;32m    231\u001b[0m         \u001b[0;32mdef\u001b[0m \u001b[0m_todict\u001b[0m\u001b[0;34m(\u001b[0m\u001b[0mval\u001b[0m\u001b[0;34m)\u001b[0m\u001b[0;34m:\u001b[0m\u001b[0;34m\u001b[0m\u001b[0m\n\u001b[1;32m    232\u001b[0m             \u001b[0;32mif\u001b[0m \u001b[0misinstance\u001b[0m\u001b[0;34m(\u001b[0m\u001b[0mval\u001b[0m\u001b[0;34m,\u001b[0m \u001b[0mSchemaBase\u001b[0m\u001b[0;34m)\u001b[0m\u001b[0;34m:\u001b[0m\u001b[0;34m\u001b[0m\u001b[0m\n\u001b[0;32m--> 233\u001b[0;31m                 \u001b[0;32mreturn\u001b[0m \u001b[0mval\u001b[0m\u001b[0;34m.\u001b[0m\u001b[0mto_dict\u001b[0m\u001b[0;34m(\u001b[0m\u001b[0mvalidate\u001b[0m\u001b[0;34m=\u001b[0m\u001b[0msub_validate\u001b[0m\u001b[0;34m,\u001b[0m \u001b[0mcontext\u001b[0m\u001b[0;34m=\u001b[0m\u001b[0mcontext\u001b[0m\u001b[0;34m)\u001b[0m\u001b[0;34m\u001b[0m\u001b[0m\n\u001b[0m\u001b[1;32m    234\u001b[0m             \u001b[0;32melif\u001b[0m \u001b[0misinstance\u001b[0m\u001b[0;34m(\u001b[0m\u001b[0mval\u001b[0m\u001b[0;34m,\u001b[0m \u001b[0;34m(\u001b[0m\u001b[0mlist\u001b[0m\u001b[0;34m,\u001b[0m \u001b[0mtuple\u001b[0m\u001b[0;34m)\u001b[0m\u001b[0;34m)\u001b[0m\u001b[0;34m:\u001b[0m\u001b[0;34m\u001b[0m\u001b[0m\n\u001b[1;32m    235\u001b[0m                 \u001b[0;32mreturn\u001b[0m \u001b[0;34m[\u001b[0m\u001b[0m_todict\u001b[0m\u001b[0;34m(\u001b[0m\u001b[0mv\u001b[0m\u001b[0;34m)\u001b[0m \u001b[0;32mfor\u001b[0m \u001b[0mv\u001b[0m \u001b[0;32min\u001b[0m \u001b[0mval\u001b[0m\u001b[0;34m]\u001b[0m\u001b[0;34m\u001b[0m\u001b[0m\n",
      "\u001b[0;32m~/.pyenv/versions/3.6.3/envs/az_stops/lib/python3.6/site-packages/altair/vegalite/v2/schema/channels.py\u001b[0m in \u001b[0;36mto_dict\u001b[0;34m(self, validate, ignore, context)\u001b[0m\n\u001b[1;32m   2156\u001b[0m                     raise ValueError(\"{0} encoding field is specified without a type; \"\n\u001b[1;32m   2157\u001b[0m                                      \u001b[0;34m\"the type cannot be inferred because it does not \"\u001b[0m\u001b[0;34m\u001b[0m\u001b[0m\n\u001b[0;32m-> 2158\u001b[0;31m                                      \"match any column in the data.\".format(self.shorthand))\n\u001b[0m\u001b[1;32m   2159\u001b[0m                 \u001b[0;32melse\u001b[0m\u001b[0;34m:\u001b[0m\u001b[0;34m\u001b[0m\u001b[0m\n\u001b[1;32m   2160\u001b[0m                     raise ValueError(\"{0} encoding field is specified without a type; \"\n",
      "\u001b[0;31mValueError\u001b[0m: search_rate encoding field is specified without a type; the type cannot be inferred because it does not match any column in the data."
     ]
    },
    {
     "data": {
      "text/plain": [
       "Chart({\n",
       "  data:   driver_race  consent_search  no_search  unknown_search  traffic_stops  \\\n",
       "  0       Asian              35      11260             179          11474   \n",
       "  1       Black             199      26348            1976          28523   \n",
       "  2    Hispanic            1563     113518            6991         122072   \n",
       "  3       Other              76      31579            1957          33612   \n",
       "  4       White             640     246389            7809         254838   \n",
       "  5       total            2513     429094           18912         450519   \n",
       "  \n",
       "     searches_per_1k_stops  miss  hit  total_y  hits_per_100_searches  \n",
       "  0               3.050375    30    5       35              14.285714  \n",
       "  1               6.976826   148   51      199              25.628141  \n",
       "  2              12.803919  1378  185     1563              11.836212  \n",
       "  3               2.261097    61   15       76              19.736842  \n",
       "  4               2.511399   479  161      640              25.156250  \n",
       "  5               5.578011  2096  417     2513              16.593713  ,\n",
       "  encoding: EncodingWithFacet({\n",
       "    color: Color({\n",
       "      shorthand: 'driver_race'\n",
       "    }),\n",
       "    x: X({\n",
       "      shorthand: 'search_rate'\n",
       "    }),\n",
       "    y: Y({\n",
       "      shorthand: 'hit_rate'\n",
       "    })\n",
       "  }),\n",
       "  mark: MarkDef({\n",
       "    size: 200,\n",
       "    type: 'circle'\n",
       "  })\n",
       "})"
      ]
     },
     "execution_count": 105,
     "metadata": {},
     "output_type": "execute_result"
    }
   ],
   "source": [
    "alt.Chart(combined).mark_circle(size = 200).encode(x = 'search_rate', y = 'hit_rate', color = 'driver_race')"
   ]
  },
  {
   "cell_type": "markdown",
   "metadata": {},
   "source": [
    "## Export your results"
   ]
  },
  {
   "cell_type": "code",
   "execution_count": null,
   "metadata": {},
   "outputs": [],
   "source": [
    "combined.to_csv('./results.csv', index = False)"
   ]
  },
  {
   "cell_type": "markdown",
   "metadata": {},
   "source": [
    "## How can we make this better?\n",
    "\n",
    "1. Multiple years of analysis\n",
    "2. Break up by county?"
   ]
  }
 ],
 "metadata": {
  "kernelspec": {
   "display_name": "Python 3",
   "language": "python",
   "name": "python3"
  },
  "language_info": {
   "codemirror_mode": {
    "name": "ipython",
    "version": 3
   },
   "file_extension": ".py",
   "mimetype": "text/x-python",
   "name": "python",
   "nbconvert_exporter": "python",
   "pygments_lexer": "ipython3",
   "version": "3.6.3"
  }
 },
 "nbformat": 4,
 "nbformat_minor": 2
}
