{
 "cells": [
  {
   "cell_type": "markdown",
   "metadata": {},
   "source": [
    "# Analyzing AZ traffic stops\n",
    "\n",
    "This tutorial is built in Python, a powerful programming language with a wide variety of applications. In addition to Python we will need to bring in some additional tools to make our jobs easier. These tools are:\n",
    "\n",
    "- [Jupyter Notebook](http://jupyter.org/) - An environment for writing Python and other languages interactively.\n",
    "- [Pandas](https://pandas.pydata.org/) - an open-source toolkit widely used for data analysis. \n",
    "- [Altair](https://altair-viz.github.io) - a charting library used in conjunction with Pandas to display data visually.\n",
    "\n",
    "We're working in Jupyter Notebook right now. Each chunk of code or documentation is written into a cell. To run the code in each cell, press `SHIFT + return`. You should run the cells in order -- top to bottom. Otherwise, you may see error messages if you try to run code cells that rely on earlier cells that have not yet been run."
   ]
  },
  {
   "cell_type": "markdown",
   "metadata": {},
   "source": [
    "The first step in writing Python is to import tools like Pandas and Altair before we can start working with them. We also want to assign them shorter names so we don't have to type so much and because some abbreviations are commonly used -- might as well follow the convention to make your life easier."
   ]
  },
  {
   "cell_type": "code",
   "execution_count": 1,
   "metadata": {},
   "outputs": [],
   "source": [
    "import pandas as pd\n",
    "import altair as alt"
   ]
  },
  {
   "cell_type": "markdown",
   "metadata": {},
   "source": [
    "While we are at it, we are going to set an option so Pandas will display all the columns when we ask it to. We also have to enable Altair so we can see Altair's fancy charts later on."
   ]
  },
  {
   "cell_type": "code",
   "execution_count": 2,
   "metadata": {},
   "outputs": [],
   "source": [
    "pd.set_option('display.max_columns', 29)\n",
    "alt.renderers.enable('notebook')"
   ]
  },
  {
   "cell_type": "markdown",
   "metadata": {},
   "source": [
    "## Loading the data\n",
    "\n",
    "Now that our tools are in place we can load the data. To do so we will use a **function** built into Pandas. It's easiest to think of functions as tools that conduct a task. These tools can take different **arguments**, which are variables that help functions complete their tasks. In this case we will use Pandas' `read_csv` function. In its simplest form, the function takes one argument - the path to the file we want to open.\n",
    "\n",
    "We're basically going to tell Pandas where our data is located - in this case it is at `./data/az_2014.csv`.\n",
    "\n",
    "We're also going to pass on additional argument to the `read_csv` function: a `dtype`. Since our spreadsheet data mostly consists of categories (e.g. the race of a driver) rather than numbers (e.g. the driver was going 53 mph) we are going to tell Pandas to import everything in the spreadsheet as if it was just text using the `dtype=str` argument. This has the added benefit of suppressing a warning issued by Pandas because it cannot determine the data types for each column.\n",
    "\n",
    "Now, let's use Pandas to load our csv data into a new variable called `az_stops`."
   ]
  },
  {
   "cell_type": "code",
   "execution_count": 3,
   "metadata": {},
   "outputs": [],
   "source": [
    "az_stops = pd.read_csv('./data/az_2014.csv', dtype=str)"
   ]
  },
  {
   "cell_type": "markdown",
   "metadata": {},
   "source": [
    "## Getting to know our data\n",
    "\n",
    "One of the first steps in data analysis is getting a general feel for the data. What does it look like? How many columns are there? Is any data missing? Let's start answering some of these questions.\n",
    "\n",
    "We'll use a function called `head` to look at the top of the dataset. It's very similar to the command-line `head` tool we used earlier."
   ]
  },
  {
   "cell_type": "code",
   "execution_count": 4,
   "metadata": {},
   "outputs": [
    {
     "data": {
      "text/html": [
       "<div>\n",
       "<style scoped>\n",
       "    .dataframe tbody tr th:only-of-type {\n",
       "        vertical-align: middle;\n",
       "    }\n",
       "\n",
       "    .dataframe tbody tr th {\n",
       "        vertical-align: top;\n",
       "    }\n",
       "\n",
       "    .dataframe thead th {\n",
       "        text-align: right;\n",
       "    }\n",
       "</style>\n",
       "<table border=\"1\" class=\"dataframe\">\n",
       "  <thead>\n",
       "    <tr style=\"text-align: right;\">\n",
       "      <th></th>\n",
       "      <th>id</th>\n",
       "      <th>state</th>\n",
       "      <th>stop_date</th>\n",
       "      <th>stop_time</th>\n",
       "      <th>location_raw</th>\n",
       "      <th>county_name</th>\n",
       "      <th>county_fips</th>\n",
       "      <th>fine_grained_location</th>\n",
       "      <th>police_department</th>\n",
       "      <th>driver_gender</th>\n",
       "      <th>driver_age_raw</th>\n",
       "      <th>driver_age</th>\n",
       "      <th>driver_race_raw</th>\n",
       "      <th>driver_race</th>\n",
       "      <th>violation_raw</th>\n",
       "      <th>violation</th>\n",
       "      <th>search_conducted</th>\n",
       "      <th>search_type_raw</th>\n",
       "      <th>search_type</th>\n",
       "      <th>contraband_found</th>\n",
       "      <th>stop_outcome</th>\n",
       "      <th>is_arrested</th>\n",
       "      <th>officer_id</th>\n",
       "      <th>stop_duration</th>\n",
       "      <th>road_number</th>\n",
       "      <th>milepost</th>\n",
       "      <th>consent_search</th>\n",
       "      <th>vehicle_type</th>\n",
       "      <th>ethnicity</th>\n",
       "    </tr>\n",
       "  </thead>\n",
       "  <tbody>\n",
       "    <tr>\n",
       "      <th>0</th>\n",
       "      <td>AZ-2014-000001</td>\n",
       "      <td>AZ</td>\n",
       "      <td>2014-01-01</td>\n",
       "      <td>00:01</td>\n",
       "      <td>NaN</td>\n",
       "      <td>NaN</td>\n",
       "      <td>NaN</td>\n",
       "      <td>SR73 357 NA</td>\n",
       "      <td>NaN</td>\n",
       "      <td>F</td>\n",
       "      <td>NaN</td>\n",
       "      <td>NaN</td>\n",
       "      <td>Native American</td>\n",
       "      <td>Other</td>\n",
       "      <td>Speed/speed</td>\n",
       "      <td>Speeding</td>\n",
       "      <td>FALSE</td>\n",
       "      <td>NaN</td>\n",
       "      <td>NaN</td>\n",
       "      <td>FALSE</td>\n",
       "      <td>Citation</td>\n",
       "      <td>FALSE</td>\n",
       "      <td>7287</td>\n",
       "      <td>11-20</td>\n",
       "      <td>SR73</td>\n",
       "      <td>357</td>\n",
       "      <td>FALSE</td>\n",
       "      <td>4DSD 2006</td>\n",
       "      <td>N</td>\n",
       "    </tr>\n",
       "    <tr>\n",
       "      <th>1</th>\n",
       "      <td>AZ-2014-000002</td>\n",
       "      <td>AZ</td>\n",
       "      <td>2014-01-01</td>\n",
       "      <td>00:02</td>\n",
       "      <td>NaN</td>\n",
       "      <td>Pima County</td>\n",
       "      <td>04019</td>\n",
       "      <td>I10 255 NA</td>\n",
       "      <td>NaN</td>\n",
       "      <td>M</td>\n",
       "      <td>NaN</td>\n",
       "      <td>NaN</td>\n",
       "      <td>White</td>\n",
       "      <td>White</td>\n",
       "      <td>NaN</td>\n",
       "      <td>NaN</td>\n",
       "      <td>FALSE</td>\n",
       "      <td>NaN</td>\n",
       "      <td>NaN</td>\n",
       "      <td>FALSE</td>\n",
       "      <td>Warning</td>\n",
       "      <td>FALSE</td>\n",
       "      <td>7288</td>\n",
       "      <td>0-10</td>\n",
       "      <td>I10</td>\n",
       "      <td>255</td>\n",
       "      <td>FALSE</td>\n",
       "      <td>12PU 2000</td>\n",
       "      <td>W</td>\n",
       "    </tr>\n",
       "    <tr>\n",
       "      <th>2</th>\n",
       "      <td>AZ-2014-000003</td>\n",
       "      <td>AZ</td>\n",
       "      <td>2014-01-01</td>\n",
       "      <td>00:03</td>\n",
       "      <td>NaN</td>\n",
       "      <td>NaN</td>\n",
       "      <td>NaN</td>\n",
       "      <td>NA NA 2501 W HWY 66 WINSLOW AZ</td>\n",
       "      <td>NaN</td>\n",
       "      <td>F</td>\n",
       "      <td>NaN</td>\n",
       "      <td>NaN</td>\n",
       "      <td>Native American</td>\n",
       "      <td>Other</td>\n",
       "      <td>DUI,No insurance</td>\n",
       "      <td>DUI,Paperwork</td>\n",
       "      <td>FALSE</td>\n",
       "      <td>NaN</td>\n",
       "      <td>NaN</td>\n",
       "      <td>FALSE</td>\n",
       "      <td>Arrest</td>\n",
       "      <td>TRUE</td>\n",
       "      <td>6600</td>\n",
       "      <td>11-20</td>\n",
       "      <td>NaN</td>\n",
       "      <td>NaN</td>\n",
       "      <td>FALSE</td>\n",
       "      <td>2DSD 2005</td>\n",
       "      <td>N</td>\n",
       "    </tr>\n",
       "    <tr>\n",
       "      <th>3</th>\n",
       "      <td>AZ-2014-000004</td>\n",
       "      <td>AZ</td>\n",
       "      <td>2014-01-01</td>\n",
       "      <td>00:04</td>\n",
       "      <td>NaN</td>\n",
       "      <td>Maricopa County</td>\n",
       "      <td>04013</td>\n",
       "      <td>SR101 20 NA</td>\n",
       "      <td>NaN</td>\n",
       "      <td>M</td>\n",
       "      <td>NaN</td>\n",
       "      <td>NaN</td>\n",
       "      <td>Hispanic</td>\n",
       "      <td>Hispanic</td>\n",
       "      <td>NaN</td>\n",
       "      <td>NaN</td>\n",
       "      <td>FALSE</td>\n",
       "      <td>NaN</td>\n",
       "      <td>NaN</td>\n",
       "      <td>FALSE</td>\n",
       "      <td>Warning</td>\n",
       "      <td>FALSE</td>\n",
       "      <td>5937</td>\n",
       "      <td>21-30</td>\n",
       "      <td>SR101</td>\n",
       "      <td>20</td>\n",
       "      <td>FALSE</td>\n",
       "      <td>4DSD 1997</td>\n",
       "      <td>H</td>\n",
       "    </tr>\n",
       "    <tr>\n",
       "      <th>4</th>\n",
       "      <td>AZ-2014-000005</td>\n",
       "      <td>AZ</td>\n",
       "      <td>2014-01-01</td>\n",
       "      <td>00:05</td>\n",
       "      <td>NaN</td>\n",
       "      <td>Maricopa County</td>\n",
       "      <td>04013</td>\n",
       "      <td>SR51 13.6 NA</td>\n",
       "      <td>NaN</td>\n",
       "      <td>F</td>\n",
       "      <td>NaN</td>\n",
       "      <td>NaN</td>\n",
       "      <td>White</td>\n",
       "      <td>White</td>\n",
       "      <td>NaN</td>\n",
       "      <td>NaN</td>\n",
       "      <td>FALSE</td>\n",
       "      <td>NaN</td>\n",
       "      <td>NaN</td>\n",
       "      <td>FALSE</td>\n",
       "      <td>Warning</td>\n",
       "      <td>FALSE</td>\n",
       "      <td>4492</td>\n",
       "      <td>11-20</td>\n",
       "      <td>SR51</td>\n",
       "      <td>13.6</td>\n",
       "      <td>FALSE</td>\n",
       "      <td>NA NA</td>\n",
       "      <td>W</td>\n",
       "    </tr>\n",
       "  </tbody>\n",
       "</table>\n",
       "</div>"
      ],
      "text/plain": [
       "               id state   stop_date stop_time location_raw      county_name  \\\n",
       "0  AZ-2014-000001    AZ  2014-01-01     00:01          NaN              NaN   \n",
       "1  AZ-2014-000002    AZ  2014-01-01     00:02          NaN      Pima County   \n",
       "2  AZ-2014-000003    AZ  2014-01-01     00:03          NaN              NaN   \n",
       "3  AZ-2014-000004    AZ  2014-01-01     00:04          NaN  Maricopa County   \n",
       "4  AZ-2014-000005    AZ  2014-01-01     00:05          NaN  Maricopa County   \n",
       "\n",
       "  county_fips           fine_grained_location police_department driver_gender  \\\n",
       "0         NaN                     SR73 357 NA               NaN             F   \n",
       "1       04019                      I10 255 NA               NaN             M   \n",
       "2         NaN  NA NA 2501 W HWY 66 WINSLOW AZ               NaN             F   \n",
       "3       04013                     SR101 20 NA               NaN             M   \n",
       "4       04013                    SR51 13.6 NA               NaN             F   \n",
       "\n",
       "  driver_age_raw driver_age  driver_race_raw driver_race     violation_raw  \\\n",
       "0            NaN        NaN  Native American       Other       Speed/speed   \n",
       "1            NaN        NaN            White       White               NaN   \n",
       "2            NaN        NaN  Native American       Other  DUI,No insurance   \n",
       "3            NaN        NaN         Hispanic    Hispanic               NaN   \n",
       "4            NaN        NaN            White       White               NaN   \n",
       "\n",
       "       violation search_conducted search_type_raw search_type  \\\n",
       "0       Speeding            FALSE             NaN         NaN   \n",
       "1            NaN            FALSE             NaN         NaN   \n",
       "2  DUI,Paperwork            FALSE             NaN         NaN   \n",
       "3            NaN            FALSE             NaN         NaN   \n",
       "4            NaN            FALSE             NaN         NaN   \n",
       "\n",
       "  contraband_found stop_outcome is_arrested officer_id stop_duration  \\\n",
       "0            FALSE     Citation       FALSE       7287         11-20   \n",
       "1            FALSE      Warning       FALSE       7288          0-10   \n",
       "2            FALSE       Arrest        TRUE       6600         11-20   \n",
       "3            FALSE      Warning       FALSE       5937         21-30   \n",
       "4            FALSE      Warning       FALSE       4492         11-20   \n",
       "\n",
       "  road_number milepost consent_search vehicle_type ethnicity  \n",
       "0        SR73      357          FALSE    4DSD 2006         N  \n",
       "1         I10      255          FALSE    12PU 2000         W  \n",
       "2         NaN      NaN          FALSE    2DSD 2005         N  \n",
       "3       SR101       20          FALSE    4DSD 1997         H  \n",
       "4        SR51     13.6          FALSE        NA NA         W  "
      ]
     },
     "execution_count": 4,
     "metadata": {},
     "output_type": "execute_result"
    }
   ],
   "source": [
    "az_stops.head()"
   ]
  },
  {
   "cell_type": "markdown",
   "metadata": {},
   "source": [
    "This gives us a general idea as to what columns we have and what the data looks like. Notice all the `NaN` (Not a Number) values. We will talk about those shortly. Keep in mind that this is only the first few rows. Now let's use a different function to take a more comprehensive look at the columns and how they are made up:"
   ]
  },
  {
   "cell_type": "code",
   "execution_count": 5,
   "metadata": {},
   "outputs": [
    {
     "name": "stdout",
     "output_type": "stream",
     "text": [
      "<class 'pandas.core.frame.DataFrame'>\n",
      "RangeIndex: 508418 entries, 0 to 508417\n",
      "Data columns (total 29 columns):\n",
      "id                       508418 non-null object\n",
      "state                    508418 non-null object\n",
      "stop_date                508418 non-null object\n",
      "stop_time                508418 non-null object\n",
      "location_raw             32 non-null object\n",
      "county_name              447212 non-null object\n",
      "county_fips              447212 non-null object\n",
      "fine_grained_location    508418 non-null object\n",
      "police_department        0 non-null object\n",
      "driver_gender            508418 non-null object\n",
      "driver_age_raw           0 non-null object\n",
      "driver_age               0 non-null object\n",
      "driver_race_raw          508418 non-null object\n",
      "driver_race              508418 non-null object\n",
      "violation_raw            209257 non-null object\n",
      "violation                209257 non-null object\n",
      "search_conducted         508418 non-null object\n",
      "search_type_raw          2650 non-null object\n",
      "search_type              2650 non-null object\n",
      "contraband_found         508418 non-null object\n",
      "stop_outcome             508380 non-null object\n",
      "is_arrested              508418 non-null object\n",
      "officer_id               508418 non-null object\n",
      "stop_duration            500415 non-null object\n",
      "road_number              472774 non-null object\n",
      "milepost                 472774 non-null object\n",
      "consent_search           487713 non-null object\n",
      "vehicle_type             508418 non-null object\n",
      "ethnicity                508418 non-null object\n",
      "dtypes: object(29)\n",
      "memory usage: 112.5+ MB\n"
     ]
    }
   ],
   "source": [
    "az_stops.info()"
   ]
  },
  {
   "cell_type": "markdown",
   "metadata": {},
   "source": [
    "Now we have a list showing information about each column, including:\n",
    "\n",
    "- The column name\n",
    "- The number of records which have data in each column\n",
    "- Whether or not there is missing or null data (see below)\n",
    "- The data type of the column - in this case everything is listed as an `object`, which is how Pandas describes text fields.\n",
    "\n",
    "Additionally we get information on how many records are in our data - this translates directly to the number of traffic stops we are analyzing. You will notice this matches up with the counts we checked earlier when extracting the data.\n",
    "\n",
    "**Note:** One side effect of our importing our fields as `str` is that Pandas will handle missing, null or blank data (those `NaN` values from above) a little differently than it does by default. Normally Pandas would automatically exclude null values from any sort of analysis. We don't necessarily want that. It may be important to keep track of how many records do not have actual data in it for a given column. By telling Pandas that everything should be rendered as text when we import the data it allows us to keep null, missing or blank values in the analysis. But don't worry: we will talk about how to handle those later.\n",
    "\n",
    "### Diving a little deeper\n",
    "\n",
    "Now that we have a general sense of of our data, let's do some preliminary analysis to see what else we can learn.\n",
    "\n",
    "One of the first things we want to learn is if there are any gaps in our data that we haven't been able to see so far. Let's start by taking a look at traffic stops by month. To do this we will work with the `stop_date` column, but we will need to convert it to the proper data type -- a Python `datetime` instead of an object -- before we can perform an analysis on it. Luckily, Pandas has a handy function to do that."
   ]
  },
  {
   "cell_type": "code",
   "execution_count": 6,
   "metadata": {},
   "outputs": [],
   "source": [
    "az_stops['stop_date'] = pd.to_datetime(az_stops['stop_date'])"
   ]
  },
  {
   "cell_type": "markdown",
   "metadata": {},
   "source": [
    "OK, that syntax is pretty weird -- what just happened? Essentially, we told Pandas to rewrite the `stop_date` field for each row in our data."
   ]
  },
  {
   "cell_type": "markdown",
   "metadata": {},
   "source": [
    "Now that our `stop_date` column is in the correct format, we want to get a count of stops by month to check if we have the entire year. To do this we will use the `groupby` function. \n",
    "\n",
    "Since we only want to count stops by month we should try to count a column that has no missing data - in this case it would be the `id` column. We isolate that column by using the `az_stops['id']` syntax.\n",
    "\n",
    "The `groupby` function takes several different arguments, but only one is required - which field you want to group by. In this case we need to group by the month of the `stop_date` column. Because we turned our stop_date into a fancy Python date, we can access that using this method: `az_stops.stop_date.dt.month`.\n",
    "\n",
    "Lastly, since `groupby` is meant to aggregate data using different mathmatical functions (think sum, average, count, etc) we need to specify what kind of math we want to use when aggregating. In this case, we want to count how many stops are in each month, so we use `count()`."
   ]
  },
  {
   "cell_type": "code",
   "execution_count": 7,
   "metadata": {
    "scrolled": true
   },
   "outputs": [
    {
     "data": {
      "text/html": [
       "<div>\n",
       "<style scoped>\n",
       "    .dataframe tbody tr th:only-of-type {\n",
       "        vertical-align: middle;\n",
       "    }\n",
       "\n",
       "    .dataframe tbody tr th {\n",
       "        vertical-align: top;\n",
       "    }\n",
       "\n",
       "    .dataframe thead th {\n",
       "        text-align: right;\n",
       "    }\n",
       "</style>\n",
       "<table border=\"1\" class=\"dataframe\">\n",
       "  <thead>\n",
       "    <tr style=\"text-align: right;\">\n",
       "      <th></th>\n",
       "      <th>id</th>\n",
       "    </tr>\n",
       "    <tr>\n",
       "      <th>stop_date</th>\n",
       "      <th></th>\n",
       "    </tr>\n",
       "  </thead>\n",
       "  <tbody>\n",
       "    <tr>\n",
       "      <th>1</th>\n",
       "      <td>50198</td>\n",
       "    </tr>\n",
       "    <tr>\n",
       "      <th>2</th>\n",
       "      <td>40752</td>\n",
       "    </tr>\n",
       "    <tr>\n",
       "      <th>3</th>\n",
       "      <td>41455</td>\n",
       "    </tr>\n",
       "    <tr>\n",
       "      <th>4</th>\n",
       "      <td>42330</td>\n",
       "    </tr>\n",
       "    <tr>\n",
       "      <th>5</th>\n",
       "      <td>41742</td>\n",
       "    </tr>\n",
       "    <tr>\n",
       "      <th>6</th>\n",
       "      <td>37698</td>\n",
       "    </tr>\n",
       "    <tr>\n",
       "      <th>7</th>\n",
       "      <td>40297</td>\n",
       "    </tr>\n",
       "    <tr>\n",
       "      <th>8</th>\n",
       "      <td>44082</td>\n",
       "    </tr>\n",
       "    <tr>\n",
       "      <th>9</th>\n",
       "      <td>39645</td>\n",
       "    </tr>\n",
       "    <tr>\n",
       "      <th>10</th>\n",
       "      <td>37353</td>\n",
       "    </tr>\n",
       "    <tr>\n",
       "      <th>11</th>\n",
       "      <td>54703</td>\n",
       "    </tr>\n",
       "    <tr>\n",
       "      <th>12</th>\n",
       "      <td>38163</td>\n",
       "    </tr>\n",
       "  </tbody>\n",
       "</table>\n",
       "</div>"
      ],
      "text/plain": [
       "              id\n",
       "stop_date       \n",
       "1          50198\n",
       "2          40752\n",
       "3          41455\n",
       "4          42330\n",
       "5          41742\n",
       "6          37698\n",
       "7          40297\n",
       "8          44082\n",
       "9          39645\n",
       "10         37353\n",
       "11         54703\n",
       "12         38163"
      ]
     },
     "execution_count": 7,
     "metadata": {},
     "output_type": "execute_result"
    }
   ],
   "source": [
    "stops_by_month = az_stops[['id']].groupby(by = az_stops.stop_date.dt.month).count()\n",
    "\n",
    "stops_by_month"
   ]
  },
  {
   "cell_type": "markdown",
   "metadata": {},
   "source": [
    "### Taking a visual look at our data\n",
    "\n",
    "It's nice to have the table showing our counts by month, but sometimes we want more detail. Let's look at traffic stops by day of the yar. For that much data, we probably want to look at this visually rather than in a table, so let's build a bar chart.\n",
    "\n",
    "First we need to do another `groupby`, but this time the syntax will be a bit different."
   ]
  },
  {
   "cell_type": "code",
   "execution_count": 8,
   "metadata": {},
   "outputs": [
    {
     "data": {
      "text/html": [
       "<div>\n",
       "<style scoped>\n",
       "    .dataframe tbody tr th:only-of-type {\n",
       "        vertical-align: middle;\n",
       "    }\n",
       "\n",
       "    .dataframe tbody tr th {\n",
       "        vertical-align: top;\n",
       "    }\n",
       "\n",
       "    .dataframe thead th {\n",
       "        text-align: right;\n",
       "    }\n",
       "</style>\n",
       "<table border=\"1\" class=\"dataframe\">\n",
       "  <thead>\n",
       "    <tr style=\"text-align: right;\">\n",
       "      <th></th>\n",
       "      <th>stop_date</th>\n",
       "      <th>id</th>\n",
       "    </tr>\n",
       "  </thead>\n",
       "  <tbody>\n",
       "    <tr>\n",
       "      <th>0</th>\n",
       "      <td>2014-01-01</td>\n",
       "      <td>1755</td>\n",
       "    </tr>\n",
       "    <tr>\n",
       "      <th>1</th>\n",
       "      <td>2014-01-02</td>\n",
       "      <td>1694</td>\n",
       "    </tr>\n",
       "    <tr>\n",
       "      <th>2</th>\n",
       "      <td>2014-01-03</td>\n",
       "      <td>1490</td>\n",
       "    </tr>\n",
       "    <tr>\n",
       "      <th>3</th>\n",
       "      <td>2014-01-04</td>\n",
       "      <td>1153</td>\n",
       "    </tr>\n",
       "    <tr>\n",
       "      <th>4</th>\n",
       "      <td>2014-01-05</td>\n",
       "      <td>1150</td>\n",
       "    </tr>\n",
       "  </tbody>\n",
       "</table>\n",
       "</div>"
      ],
      "text/plain": [
       "   stop_date    id\n",
       "0 2014-01-01  1755\n",
       "1 2014-01-02  1694\n",
       "2 2014-01-03  1490\n",
       "3 2014-01-04  1153\n",
       "4 2014-01-05  1150"
      ]
     },
     "execution_count": 8,
     "metadata": {},
     "output_type": "execute_result"
    }
   ],
   "source": [
    "stops_by_day = az_stops[['stop_date','id']].groupby(by = 'stop_date', as_index = False).count()\n",
    "\n",
    "# Even though our groupby ran on the whole data set, let's just look at the first few rows.\n",
    "stops_by_day.head()"
   ]
  },
  {
   "cell_type": "markdown",
   "metadata": {},
   "source": [
    "Before we draw the chart, let's change the name of the `id` column into something that makes sense."
   ]
  },
  {
   "cell_type": "code",
   "execution_count": 9,
   "metadata": {},
   "outputs": [
    {
     "data": {
      "text/html": [
       "<div>\n",
       "<style scoped>\n",
       "    .dataframe tbody tr th:only-of-type {\n",
       "        vertical-align: middle;\n",
       "    }\n",
       "\n",
       "    .dataframe tbody tr th {\n",
       "        vertical-align: top;\n",
       "    }\n",
       "\n",
       "    .dataframe thead th {\n",
       "        text-align: right;\n",
       "    }\n",
       "</style>\n",
       "<table border=\"1\" class=\"dataframe\">\n",
       "  <thead>\n",
       "    <tr style=\"text-align: right;\">\n",
       "      <th></th>\n",
       "      <th>stop_date</th>\n",
       "      <th>traffic_stops</th>\n",
       "    </tr>\n",
       "  </thead>\n",
       "  <tbody>\n",
       "    <tr>\n",
       "      <th>0</th>\n",
       "      <td>2014-01-01</td>\n",
       "      <td>1755</td>\n",
       "    </tr>\n",
       "    <tr>\n",
       "      <th>1</th>\n",
       "      <td>2014-01-02</td>\n",
       "      <td>1694</td>\n",
       "    </tr>\n",
       "    <tr>\n",
       "      <th>2</th>\n",
       "      <td>2014-01-03</td>\n",
       "      <td>1490</td>\n",
       "    </tr>\n",
       "    <tr>\n",
       "      <th>3</th>\n",
       "      <td>2014-01-04</td>\n",
       "      <td>1153</td>\n",
       "    </tr>\n",
       "    <tr>\n",
       "      <th>4</th>\n",
       "      <td>2014-01-05</td>\n",
       "      <td>1150</td>\n",
       "    </tr>\n",
       "  </tbody>\n",
       "</table>\n",
       "</div>"
      ],
      "text/plain": [
       "   stop_date  traffic_stops\n",
       "0 2014-01-01           1755\n",
       "1 2014-01-02           1694\n",
       "2 2014-01-03           1490\n",
       "3 2014-01-04           1153\n",
       "4 2014-01-05           1150"
      ]
     },
     "execution_count": 9,
     "metadata": {},
     "output_type": "execute_result"
    }
   ],
   "source": [
    "stops_by_day.rename(columns = {'id' : 'traffic_stops'}, inplace = True)\n",
    "\n",
    "# Let's see if that worked.\n",
    "stops_by_day.head()"
   ]
  },
  {
   "cell_type": "markdown",
   "metadata": {},
   "source": [
    "Now we can draw the chart using Altair. Altair requires us to use several different functions tied together to display the chart. The first function is just starting up a chart and telling it what data we want to use. Then we tell it what type of chart we want (a line or fever chart in this case). Lastly we tell it what columns in our data should be used for the chart axes. "
   ]
  },
  {
   "cell_type": "code",
   "execution_count": 10,
   "metadata": {},
   "outputs": [
    {
     "data": {
      "text/html": [
       "<div class=\"vega-embed\" id=\"a1bb2f32-fac2-4973-a2fb-9afec5b07109\"></div>\n",
       "\n",
       "<style>\n",
       ".vega-embed .vega-actions > a {\n",
       "    transition: opacity 200ms ease-in;\n",
       "    opacity: 0.3;\n",
       "    margin-right: 0.6em;\n",
       "    color: #444;\n",
       "    text-decoration: none;\n",
       "}\n",
       "\n",
       ".vega-embed .vega-actions > a:hover {\n",
       "    color: #000;\n",
       "    text-decoration: underline;\n",
       "}\n",
       "\n",
       ".vega-embed:hover .vega-actions > a {\n",
       "    opacity: 1;\n",
       "    transition: 0s;\n",
       "}\n",
       "\n",
       ".vega-embed .error p {\n",
       "    color: firebrick;\n",
       "    font-size: 1.2em;\n",
       "}\n",
       "</style>\n"
      ]
     },
     "metadata": {
      "jupyter-vega3": "#a1bb2f32-fac2-4973-a2fb-9afec5b07109"
     },
     "output_type": "display_data"
    },
    {
     "data": {
      "application/javascript": [
       "var spec = {\"config\": {\"view\": {\"width\": 400, \"height\": 300}}, \"data\": {\"values\": [{\"stop_date\": \"2014-01-01\", \"traffic_stops\": 1755}, {\"stop_date\": \"2014-01-02\", \"traffic_stops\": 1694}, {\"stop_date\": \"2014-01-03\", \"traffic_stops\": 1490}, {\"stop_date\": \"2014-01-04\", \"traffic_stops\": 1153}, {\"stop_date\": \"2014-01-05\", \"traffic_stops\": 1150}, {\"stop_date\": \"2014-01-06\", \"traffic_stops\": 1455}, {\"stop_date\": \"2014-01-07\", \"traffic_stops\": 1618}, {\"stop_date\": \"2014-01-08\", \"traffic_stops\": 1675}, {\"stop_date\": \"2014-01-09\", \"traffic_stops\": 1620}, {\"stop_date\": \"2014-01-10\", \"traffic_stops\": 1555}, {\"stop_date\": \"2014-01-11\", \"traffic_stops\": 1274}, {\"stop_date\": \"2014-01-12\", \"traffic_stops\": 1147}, {\"stop_date\": \"2014-01-13\", \"traffic_stops\": 1340}, {\"stop_date\": \"2014-01-14\", \"traffic_stops\": 1695}, {\"stop_date\": \"2014-01-15\", \"traffic_stops\": 3810}, {\"stop_date\": \"2014-01-16\", \"traffic_stops\": 2155}, {\"stop_date\": \"2014-01-17\", \"traffic_stops\": 1774}, {\"stop_date\": \"2014-01-18\", \"traffic_stops\": 1200}, {\"stop_date\": \"2014-01-19\", \"traffic_stops\": 1192}, {\"stop_date\": \"2014-01-20\", \"traffic_stops\": 1717}, {\"stop_date\": \"2014-01-21\", \"traffic_stops\": 1640}, {\"stop_date\": \"2014-01-22\", \"traffic_stops\": 1903}, {\"stop_date\": \"2014-01-23\", \"traffic_stops\": 1667}, {\"stop_date\": \"2014-01-24\", \"traffic_stops\": 1540}, {\"stop_date\": \"2014-01-25\", \"traffic_stops\": 1304}, {\"stop_date\": \"2014-01-26\", \"traffic_stops\": 1311}, {\"stop_date\": \"2014-01-27\", \"traffic_stops\": 1537}, {\"stop_date\": \"2014-01-28\", \"traffic_stops\": 1853}, {\"stop_date\": \"2014-01-29\", \"traffic_stops\": 1869}, {\"stop_date\": \"2014-01-30\", \"traffic_stops\": 1539}, {\"stop_date\": \"2014-01-31\", \"traffic_stops\": 1566}, {\"stop_date\": \"2014-02-01\", \"traffic_stops\": 1141}, {\"stop_date\": \"2014-02-02\", \"traffic_stops\": 1242}, {\"stop_date\": \"2014-02-03\", \"traffic_stops\": 1298}, {\"stop_date\": \"2014-02-04\", \"traffic_stops\": 1475}, {\"stop_date\": \"2014-02-05\", \"traffic_stops\": 1736}, {\"stop_date\": \"2014-02-06\", \"traffic_stops\": 1507}, {\"stop_date\": \"2014-02-07\", \"traffic_stops\": 1455}, {\"stop_date\": \"2014-02-08\", \"traffic_stops\": 1181}, {\"stop_date\": \"2014-02-09\", \"traffic_stops\": 1216}, {\"stop_date\": \"2014-02-10\", \"traffic_stops\": 1282}, {\"stop_date\": \"2014-02-11\", \"traffic_stops\": 1583}, {\"stop_date\": \"2014-02-12\", \"traffic_stops\": 1646}, {\"stop_date\": \"2014-02-13\", \"traffic_stops\": 1300}, {\"stop_date\": \"2014-02-14\", \"traffic_stops\": 1556}, {\"stop_date\": \"2014-02-15\", \"traffic_stops\": 2134}, {\"stop_date\": \"2014-02-16\", \"traffic_stops\": 1239}, {\"stop_date\": \"2014-02-17\", \"traffic_stops\": 1831}, {\"stop_date\": \"2014-02-18\", \"traffic_stops\": 1549}, {\"stop_date\": \"2014-02-19\", \"traffic_stops\": 1723}, {\"stop_date\": \"2014-02-20\", \"traffic_stops\": 1524}, {\"stop_date\": \"2014-02-21\", \"traffic_stops\": 1412}, {\"stop_date\": \"2014-02-22\", \"traffic_stops\": 1013}, {\"stop_date\": \"2014-02-23\", \"traffic_stops\": 994}, {\"stop_date\": \"2014-02-24\", \"traffic_stops\": 1190}, {\"stop_date\": \"2014-02-25\", \"traffic_stops\": 1687}, {\"stop_date\": \"2014-02-26\", \"traffic_stops\": 1726}, {\"stop_date\": \"2014-02-27\", \"traffic_stops\": 1801}, {\"stop_date\": \"2014-02-28\", \"traffic_stops\": 1311}, {\"stop_date\": \"2014-03-01\", \"traffic_stops\": 565}, {\"stop_date\": \"2014-03-02\", \"traffic_stops\": 963}, {\"stop_date\": \"2014-03-03\", \"traffic_stops\": 1268}, {\"stop_date\": \"2014-03-04\", \"traffic_stops\": 1375}, {\"stop_date\": \"2014-03-05\", \"traffic_stops\": 1572}, {\"stop_date\": \"2014-03-06\", \"traffic_stops\": 1614}, {\"stop_date\": \"2014-03-07\", \"traffic_stops\": 1481}, {\"stop_date\": \"2014-03-08\", \"traffic_stops\": 956}, {\"stop_date\": \"2014-03-09\", \"traffic_stops\": 1273}, {\"stop_date\": \"2014-03-10\", \"traffic_stops\": 1149}, {\"stop_date\": \"2014-03-11\", \"traffic_stops\": 1439}, {\"stop_date\": \"2014-03-12\", \"traffic_stops\": 1534}, {\"stop_date\": \"2014-03-13\", \"traffic_stops\": 1427}, {\"stop_date\": \"2014-03-14\", \"traffic_stops\": 1499}, {\"stop_date\": \"2014-03-15\", \"traffic_stops\": 2156}, {\"stop_date\": \"2014-03-16\", \"traffic_stops\": 1160}, {\"stop_date\": \"2014-03-17\", \"traffic_stops\": 1588}, {\"stop_date\": \"2014-03-18\", \"traffic_stops\": 1637}, {\"stop_date\": \"2014-03-19\", \"traffic_stops\": 1511}, {\"stop_date\": \"2014-03-20\", \"traffic_stops\": 1500}, {\"stop_date\": \"2014-03-21\", \"traffic_stops\": 1406}, {\"stop_date\": \"2014-03-22\", \"traffic_stops\": 1102}, {\"stop_date\": \"2014-03-23\", \"traffic_stops\": 1131}, {\"stop_date\": \"2014-03-24\", \"traffic_stops\": 1212}, {\"stop_date\": \"2014-03-25\", \"traffic_stops\": 1171}, {\"stop_date\": \"2014-03-26\", \"traffic_stops\": 1477}, {\"stop_date\": \"2014-03-27\", \"traffic_stops\": 1444}, {\"stop_date\": \"2014-03-28\", \"traffic_stops\": 1311}, {\"stop_date\": \"2014-03-29\", \"traffic_stops\": 1084}, {\"stop_date\": \"2014-03-30\", \"traffic_stops\": 1078}, {\"stop_date\": \"2014-03-31\", \"traffic_stops\": 1372}, {\"stop_date\": \"2014-04-01\", \"traffic_stops\": 1667}, {\"stop_date\": \"2014-04-02\", \"traffic_stops\": 1545}, {\"stop_date\": \"2014-04-03\", \"traffic_stops\": 1647}, {\"stop_date\": \"2014-04-04\", \"traffic_stops\": 1435}, {\"stop_date\": \"2014-04-05\", \"traffic_stops\": 1053}, {\"stop_date\": \"2014-04-06\", \"traffic_stops\": 1251}, {\"stop_date\": \"2014-04-07\", \"traffic_stops\": 1477}, {\"stop_date\": \"2014-04-08\", \"traffic_stops\": 1405}, {\"stop_date\": \"2014-04-09\", \"traffic_stops\": 1677}, {\"stop_date\": \"2014-04-10\", \"traffic_stops\": 1531}, {\"stop_date\": \"2014-04-11\", \"traffic_stops\": 1332}, {\"stop_date\": \"2014-04-12\", \"traffic_stops\": 968}, {\"stop_date\": \"2014-04-13\", \"traffic_stops\": 1045}, {\"stop_date\": \"2014-04-14\", \"traffic_stops\": 1475}, {\"stop_date\": \"2014-04-15\", \"traffic_stops\": 2422}, {\"stop_date\": \"2014-04-16\", \"traffic_stops\": 1420}, {\"stop_date\": \"2014-04-17\", \"traffic_stops\": 1246}, {\"stop_date\": \"2014-04-18\", \"traffic_stops\": 1503}, {\"stop_date\": \"2014-04-19\", \"traffic_stops\": 1084}, {\"stop_date\": \"2014-04-20\", \"traffic_stops\": 1108}, {\"stop_date\": \"2014-04-21\", \"traffic_stops\": 1219}, {\"stop_date\": \"2014-04-22\", \"traffic_stops\": 1616}, {\"stop_date\": \"2014-04-23\", \"traffic_stops\": 1842}, {\"stop_date\": \"2014-04-24\", \"traffic_stops\": 1583}, {\"stop_date\": \"2014-04-25\", \"traffic_stops\": 1338}, {\"stop_date\": \"2014-04-26\", \"traffic_stops\": 933}, {\"stop_date\": \"2014-04-27\", \"traffic_stops\": 1342}, {\"stop_date\": \"2014-04-28\", \"traffic_stops\": 1249}, {\"stop_date\": \"2014-04-29\", \"traffic_stops\": 1319}, {\"stop_date\": \"2014-04-30\", \"traffic_stops\": 1598}, {\"stop_date\": \"2014-05-01\", \"traffic_stops\": 1228}, {\"stop_date\": \"2014-05-02\", \"traffic_stops\": 1400}, {\"stop_date\": \"2014-05-03\", \"traffic_stops\": 991}, {\"stop_date\": \"2014-05-04\", \"traffic_stops\": 1055}, {\"stop_date\": \"2014-05-05\", \"traffic_stops\": 1120}, {\"stop_date\": \"2014-05-06\", \"traffic_stops\": 1097}, {\"stop_date\": \"2014-05-07\", \"traffic_stops\": 1384}, {\"stop_date\": \"2014-05-08\", \"traffic_stops\": 1236}, {\"stop_date\": \"2014-05-09\", \"traffic_stops\": 1414}, {\"stop_date\": \"2014-05-10\", \"traffic_stops\": 1023}, {\"stop_date\": \"2014-05-11\", \"traffic_stops\": 933}, {\"stop_date\": \"2014-05-12\", \"traffic_stops\": 1338}, {\"stop_date\": \"2014-05-13\", \"traffic_stops\": 1280}, {\"stop_date\": \"2014-05-14\", \"traffic_stops\": 1514}, {\"stop_date\": \"2014-05-15\", \"traffic_stops\": 3016}, {\"stop_date\": \"2014-05-16\", \"traffic_stops\": 1526}, {\"stop_date\": \"2014-05-17\", \"traffic_stops\": 1169}, {\"stop_date\": \"2014-05-18\", \"traffic_stops\": 1212}, {\"stop_date\": \"2014-05-19\", \"traffic_stops\": 1080}, {\"stop_date\": \"2014-05-20\", \"traffic_stops\": 1228}, {\"stop_date\": \"2014-05-21\", \"traffic_stops\": 1405}, {\"stop_date\": \"2014-05-22\", \"traffic_stops\": 1370}, {\"stop_date\": \"2014-05-23\", \"traffic_stops\": 1765}, {\"stop_date\": \"2014-05-24\", \"traffic_stops\": 1399}, {\"stop_date\": \"2014-05-25\", \"traffic_stops\": 1251}, {\"stop_date\": \"2014-05-26\", \"traffic_stops\": 1976}, {\"stop_date\": \"2014-05-27\", \"traffic_stops\": 1214}, {\"stop_date\": \"2014-05-28\", \"traffic_stops\": 1478}, {\"stop_date\": \"2014-05-29\", \"traffic_stops\": 1291}, {\"stop_date\": \"2014-05-30\", \"traffic_stops\": 1249}, {\"stop_date\": \"2014-05-31\", \"traffic_stops\": 1100}, {\"stop_date\": \"2014-06-01\", \"traffic_stops\": 961}, {\"stop_date\": \"2014-06-02\", \"traffic_stops\": 1050}, {\"stop_date\": \"2014-06-03\", \"traffic_stops\": 1421}, {\"stop_date\": \"2014-06-04\", \"traffic_stops\": 1504}, {\"stop_date\": \"2014-06-05\", \"traffic_stops\": 1490}, {\"stop_date\": \"2014-06-06\", \"traffic_stops\": 1206}, {\"stop_date\": \"2014-06-07\", \"traffic_stops\": 906}, {\"stop_date\": \"2014-06-08\", \"traffic_stops\": 938}, {\"stop_date\": \"2014-06-09\", \"traffic_stops\": 1214}, {\"stop_date\": \"2014-06-10\", \"traffic_stops\": 1187}, {\"stop_date\": \"2014-06-11\", \"traffic_stops\": 1323}, {\"stop_date\": \"2014-06-12\", \"traffic_stops\": 1220}, {\"stop_date\": \"2014-06-13\", \"traffic_stops\": 1385}, {\"stop_date\": \"2014-06-14\", \"traffic_stops\": 911}, {\"stop_date\": \"2014-06-15\", \"traffic_stops\": 2120}, {\"stop_date\": \"2014-06-16\", \"traffic_stops\": 1134}, {\"stop_date\": \"2014-06-17\", \"traffic_stops\": 1371}, {\"stop_date\": \"2014-06-18\", \"traffic_stops\": 1532}, {\"stop_date\": \"2014-06-19\", \"traffic_stops\": 1430}, {\"stop_date\": \"2014-06-20\", \"traffic_stops\": 1361}, {\"stop_date\": \"2014-06-21\", \"traffic_stops\": 1072}, {\"stop_date\": \"2014-06-22\", \"traffic_stops\": 1064}, {\"stop_date\": \"2014-06-23\", \"traffic_stops\": 1280}, {\"stop_date\": \"2014-06-24\", \"traffic_stops\": 1348}, {\"stop_date\": \"2014-06-25\", \"traffic_stops\": 1461}, {\"stop_date\": \"2014-06-26\", \"traffic_stops\": 1158}, {\"stop_date\": \"2014-06-27\", \"traffic_stops\": 1245}, {\"stop_date\": \"2014-06-28\", \"traffic_stops\": 1026}, {\"stop_date\": \"2014-06-29\", \"traffic_stops\": 1023}, {\"stop_date\": \"2014-06-30\", \"traffic_stops\": 1357}, {\"stop_date\": \"2014-07-01\", \"traffic_stops\": 1394}, {\"stop_date\": \"2014-07-02\", \"traffic_stops\": 1725}, {\"stop_date\": \"2014-07-03\", \"traffic_stops\": 1555}, {\"stop_date\": \"2014-07-04\", \"traffic_stops\": 2012}, {\"stop_date\": \"2014-07-05\", \"traffic_stops\": 1449}, {\"stop_date\": \"2014-07-06\", \"traffic_stops\": 1444}, {\"stop_date\": \"2014-07-07\", \"traffic_stops\": 996}, {\"stop_date\": \"2014-07-08\", \"traffic_stops\": 1181}, {\"stop_date\": \"2014-07-09\", \"traffic_stops\": 1466}, {\"stop_date\": \"2014-07-10\", \"traffic_stops\": 1219}, {\"stop_date\": \"2014-07-11\", \"traffic_stops\": 1329}, {\"stop_date\": \"2014-07-12\", \"traffic_stops\": 923}, {\"stop_date\": \"2014-07-13\", \"traffic_stops\": 806}, {\"stop_date\": \"2014-07-14\", \"traffic_stops\": 962}, {\"stop_date\": \"2014-07-15\", \"traffic_stops\": 2810}, {\"stop_date\": \"2014-07-16\", \"traffic_stops\": 1436}, {\"stop_date\": \"2014-07-17\", \"traffic_stops\": 1244}, {\"stop_date\": \"2014-07-18\", \"traffic_stops\": 1348}, {\"stop_date\": \"2014-07-19\", \"traffic_stops\": 881}, {\"stop_date\": \"2014-07-20\", \"traffic_stops\": 960}, {\"stop_date\": \"2014-07-21\", \"traffic_stops\": 1156}, {\"stop_date\": \"2014-07-22\", \"traffic_stops\": 1291}, {\"stop_date\": \"2014-07-23\", \"traffic_stops\": 1422}, {\"stop_date\": \"2014-07-24\", \"traffic_stops\": 1292}, {\"stop_date\": \"2014-07-25\", \"traffic_stops\": 1401}, {\"stop_date\": \"2014-07-26\", \"traffic_stops\": 1053}, {\"stop_date\": \"2014-07-27\", \"traffic_stops\": 875}, {\"stop_date\": \"2014-07-28\", \"traffic_stops\": 1058}, {\"stop_date\": \"2014-07-29\", \"traffic_stops\": 1261}, {\"stop_date\": \"2014-07-30\", \"traffic_stops\": 1237}, {\"stop_date\": \"2014-07-31\", \"traffic_stops\": 1111}, {\"stop_date\": \"2014-08-01\", \"traffic_stops\": 1194}, {\"stop_date\": \"2014-08-02\", \"traffic_stops\": 829}, {\"stop_date\": \"2014-08-03\", \"traffic_stops\": 846}, {\"stop_date\": \"2014-08-04\", \"traffic_stops\": 1208}, {\"stop_date\": \"2014-08-05\", \"traffic_stops\": 1332}, {\"stop_date\": \"2014-08-06\", \"traffic_stops\": 1492}, {\"stop_date\": \"2014-08-07\", \"traffic_stops\": 1394}, {\"stop_date\": \"2014-08-08\", \"traffic_stops\": 1682}, {\"stop_date\": \"2014-08-09\", \"traffic_stops\": 1245}, {\"stop_date\": \"2014-08-10\", \"traffic_stops\": 1105}, {\"stop_date\": \"2014-08-11\", \"traffic_stops\": 1314}, {\"stop_date\": \"2014-08-12\", \"traffic_stops\": 1371}, {\"stop_date\": \"2014-08-13\", \"traffic_stops\": 1286}, {\"stop_date\": \"2014-08-14\", \"traffic_stops\": 1533}, {\"stop_date\": \"2014-08-15\", \"traffic_stops\": 2828}, {\"stop_date\": \"2014-08-16\", \"traffic_stops\": 1146}, {\"stop_date\": \"2014-08-17\", \"traffic_stops\": 1226}, {\"stop_date\": \"2014-08-18\", \"traffic_stops\": 1257}, {\"stop_date\": \"2014-08-19\", \"traffic_stops\": 1271}, {\"stop_date\": \"2014-08-20\", \"traffic_stops\": 1622}, {\"stop_date\": \"2014-08-21\", \"traffic_stops\": 1615}, {\"stop_date\": \"2014-08-22\", \"traffic_stops\": 1615}, {\"stop_date\": \"2014-08-23\", \"traffic_stops\": 1271}, {\"stop_date\": \"2014-08-24\", \"traffic_stops\": 1197}, {\"stop_date\": \"2014-08-25\", \"traffic_stops\": 1469}, {\"stop_date\": \"2014-08-26\", \"traffic_stops\": 1430}, {\"stop_date\": \"2014-08-27\", \"traffic_stops\": 1339}, {\"stop_date\": \"2014-08-28\", \"traffic_stops\": 1390}, {\"stop_date\": \"2014-08-29\", \"traffic_stops\": 2163}, {\"stop_date\": \"2014-08-30\", \"traffic_stops\": 1629}, {\"stop_date\": \"2014-08-31\", \"traffic_stops\": 1783}, {\"stop_date\": \"2014-09-01\", \"traffic_stops\": 2317}, {\"stop_date\": \"2014-09-02\", \"traffic_stops\": 1433}, {\"stop_date\": \"2014-09-03\", \"traffic_stops\": 1587}, {\"stop_date\": \"2014-09-04\", \"traffic_stops\": 1391}, {\"stop_date\": \"2014-09-05\", \"traffic_stops\": 1395}, {\"stop_date\": \"2014-09-06\", \"traffic_stops\": 958}, {\"stop_date\": \"2014-09-07\", \"traffic_stops\": 1074}, {\"stop_date\": \"2014-09-08\", \"traffic_stops\": 948}, {\"stop_date\": \"2014-09-09\", \"traffic_stops\": 1455}, {\"stop_date\": \"2014-09-10\", \"traffic_stops\": 1784}, {\"stop_date\": \"2014-09-11\", \"traffic_stops\": 1477}, {\"stop_date\": \"2014-09-12\", \"traffic_stops\": 1502}, {\"stop_date\": \"2014-09-13\", \"traffic_stops\": 960}, {\"stop_date\": \"2014-09-14\", \"traffic_stops\": 1094}, {\"stop_date\": \"2014-09-15\", \"traffic_stops\": 2564}, {\"stop_date\": \"2014-09-16\", \"traffic_stops\": 1127}, {\"stop_date\": \"2014-09-17\", \"traffic_stops\": 1170}, {\"stop_date\": \"2014-09-18\", \"traffic_stops\": 1185}, {\"stop_date\": \"2014-09-19\", \"traffic_stops\": 1218}, {\"stop_date\": \"2014-09-20\", \"traffic_stops\": 1141}, {\"stop_date\": \"2014-09-21\", \"traffic_stops\": 897}, {\"stop_date\": \"2014-09-22\", \"traffic_stops\": 1122}, {\"stop_date\": \"2014-09-23\", \"traffic_stops\": 1276}, {\"stop_date\": \"2014-09-24\", \"traffic_stops\": 1439}, {\"stop_date\": \"2014-09-25\", \"traffic_stops\": 1433}, {\"stop_date\": \"2014-09-26\", \"traffic_stops\": 1415}, {\"stop_date\": \"2014-09-27\", \"traffic_stops\": 807}, {\"stop_date\": \"2014-09-28\", \"traffic_stops\": 1021}, {\"stop_date\": \"2014-09-29\", \"traffic_stops\": 1167}, {\"stop_date\": \"2014-09-30\", \"traffic_stops\": 1288}, {\"stop_date\": \"2014-10-01\", \"traffic_stops\": 1316}, {\"stop_date\": \"2014-10-02\", \"traffic_stops\": 1221}, {\"stop_date\": \"2014-10-03\", \"traffic_stops\": 1375}, {\"stop_date\": \"2014-10-04\", \"traffic_stops\": 1021}, {\"stop_date\": \"2014-10-05\", \"traffic_stops\": 946}, {\"stop_date\": \"2014-10-06\", \"traffic_stops\": 1072}, {\"stop_date\": \"2014-10-07\", \"traffic_stops\": 1115}, {\"stop_date\": \"2014-10-08\", \"traffic_stops\": 893}, {\"stop_date\": \"2014-10-09\", \"traffic_stops\": 1120}, {\"stop_date\": \"2014-10-10\", \"traffic_stops\": 1237}, {\"stop_date\": \"2014-10-11\", \"traffic_stops\": 851}, {\"stop_date\": \"2014-10-12\", \"traffic_stops\": 879}, {\"stop_date\": \"2014-10-13\", \"traffic_stops\": 996}, {\"stop_date\": \"2014-10-14\", \"traffic_stops\": 1268}, {\"stop_date\": \"2014-10-15\", \"traffic_stops\": 2510}, {\"stop_date\": \"2014-10-16\", \"traffic_stops\": 1185}, {\"stop_date\": \"2014-10-17\", \"traffic_stops\": 1125}, {\"stop_date\": \"2014-10-18\", \"traffic_stops\": 946}, {\"stop_date\": \"2014-10-19\", \"traffic_stops\": 1025}, {\"stop_date\": \"2014-10-20\", \"traffic_stops\": 1282}, {\"stop_date\": \"2014-10-21\", \"traffic_stops\": 1494}, {\"stop_date\": \"2014-10-22\", \"traffic_stops\": 1637}, {\"stop_date\": \"2014-10-23\", \"traffic_stops\": 1307}, {\"stop_date\": \"2014-10-24\", \"traffic_stops\": 1215}, {\"stop_date\": \"2014-10-25\", \"traffic_stops\": 1082}, {\"stop_date\": \"2014-10-26\", \"traffic_stops\": 1026}, {\"stop_date\": \"2014-10-27\", \"traffic_stops\": 1165}, {\"stop_date\": \"2014-10-28\", \"traffic_stops\": 1266}, {\"stop_date\": \"2014-10-29\", \"traffic_stops\": 1376}, {\"stop_date\": \"2014-10-30\", \"traffic_stops\": 1182}, {\"stop_date\": \"2014-10-31\", \"traffic_stops\": 1220}, {\"stop_date\": \"2014-11-01\", \"traffic_stops\": 1056}, {\"stop_date\": \"2014-11-02\", \"traffic_stops\": 1924}, {\"stop_date\": \"2014-11-03\", \"traffic_stops\": 2362}, {\"stop_date\": \"2014-11-04\", \"traffic_stops\": 2496}, {\"stop_date\": \"2014-11-05\", \"traffic_stops\": 2804}, {\"stop_date\": \"2014-11-06\", \"traffic_stops\": 2508}, {\"stop_date\": \"2014-11-07\", \"traffic_stops\": 2518}, {\"stop_date\": \"2014-11-08\", \"traffic_stops\": 2020}, {\"stop_date\": \"2014-11-09\", \"traffic_stops\": 2212}, {\"stop_date\": \"2014-11-10\", \"traffic_stops\": 2000}, {\"stop_date\": \"2014-11-11\", \"traffic_stops\": 2458}, {\"stop_date\": \"2014-11-12\", \"traffic_stops\": 2708}, {\"stop_date\": \"2014-11-13\", \"traffic_stops\": 2486}, {\"stop_date\": \"2014-11-14\", \"traffic_stops\": 2698}, {\"stop_date\": \"2014-11-15\", \"traffic_stops\": 3105}, {\"stop_date\": \"2014-11-16\", \"traffic_stops\": 1081}, {\"stop_date\": \"2014-11-17\", \"traffic_stops\": 1006}, {\"stop_date\": \"2014-11-18\", \"traffic_stops\": 1198}, {\"stop_date\": \"2014-11-19\", \"traffic_stops\": 1272}, {\"stop_date\": \"2014-11-20\", \"traffic_stops\": 1279}, {\"stop_date\": \"2014-11-21\", \"traffic_stops\": 1265}, {\"stop_date\": \"2014-11-22\", \"traffic_stops\": 962}, {\"stop_date\": \"2014-11-23\", \"traffic_stops\": 1014}, {\"stop_date\": \"2014-11-24\", \"traffic_stops\": 1111}, {\"stop_date\": \"2014-11-25\", \"traffic_stops\": 1408}, {\"stop_date\": \"2014-11-26\", \"traffic_stops\": 2475}, {\"stop_date\": \"2014-11-27\", \"traffic_stops\": 1001}, {\"stop_date\": \"2014-11-28\", \"traffic_stops\": 1513}, {\"stop_date\": \"2014-11-29\", \"traffic_stops\": 1249}, {\"stop_date\": \"2014-11-30\", \"traffic_stops\": 1514}, {\"stop_date\": \"2014-12-01\", \"traffic_stops\": 1135}, {\"stop_date\": \"2014-12-02\", \"traffic_stops\": 1193}, {\"stop_date\": \"2014-12-03\", \"traffic_stops\": 1196}, {\"stop_date\": \"2014-12-04\", \"traffic_stops\": 847}, {\"stop_date\": \"2014-12-05\", \"traffic_stops\": 1042}, {\"stop_date\": \"2014-12-06\", \"traffic_stops\": 918}, {\"stop_date\": \"2014-12-07\", \"traffic_stops\": 926}, {\"stop_date\": \"2014-12-08\", \"traffic_stops\": 1155}, {\"stop_date\": \"2014-12-09\", \"traffic_stops\": 1321}, {\"stop_date\": \"2014-12-10\", \"traffic_stops\": 1503}, {\"stop_date\": \"2014-12-11\", \"traffic_stops\": 1310}, {\"stop_date\": \"2014-12-12\", \"traffic_stops\": 1168}, {\"stop_date\": \"2014-12-13\", \"traffic_stops\": 811}, {\"stop_date\": \"2014-12-14\", \"traffic_stops\": 1003}, {\"stop_date\": \"2014-12-15\", \"traffic_stops\": 2466}, {\"stop_date\": \"2014-12-16\", \"traffic_stops\": 1516}, {\"stop_date\": \"2014-12-17\", \"traffic_stops\": 1262}, {\"stop_date\": \"2014-12-18\", \"traffic_stops\": 1361}, {\"stop_date\": \"2014-12-19\", \"traffic_stops\": 1432}, {\"stop_date\": \"2014-12-20\", \"traffic_stops\": 1096}, {\"stop_date\": \"2014-12-21\", \"traffic_stops\": 1075}, {\"stop_date\": \"2014-12-22\", \"traffic_stops\": 1160}, {\"stop_date\": \"2014-12-23\", \"traffic_stops\": 1417}, {\"stop_date\": \"2014-12-24\", \"traffic_stops\": 1788}, {\"stop_date\": \"2014-12-25\", \"traffic_stops\": 692}, {\"stop_date\": \"2014-12-26\", \"traffic_stops\": 1299}, {\"stop_date\": \"2014-12-27\", \"traffic_stops\": 993}, {\"stop_date\": \"2014-12-28\", \"traffic_stops\": 1109}, {\"stop_date\": \"2014-12-29\", \"traffic_stops\": 1224}, {\"stop_date\": \"2014-12-30\", \"traffic_stops\": 1381}, {\"stop_date\": \"2014-12-31\", \"traffic_stops\": 1364}]}, \"mark\": \"line\", \"encoding\": {\"x\": {\"type\": \"temporal\", \"field\": \"stop_date\"}, \"y\": {\"type\": \"quantitative\", \"field\": \"traffic_stops\"}}, \"$schema\": \"https://vega.github.io/schema/vega-lite/v2.3.0.json\"};\n",
       "var opt = {};\n",
       "var selector = \"#a1bb2f32-fac2-4973-a2fb-9afec5b07109\";\n",
       "var type = \"vega-lite\";\n",
       "\n",
       "var output_area = this;\n",
       "\n",
       "require(['nbextensions/jupyter-vega3/index'], function(vega) {\n",
       "  vega.render(selector, spec, type, opt, output_area);\n",
       "}, function (err) {\n",
       "  if (err.requireType !== 'scripterror') {\n",
       "    throw(err);\n",
       "  }\n",
       "});\n"
      ]
     },
     "metadata": {
      "jupyter-vega3": "#a1bb2f32-fac2-4973-a2fb-9afec5b07109"
     },
     "output_type": "display_data"
    },
    {
     "data": {
      "image/png": "[encoded data removed]"
     },
     "metadata": {
      "jupyter-vega3": "#a1bb2f32-fac2-4973-a2fb-9afec5b07109"
     },
     "output_type": "display_data"
    },
    {
     "data": {
      "text/plain": []
     },
     "execution_count": 10,
     "metadata": {},
     "output_type": "execute_result"
    }
   ],
   "source": [
    "alt.Chart(stops_by_day).mark_line().encode(x = 'stop_date', y = 'traffic_stops')"
   ]
  },
  {
   "cell_type": "markdown",
   "metadata": {},
   "source": [
    "That looks fine. We certainly can get a better idea of our data. But can we make it look better?"
   ]
  },
  {
   "cell_type": "code",
   "execution_count": 11,
   "metadata": {},
   "outputs": [
    {
     "data": {
      "text/html": [
       "<div class=\"vega-embed\" id=\"c19caaed-3fb3-4cd7-a301-1a452ddede5a\"></div>\n",
       "\n",
       "<style>\n",
       ".vega-embed .vega-actions > a {\n",
       "    transition: opacity 200ms ease-in;\n",
       "    opacity: 0.3;\n",
       "    margin-right: 0.6em;\n",
       "    color: #444;\n",
       "    text-decoration: none;\n",
       "}\n",
       "\n",
       ".vega-embed .vega-actions > a:hover {\n",
       "    color: #000;\n",
       "    text-decoration: underline;\n",
       "}\n",
       "\n",
       ".vega-embed:hover .vega-actions > a {\n",
       "    opacity: 1;\n",
       "    transition: 0s;\n",
       "}\n",
       "\n",
       ".vega-embed .error p {\n",
       "    color: firebrick;\n",
       "    font-size: 1.2em;\n",
       "}\n",
       "</style>\n"
      ]
     },
     "metadata": {
      "jupyter-vega3": "#c19caaed-3fb3-4cd7-a301-1a452ddede5a"
     },
     "output_type": "display_data"
    },
    {
     "data": {
      "application/javascript": [
       "var spec = {\"config\": {\"view\": {\"width\": 400, \"height\": 300}}, \"data\": {\"values\": [{\"stop_date\": \"2014-01-01\", \"traffic_stops\": 1755}, {\"stop_date\": \"2014-01-02\", \"traffic_stops\": 1694}, {\"stop_date\": \"2014-01-03\", \"traffic_stops\": 1490}, {\"stop_date\": \"2014-01-04\", \"traffic_stops\": 1153}, {\"stop_date\": \"2014-01-05\", \"traffic_stops\": 1150}, {\"stop_date\": \"2014-01-06\", \"traffic_stops\": 1455}, {\"stop_date\": \"2014-01-07\", \"traffic_stops\": 1618}, {\"stop_date\": \"2014-01-08\", \"traffic_stops\": 1675}, {\"stop_date\": \"2014-01-09\", \"traffic_stops\": 1620}, {\"stop_date\": \"2014-01-10\", \"traffic_stops\": 1555}, {\"stop_date\": \"2014-01-11\", \"traffic_stops\": 1274}, {\"stop_date\": \"2014-01-12\", \"traffic_stops\": 1147}, {\"stop_date\": \"2014-01-13\", \"traffic_stops\": 1340}, {\"stop_date\": \"2014-01-14\", \"traffic_stops\": 1695}, {\"stop_date\": \"2014-01-15\", \"traffic_stops\": 3810}, {\"stop_date\": \"2014-01-16\", \"traffic_stops\": 2155}, {\"stop_date\": \"2014-01-17\", \"traffic_stops\": 1774}, {\"stop_date\": \"2014-01-18\", \"traffic_stops\": 1200}, {\"stop_date\": \"2014-01-19\", \"traffic_stops\": 1192}, {\"stop_date\": \"2014-01-20\", \"traffic_stops\": 1717}, {\"stop_date\": \"2014-01-21\", \"traffic_stops\": 1640}, {\"stop_date\": \"2014-01-22\", \"traffic_stops\": 1903}, {\"stop_date\": \"2014-01-23\", \"traffic_stops\": 1667}, {\"stop_date\": \"2014-01-24\", \"traffic_stops\": 1540}, {\"stop_date\": \"2014-01-25\", \"traffic_stops\": 1304}, {\"stop_date\": \"2014-01-26\", \"traffic_stops\": 1311}, {\"stop_date\": \"2014-01-27\", \"traffic_stops\": 1537}, {\"stop_date\": \"2014-01-28\", \"traffic_stops\": 1853}, {\"stop_date\": \"2014-01-29\", \"traffic_stops\": 1869}, {\"stop_date\": \"2014-01-30\", \"traffic_stops\": 1539}, {\"stop_date\": \"2014-01-31\", \"traffic_stops\": 1566}, {\"stop_date\": \"2014-02-01\", \"traffic_stops\": 1141}, {\"stop_date\": \"2014-02-02\", \"traffic_stops\": 1242}, {\"stop_date\": \"2014-02-03\", \"traffic_stops\": 1298}, {\"stop_date\": \"2014-02-04\", \"traffic_stops\": 1475}, {\"stop_date\": \"2014-02-05\", \"traffic_stops\": 1736}, {\"stop_date\": \"2014-02-06\", \"traffic_stops\": 1507}, {\"stop_date\": \"2014-02-07\", \"traffic_stops\": 1455}, {\"stop_date\": \"2014-02-08\", \"traffic_stops\": 1181}, {\"stop_date\": \"2014-02-09\", \"traffic_stops\": 1216}, {\"stop_date\": \"2014-02-10\", \"traffic_stops\": 1282}, {\"stop_date\": \"2014-02-11\", \"traffic_stops\": 1583}, {\"stop_date\": \"2014-02-12\", \"traffic_stops\": 1646}, {\"stop_date\": \"2014-02-13\", \"traffic_stops\": 1300}, {\"stop_date\": \"2014-02-14\", \"traffic_stops\": 1556}, {\"stop_date\": \"2014-02-15\", \"traffic_stops\": 2134}, {\"stop_date\": \"2014-02-16\", \"traffic_stops\": 1239}, {\"stop_date\": \"2014-02-17\", \"traffic_stops\": 1831}, {\"stop_date\": \"2014-02-18\", \"traffic_stops\": 1549}, {\"stop_date\": \"2014-02-19\", \"traffic_stops\": 1723}, {\"stop_date\": \"2014-02-20\", \"traffic_stops\": 1524}, {\"stop_date\": \"2014-02-21\", \"traffic_stops\": 1412}, {\"stop_date\": \"2014-02-22\", \"traffic_stops\": 1013}, {\"stop_date\": \"2014-02-23\", \"traffic_stops\": 994}, {\"stop_date\": \"2014-02-24\", \"traffic_stops\": 1190}, {\"stop_date\": \"2014-02-25\", \"traffic_stops\": 1687}, {\"stop_date\": \"2014-02-26\", \"traffic_stops\": 1726}, {\"stop_date\": \"2014-02-27\", \"traffic_stops\": 1801}, {\"stop_date\": \"2014-02-28\", \"traffic_stops\": 1311}, {\"stop_date\": \"2014-03-01\", \"traffic_stops\": 565}, {\"stop_date\": \"2014-03-02\", \"traffic_stops\": 963}, {\"stop_date\": \"2014-03-03\", \"traffic_stops\": 1268}, {\"stop_date\": \"2014-03-04\", \"traffic_stops\": 1375}, {\"stop_date\": \"2014-03-05\", \"traffic_stops\": 1572}, {\"stop_date\": \"2014-03-06\", \"traffic_stops\": 1614}, {\"stop_date\": \"2014-03-07\", \"traffic_stops\": 1481}, {\"stop_date\": \"2014-03-08\", \"traffic_stops\": 956}, {\"stop_date\": \"2014-03-09\", \"traffic_stops\": 1273}, {\"stop_date\": \"2014-03-10\", \"traffic_stops\": 1149}, {\"stop_date\": \"2014-03-11\", \"traffic_stops\": 1439}, {\"stop_date\": \"2014-03-12\", \"traffic_stops\": 1534}, {\"stop_date\": \"2014-03-13\", \"traffic_stops\": 1427}, {\"stop_date\": \"2014-03-14\", \"traffic_stops\": 1499}, {\"stop_date\": \"2014-03-15\", \"traffic_stops\": 2156}, {\"stop_date\": \"2014-03-16\", \"traffic_stops\": 1160}, {\"stop_date\": \"2014-03-17\", \"traffic_stops\": 1588}, {\"stop_date\": \"2014-03-18\", \"traffic_stops\": 1637}, {\"stop_date\": \"2014-03-19\", \"traffic_stops\": 1511}, {\"stop_date\": \"2014-03-20\", \"traffic_stops\": 1500}, {\"stop_date\": \"2014-03-21\", \"traffic_stops\": 1406}, {\"stop_date\": \"2014-03-22\", \"traffic_stops\": 1102}, {\"stop_date\": \"2014-03-23\", \"traffic_stops\": 1131}, {\"stop_date\": \"2014-03-24\", \"traffic_stops\": 1212}, {\"stop_date\": \"2014-03-25\", \"traffic_stops\": 1171}, {\"stop_date\": \"2014-03-26\", \"traffic_stops\": 1477}, {\"stop_date\": \"2014-03-27\", \"traffic_stops\": 1444}, {\"stop_date\": \"2014-03-28\", \"traffic_stops\": 1311}, {\"stop_date\": \"2014-03-29\", \"traffic_stops\": 1084}, {\"stop_date\": \"2014-03-30\", \"traffic_stops\": 1078}, {\"stop_date\": \"2014-03-31\", \"traffic_stops\": 1372}, {\"stop_date\": \"2014-04-01\", \"traffic_stops\": 1667}, {\"stop_date\": \"2014-04-02\", \"traffic_stops\": 1545}, {\"stop_date\": \"2014-04-03\", \"traffic_stops\": 1647}, {\"stop_date\": \"2014-04-04\", \"traffic_stops\": 1435}, {\"stop_date\": \"2014-04-05\", \"traffic_stops\": 1053}, {\"stop_date\": \"2014-04-06\", \"traffic_stops\": 1251}, {\"stop_date\": \"2014-04-07\", \"traffic_stops\": 1477}, {\"stop_date\": \"2014-04-08\", \"traffic_stops\": 1405}, {\"stop_date\": \"2014-04-09\", \"traffic_stops\": 1677}, {\"stop_date\": \"2014-04-10\", \"traffic_stops\": 1531}, {\"stop_date\": \"2014-04-11\", \"traffic_stops\": 1332}, {\"stop_date\": \"2014-04-12\", \"traffic_stops\": 968}, {\"stop_date\": \"2014-04-13\", \"traffic_stops\": 1045}, {\"stop_date\": \"2014-04-14\", \"traffic_stops\": 1475}, {\"stop_date\": \"2014-04-15\", \"traffic_stops\": 2422}, {\"stop_date\": \"2014-04-16\", \"traffic_stops\": 1420}, {\"stop_date\": \"2014-04-17\", \"traffic_stops\": 1246}, {\"stop_date\": \"2014-04-18\", \"traffic_stops\": 1503}, {\"stop_date\": \"2014-04-19\", \"traffic_stops\": 1084}, {\"stop_date\": \"2014-04-20\", \"traffic_stops\": 1108}, {\"stop_date\": \"2014-04-21\", \"traffic_stops\": 1219}, {\"stop_date\": \"2014-04-22\", \"traffic_stops\": 1616}, {\"stop_date\": \"2014-04-23\", \"traffic_stops\": 1842}, {\"stop_date\": \"2014-04-24\", \"traffic_stops\": 1583}, {\"stop_date\": \"2014-04-25\", \"traffic_stops\": 1338}, {\"stop_date\": \"2014-04-26\", \"traffic_stops\": 933}, {\"stop_date\": \"2014-04-27\", \"traffic_stops\": 1342}, {\"stop_date\": \"2014-04-28\", \"traffic_stops\": 1249}, {\"stop_date\": \"2014-04-29\", \"traffic_stops\": 1319}, {\"stop_date\": \"2014-04-30\", \"traffic_stops\": 1598}, {\"stop_date\": \"2014-05-01\", \"traffic_stops\": 1228}, {\"stop_date\": \"2014-05-02\", \"traffic_stops\": 1400}, {\"stop_date\": \"2014-05-03\", \"traffic_stops\": 991}, {\"stop_date\": \"2014-05-04\", \"traffic_stops\": 1055}, {\"stop_date\": \"2014-05-05\", \"traffic_stops\": 1120}, {\"stop_date\": \"2014-05-06\", \"traffic_stops\": 1097}, {\"stop_date\": \"2014-05-07\", \"traffic_stops\": 1384}, {\"stop_date\": \"2014-05-08\", \"traffic_stops\": 1236}, {\"stop_date\": \"2014-05-09\", \"traffic_stops\": 1414}, {\"stop_date\": \"2014-05-10\", \"traffic_stops\": 1023}, {\"stop_date\": \"2014-05-11\", \"traffic_stops\": 933}, {\"stop_date\": \"2014-05-12\", \"traffic_stops\": 1338}, {\"stop_date\": \"2014-05-13\", \"traffic_stops\": 1280}, {\"stop_date\": \"2014-05-14\", \"traffic_stops\": 1514}, {\"stop_date\": \"2014-05-15\", \"traffic_stops\": 3016}, {\"stop_date\": \"2014-05-16\", \"traffic_stops\": 1526}, {\"stop_date\": \"2014-05-17\", \"traffic_stops\": 1169}, {\"stop_date\": \"2014-05-18\", \"traffic_stops\": 1212}, {\"stop_date\": \"2014-05-19\", \"traffic_stops\": 1080}, {\"stop_date\": \"2014-05-20\", \"traffic_stops\": 1228}, {\"stop_date\": \"2014-05-21\", \"traffic_stops\": 1405}, {\"stop_date\": \"2014-05-22\", \"traffic_stops\": 1370}, {\"stop_date\": \"2014-05-23\", \"traffic_stops\": 1765}, {\"stop_date\": \"2014-05-24\", \"traffic_stops\": 1399}, {\"stop_date\": \"2014-05-25\", \"traffic_stops\": 1251}, {\"stop_date\": \"2014-05-26\", \"traffic_stops\": 1976}, {\"stop_date\": \"2014-05-27\", \"traffic_stops\": 1214}, {\"stop_date\": \"2014-05-28\", \"traffic_stops\": 1478}, {\"stop_date\": \"2014-05-29\", \"traffic_stops\": 1291}, {\"stop_date\": \"2014-05-30\", \"traffic_stops\": 1249}, {\"stop_date\": \"2014-05-31\", \"traffic_stops\": 1100}, {\"stop_date\": \"2014-06-01\", \"traffic_stops\": 961}, {\"stop_date\": \"2014-06-02\", \"traffic_stops\": 1050}, {\"stop_date\": \"2014-06-03\", \"traffic_stops\": 1421}, {\"stop_date\": \"2014-06-04\", \"traffic_stops\": 1504}, {\"stop_date\": \"2014-06-05\", \"traffic_stops\": 1490}, {\"stop_date\": \"2014-06-06\", \"traffic_stops\": 1206}, {\"stop_date\": \"2014-06-07\", \"traffic_stops\": 906}, {\"stop_date\": \"2014-06-08\", \"traffic_stops\": 938}, {\"stop_date\": \"2014-06-09\", \"traffic_stops\": 1214}, {\"stop_date\": \"2014-06-10\", \"traffic_stops\": 1187}, {\"stop_date\": \"2014-06-11\", \"traffic_stops\": 1323}, {\"stop_date\": \"2014-06-12\", \"traffic_stops\": 1220}, {\"stop_date\": \"2014-06-13\", \"traffic_stops\": 1385}, {\"stop_date\": \"2014-06-14\", \"traffic_stops\": 911}, {\"stop_date\": \"2014-06-15\", \"traffic_stops\": 2120}, {\"stop_date\": \"2014-06-16\", \"traffic_stops\": 1134}, {\"stop_date\": \"2014-06-17\", \"traffic_stops\": 1371}, {\"stop_date\": \"2014-06-18\", \"traffic_stops\": 1532}, {\"stop_date\": \"2014-06-19\", \"traffic_stops\": 1430}, {\"stop_date\": \"2014-06-20\", \"traffic_stops\": 1361}, {\"stop_date\": \"2014-06-21\", \"traffic_stops\": 1072}, {\"stop_date\": \"2014-06-22\", \"traffic_stops\": 1064}, {\"stop_date\": \"2014-06-23\", \"traffic_stops\": 1280}, {\"stop_date\": \"2014-06-24\", \"traffic_stops\": 1348}, {\"stop_date\": \"2014-06-25\", \"traffic_stops\": 1461}, {\"stop_date\": \"2014-06-26\", \"traffic_stops\": 1158}, {\"stop_date\": \"2014-06-27\", \"traffic_stops\": 1245}, {\"stop_date\": \"2014-06-28\", \"traffic_stops\": 1026}, {\"stop_date\": \"2014-06-29\", \"traffic_stops\": 1023}, {\"stop_date\": \"2014-06-30\", \"traffic_stops\": 1357}, {\"stop_date\": \"2014-07-01\", \"traffic_stops\": 1394}, {\"stop_date\": \"2014-07-02\", \"traffic_stops\": 1725}, {\"stop_date\": \"2014-07-03\", \"traffic_stops\": 1555}, {\"stop_date\": \"2014-07-04\", \"traffic_stops\": 2012}, {\"stop_date\": \"2014-07-05\", \"traffic_stops\": 1449}, {\"stop_date\": \"2014-07-06\", \"traffic_stops\": 1444}, {\"stop_date\": \"2014-07-07\", \"traffic_stops\": 996}, {\"stop_date\": \"2014-07-08\", \"traffic_stops\": 1181}, {\"stop_date\": \"2014-07-09\", \"traffic_stops\": 1466}, {\"stop_date\": \"2014-07-10\", \"traffic_stops\": 1219}, {\"stop_date\": \"2014-07-11\", \"traffic_stops\": 1329}, {\"stop_date\": \"2014-07-12\", \"traffic_stops\": 923}, {\"stop_date\": \"2014-07-13\", \"traffic_stops\": 806}, {\"stop_date\": \"2014-07-14\", \"traffic_stops\": 962}, {\"stop_date\": \"2014-07-15\", \"traffic_stops\": 2810}, {\"stop_date\": \"2014-07-16\", \"traffic_stops\": 1436}, {\"stop_date\": \"2014-07-17\", \"traffic_stops\": 1244}, {\"stop_date\": \"2014-07-18\", \"traffic_stops\": 1348}, {\"stop_date\": \"2014-07-19\", \"traffic_stops\": 881}, {\"stop_date\": \"2014-07-20\", \"traffic_stops\": 960}, {\"stop_date\": \"2014-07-21\", \"traffic_stops\": 1156}, {\"stop_date\": \"2014-07-22\", \"traffic_stops\": 1291}, {\"stop_date\": \"2014-07-23\", \"traffic_stops\": 1422}, {\"stop_date\": \"2014-07-24\", \"traffic_stops\": 1292}, {\"stop_date\": \"2014-07-25\", \"traffic_stops\": 1401}, {\"stop_date\": \"2014-07-26\", \"traffic_stops\": 1053}, {\"stop_date\": \"2014-07-27\", \"traffic_stops\": 875}, {\"stop_date\": \"2014-07-28\", \"traffic_stops\": 1058}, {\"stop_date\": \"2014-07-29\", \"traffic_stops\": 1261}, {\"stop_date\": \"2014-07-30\", \"traffic_stops\": 1237}, {\"stop_date\": \"2014-07-31\", \"traffic_stops\": 1111}, {\"stop_date\": \"2014-08-01\", \"traffic_stops\": 1194}, {\"stop_date\": \"2014-08-02\", \"traffic_stops\": 829}, {\"stop_date\": \"2014-08-03\", \"traffic_stops\": 846}, {\"stop_date\": \"2014-08-04\", \"traffic_stops\": 1208}, {\"stop_date\": \"2014-08-05\", \"traffic_stops\": 1332}, {\"stop_date\": \"2014-08-06\", \"traffic_stops\": 1492}, {\"stop_date\": \"2014-08-07\", \"traffic_stops\": 1394}, {\"stop_date\": \"2014-08-08\", \"traffic_stops\": 1682}, {\"stop_date\": \"2014-08-09\", \"traffic_stops\": 1245}, {\"stop_date\": \"2014-08-10\", \"traffic_stops\": 1105}, {\"stop_date\": \"2014-08-11\", \"traffic_stops\": 1314}, {\"stop_date\": \"2014-08-12\", \"traffic_stops\": 1371}, {\"stop_date\": \"2014-08-13\", \"traffic_stops\": 1286}, {\"stop_date\": \"2014-08-14\", \"traffic_stops\": 1533}, {\"stop_date\": \"2014-08-15\", \"traffic_stops\": 2828}, {\"stop_date\": \"2014-08-16\", \"traffic_stops\": 1146}, {\"stop_date\": \"2014-08-17\", \"traffic_stops\": 1226}, {\"stop_date\": \"2014-08-18\", \"traffic_stops\": 1257}, {\"stop_date\": \"2014-08-19\", \"traffic_stops\": 1271}, {\"stop_date\": \"2014-08-20\", \"traffic_stops\": 1622}, {\"stop_date\": \"2014-08-21\", \"traffic_stops\": 1615}, {\"stop_date\": \"2014-08-22\", \"traffic_stops\": 1615}, {\"stop_date\": \"2014-08-23\", \"traffic_stops\": 1271}, {\"stop_date\": \"2014-08-24\", \"traffic_stops\": 1197}, {\"stop_date\": \"2014-08-25\", \"traffic_stops\": 1469}, {\"stop_date\": \"2014-08-26\", \"traffic_stops\": 1430}, {\"stop_date\": \"2014-08-27\", \"traffic_stops\": 1339}, {\"stop_date\": \"2014-08-28\", \"traffic_stops\": 1390}, {\"stop_date\": \"2014-08-29\", \"traffic_stops\": 2163}, {\"stop_date\": \"2014-08-30\", \"traffic_stops\": 1629}, {\"stop_date\": \"2014-08-31\", \"traffic_stops\": 1783}, {\"stop_date\": \"2014-09-01\", \"traffic_stops\": 2317}, {\"stop_date\": \"2014-09-02\", \"traffic_stops\": 1433}, {\"stop_date\": \"2014-09-03\", \"traffic_stops\": 1587}, {\"stop_date\": \"2014-09-04\", \"traffic_stops\": 1391}, {\"stop_date\": \"2014-09-05\", \"traffic_stops\": 1395}, {\"stop_date\": \"2014-09-06\", \"traffic_stops\": 958}, {\"stop_date\": \"2014-09-07\", \"traffic_stops\": 1074}, {\"stop_date\": \"2014-09-08\", \"traffic_stops\": 948}, {\"stop_date\": \"2014-09-09\", \"traffic_stops\": 1455}, {\"stop_date\": \"2014-09-10\", \"traffic_stops\": 1784}, {\"stop_date\": \"2014-09-11\", \"traffic_stops\": 1477}, {\"stop_date\": \"2014-09-12\", \"traffic_stops\": 1502}, {\"stop_date\": \"2014-09-13\", \"traffic_stops\": 960}, {\"stop_date\": \"2014-09-14\", \"traffic_stops\": 1094}, {\"stop_date\": \"2014-09-15\", \"traffic_stops\": 2564}, {\"stop_date\": \"2014-09-16\", \"traffic_stops\": 1127}, {\"stop_date\": \"2014-09-17\", \"traffic_stops\": 1170}, {\"stop_date\": \"2014-09-18\", \"traffic_stops\": 1185}, {\"stop_date\": \"2014-09-19\", \"traffic_stops\": 1218}, {\"stop_date\": \"2014-09-20\", \"traffic_stops\": 1141}, {\"stop_date\": \"2014-09-21\", \"traffic_stops\": 897}, {\"stop_date\": \"2014-09-22\", \"traffic_stops\": 1122}, {\"stop_date\": \"2014-09-23\", \"traffic_stops\": 1276}, {\"stop_date\": \"2014-09-24\", \"traffic_stops\": 1439}, {\"stop_date\": \"2014-09-25\", \"traffic_stops\": 1433}, {\"stop_date\": \"2014-09-26\", \"traffic_stops\": 1415}, {\"stop_date\": \"2014-09-27\", \"traffic_stops\": 807}, {\"stop_date\": \"2014-09-28\", \"traffic_stops\": 1021}, {\"stop_date\": \"2014-09-29\", \"traffic_stops\": 1167}, {\"stop_date\": \"2014-09-30\", \"traffic_stops\": 1288}, {\"stop_date\": \"2014-10-01\", \"traffic_stops\": 1316}, {\"stop_date\": \"2014-10-02\", \"traffic_stops\": 1221}, {\"stop_date\": \"2014-10-03\", \"traffic_stops\": 1375}, {\"stop_date\": \"2014-10-04\", \"traffic_stops\": 1021}, {\"stop_date\": \"2014-10-05\", \"traffic_stops\": 946}, {\"stop_date\": \"2014-10-06\", \"traffic_stops\": 1072}, {\"stop_date\": \"2014-10-07\", \"traffic_stops\": 1115}, {\"stop_date\": \"2014-10-08\", \"traffic_stops\": 893}, {\"stop_date\": \"2014-10-09\", \"traffic_stops\": 1120}, {\"stop_date\": \"2014-10-10\", \"traffic_stops\": 1237}, {\"stop_date\": \"2014-10-11\", \"traffic_stops\": 851}, {\"stop_date\": \"2014-10-12\", \"traffic_stops\": 879}, {\"stop_date\": \"2014-10-13\", \"traffic_stops\": 996}, {\"stop_date\": \"2014-10-14\", \"traffic_stops\": 1268}, {\"stop_date\": \"2014-10-15\", \"traffic_stops\": 2510}, {\"stop_date\": \"2014-10-16\", \"traffic_stops\": 1185}, {\"stop_date\": \"2014-10-17\", \"traffic_stops\": 1125}, {\"stop_date\": \"2014-10-18\", \"traffic_stops\": 946}, {\"stop_date\": \"2014-10-19\", \"traffic_stops\": 1025}, {\"stop_date\": \"2014-10-20\", \"traffic_stops\": 1282}, {\"stop_date\": \"2014-10-21\", \"traffic_stops\": 1494}, {\"stop_date\": \"2014-10-22\", \"traffic_stops\": 1637}, {\"stop_date\": \"2014-10-23\", \"traffic_stops\": 1307}, {\"stop_date\": \"2014-10-24\", \"traffic_stops\": 1215}, {\"stop_date\": \"2014-10-25\", \"traffic_stops\": 1082}, {\"stop_date\": \"2014-10-26\", \"traffic_stops\": 1026}, {\"stop_date\": \"2014-10-27\", \"traffic_stops\": 1165}, {\"stop_date\": \"2014-10-28\", \"traffic_stops\": 1266}, {\"stop_date\": \"2014-10-29\", \"traffic_stops\": 1376}, {\"stop_date\": \"2014-10-30\", \"traffic_stops\": 1182}, {\"stop_date\": \"2014-10-31\", \"traffic_stops\": 1220}, {\"stop_date\": \"2014-11-01\", \"traffic_stops\": 1056}, {\"stop_date\": \"2014-11-02\", \"traffic_stops\": 1924}, {\"stop_date\": \"2014-11-03\", \"traffic_stops\": 2362}, {\"stop_date\": \"2014-11-04\", \"traffic_stops\": 2496}, {\"stop_date\": \"2014-11-05\", \"traffic_stops\": 2804}, {\"stop_date\": \"2014-11-06\", \"traffic_stops\": 2508}, {\"stop_date\": \"2014-11-07\", \"traffic_stops\": 2518}, {\"stop_date\": \"2014-11-08\", \"traffic_stops\": 2020}, {\"stop_date\": \"2014-11-09\", \"traffic_stops\": 2212}, {\"stop_date\": \"2014-11-10\", \"traffic_stops\": 2000}, {\"stop_date\": \"2014-11-11\", \"traffic_stops\": 2458}, {\"stop_date\": \"2014-11-12\", \"traffic_stops\": 2708}, {\"stop_date\": \"2014-11-13\", \"traffic_stops\": 2486}, {\"stop_date\": \"2014-11-14\", \"traffic_stops\": 2698}, {\"stop_date\": \"2014-11-15\", \"traffic_stops\": 3105}, {\"stop_date\": \"2014-11-16\", \"traffic_stops\": 1081}, {\"stop_date\": \"2014-11-17\", \"traffic_stops\": 1006}, {\"stop_date\": \"2014-11-18\", \"traffic_stops\": 1198}, {\"stop_date\": \"2014-11-19\", \"traffic_stops\": 1272}, {\"stop_date\": \"2014-11-20\", \"traffic_stops\": 1279}, {\"stop_date\": \"2014-11-21\", \"traffic_stops\": 1265}, {\"stop_date\": \"2014-11-22\", \"traffic_stops\": 962}, {\"stop_date\": \"2014-11-23\", \"traffic_stops\": 1014}, {\"stop_date\": \"2014-11-24\", \"traffic_stops\": 1111}, {\"stop_date\": \"2014-11-25\", \"traffic_stops\": 1408}, {\"stop_date\": \"2014-11-26\", \"traffic_stops\": 2475}, {\"stop_date\": \"2014-11-27\", \"traffic_stops\": 1001}, {\"stop_date\": \"2014-11-28\", \"traffic_stops\": 1513}, {\"stop_date\": \"2014-11-29\", \"traffic_stops\": 1249}, {\"stop_date\": \"2014-11-30\", \"traffic_stops\": 1514}, {\"stop_date\": \"2014-12-01\", \"traffic_stops\": 1135}, {\"stop_date\": \"2014-12-02\", \"traffic_stops\": 1193}, {\"stop_date\": \"2014-12-03\", \"traffic_stops\": 1196}, {\"stop_date\": \"2014-12-04\", \"traffic_stops\": 847}, {\"stop_date\": \"2014-12-05\", \"traffic_stops\": 1042}, {\"stop_date\": \"2014-12-06\", \"traffic_stops\": 918}, {\"stop_date\": \"2014-12-07\", \"traffic_stops\": 926}, {\"stop_date\": \"2014-12-08\", \"traffic_stops\": 1155}, {\"stop_date\": \"2014-12-09\", \"traffic_stops\": 1321}, {\"stop_date\": \"2014-12-10\", \"traffic_stops\": 1503}, {\"stop_date\": \"2014-12-11\", \"traffic_stops\": 1310}, {\"stop_date\": \"2014-12-12\", \"traffic_stops\": 1168}, {\"stop_date\": \"2014-12-13\", \"traffic_stops\": 811}, {\"stop_date\": \"2014-12-14\", \"traffic_stops\": 1003}, {\"stop_date\": \"2014-12-15\", \"traffic_stops\": 2466}, {\"stop_date\": \"2014-12-16\", \"traffic_stops\": 1516}, {\"stop_date\": \"2014-12-17\", \"traffic_stops\": 1262}, {\"stop_date\": \"2014-12-18\", \"traffic_stops\": 1361}, {\"stop_date\": \"2014-12-19\", \"traffic_stops\": 1432}, {\"stop_date\": \"2014-12-20\", \"traffic_stops\": 1096}, {\"stop_date\": \"2014-12-21\", \"traffic_stops\": 1075}, {\"stop_date\": \"2014-12-22\", \"traffic_stops\": 1160}, {\"stop_date\": \"2014-12-23\", \"traffic_stops\": 1417}, {\"stop_date\": \"2014-12-24\", \"traffic_stops\": 1788}, {\"stop_date\": \"2014-12-25\", \"traffic_stops\": 692}, {\"stop_date\": \"2014-12-26\", \"traffic_stops\": 1299}, {\"stop_date\": \"2014-12-27\", \"traffic_stops\": 993}, {\"stop_date\": \"2014-12-28\", \"traffic_stops\": 1109}, {\"stop_date\": \"2014-12-29\", \"traffic_stops\": 1224}, {\"stop_date\": \"2014-12-30\", \"traffic_stops\": 1381}, {\"stop_date\": \"2014-12-31\", \"traffic_stops\": 1364}]}, \"mark\": {\"type\": \"line\", \"color\": \"green\", \"interpolate\": \"basis\"}, \"encoding\": {\"x\": {\"type\": \"temporal\", \"axis\": {\"format\": \"%b-%e\", \"grid\": false, \"labelAngle\": -90, \"labelFlush\": true, \"tickCount\": 26, \"title\": \"Day of year\"}, \"field\": \"stop_date\"}, \"y\": {\"type\": \"quantitative\", \"axis\": {\"title\": \"Traffic stops\"}, \"field\": \"traffic_stops\"}}, \"padding\": 10, \"title\": \"Traffic stops by day of year\", \"$schema\": \"https://vega.github.io/schema/vega-lite/v2.3.0.json\"};\n",
       "var opt = {};\n",
       "var selector = \"#c19caaed-3fb3-4cd7-a301-1a452ddede5a\";\n",
       "var type = \"vega-lite\";\n",
       "\n",
       "var output_area = this;\n",
       "\n",
       "require(['nbextensions/jupyter-vega3/index'], function(vega) {\n",
       "  vega.render(selector, spec, type, opt, output_area);\n",
       "}, function (err) {\n",
       "  if (err.requireType !== 'scripterror') {\n",
       "    throw(err);\n",
       "  }\n",
       "});\n"
      ]
     },
     "metadata": {
      "jupyter-vega3": "#c19caaed-3fb3-4cd7-a301-1a452ddede5a"
     },
     "output_type": "display_data"
    },
    {
     "data": {
      "text/plain": []
     },
     "execution_count": 11,
     "metadata": {},
     "output_type": "execute_result"
    },
    {
     "data": {
      "image/png": "[encoded data removed]"
     },
     "metadata": {
      "jupyter-vega3": "#c19caaed-3fb3-4cd7-a301-1a452ddede5a"
     },
     "output_type": "display_data"
    },
    {
     "data": {
      "image/png": "[encoded data removed]"
     },
     "metadata": {
      "jupyter-vega3": "#c19caaed-3fb3-4cd7-a301-1a452ddede5a"
     },
     "output_type": "display_data"
    },
    {
     "data": {
      "image/png": "[encoded data removed]"
     },
     "metadata": {
      "jupyter-vega3": "#c19caaed-3fb3-4cd7-a301-1a452ddede5a"
     },
     "output_type": "display_data"
    }
   ],
   "source": [
    "alt.Chart(\n",
    "    stops_by_day, \n",
    "    padding = 10, \n",
    "    title = 'Traffic stops by day of year'\n",
    ").mark_line(\n",
    "    interpolate = 'basis', \n",
    "    color = 'green'\n",
    ").encode(\n",
    "    x = alt.X(\n",
    "        'stop_date:T', \n",
    "        axis = alt.Axis(\n",
    "            title = 'Day of year', \n",
    "            format = '%b-%e', \n",
    "            labelAngle = -90, \n",
    "            labelFlush = True, \n",
    "            tickCount = 26, \n",
    "            grid = False)), \n",
    "    y = alt.Y(\n",
    "        'traffic_stops:Q', \n",
    "        axis = alt.Axis(\n",
    "            title = 'Traffic stops'))\n",
    "    )"
   ]
  },
  {
   "cell_type": "markdown",
   "metadata": {},
   "source": [
    "There's something fishy here. You can see there are spikes throughout the year where there are more stops than normal -- sometimes the stops nearly double from one day to the next. Let's see if we can find out more information about those spikes. We can do this by filtering the `stops_by_day` data to show only days where more than 2,000 stops occurred."
   ]
  },
  {
   "cell_type": "code",
   "execution_count": 12,
   "metadata": {},
   "outputs": [
    {
     "data": {
      "text/html": [
       "<div>\n",
       "<style scoped>\n",
       "    .dataframe tbody tr th:only-of-type {\n",
       "        vertical-align: middle;\n",
       "    }\n",
       "\n",
       "    .dataframe tbody tr th {\n",
       "        vertical-align: top;\n",
       "    }\n",
       "\n",
       "    .dataframe thead th {\n",
       "        text-align: right;\n",
       "    }\n",
       "</style>\n",
       "<table border=\"1\" class=\"dataframe\">\n",
       "  <thead>\n",
       "    <tr style=\"text-align: right;\">\n",
       "      <th></th>\n",
       "      <th>stop_date</th>\n",
       "      <th>traffic_stops</th>\n",
       "    </tr>\n",
       "  </thead>\n",
       "  <tbody>\n",
       "    <tr>\n",
       "      <th>14</th>\n",
       "      <td>2014-01-15</td>\n",
       "      <td>3810</td>\n",
       "    </tr>\n",
       "    <tr>\n",
       "      <th>15</th>\n",
       "      <td>2014-01-16</td>\n",
       "      <td>2155</td>\n",
       "    </tr>\n",
       "    <tr>\n",
       "      <th>45</th>\n",
       "      <td>2014-02-15</td>\n",
       "      <td>2134</td>\n",
       "    </tr>\n",
       "    <tr>\n",
       "      <th>73</th>\n",
       "      <td>2014-03-15</td>\n",
       "      <td>2156</td>\n",
       "    </tr>\n",
       "    <tr>\n",
       "      <th>104</th>\n",
       "      <td>2014-04-15</td>\n",
       "      <td>2422</td>\n",
       "    </tr>\n",
       "    <tr>\n",
       "      <th>134</th>\n",
       "      <td>2014-05-15</td>\n",
       "      <td>3016</td>\n",
       "    </tr>\n",
       "    <tr>\n",
       "      <th>165</th>\n",
       "      <td>2014-06-15</td>\n",
       "      <td>2120</td>\n",
       "    </tr>\n",
       "    <tr>\n",
       "      <th>184</th>\n",
       "      <td>2014-07-04</td>\n",
       "      <td>2012</td>\n",
       "    </tr>\n",
       "    <tr>\n",
       "      <th>195</th>\n",
       "      <td>2014-07-15</td>\n",
       "      <td>2810</td>\n",
       "    </tr>\n",
       "    <tr>\n",
       "      <th>226</th>\n",
       "      <td>2014-08-15</td>\n",
       "      <td>2828</td>\n",
       "    </tr>\n",
       "    <tr>\n",
       "      <th>240</th>\n",
       "      <td>2014-08-29</td>\n",
       "      <td>2163</td>\n",
       "    </tr>\n",
       "    <tr>\n",
       "      <th>243</th>\n",
       "      <td>2014-09-01</td>\n",
       "      <td>2317</td>\n",
       "    </tr>\n",
       "    <tr>\n",
       "      <th>257</th>\n",
       "      <td>2014-09-15</td>\n",
       "      <td>2564</td>\n",
       "    </tr>\n",
       "    <tr>\n",
       "      <th>287</th>\n",
       "      <td>2014-10-15</td>\n",
       "      <td>2510</td>\n",
       "    </tr>\n",
       "    <tr>\n",
       "      <th>306</th>\n",
       "      <td>2014-11-03</td>\n",
       "      <td>2362</td>\n",
       "    </tr>\n",
       "    <tr>\n",
       "      <th>307</th>\n",
       "      <td>2014-11-04</td>\n",
       "      <td>2496</td>\n",
       "    </tr>\n",
       "    <tr>\n",
       "      <th>308</th>\n",
       "      <td>2014-11-05</td>\n",
       "      <td>2804</td>\n",
       "    </tr>\n",
       "    <tr>\n",
       "      <th>309</th>\n",
       "      <td>2014-11-06</td>\n",
       "      <td>2508</td>\n",
       "    </tr>\n",
       "    <tr>\n",
       "      <th>310</th>\n",
       "      <td>2014-11-07</td>\n",
       "      <td>2518</td>\n",
       "    </tr>\n",
       "    <tr>\n",
       "      <th>311</th>\n",
       "      <td>2014-11-08</td>\n",
       "      <td>2020</td>\n",
       "    </tr>\n",
       "    <tr>\n",
       "      <th>312</th>\n",
       "      <td>2014-11-09</td>\n",
       "      <td>2212</td>\n",
       "    </tr>\n",
       "    <tr>\n",
       "      <th>313</th>\n",
       "      <td>2014-11-10</td>\n",
       "      <td>2000</td>\n",
       "    </tr>\n",
       "    <tr>\n",
       "      <th>314</th>\n",
       "      <td>2014-11-11</td>\n",
       "      <td>2458</td>\n",
       "    </tr>\n",
       "    <tr>\n",
       "      <th>315</th>\n",
       "      <td>2014-11-12</td>\n",
       "      <td>2708</td>\n",
       "    </tr>\n",
       "    <tr>\n",
       "      <th>316</th>\n",
       "      <td>2014-11-13</td>\n",
       "      <td>2486</td>\n",
       "    </tr>\n",
       "    <tr>\n",
       "      <th>317</th>\n",
       "      <td>2014-11-14</td>\n",
       "      <td>2698</td>\n",
       "    </tr>\n",
       "    <tr>\n",
       "      <th>318</th>\n",
       "      <td>2014-11-15</td>\n",
       "      <td>3105</td>\n",
       "    </tr>\n",
       "    <tr>\n",
       "      <th>329</th>\n",
       "      <td>2014-11-26</td>\n",
       "      <td>2475</td>\n",
       "    </tr>\n",
       "    <tr>\n",
       "      <th>348</th>\n",
       "      <td>2014-12-15</td>\n",
       "      <td>2466</td>\n",
       "    </tr>\n",
       "  </tbody>\n",
       "</table>\n",
       "</div>"
      ],
      "text/plain": [
       "     stop_date  traffic_stops\n",
       "14  2014-01-15           3810\n",
       "15  2014-01-16           2155\n",
       "45  2014-02-15           2134\n",
       "73  2014-03-15           2156\n",
       "104 2014-04-15           2422\n",
       "134 2014-05-15           3016\n",
       "165 2014-06-15           2120\n",
       "184 2014-07-04           2012\n",
       "195 2014-07-15           2810\n",
       "226 2014-08-15           2828\n",
       "240 2014-08-29           2163\n",
       "243 2014-09-01           2317\n",
       "257 2014-09-15           2564\n",
       "287 2014-10-15           2510\n",
       "306 2014-11-03           2362\n",
       "307 2014-11-04           2496\n",
       "308 2014-11-05           2804\n",
       "309 2014-11-06           2508\n",
       "310 2014-11-07           2518\n",
       "311 2014-11-08           2020\n",
       "312 2014-11-09           2212\n",
       "313 2014-11-10           2000\n",
       "314 2014-11-11           2458\n",
       "315 2014-11-12           2708\n",
       "316 2014-11-13           2486\n",
       "317 2014-11-14           2698\n",
       "318 2014-11-15           3105\n",
       "329 2014-11-26           2475\n",
       "348 2014-12-15           2466"
      ]
     },
     "execution_count": 12,
     "metadata": {},
     "output_type": "execute_result"
    }
   ],
   "source": [
    "stops_by_day[stops_by_day['traffic_stops'] >= 2000]"
   ]
  },
  {
   "cell_type": "markdown",
   "metadata": {},
   "source": [
    "We really don't have a good answer to what is going on here. For some reason, traffic stops seem to spike towards the middle of the month. Sometimes it happens at the beginning of the month. Maybe some spikes could be related to holiday enforcement actions such as Fourth of July and Thanksgiving DUI checkpoints? But at this point, we don't know. This is a great example of a case where you would need to do additional reporting to try to figure out what's going on before publishing results of this data. However, this shouldn't impact our training analysis greatly because time is not a factor in what we want to uncover."
   ]
  },
  {
   "cell_type": "markdown",
   "metadata": {},
   "source": [
    "### Work on your own, part I\n",
    "\n",
    "Now that we have taken a fairly in-depth look at the `stop_date` column, let's take a closer look at counties where the stops occurred. Use the `county_name` column to generate your own table of traffic stops throughout the state."
   ]
  },
  {
   "cell_type": "code",
   "execution_count": 13,
   "metadata": {},
   "outputs": [
    {
     "data": {
      "text/html": [
       "<div>\n",
       "<style scoped>\n",
       "    .dataframe tbody tr th:only-of-type {\n",
       "        vertical-align: middle;\n",
       "    }\n",
       "\n",
       "    .dataframe tbody tr th {\n",
       "        vertical-align: top;\n",
       "    }\n",
       "\n",
       "    .dataframe thead th {\n",
       "        text-align: right;\n",
       "    }\n",
       "</style>\n",
       "<table border=\"1\" class=\"dataframe\">\n",
       "  <thead>\n",
       "    <tr style=\"text-align: right;\">\n",
       "      <th></th>\n",
       "      <th>county_name</th>\n",
       "      <th>id</th>\n",
       "    </tr>\n",
       "  </thead>\n",
       "  <tbody>\n",
       "    <tr>\n",
       "      <th>0</th>\n",
       "      <td>Apache County</td>\n",
       "      <td>11550</td>\n",
       "    </tr>\n",
       "    <tr>\n",
       "      <th>1</th>\n",
       "      <td>Cochise County</td>\n",
       "      <td>27766</td>\n",
       "    </tr>\n",
       "    <tr>\n",
       "      <th>2</th>\n",
       "      <td>Coconino County</td>\n",
       "      <td>34147</td>\n",
       "    </tr>\n",
       "    <tr>\n",
       "      <th>3</th>\n",
       "      <td>Gila County</td>\n",
       "      <td>13966</td>\n",
       "    </tr>\n",
       "    <tr>\n",
       "      <th>4</th>\n",
       "      <td>Graham County</td>\n",
       "      <td>5282</td>\n",
       "    </tr>\n",
       "    <tr>\n",
       "      <th>5</th>\n",
       "      <td>Greenlee County</td>\n",
       "      <td>1285</td>\n",
       "    </tr>\n",
       "    <tr>\n",
       "      <th>6</th>\n",
       "      <td>La Paz County</td>\n",
       "      <td>14248</td>\n",
       "    </tr>\n",
       "    <tr>\n",
       "      <th>7</th>\n",
       "      <td>Maricopa County</td>\n",
       "      <td>149932</td>\n",
       "    </tr>\n",
       "    <tr>\n",
       "      <th>8</th>\n",
       "      <td>Mohave County</td>\n",
       "      <td>22962</td>\n",
       "    </tr>\n",
       "    <tr>\n",
       "      <th>9</th>\n",
       "      <td>Navajo County</td>\n",
       "      <td>24072</td>\n",
       "    </tr>\n",
       "    <tr>\n",
       "      <th>10</th>\n",
       "      <td>Pima County</td>\n",
       "      <td>45048</td>\n",
       "    </tr>\n",
       "    <tr>\n",
       "      <th>11</th>\n",
       "      <td>Pinal County</td>\n",
       "      <td>35634</td>\n",
       "    </tr>\n",
       "    <tr>\n",
       "      <th>12</th>\n",
       "      <td>Santa Cruz County</td>\n",
       "      <td>8621</td>\n",
       "    </tr>\n",
       "    <tr>\n",
       "      <th>13</th>\n",
       "      <td>Yavapai County</td>\n",
       "      <td>34412</td>\n",
       "    </tr>\n",
       "    <tr>\n",
       "      <th>14</th>\n",
       "      <td>Yuma County</td>\n",
       "      <td>18287</td>\n",
       "    </tr>\n",
       "  </tbody>\n",
       "</table>\n",
       "</div>"
      ],
      "text/plain": [
       "          county_name      id\n",
       "0       Apache County   11550\n",
       "1      Cochise County   27766\n",
       "2     Coconino County   34147\n",
       "3         Gila County   13966\n",
       "4       Graham County    5282\n",
       "5     Greenlee County    1285\n",
       "6       La Paz County   14248\n",
       "7     Maricopa County  149932\n",
       "8       Mohave County   22962\n",
       "9       Navajo County   24072\n",
       "10        Pima County   45048\n",
       "11       Pinal County   35634\n",
       "12  Santa Cruz County    8621\n",
       "13     Yavapai County   34412\n",
       "14        Yuma County   18287"
      ]
     },
     "execution_count": 13,
     "metadata": {},
     "output_type": "execute_result"
    }
   ],
   "source": [
    "# do the group by\n",
    "stops_by_county = az_stops[['county_name','id']].groupby(by = 'county_name', as_index = False).count()\n",
    "stops_by_county"
   ]
  },
  {
   "cell_type": "code",
   "execution_count": 14,
   "metadata": {},
   "outputs": [
    {
     "data": {
      "text/html": [
       "<div>\n",
       "<style scoped>\n",
       "    .dataframe tbody tr th:only-of-type {\n",
       "        vertical-align: middle;\n",
       "    }\n",
       "\n",
       "    .dataframe tbody tr th {\n",
       "        vertical-align: top;\n",
       "    }\n",
       "\n",
       "    .dataframe thead th {\n",
       "        text-align: right;\n",
       "    }\n",
       "</style>\n",
       "<table border=\"1\" class=\"dataframe\">\n",
       "  <thead>\n",
       "    <tr style=\"text-align: right;\">\n",
       "      <th></th>\n",
       "      <th>county</th>\n",
       "      <th>traffic_stops</th>\n",
       "    </tr>\n",
       "  </thead>\n",
       "  <tbody>\n",
       "    <tr>\n",
       "      <th>0</th>\n",
       "      <td>Apache County</td>\n",
       "      <td>11550</td>\n",
       "    </tr>\n",
       "    <tr>\n",
       "      <th>1</th>\n",
       "      <td>Cochise County</td>\n",
       "      <td>27766</td>\n",
       "    </tr>\n",
       "    <tr>\n",
       "      <th>2</th>\n",
       "      <td>Coconino County</td>\n",
       "      <td>34147</td>\n",
       "    </tr>\n",
       "    <tr>\n",
       "      <th>3</th>\n",
       "      <td>Gila County</td>\n",
       "      <td>13966</td>\n",
       "    </tr>\n",
       "    <tr>\n",
       "      <th>4</th>\n",
       "      <td>Graham County</td>\n",
       "      <td>5282</td>\n",
       "    </tr>\n",
       "    <tr>\n",
       "      <th>5</th>\n",
       "      <td>Greenlee County</td>\n",
       "      <td>1285</td>\n",
       "    </tr>\n",
       "    <tr>\n",
       "      <th>6</th>\n",
       "      <td>La Paz County</td>\n",
       "      <td>14248</td>\n",
       "    </tr>\n",
       "    <tr>\n",
       "      <th>7</th>\n",
       "      <td>Maricopa County</td>\n",
       "      <td>149932</td>\n",
       "    </tr>\n",
       "    <tr>\n",
       "      <th>8</th>\n",
       "      <td>Mohave County</td>\n",
       "      <td>22962</td>\n",
       "    </tr>\n",
       "    <tr>\n",
       "      <th>9</th>\n",
       "      <td>Navajo County</td>\n",
       "      <td>24072</td>\n",
       "    </tr>\n",
       "    <tr>\n",
       "      <th>10</th>\n",
       "      <td>Pima County</td>\n",
       "      <td>45048</td>\n",
       "    </tr>\n",
       "    <tr>\n",
       "      <th>11</th>\n",
       "      <td>Pinal County</td>\n",
       "      <td>35634</td>\n",
       "    </tr>\n",
       "    <tr>\n",
       "      <th>12</th>\n",
       "      <td>Santa Cruz County</td>\n",
       "      <td>8621</td>\n",
       "    </tr>\n",
       "    <tr>\n",
       "      <th>13</th>\n",
       "      <td>Yavapai County</td>\n",
       "      <td>34412</td>\n",
       "    </tr>\n",
       "    <tr>\n",
       "      <th>14</th>\n",
       "      <td>Yuma County</td>\n",
       "      <td>18287</td>\n",
       "    </tr>\n",
       "  </tbody>\n",
       "</table>\n",
       "</div>"
      ],
      "text/plain": [
       "               county  traffic_stops\n",
       "0       Apache County          11550\n",
       "1      Cochise County          27766\n",
       "2     Coconino County          34147\n",
       "3         Gila County          13966\n",
       "4       Graham County           5282\n",
       "5     Greenlee County           1285\n",
       "6       La Paz County          14248\n",
       "7     Maricopa County         149932\n",
       "8       Mohave County          22962\n",
       "9       Navajo County          24072\n",
       "10        Pima County          45048\n",
       "11       Pinal County          35634\n",
       "12  Santa Cruz County           8621\n",
       "13     Yavapai County          34412\n",
       "14        Yuma County          18287"
      ]
     },
     "execution_count": 14,
     "metadata": {},
     "output_type": "execute_result"
    }
   ],
   "source": [
    "# change column names\n",
    "stops_by_county.rename(columns = {'county_name' : 'county', 'id' : 'traffic_stops'}, inplace = True)\n",
    "stops_by_county"
   ]
  },
  {
   "cell_type": "markdown",
   "metadata": {},
   "source": [
    "### Coming back\n",
    "\n",
    "So now we have an idea of how many traffic stops occurred in each county. For the purposes of our analysis this actually means very little since we will be taking a look at the entire state. However if you wanted to localize this to your area it is probably a good idea to take a look at how many stops are occurring in your coverage area.\n",
    "\n",
    "## Visualizing the results"
   ]
  },
  {
   "cell_type": "code",
   "execution_count": 15,
   "metadata": {},
   "outputs": [
    {
     "data": {
      "text/html": [
       "<div class=\"vega-embed\" id=\"7c1f362b-4f36-47e7-9500-316df7d212e5\"></div>\n",
       "\n",
       "<style>\n",
       ".vega-embed .vega-actions > a {\n",
       "    transition: opacity 200ms ease-in;\n",
       "    opacity: 0.3;\n",
       "    margin-right: 0.6em;\n",
       "    color: #444;\n",
       "    text-decoration: none;\n",
       "}\n",
       "\n",
       ".vega-embed .vega-actions > a:hover {\n",
       "    color: #000;\n",
       "    text-decoration: underline;\n",
       "}\n",
       "\n",
       ".vega-embed:hover .vega-actions > a {\n",
       "    opacity: 1;\n",
       "    transition: 0s;\n",
       "}\n",
       "\n",
       ".vega-embed .error p {\n",
       "    color: firebrick;\n",
       "    font-size: 1.2em;\n",
       "}\n",
       "</style>\n"
      ]
     },
     "metadata": {
      "jupyter-vega3": "#7c1f362b-4f36-47e7-9500-316df7d212e5"
     },
     "output_type": "display_data"
    },
    {
     "data": {
      "application/javascript": [
       "var spec = {\"config\": {\"view\": {\"width\": 400, \"height\": 300}}, \"data\": {\"values\": [{\"county\": \"Apache County\", \"traffic_stops\": 11550}, {\"county\": \"Cochise County\", \"traffic_stops\": 27766}, {\"county\": \"Coconino County\", \"traffic_stops\": 34147}, {\"county\": \"Gila County\", \"traffic_stops\": 13966}, {\"county\": \"Graham County\", \"traffic_stops\": 5282}, {\"county\": \"Greenlee County\", \"traffic_stops\": 1285}, {\"county\": \"La Paz County\", \"traffic_stops\": 14248}, {\"county\": \"Maricopa County\", \"traffic_stops\": 149932}, {\"county\": \"Mohave County\", \"traffic_stops\": 22962}, {\"county\": \"Navajo County\", \"traffic_stops\": 24072}, {\"county\": \"Pima County\", \"traffic_stops\": 45048}, {\"county\": \"Pinal County\", \"traffic_stops\": 35634}, {\"county\": \"Santa Cruz County\", \"traffic_stops\": 8621}, {\"county\": \"Yavapai County\", \"traffic_stops\": 34412}, {\"county\": \"Yuma County\", \"traffic_stops\": 18287}]}, \"mark\": \"bar\", \"encoding\": {\"x\": {\"type\": \"quantitative\", \"field\": \"traffic_stops\"}, \"y\": {\"type\": \"nominal\", \"field\": \"county\"}}, \"$schema\": \"https://vega.github.io/schema/vega-lite/v2.3.0.json\"};\n",
       "var opt = {};\n",
       "var selector = \"#7c1f362b-4f36-47e7-9500-316df7d212e5\";\n",
       "var type = \"vega-lite\";\n",
       "\n",
       "var output_area = this;\n",
       "\n",
       "require(['nbextensions/jupyter-vega3/index'], function(vega) {\n",
       "  vega.render(selector, spec, type, opt, output_area);\n",
       "}, function (err) {\n",
       "  if (err.requireType !== 'scripterror') {\n",
       "    throw(err);\n",
       "  }\n",
       "});\n"
      ]
     },
     "metadata": {
      "jupyter-vega3": "#7c1f362b-4f36-47e7-9500-316df7d212e5"
     },
     "output_type": "display_data"
    },
    {
     "data": {
      "text/plain": []
     },
     "execution_count": 15,
     "metadata": {},
     "output_type": "execute_result"
    },
    {
     "data": {
      "image/png": "[encoded data removed]"
     },
     "metadata": {
      "jupyter-vega3": "#7c1f362b-4f36-47e7-9500-316df7d212e5"
     },
     "output_type": "display_data"
    },
    {
     "data": {
      "image/png": "[encoded data removed]"
     },
     "metadata": {
      "jupyter-vega3": "#7c1f362b-4f36-47e7-9500-316df7d212e5"
     },
     "output_type": "display_data"
    },
    {
     "data": {
      "image/png": "[encoded data removed]"
     },
     "metadata": {
      "jupyter-vega3": "#7c1f362b-4f36-47e7-9500-316df7d212e5"
     },
     "output_type": "display_data"
    }
   ],
   "source": [
    "alt.Chart(stops_by_county).mark_bar().encode(x = 'traffic_stops', y = 'county')"
   ]
  },
  {
   "cell_type": "markdown",
   "metadata": {},
   "source": [
    "Can we make this look better? First let's drop the \" County\" at the end of every county name."
   ]
  },
  {
   "cell_type": "code",
   "execution_count": 16,
   "metadata": {},
   "outputs": [],
   "source": [
    "stops_by_county['county'].replace(to_replace = ' County', value = '', regex = True, inplace = True)"
   ]
  },
  {
   "cell_type": "code",
   "execution_count": 17,
   "metadata": {},
   "outputs": [
    {
     "data": {
      "text/html": [
       "<div class=\"vega-embed\" id=\"94201ef8-f330-4e75-8f35-e183e6550614\"></div>\n",
       "\n",
       "<style>\n",
       ".vega-embed .vega-actions > a {\n",
       "    transition: opacity 200ms ease-in;\n",
       "    opacity: 0.3;\n",
       "    margin-right: 0.6em;\n",
       "    color: #444;\n",
       "    text-decoration: none;\n",
       "}\n",
       "\n",
       ".vega-embed .vega-actions > a:hover {\n",
       "    color: #000;\n",
       "    text-decoration: underline;\n",
       "}\n",
       "\n",
       ".vega-embed:hover .vega-actions > a {\n",
       "    opacity: 1;\n",
       "    transition: 0s;\n",
       "}\n",
       "\n",
       ".vega-embed .error p {\n",
       "    color: firebrick;\n",
       "    font-size: 1.2em;\n",
       "}\n",
       "</style>\n"
      ]
     },
     "metadata": {
      "jupyter-vega3": "#94201ef8-f330-4e75-8f35-e183e6550614"
     },
     "output_type": "display_data"
    },
    {
     "data": {
      "application/javascript": [
       "var spec = {\"config\": {\"view\": {\"width\": 400, \"height\": 300, \"stroke\": \"transparent\"}}, \"data\": {\"values\": [{\"county\": \"Apache\", \"traffic_stops\": 11550}, {\"county\": \"Cochise\", \"traffic_stops\": 27766}, {\"county\": \"Coconino\", \"traffic_stops\": 34147}, {\"county\": \"Gila\", \"traffic_stops\": 13966}, {\"county\": \"Graham\", \"traffic_stops\": 5282}, {\"county\": \"Greenlee\", \"traffic_stops\": 1285}, {\"county\": \"La Paz\", \"traffic_stops\": 14248}, {\"county\": \"Maricopa\", \"traffic_stops\": 149932}, {\"county\": \"Mohave\", \"traffic_stops\": 22962}, {\"county\": \"Navajo\", \"traffic_stops\": 24072}, {\"county\": \"Pima\", \"traffic_stops\": 45048}, {\"county\": \"Pinal\", \"traffic_stops\": 35634}, {\"county\": \"Santa Cruz\", \"traffic_stops\": 8621}, {\"county\": \"Yavapai\", \"traffic_stops\": 34412}, {\"county\": \"Yuma\", \"traffic_stops\": 18287}]}, \"mark\": {\"type\": \"bar\", \"color\": \"#b4b8ce\"}, \"encoding\": {\"x\": {\"type\": \"quantitative\", \"axis\": {\"title\": \"Traffic Stops\"}, \"field\": \"traffic_stops\"}, \"y\": {\"type\": \"nominal\", \"axis\": {\"domain\": false, \"labelPadding\": 10, \"ticks\": false, \"title\": null}, \"field\": \"county\", \"sort\": {\"op\": \"sum\", \"field\": \"traffic_stops\", \"order\": \"descending\"}}}, \"padding\": 10, \"title\": \"Stops by county\", \"$schema\": \"https://vega.github.io/schema/vega-lite/v2.3.0.json\"};\n",
       "var opt = {};\n",
       "var selector = \"#94201ef8-f330-4e75-8f35-e183e6550614\";\n",
       "var type = \"vega-lite\";\n",
       "\n",
       "var output_area = this;\n",
       "\n",
       "require(['nbextensions/jupyter-vega3/index'], function(vega) {\n",
       "  vega.render(selector, spec, type, opt, output_area);\n",
       "}, function (err) {\n",
       "  if (err.requireType !== 'scripterror') {\n",
       "    throw(err);\n",
       "  }\n",
       "});\n"
      ]
     },
     "metadata": {
      "jupyter-vega3": "#94201ef8-f330-4e75-8f35-e183e6550614"
     },
     "output_type": "display_data"
    },
    {
     "data": {
      "text/plain": []
     },
     "execution_count": 17,
     "metadata": {},
     "output_type": "execute_result"
    },
    {
     "data": {
      "image/png": "[encoded data removed]"
     },
     "metadata": {
      "jupyter-vega3": "#94201ef8-f330-4e75-8f35-e183e6550614"
     },
     "output_type": "display_data"
    },
    {
     "data": {
      "image/png": "[encoded data removed]"
     },
     "metadata": {
      "jupyter-vega3": "#94201ef8-f330-4e75-8f35-e183e6550614"
     },
     "output_type": "display_data"
    },
    {
     "data": {
      "image/png": "[encoded data removed]"
     },
     "metadata": {
      "jupyter-vega3": "#94201ef8-f330-4e75-8f35-e183e6550614"
     },
     "output_type": "display_data"
    }
   ],
   "source": [
    "alt.Chart(\n",
    "    stops_by_county, \n",
    "    padding = 10, \n",
    "    title = 'Stops by county'\n",
    ").mark_bar(\n",
    "    color = '#b4b8ce'\n",
    ").encode(\n",
    "    x = alt.X(\n",
    "        'traffic_stops',\n",
    "        axis = alt.Axis(title = \"Traffic Stops\")\n",
    "    ), \n",
    "    y = alt.Y(\n",
    "        'county', \n",
    "        sort = alt.SortField(\n",
    "            field = 'traffic_stops', \n",
    "            op = 'sum', \n",
    "            order = 'descending'), \n",
    "        axis = alt.Axis(ticks = False, labelPadding = 10, title = None, domain = False))).configure_view(stroke = 'transparent')"
   ]
  },
  {
   "cell_type": "markdown",
   "metadata": {},
   "source": [
    "## Digging into the demographics\n",
    "\n",
    "Now we can start playing with demographic data that we have in the data set. Our initial look at the data showed us that there isn't any information on the age of the driver, but we do have pretty good data on gender and race/ethnicity. Rather than examining both gender and race separately, let's see if we can do an analysis on both columns at the same time.\n",
    "\n",
    "To do this we will use what is called a pivot table. Those of you who have worked with Excel may be familiar with pivot tables. They are a way to restructure your data to provide a different perspective.\n",
    "\n",
    "Before we get started though, let's do some housekeeping. The `driver_gender` column identifies gender by abbreviation. Let's change that to a full spelling. Earlier, we used `rename` to change the column name, but now we're changing the data, not the column name. So we'll use the `replace` function."
   ]
  },
  {
   "cell_type": "code",
   "execution_count": 18,
   "metadata": {},
   "outputs": [
    {
     "data": {
      "text/html": [
       "<div>\n",
       "<style scoped>\n",
       "    .dataframe tbody tr th:only-of-type {\n",
       "        vertical-align: middle;\n",
       "    }\n",
       "\n",
       "    .dataframe tbody tr th {\n",
       "        vertical-align: top;\n",
       "    }\n",
       "\n",
       "    .dataframe thead th {\n",
       "        text-align: right;\n",
       "    }\n",
       "</style>\n",
       "<table border=\"1\" class=\"dataframe\">\n",
       "  <thead>\n",
       "    <tr style=\"text-align: right;\">\n",
       "      <th></th>\n",
       "      <th>driver_gender</th>\n",
       "    </tr>\n",
       "  </thead>\n",
       "  <tbody>\n",
       "    <tr>\n",
       "      <th>0</th>\n",
       "      <td>Female</td>\n",
       "    </tr>\n",
       "    <tr>\n",
       "      <th>1</th>\n",
       "      <td>Male</td>\n",
       "    </tr>\n",
       "    <tr>\n",
       "      <th>2</th>\n",
       "      <td>Female</td>\n",
       "    </tr>\n",
       "    <tr>\n",
       "      <th>3</th>\n",
       "      <td>Male</td>\n",
       "    </tr>\n",
       "    <tr>\n",
       "      <th>4</th>\n",
       "      <td>Female</td>\n",
       "    </tr>\n",
       "  </tbody>\n",
       "</table>\n",
       "</div>"
      ],
      "text/plain": [
       "  driver_gender\n",
       "0        Female\n",
       "1          Male\n",
       "2        Female\n",
       "3          Male\n",
       "4        Female"
      ]
     },
     "execution_count": 18,
     "metadata": {},
     "output_type": "execute_result"
    }
   ],
   "source": [
    "az_stops['driver_gender'].replace({'F' : 'Female', 'M' : 'Male'}, inplace = True)\n",
    "az_stops[['driver_gender']].head()"
   ]
  },
  {
   "cell_type": "markdown",
   "metadata": {},
   "source": [
    "Much better. While we are at it let's take a peek at the `driver_race` column to see how race is coded."
   ]
  },
  {
   "cell_type": "code",
   "execution_count": 19,
   "metadata": {},
   "outputs": [
    {
     "data": {
      "text/html": [
       "<div>\n",
       "<style scoped>\n",
       "    .dataframe tbody tr th:only-of-type {\n",
       "        vertical-align: middle;\n",
       "    }\n",
       "\n",
       "    .dataframe tbody tr th {\n",
       "        vertical-align: top;\n",
       "    }\n",
       "\n",
       "    .dataframe thead th {\n",
       "        text-align: right;\n",
       "    }\n",
       "</style>\n",
       "<table border=\"1\" class=\"dataframe\">\n",
       "  <thead>\n",
       "    <tr style=\"text-align: right;\">\n",
       "      <th></th>\n",
       "      <th>driver_race</th>\n",
       "    </tr>\n",
       "  </thead>\n",
       "  <tbody>\n",
       "    <tr>\n",
       "      <th>0</th>\n",
       "      <td>Other</td>\n",
       "    </tr>\n",
       "    <tr>\n",
       "      <th>1</th>\n",
       "      <td>White</td>\n",
       "    </tr>\n",
       "    <tr>\n",
       "      <th>2</th>\n",
       "      <td>Other</td>\n",
       "    </tr>\n",
       "    <tr>\n",
       "      <th>3</th>\n",
       "      <td>Hispanic</td>\n",
       "    </tr>\n",
       "    <tr>\n",
       "      <th>4</th>\n",
       "      <td>White</td>\n",
       "    </tr>\n",
       "  </tbody>\n",
       "</table>\n",
       "</div>"
      ],
      "text/plain": [
       "  driver_race\n",
       "0       Other\n",
       "1       White\n",
       "2       Other\n",
       "3    Hispanic\n",
       "4       White"
      ]
     },
     "execution_count": 19,
     "metadata": {},
     "output_type": "execute_result"
    }
   ],
   "source": [
    "az_stops[['driver_race']].head()"
   ]
  },
  {
   "cell_type": "markdown",
   "metadata": {},
   "source": [
    "Now what we want to know is the number of stops by gender and race. Let's build our pivot table to show us that."
   ]
  },
  {
   "cell_type": "code",
   "execution_count": 20,
   "metadata": {},
   "outputs": [
    {
     "data": {
      "text/html": [
       "<div>\n",
       "<style scoped>\n",
       "    .dataframe tbody tr th:only-of-type {\n",
       "        vertical-align: middle;\n",
       "    }\n",
       "\n",
       "    .dataframe tbody tr th {\n",
       "        vertical-align: top;\n",
       "    }\n",
       "\n",
       "    .dataframe thead th {\n",
       "        text-align: right;\n",
       "    }\n",
       "</style>\n",
       "<table border=\"1\" class=\"dataframe\">\n",
       "  <thead>\n",
       "    <tr style=\"text-align: right;\">\n",
       "      <th>driver_gender</th>\n",
       "      <th>Female</th>\n",
       "      <th>Male</th>\n",
       "    </tr>\n",
       "    <tr>\n",
       "      <th>driver_race</th>\n",
       "      <th></th>\n",
       "      <th></th>\n",
       "    </tr>\n",
       "  </thead>\n",
       "  <tbody>\n",
       "    <tr>\n",
       "      <th>Asian</th>\n",
       "      <td>3097</td>\n",
       "      <td>9253</td>\n",
       "    </tr>\n",
       "    <tr>\n",
       "      <th>Black</th>\n",
       "      <td>8378</td>\n",
       "      <td>20594</td>\n",
       "    </tr>\n",
       "    <tr>\n",
       "      <th>Hispanic</th>\n",
       "      <td>35429</td>\n",
       "      <td>99974</td>\n",
       "    </tr>\n",
       "    <tr>\n",
       "      <th>Other</th>\n",
       "      <td>12703</td>\n",
       "      <td>23295</td>\n",
       "    </tr>\n",
       "    <tr>\n",
       "      <th>White</th>\n",
       "      <td>96813</td>\n",
       "      <td>198882</td>\n",
       "    </tr>\n",
       "  </tbody>\n",
       "</table>\n",
       "</div>"
      ],
      "text/plain": [
       "driver_gender  Female    Male\n",
       "driver_race                  \n",
       "Asian            3097    9253\n",
       "Black            8378   20594\n",
       "Hispanic        35429   99974\n",
       "Other           12703   23295\n",
       "White           96813  198882"
      ]
     },
     "execution_count": 20,
     "metadata": {},
     "output_type": "execute_result"
    }
   ],
   "source": [
    "stops_by_sex_race = pd.pivot_table(az_stops, \n",
    "                                   columns = 'driver_gender', \n",
    "                                   index = 'driver_race', \n",
    "                                   values = 'id', \n",
    "                                   aggfunc = 'count')\n",
    "stops_by_sex_race"
   ]
  },
  {
   "cell_type": "markdown",
   "metadata": {},
   "source": [
    "Now we have our results. But again, data presented this way is a bit difficult to for humans to read easily. So we should probably chart this out as well. First we have to clean the table up a bit. We need to get rid of the totals and restructure the dataframe a bit.\n",
    "\n",
    "But wait a minute. What does `melt` mean? Basically it means we're converting \"wide\" data to \"long\" data to show combinations of variables together."
   ]
  },
  {
   "cell_type": "code",
   "execution_count": 21,
   "metadata": {},
   "outputs": [
    {
     "data": {
      "text/html": [
       "<div>\n",
       "<style scoped>\n",
       "    .dataframe tbody tr th:only-of-type {\n",
       "        vertical-align: middle;\n",
       "    }\n",
       "\n",
       "    .dataframe tbody tr th {\n",
       "        vertical-align: top;\n",
       "    }\n",
       "\n",
       "    .dataframe thead th {\n",
       "        text-align: right;\n",
       "    }\n",
       "</style>\n",
       "<table border=\"1\" class=\"dataframe\">\n",
       "  <thead>\n",
       "    <tr style=\"text-align: right;\">\n",
       "      <th></th>\n",
       "      <th>driver_race</th>\n",
       "      <th>driver_gender</th>\n",
       "      <th>traffic_stops</th>\n",
       "    </tr>\n",
       "  </thead>\n",
       "  <tbody>\n",
       "    <tr>\n",
       "      <th>0</th>\n",
       "      <td>Asian</td>\n",
       "      <td>Female</td>\n",
       "      <td>3097</td>\n",
       "    </tr>\n",
       "    <tr>\n",
       "      <th>1</th>\n",
       "      <td>Black</td>\n",
       "      <td>Female</td>\n",
       "      <td>8378</td>\n",
       "    </tr>\n",
       "    <tr>\n",
       "      <th>2</th>\n",
       "      <td>Hispanic</td>\n",
       "      <td>Female</td>\n",
       "      <td>35429</td>\n",
       "    </tr>\n",
       "    <tr>\n",
       "      <th>3</th>\n",
       "      <td>Other</td>\n",
       "      <td>Female</td>\n",
       "      <td>12703</td>\n",
       "    </tr>\n",
       "    <tr>\n",
       "      <th>4</th>\n",
       "      <td>White</td>\n",
       "      <td>Female</td>\n",
       "      <td>96813</td>\n",
       "    </tr>\n",
       "    <tr>\n",
       "      <th>5</th>\n",
       "      <td>Asian</td>\n",
       "      <td>Male</td>\n",
       "      <td>9253</td>\n",
       "    </tr>\n",
       "    <tr>\n",
       "      <th>6</th>\n",
       "      <td>Black</td>\n",
       "      <td>Male</td>\n",
       "      <td>20594</td>\n",
       "    </tr>\n",
       "    <tr>\n",
       "      <th>7</th>\n",
       "      <td>Hispanic</td>\n",
       "      <td>Male</td>\n",
       "      <td>99974</td>\n",
       "    </tr>\n",
       "    <tr>\n",
       "      <th>8</th>\n",
       "      <td>Other</td>\n",
       "      <td>Male</td>\n",
       "      <td>23295</td>\n",
       "    </tr>\n",
       "    <tr>\n",
       "      <th>9</th>\n",
       "      <td>White</td>\n",
       "      <td>Male</td>\n",
       "      <td>198882</td>\n",
       "    </tr>\n",
       "  </tbody>\n",
       "</table>\n",
       "</div>"
      ],
      "text/plain": [
       "  driver_race driver_gender  traffic_stops\n",
       "0       Asian        Female           3097\n",
       "1       Black        Female           8378\n",
       "2    Hispanic        Female          35429\n",
       "3       Other        Female          12703\n",
       "4       White        Female          96813\n",
       "5       Asian          Male           9253\n",
       "6       Black          Male          20594\n",
       "7    Hispanic          Male          99974\n",
       "8       Other          Male          23295\n",
       "9       White          Male         198882"
      ]
     },
     "execution_count": 21,
     "metadata": {},
     "output_type": "execute_result"
    }
   ],
   "source": [
    "stops_by_sex_race = pd.DataFrame(stops_by_sex_race.to_records())\n",
    "\n",
    "stops_by_sex_race = stops_by_sex_race.melt(id_vars = 'driver_race', var_name = 'driver_gender', value_name = 'traffic_stops')\n",
    "\n",
    "stops_by_sex_race"
   ]
  },
  {
   "cell_type": "code",
   "execution_count": 22,
   "metadata": {},
   "outputs": [
    {
     "data": {
      "text/html": [
       "<div class=\"vega-embed\" id=\"a7974546-1052-4a2c-8360-9df5b33d40b0\"></div>\n",
       "\n",
       "<style>\n",
       ".vega-embed .vega-actions > a {\n",
       "    transition: opacity 200ms ease-in;\n",
       "    opacity: 0.3;\n",
       "    margin-right: 0.6em;\n",
       "    color: #444;\n",
       "    text-decoration: none;\n",
       "}\n",
       "\n",
       ".vega-embed .vega-actions > a:hover {\n",
       "    color: #000;\n",
       "    text-decoration: underline;\n",
       "}\n",
       "\n",
       ".vega-embed:hover .vega-actions > a {\n",
       "    opacity: 1;\n",
       "    transition: 0s;\n",
       "}\n",
       "\n",
       ".vega-embed .error p {\n",
       "    color: firebrick;\n",
       "    font-size: 1.2em;\n",
       "}\n",
       "</style>\n"
      ]
     },
     "metadata": {
      "jupyter-vega3": "#a7974546-1052-4a2c-8360-9df5b33d40b0"
     },
     "output_type": "display_data"
    },
    {
     "data": {
      "application/javascript": [
       "var spec = {\"config\": {\"view\": {\"width\": 400, \"height\": 300}}, \"data\": {\"values\": [{\"driver_race\": \"Asian\", \"driver_gender\": \"Female\", \"traffic_stops\": 3097}, {\"driver_race\": \"Black\", \"driver_gender\": \"Female\", \"traffic_stops\": 8378}, {\"driver_race\": \"Hispanic\", \"driver_gender\": \"Female\", \"traffic_stops\": 35429}, {\"driver_race\": \"Other\", \"driver_gender\": \"Female\", \"traffic_stops\": 12703}, {\"driver_race\": \"White\", \"driver_gender\": \"Female\", \"traffic_stops\": 96813}, {\"driver_race\": \"Asian\", \"driver_gender\": \"Male\", \"traffic_stops\": 9253}, {\"driver_race\": \"Black\", \"driver_gender\": \"Male\", \"traffic_stops\": 20594}, {\"driver_race\": \"Hispanic\", \"driver_gender\": \"Male\", \"traffic_stops\": 99974}, {\"driver_race\": \"Other\", \"driver_gender\": \"Male\", \"traffic_stops\": 23295}, {\"driver_race\": \"White\", \"driver_gender\": \"Male\", \"traffic_stops\": 198882}]}, \"mark\": \"bar\", \"encoding\": {\"color\": {\"type\": \"nominal\", \"field\": \"driver_gender\", \"scale\": {\"range\": [\"#EA98D2\", \"#659CCA\"]}}, \"column\": {\"type\": \"nominal\", \"field\": \"driver_race\"}, \"x\": {\"type\": \"nominal\", \"field\": \"driver_gender\"}, \"y\": {\"type\": \"quantitative\", \"field\": \"traffic_stops\"}}, \"$schema\": \"https://vega.github.io/schema/vega-lite/v2.3.0.json\"};\n",
       "var opt = {};\n",
       "var selector = \"#a7974546-1052-4a2c-8360-9df5b33d40b0\";\n",
       "var type = \"vega-lite\";\n",
       "\n",
       "var output_area = this;\n",
       "\n",
       "require(['nbextensions/jupyter-vega3/index'], function(vega) {\n",
       "  vega.render(selector, spec, type, opt, output_area);\n",
       "}, function (err) {\n",
       "  if (err.requireType !== 'scripterror') {\n",
       "    throw(err);\n",
       "  }\n",
       "});\n"
      ]
     },
     "metadata": {
      "jupyter-vega3": "#a7974546-1052-4a2c-8360-9df5b33d40b0"
     },
     "output_type": "display_data"
    },
    {
     "data": {
      "text/plain": []
     },
     "execution_count": 22,
     "metadata": {},
     "output_type": "execute_result"
    },
    {
     "data": {
      "image/png": "[encoded data removed]"
     },
     "metadata": {
      "jupyter-vega3": "#a7974546-1052-4a2c-8360-9df5b33d40b0"
     },
     "output_type": "display_data"
    },
    {
     "data": {
      "image/png": "[encoded data removed]"
     },
     "metadata": {
      "jupyter-vega3": "#a7974546-1052-4a2c-8360-9df5b33d40b0"
     },
     "output_type": "display_data"
    },
    {
     "data": {
      "image/png": "[encoded data removed]"
     },
     "metadata": {
      "jupyter-vega3": "#a7974546-1052-4a2c-8360-9df5b33d40b0"
     },
     "output_type": "display_data"
    }
   ],
   "source": [
    "alt.Chart(stops_by_sex_race).mark_bar().encode(\n",
    "    alt.X('driver_gender:N'),\n",
    "    alt.Y('traffic_stops:Q'),\n",
    "    color=alt.Color('driver_gender', scale=alt.Scale(range=[\"#EA98D2\", \"#659CCA\"])),\n",
    "    column = 'driver_race'\n",
    ")"
   ]
  },
  {
   "cell_type": "code",
   "execution_count": 23,
   "metadata": {},
   "outputs": [
    {
     "data": {
      "text/html": [
       "<div class=\"vega-embed\" id=\"1e81b28f-9f79-410e-983a-52117bdbf4d7\"></div>\n",
       "\n",
       "<style>\n",
       ".vega-embed .vega-actions > a {\n",
       "    transition: opacity 200ms ease-in;\n",
       "    opacity: 0.3;\n",
       "    margin-right: 0.6em;\n",
       "    color: #444;\n",
       "    text-decoration: none;\n",
       "}\n",
       "\n",
       ".vega-embed .vega-actions > a:hover {\n",
       "    color: #000;\n",
       "    text-decoration: underline;\n",
       "}\n",
       "\n",
       ".vega-embed:hover .vega-actions > a {\n",
       "    opacity: 1;\n",
       "    transition: 0s;\n",
       "}\n",
       "\n",
       ".vega-embed .error p {\n",
       "    color: firebrick;\n",
       "    font-size: 1.2em;\n",
       "}\n",
       "</style>\n"
      ]
     },
     "metadata": {
      "jupyter-vega3": "#1e81b28f-9f79-410e-983a-52117bdbf4d7"
     },
     "output_type": "display_data"
    },
    {
     "data": {
      "application/javascript": [
       "var spec = {\"config\": {\"view\": {\"width\": 400, \"height\": 300, \"stroke\": \"transparent\"}}, \"data\": {\"values\": [{\"driver_race\": \"Asian\", \"driver_gender\": \"Female\", \"traffic_stops\": 3097}, {\"driver_race\": \"Black\", \"driver_gender\": \"Female\", \"traffic_stops\": 8378}, {\"driver_race\": \"Hispanic\", \"driver_gender\": \"Female\", \"traffic_stops\": 35429}, {\"driver_race\": \"Other\", \"driver_gender\": \"Female\", \"traffic_stops\": 12703}, {\"driver_race\": \"White\", \"driver_gender\": \"Female\", \"traffic_stops\": 96813}, {\"driver_race\": \"Asian\", \"driver_gender\": \"Male\", \"traffic_stops\": 9253}, {\"driver_race\": \"Black\", \"driver_gender\": \"Male\", \"traffic_stops\": 20594}, {\"driver_race\": \"Hispanic\", \"driver_gender\": \"Male\", \"traffic_stops\": 99974}, {\"driver_race\": \"Other\", \"driver_gender\": \"Male\", \"traffic_stops\": 23295}, {\"driver_race\": \"White\", \"driver_gender\": \"Male\", \"traffic_stops\": 198882}]}, \"mark\": \"bar\", \"encoding\": {\"color\": {\"type\": \"nominal\", \"field\": \"driver_gender\", \"legend\": {\"title\": null}, \"scale\": {\"range\": [\"#EA98D2\", \"#659CCA\"]}}, \"column\": {\"type\": \"nominal\", \"field\": \"driver_race\", \"header\": {\"title\": null}}, \"x\": {\"type\": \"nominal\", \"axis\": {\"domain\": false, \"grid\": false, \"labels\": false, \"ticks\": false, \"title\": null}, \"field\": \"driver_gender\"}, \"y\": {\"type\": \"quantitative\", \"axis\": {\"grid\": false, \"title\": null}, \"field\": \"traffic_stops\"}}, \"padding\": 10, \"title\": \"Traffic stops by race and gender\", \"$schema\": \"https://vega.github.io/schema/vega-lite/v2.3.0.json\"};\n",
       "var opt = {};\n",
       "var selector = \"#1e81b28f-9f79-410e-983a-52117bdbf4d7\";\n",
       "var type = \"vega-lite\";\n",
       "\n",
       "var output_area = this;\n",
       "\n",
       "require(['nbextensions/jupyter-vega3/index'], function(vega) {\n",
       "  vega.render(selector, spec, type, opt, output_area);\n",
       "}, function (err) {\n",
       "  if (err.requireType !== 'scripterror') {\n",
       "    throw(err);\n",
       "  }\n",
       "});\n"
      ]
     },
     "metadata": {
      "jupyter-vega3": "#1e81b28f-9f79-410e-983a-52117bdbf4d7"
     },
     "output_type": "display_data"
    },
    {
     "data": {
      "text/plain": []
     },
     "execution_count": 23,
     "metadata": {},
     "output_type": "execute_result"
    },
    {
     "data": {
      "image/png": "[encoded data removed]"
     },
     "metadata": {
      "jupyter-vega3": "#1e81b28f-9f79-410e-983a-52117bdbf4d7"
     },
     "output_type": "display_data"
    },
    {
     "data": {
      "image/png": "[encoded data removed]"
     },
     "metadata": {
      "jupyter-vega3": "#1e81b28f-9f79-410e-983a-52117bdbf4d7"
     },
     "output_type": "display_data"
    },
    {
     "data": {
      "image/png": "[encoded data removed]"
     },
     "metadata": {
      "jupyter-vega3": "#1e81b28f-9f79-410e-983a-52117bdbf4d7"
     },
     "output_type": "display_data"
    }
   ],
   "source": [
    "alt.Chart(stops_by_sex_race, padding = 10, title = \"Traffic stops by race and gender\").mark_bar().encode(\n",
    "    alt.X('driver_gender:N', axis = alt.Axis(title = None, labels = False, ticks = False, grid = False, domain = False)),\n",
    "    alt.Y('traffic_stops:Q', axis = alt.Axis(title = None, grid = False)),\n",
    "    color=alt.Color('driver_gender', scale=alt.Scale(range=[\"#EA98D2\", \"#659CCA\"]), legend = alt.Legend(title = None)),\n",
    "    column = alt.Column('driver_race', header = alt.Header(title = None))\n",
    ").configure_view(stroke = 'transparent')"
   ]
  },
  {
   "cell_type": "markdown",
   "metadata": {},
   "source": [
    "## Do we have a story yet?\n",
    "\n",
    "At this point it doesn't look like it. As you can see in the graphic above, whites account for a large majority of the stops. And men got stopped more than women, regardless of race. But what is wrong with this analysis?\n",
    "\n",
    "In short it doesn't tell us whether or not minority groups are over- or under-represented in the data. To find that out we would need to compare stops by race to some other metric. One option would be Census data showing the racial make up of the state's population. Another choice would be to look at demographic breakdowns of licensed drivers. This sort of information is usually requested from the state's Department of Motor Vehicles.\n",
    "\n",
    "However there is a flaw in this sort of analysis. These are stops conducted by the Arizona Department of Public Safety, which means most stops were conducted on highways or state routes. This means drivers stopped by the DPS are more likely to be from outside the state – or given the proximity to the border – from Mexico. So population figures from a secondary source would not necessarily represent the population on the road.\n",
    "\n",
    "Fortunately there is another metric in the data that we can use to look for bias – search patterns."
   ]
  },
  {
   "cell_type": "markdown",
   "metadata": {},
   "source": [
    "## Analyzing search patterns\n",
    "\n",
    "Another metric that could show bias is whether or not a search was conducted during the course of the traffic stop. For our purposes there are three different types of searches – probable cause, warrant and consent searches. The ones we want to focus on are consent searches. This type of search does not require a search warrant, and the officer most likely does not have probable cause. As such this search is completely up to the officer's discretion.\n",
    "\n",
    "There is a `consent_search` column in the data set, but let's explore a bit more before we dive into our analysis.\n",
    "\n",
    "Let's start by getting a better feel for how many searches were conducted overall. Rather than do a `groupby` let's build a pivot table so we can get some totals."
   ]
  },
  {
   "cell_type": "code",
   "execution_count": 24,
   "metadata": {},
   "outputs": [
    {
     "data": {
      "text/html": [
       "<div>\n",
       "<style scoped>\n",
       "    .dataframe tbody tr th:only-of-type {\n",
       "        vertical-align: middle;\n",
       "    }\n",
       "\n",
       "    .dataframe tbody tr th {\n",
       "        vertical-align: top;\n",
       "    }\n",
       "\n",
       "    .dataframe thead th {\n",
       "        text-align: right;\n",
       "    }\n",
       "</style>\n",
       "<table border=\"1\" class=\"dataframe\">\n",
       "  <thead>\n",
       "    <tr style=\"text-align: right;\">\n",
       "      <th></th>\n",
       "      <th>id</th>\n",
       "    </tr>\n",
       "    <tr>\n",
       "      <th>search_conducted</th>\n",
       "      <th></th>\n",
       "    </tr>\n",
       "  </thead>\n",
       "  <tbody>\n",
       "    <tr>\n",
       "      <th>FALSE</th>\n",
       "      <td>484588</td>\n",
       "    </tr>\n",
       "    <tr>\n",
       "      <th>TRUE</th>\n",
       "      <td>23830</td>\n",
       "    </tr>\n",
       "    <tr>\n",
       "      <th>TOTAL</th>\n",
       "      <td>508418</td>\n",
       "    </tr>\n",
       "  </tbody>\n",
       "</table>\n",
       "</div>"
      ],
      "text/plain": [
       "                      id\n",
       "search_conducted        \n",
       "FALSE             484588\n",
       "TRUE               23830\n",
       "TOTAL             508418"
      ]
     },
     "execution_count": 24,
     "metadata": {},
     "output_type": "execute_result"
    }
   ],
   "source": [
    "pd.pivot_table(az_stops, index = 'search_conducted', values = 'id', aggfunc = 'count', margins = True, margins_name = 'TOTAL')"
   ]
  },
  {
   "cell_type": "markdown",
   "metadata": {},
   "source": [
    "Next let's take a look at the number of consent searches."
   ]
  },
  {
   "cell_type": "code",
   "execution_count": 25,
   "metadata": {},
   "outputs": [
    {
     "data": {
      "text/html": [
       "<div>\n",
       "<style scoped>\n",
       "    .dataframe tbody tr th:only-of-type {\n",
       "        vertical-align: middle;\n",
       "    }\n",
       "\n",
       "    .dataframe tbody tr th {\n",
       "        vertical-align: top;\n",
       "    }\n",
       "\n",
       "    .dataframe thead th {\n",
       "        text-align: right;\n",
       "    }\n",
       "</style>\n",
       "<table border=\"1\" class=\"dataframe\">\n",
       "  <thead>\n",
       "    <tr style=\"text-align: right;\">\n",
       "      <th></th>\n",
       "      <th>id</th>\n",
       "    </tr>\n",
       "    <tr>\n",
       "      <th>consent_search</th>\n",
       "      <th></th>\n",
       "    </tr>\n",
       "  </thead>\n",
       "  <tbody>\n",
       "    <tr>\n",
       "      <th>FALSE</th>\n",
       "      <td>485063</td>\n",
       "    </tr>\n",
       "    <tr>\n",
       "      <th>TRUE</th>\n",
       "      <td>2650</td>\n",
       "    </tr>\n",
       "    <tr>\n",
       "      <th>TOTAL</th>\n",
       "      <td>487713</td>\n",
       "    </tr>\n",
       "  </tbody>\n",
       "</table>\n",
       "</div>"
      ],
      "text/plain": [
       "                    id\n",
       "consent_search        \n",
       "FALSE           485063\n",
       "TRUE              2650\n",
       "TOTAL           487713"
      ]
     },
     "execution_count": 25,
     "metadata": {},
     "output_type": "execute_result"
    }
   ],
   "source": [
    "pd.pivot_table(az_stops, index = 'consent_search', values = 'id', aggfunc = 'count', margins = True, margins_name = 'TOTAL')"
   ]
  },
  {
   "cell_type": "markdown",
   "metadata": {},
   "source": [
    "We have a problem here. The total number from our `search_conducted` pivot table does not match the total from our `consent_search` pivot table.\n",
    "\n",
    "Why is this happening? In some cases, we can't determine if `consent_search` is true or false because sometimes the variable is null.\n",
    "\n",
    "We can fix this by cleaning the data. We can start by getting a count of the null values in the `consent_search` column."
   ]
  },
  {
   "cell_type": "code",
   "execution_count": 26,
   "metadata": {},
   "outputs": [
    {
     "data": {
      "text/plain": [
       "20705"
      ]
     },
     "execution_count": 26,
     "metadata": {},
     "output_type": "execute_result"
    }
   ],
   "source": [
    "len(az_stops[az_stops['consent_search'].isnull()])"
   ]
  },
  {
   "cell_type": "markdown",
   "metadata": {},
   "source": [
    "Those null values are cases where a probable cause or warrant search was conducted. Let's replace those null values with a value of `unknown_search`."
   ]
  },
  {
   "cell_type": "code",
   "execution_count": 27,
   "metadata": {},
   "outputs": [],
   "source": [
    "az_stops.fillna(value = {'consent_search' : 'unknown_search'}, inplace = True)"
   ]
  },
  {
   "cell_type": "markdown",
   "metadata": {},
   "source": [
    "Now we need to filter for cases where a search was conducted but it was not a consent search. We will replace those values with `unknown_search` as well."
   ]
  },
  {
   "cell_type": "code",
   "execution_count": 28,
   "metadata": {},
   "outputs": [],
   "source": [
    "mask = (az_stops.search_conducted == 'TRUE') & (az_stops.consent_search == 'FALSE')\n",
    "az_stops.loc[mask, 'consent_search'] = 'unknown_search'"
   ]
  },
  {
   "cell_type": "markdown",
   "metadata": {},
   "source": [
    "Why is this called a `mask`? This is a pandas convention -- it means we're creating a filter that can be applied over our dataframe to mask out other data.\n",
    "\n",
    "And `loc` is taking the rows that matches our filter, and then putting the value of \"unknown_search\" into the `consent_search` field."
   ]
  },
  {
   "cell_type": "markdown",
   "metadata": {},
   "source": [
    "Lastly we will rename `TRUE` values as `consent_search` and any remaining `FALSE` values as `no_search`."
   ]
  },
  {
   "cell_type": "code",
   "execution_count": 29,
   "metadata": {},
   "outputs": [],
   "source": [
    "az_stops['consent_search'].replace({'TRUE' : 'consent_search', 'FALSE' : 'no_search'}, inplace = True)"
   ]
  },
  {
   "cell_type": "markdown",
   "metadata": {},
   "source": [
    "Now let's build a pivot table of the consent searches and searches conducted. "
   ]
  },
  {
   "cell_type": "code",
   "execution_count": 30,
   "metadata": {},
   "outputs": [
    {
     "data": {
      "text/html": [
       "<div>\n",
       "<style scoped>\n",
       "    .dataframe tbody tr th:only-of-type {\n",
       "        vertical-align: middle;\n",
       "    }\n",
       "\n",
       "    .dataframe tbody tr th {\n",
       "        vertical-align: top;\n",
       "    }\n",
       "\n",
       "    .dataframe thead th {\n",
       "        text-align: right;\n",
       "    }\n",
       "</style>\n",
       "<table border=\"1\" class=\"dataframe\">\n",
       "  <thead>\n",
       "    <tr style=\"text-align: right;\">\n",
       "      <th>search_conducted</th>\n",
       "      <th>FALSE</th>\n",
       "      <th>TRUE</th>\n",
       "      <th>total</th>\n",
       "    </tr>\n",
       "    <tr>\n",
       "      <th>consent_search</th>\n",
       "      <th></th>\n",
       "      <th></th>\n",
       "      <th></th>\n",
       "    </tr>\n",
       "  </thead>\n",
       "  <tbody>\n",
       "    <tr>\n",
       "      <th>consent_search</th>\n",
       "      <td>NaN</td>\n",
       "      <td>2650.0</td>\n",
       "      <td>2650</td>\n",
       "    </tr>\n",
       "    <tr>\n",
       "      <th>no_search</th>\n",
       "      <td>484588.0</td>\n",
       "      <td>NaN</td>\n",
       "      <td>484588</td>\n",
       "    </tr>\n",
       "    <tr>\n",
       "      <th>unknown_search</th>\n",
       "      <td>NaN</td>\n",
       "      <td>21180.0</td>\n",
       "      <td>21180</td>\n",
       "    </tr>\n",
       "    <tr>\n",
       "      <th>total</th>\n",
       "      <td>484588.0</td>\n",
       "      <td>23830.0</td>\n",
       "      <td>508418</td>\n",
       "    </tr>\n",
       "  </tbody>\n",
       "</table>\n",
       "</div>"
      ],
      "text/plain": [
       "search_conducted     FALSE     TRUE   total\n",
       "consent_search                             \n",
       "consent_search         NaN   2650.0    2650\n",
       "no_search         484588.0      NaN  484588\n",
       "unknown_search         NaN  21180.0   21180\n",
       "total             484588.0  23830.0  508418"
      ]
     },
     "execution_count": 30,
     "metadata": {},
     "output_type": "execute_result"
    }
   ],
   "source": [
    "pd.pivot_table(az_stops, index = 'consent_search', \n",
    "               columns = 'search_conducted', \n",
    "               values = 'id', \n",
    "               aggfunc = 'count', \n",
    "               margins = True, \n",
    "               margins_name = 'total')"
   ]
  },
  {
   "cell_type": "markdown",
   "metadata": {},
   "source": [
    "### Work on your own, part II\n",
    "\n",
    "Now that we have the `consent_search` column cleaned up, we can start doing our analysis. The first step is to create a pivot table with `consent_search` as the columns, `driver_race` as the race and a count of `id` as the values. Call it `search_rates`. Make sure to convert it back to a dataframe after you are done."
   ]
  },
  {
   "cell_type": "code",
   "execution_count": 31,
   "metadata": {},
   "outputs": [
    {
     "data": {
      "text/html": [
       "<div>\n",
       "<style scoped>\n",
       "    .dataframe tbody tr th:only-of-type {\n",
       "        vertical-align: middle;\n",
       "    }\n",
       "\n",
       "    .dataframe tbody tr th {\n",
       "        vertical-align: top;\n",
       "    }\n",
       "\n",
       "    .dataframe thead th {\n",
       "        text-align: right;\n",
       "    }\n",
       "</style>\n",
       "<table border=\"1\" class=\"dataframe\">\n",
       "  <thead>\n",
       "    <tr style=\"text-align: right;\">\n",
       "      <th></th>\n",
       "      <th>driver_race</th>\n",
       "      <th>consent_search</th>\n",
       "      <th>no_search</th>\n",
       "      <th>unknown_search</th>\n",
       "      <th>total</th>\n",
       "    </tr>\n",
       "  </thead>\n",
       "  <tbody>\n",
       "    <tr>\n",
       "      <th>0</th>\n",
       "      <td>Asian</td>\n",
       "      <td>51</td>\n",
       "      <td>12033</td>\n",
       "      <td>266</td>\n",
       "      <td>12350</td>\n",
       "    </tr>\n",
       "    <tr>\n",
       "      <th>1</th>\n",
       "      <td>Black</td>\n",
       "      <td>183</td>\n",
       "      <td>26770</td>\n",
       "      <td>2019</td>\n",
       "      <td>28972</td>\n",
       "    </tr>\n",
       "    <tr>\n",
       "      <th>2</th>\n",
       "      <td>Hispanic</td>\n",
       "      <td>1677</td>\n",
       "      <td>125849</td>\n",
       "      <td>7877</td>\n",
       "      <td>135403</td>\n",
       "    </tr>\n",
       "    <tr>\n",
       "      <th>3</th>\n",
       "      <td>Other</td>\n",
       "      <td>93</td>\n",
       "      <td>33834</td>\n",
       "      <td>2071</td>\n",
       "      <td>35998</td>\n",
       "    </tr>\n",
       "    <tr>\n",
       "      <th>4</th>\n",
       "      <td>White</td>\n",
       "      <td>646</td>\n",
       "      <td>286102</td>\n",
       "      <td>8947</td>\n",
       "      <td>295695</td>\n",
       "    </tr>\n",
       "    <tr>\n",
       "      <th>5</th>\n",
       "      <td>total</td>\n",
       "      <td>2650</td>\n",
       "      <td>484588</td>\n",
       "      <td>21180</td>\n",
       "      <td>508418</td>\n",
       "    </tr>\n",
       "  </tbody>\n",
       "</table>\n",
       "</div>"
      ],
      "text/plain": [
       "  driver_race  consent_search  no_search  unknown_search   total\n",
       "0       Asian              51      12033             266   12350\n",
       "1       Black             183      26770            2019   28972\n",
       "2    Hispanic            1677     125849            7877  135403\n",
       "3       Other              93      33834            2071   35998\n",
       "4       White             646     286102            8947  295695\n",
       "5       total            2650     484588           21180  508418"
      ]
     },
     "execution_count": 31,
     "metadata": {},
     "output_type": "execute_result"
    }
   ],
   "source": [
    "# create the pivot table\n",
    "search_rates = pd.pivot_table(az_stops, \n",
    "                              columns = 'consent_search', \n",
    "                              index = 'driver_race', \n",
    "                              values = 'id', \n",
    "                              aggfunc = 'count', \n",
    "                              margins = True, \n",
    "                              margins_name = 'total')\n",
    "\n",
    "search_rates = pd.DataFrame(search_rates.to_records())\n",
    "search_rates"
   ]
  },
  {
   "cell_type": "markdown",
   "metadata": {},
   "source": [
    "### Coming back\n",
    "\n",
    "Now we are starting to get somewhere. We now know the number of consent searches, the number of other searches and the total number of stops by race. This is enough for us to start doing some math.\n",
    "\n",
    "## Calculating search rates\n",
    "\n",
    "Here we will need to add a new column to our data - a ratio of searches to stops."
   ]
  },
  {
   "cell_type": "code",
   "execution_count": 32,
   "metadata": {},
   "outputs": [
    {
     "data": {
      "text/html": [
       "<div>\n",
       "<style scoped>\n",
       "    .dataframe tbody tr th:only-of-type {\n",
       "        vertical-align: middle;\n",
       "    }\n",
       "\n",
       "    .dataframe tbody tr th {\n",
       "        vertical-align: top;\n",
       "    }\n",
       "\n",
       "    .dataframe thead th {\n",
       "        text-align: right;\n",
       "    }\n",
       "</style>\n",
       "<table border=\"1\" class=\"dataframe\">\n",
       "  <thead>\n",
       "    <tr style=\"text-align: right;\">\n",
       "      <th></th>\n",
       "      <th>driver_race</th>\n",
       "      <th>consent_search</th>\n",
       "      <th>no_search</th>\n",
       "      <th>unknown_search</th>\n",
       "      <th>total</th>\n",
       "      <th>search_rate</th>\n",
       "    </tr>\n",
       "  </thead>\n",
       "  <tbody>\n",
       "    <tr>\n",
       "      <th>0</th>\n",
       "      <td>Asian</td>\n",
       "      <td>51</td>\n",
       "      <td>12033</td>\n",
       "      <td>266</td>\n",
       "      <td>12350</td>\n",
       "      <td>4.129555</td>\n",
       "    </tr>\n",
       "    <tr>\n",
       "      <th>1</th>\n",
       "      <td>Black</td>\n",
       "      <td>183</td>\n",
       "      <td>26770</td>\n",
       "      <td>2019</td>\n",
       "      <td>28972</td>\n",
       "      <td>6.316443</td>\n",
       "    </tr>\n",
       "    <tr>\n",
       "      <th>2</th>\n",
       "      <td>Hispanic</td>\n",
       "      <td>1677</td>\n",
       "      <td>125849</td>\n",
       "      <td>7877</td>\n",
       "      <td>135403</td>\n",
       "      <td>12.385250</td>\n",
       "    </tr>\n",
       "    <tr>\n",
       "      <th>3</th>\n",
       "      <td>Other</td>\n",
       "      <td>93</td>\n",
       "      <td>33834</td>\n",
       "      <td>2071</td>\n",
       "      <td>35998</td>\n",
       "      <td>2.583477</td>\n",
       "    </tr>\n",
       "    <tr>\n",
       "      <th>4</th>\n",
       "      <td>White</td>\n",
       "      <td>646</td>\n",
       "      <td>286102</td>\n",
       "      <td>8947</td>\n",
       "      <td>295695</td>\n",
       "      <td>2.184684</td>\n",
       "    </tr>\n",
       "    <tr>\n",
       "      <th>5</th>\n",
       "      <td>total</td>\n",
       "      <td>2650</td>\n",
       "      <td>484588</td>\n",
       "      <td>21180</td>\n",
       "      <td>508418</td>\n",
       "      <td>5.212247</td>\n",
       "    </tr>\n",
       "  </tbody>\n",
       "</table>\n",
       "</div>"
      ],
      "text/plain": [
       "  driver_race  consent_search  no_search  unknown_search   total  search_rate\n",
       "0       Asian              51      12033             266   12350     4.129555\n",
       "1       Black             183      26770            2019   28972     6.316443\n",
       "2    Hispanic            1677     125849            7877  135403    12.385250\n",
       "3       Other              93      33834            2071   35998     2.583477\n",
       "4       White             646     286102            8947  295695     2.184684\n",
       "5       total            2650     484588           21180  508418     5.212247"
      ]
     },
     "execution_count": 32,
     "metadata": {},
     "output_type": "execute_result"
    }
   ],
   "source": [
    "# do this without the multiplier first, show how we end up with small numbers \n",
    "# and then multiply by 1000 to make it per 1,000 stops\n",
    "search_rates['search_rate'] = (search_rates['consent_search'] / search_rates['total']) * 1000\n",
    "search_rates"
   ]
  },
  {
   "cell_type": "markdown",
   "metadata": {},
   "source": [
    "## Now we have a story...\n",
    "\n",
    "A little math was able to do a lot in this case. We can now see that comparatively speaking, Hispanics were searched at rates much higher than whites in 2015. In fact they were searched at a rate nearly twice that of any other racial/ethnic group. So how do we write about that? What are some sentences that we could write in a story? What is the best way to present those numbers visually?"
   ]
  },
  {
   "cell_type": "markdown",
   "metadata": {},
   "source": [
    "### Work on your own, part III\n",
    "\n",
    "Now that we have some results, let's create a simple bar chart to display them."
   ]
  },
  {
   "cell_type": "code",
   "execution_count": 33,
   "metadata": {},
   "outputs": [
    {
     "data": {
      "text/html": [
       "<div class=\"vega-embed\" id=\"21d6c0ca-6fc5-4b03-80f5-58e90f84b78d\"></div>\n",
       "\n",
       "<style>\n",
       ".vega-embed .vega-actions > a {\n",
       "    transition: opacity 200ms ease-in;\n",
       "    opacity: 0.3;\n",
       "    margin-right: 0.6em;\n",
       "    color: #444;\n",
       "    text-decoration: none;\n",
       "}\n",
       "\n",
       ".vega-embed .vega-actions > a:hover {\n",
       "    color: #000;\n",
       "    text-decoration: underline;\n",
       "}\n",
       "\n",
       ".vega-embed:hover .vega-actions > a {\n",
       "    opacity: 1;\n",
       "    transition: 0s;\n",
       "}\n",
       "\n",
       ".vega-embed .error p {\n",
       "    color: firebrick;\n",
       "    font-size: 1.2em;\n",
       "}\n",
       "</style>\n"
      ]
     },
     "metadata": {
      "jupyter-vega3": "#21d6c0ca-6fc5-4b03-80f5-58e90f84b78d"
     },
     "output_type": "display_data"
    },
    {
     "data": {
      "application/javascript": [
       "var spec = {\"config\": {\"view\": {\"width\": 400, \"height\": 300}}, \"data\": {\"values\": [{\"driver_race\": \"Asian\", \"consent_search\": 51, \"no_search\": 12033, \"unknown_search\": 266, \"total\": 12350, \"search_rate\": 4.129554655870446}, {\"driver_race\": \"Black\", \"consent_search\": 183, \"no_search\": 26770, \"unknown_search\": 2019, \"total\": 28972, \"search_rate\": 6.316443462653597}, {\"driver_race\": \"Hispanic\", \"consent_search\": 1677, \"no_search\": 125849, \"unknown_search\": 7877, \"total\": 135403, \"search_rate\": 12.385249957534176}, {\"driver_race\": \"Other\", \"consent_search\": 93, \"no_search\": 33834, \"unknown_search\": 2071, \"total\": 35998, \"search_rate\": 2.5834768598255455}, {\"driver_race\": \"White\", \"consent_search\": 646, \"no_search\": 286102, \"unknown_search\": 8947, \"total\": 295695, \"search_rate\": 2.184683542163378}, {\"driver_race\": \"total\", \"consent_search\": 2650, \"no_search\": 484588, \"unknown_search\": 21180, \"total\": 508418, \"search_rate\": 5.21224661597347}]}, \"mark\": \"bar\", \"encoding\": {\"x\": {\"type\": \"nominal\", \"field\": \"driver_race\"}, \"y\": {\"type\": \"quantitative\", \"field\": \"search_rate\"}}, \"$schema\": \"https://vega.github.io/schema/vega-lite/v2.3.0.json\"};\n",
       "var opt = {};\n",
       "var selector = \"#21d6c0ca-6fc5-4b03-80f5-58e90f84b78d\";\n",
       "var type = \"vega-lite\";\n",
       "\n",
       "var output_area = this;\n",
       "\n",
       "require(['nbextensions/jupyter-vega3/index'], function(vega) {\n",
       "  vega.render(selector, spec, type, opt, output_area);\n",
       "}, function (err) {\n",
       "  if (err.requireType !== 'scripterror') {\n",
       "    throw(err);\n",
       "  }\n",
       "});\n"
      ]
     },
     "metadata": {
      "jupyter-vega3": "#21d6c0ca-6fc5-4b03-80f5-58e90f84b78d"
     },
     "output_type": "display_data"
    },
    {
     "data": {
      "text/plain": []
     },
     "execution_count": 33,
     "metadata": {},
     "output_type": "execute_result"
    },
    {
     "data": {
      "image/png": "[encoded data removed]"
     },
     "metadata": {
      "jupyter-vega3": "#21d6c0ca-6fc5-4b03-80f5-58e90f84b78d"
     },
     "output_type": "display_data"
    },
    {
     "data": {
      "image/png": "[encoded data removed]"
     },
     "metadata": {
      "jupyter-vega3": "#21d6c0ca-6fc5-4b03-80f5-58e90f84b78d"
     },
     "output_type": "display_data"
    },
    {
     "data": {
      "image/png": "[encoded data removed]"
     },
     "metadata": {
      "jupyter-vega3": "#21d6c0ca-6fc5-4b03-80f5-58e90f84b78d"
     },
     "output_type": "display_data"
    }
   ],
   "source": [
    "alt.Chart(search_rates).mark_bar().encode(x = 'driver_race', y = 'search_rate')"
   ]
  },
  {
   "cell_type": "code",
   "execution_count": 34,
   "metadata": {
    "collapsed": true
   },
   "outputs": [
    {
     "data": {
      "text/html": [
       "<div class=\"vega-embed\" id=\"5f0f87b6-7516-4727-868f-bfdea2428035\"></div>\n",
       "\n",
       "<style>\n",
       ".vega-embed .vega-actions > a {\n",
       "    transition: opacity 200ms ease-in;\n",
       "    opacity: 0.3;\n",
       "    margin-right: 0.6em;\n",
       "    color: #444;\n",
       "    text-decoration: none;\n",
       "}\n",
       "\n",
       ".vega-embed .vega-actions > a:hover {\n",
       "    color: #000;\n",
       "    text-decoration: underline;\n",
       "}\n",
       "\n",
       ".vega-embed:hover .vega-actions > a {\n",
       "    opacity: 1;\n",
       "    transition: 0s;\n",
       "}\n",
       "\n",
       ".vega-embed .error p {\n",
       "    color: firebrick;\n",
       "    font-size: 1.2em;\n",
       "}\n",
       "</style>\n"
      ]
     },
     "metadata": {
      "jupyter-vega3": "#5f0f87b6-7516-4727-868f-bfdea2428035"
     },
     "output_type": "display_data"
    },
    {
     "data": {
      "application/javascript": [
       "var spec = {\"config\": {\"view\": {\"width\": 400, \"height\": 300, \"stroke\": \"transparent\"}}, \"layer\": [{\"data\": {\"values\": [{\"driver_race\": \"Asian\", \"consent_search\": 51, \"no_search\": 12033, \"unknown_search\": 266, \"total\": 12350, \"search_rate\": 4.129554655870446}, {\"driver_race\": \"Black\", \"consent_search\": 183, \"no_search\": 26770, \"unknown_search\": 2019, \"total\": 28972, \"search_rate\": 6.316443462653597}, {\"driver_race\": \"Hispanic\", \"consent_search\": 1677, \"no_search\": 125849, \"unknown_search\": 7877, \"total\": 135403, \"search_rate\": 12.385249957534176}, {\"driver_race\": \"Other\", \"consent_search\": 93, \"no_search\": 33834, \"unknown_search\": 2071, \"total\": 35998, \"search_rate\": 2.5834768598255455}, {\"driver_race\": \"White\", \"consent_search\": 646, \"no_search\": 286102, \"unknown_search\": 8947, \"total\": 295695, \"search_rate\": 2.184683542163378}, {\"driver_race\": \"All races\", \"consent_search\": 2650, \"no_search\": 484588, \"unknown_search\": 21180, \"total\": 508418, \"search_rate\": 5.21224661597347}]}, \"mark\": {\"type\": \"bar\", \"color\": \"#5d8789\"}, \"encoding\": {\"x\": {\"type\": \"nominal\", \"axis\": {\"domain\": false, \"labelAngle\": 0, \"ticks\": false, \"title\": null}, \"field\": \"driver_race\", \"scale\": {\"paddingOuter\": 0.2}}, \"y\": {\"type\": \"quantitative\", \"axis\": {\"domain\": false, \"grid\": false, \"labels\": false, \"ticks\": false, \"title\": null}, \"field\": \"search_rate\"}}, \"title\": \"Search per 1k stops by race\", \"width\": 400}, {\"data\": {\"values\": [{\"driver_race\": \"Asian\", \"consent_search\": 51, \"no_search\": 12033, \"unknown_search\": 266, \"total\": 12350, \"search_rate\": 4.129554655870446}, {\"driver_race\": \"Black\", \"consent_search\": 183, \"no_search\": 26770, \"unknown_search\": 2019, \"total\": 28972, \"search_rate\": 6.316443462653597}, {\"driver_race\": \"Hispanic\", \"consent_search\": 1677, \"no_search\": 125849, \"unknown_search\": 7877, \"total\": 135403, \"search_rate\": 12.385249957534176}, {\"driver_race\": \"Other\", \"consent_search\": 93, \"no_search\": 33834, \"unknown_search\": 2071, \"total\": 35998, \"search_rate\": 2.5834768598255455}, {\"driver_race\": \"White\", \"consent_search\": 646, \"no_search\": 286102, \"unknown_search\": 8947, \"total\": 295695, \"search_rate\": 2.184683542163378}, {\"driver_race\": \"All races\", \"consent_search\": 2650, \"no_search\": 484588, \"unknown_search\": 21180, \"total\": 508418, \"search_rate\": 5.21224661597347}]}, \"mark\": {\"type\": \"text\", \"align\": \"center\", \"baseline\": \"top\", \"color\": \"white\", \"dy\": 5, \"fontWeight\": \"bold\"}, \"encoding\": {\"text\": {\"type\": \"quantitative\", \"field\": \"search_rate\", \"format\": \".2f\"}, \"x\": {\"type\": \"nominal\", \"axis\": {\"domain\": false, \"labelAngle\": 0, \"ticks\": false, \"title\": null}, \"field\": \"driver_race\", \"scale\": {\"paddingOuter\": 0.2}}, \"y\": {\"type\": \"quantitative\", \"axis\": {\"domain\": false, \"grid\": false, \"labels\": false, \"ticks\": false, \"title\": null}, \"field\": \"search_rate\"}}, \"title\": \"Search per 1k stops by race\", \"width\": 400}], \"$schema\": \"https://vega.github.io/schema/vega-lite/v2.3.0.json\"};\n",
       "var opt = {};\n",
       "var selector = \"#5f0f87b6-7516-4727-868f-bfdea2428035\";\n",
       "var type = \"vega-lite\";\n",
       "\n",
       "var output_area = this;\n",
       "\n",
       "require(['nbextensions/jupyter-vega3/index'], function(vega) {\n",
       "  vega.render(selector, spec, type, opt, output_area);\n",
       "}, function (err) {\n",
       "  if (err.requireType !== 'scripterror') {\n",
       "    throw(err);\n",
       "  }\n",
       "});\n"
      ]
     },
     "metadata": {
      "jupyter-vega3": "#5f0f87b6-7516-4727-868f-bfdea2428035"
     },
     "output_type": "display_data"
    },
    {
     "data": {
      "text/plain": []
     },
     "execution_count": 34,
     "metadata": {},
     "output_type": "execute_result"
    },
    {
     "data": {
      "image/png": "[encoded data removed]"
     },
     "metadata": {
      "jupyter-vega3": "#5f0f87b6-7516-4727-868f-bfdea2428035"
     },
     "output_type": "display_data"
    },
    {
     "data": {
      "image/png": "[encoded data removed]"
     },
     "metadata": {
      "jupyter-vega3": "#5f0f87b6-7516-4727-868f-bfdea2428035"
     },
     "output_type": "display_data"
    },
    {
     "data": {
      "image/png": "[encoded data removed]"
     },
     "metadata": {
      "jupyter-vega3": "#5f0f87b6-7516-4727-868f-bfdea2428035"
     },
     "output_type": "display_data"
    }
   ],
   "source": [
    "search_rates['driver_race'].replace({'total' : 'All races'}, inplace = True)\n",
    "\n",
    "bars = alt.Chart(search_rates,  \n",
    "          width = 400, \n",
    "          title = 'Search per 1k stops by race'\n",
    ").mark_bar(\n",
    "    color = '#5d8789'\n",
    ").encode(\n",
    "    x = alt.X(\n",
    "        'driver_race', \n",
    "        axis = alt.Axis(\n",
    "            title = None, \n",
    "            labelAngle = 0, \n",
    "            ticks = False, \n",
    "            domain = False),\n",
    "        scale = alt.Scale(paddingOuter = 0.2)), \n",
    "    y = alt.Y(\n",
    "        'search_rate:Q', \n",
    "        axis = alt.Axis(\n",
    "            title = None,\n",
    "            domain = False,\n",
    "            ticks = False,\n",
    "            labels = False,\n",
    "            grid = False\n",
    "        )))\n",
    "text = bars.mark_text(align = 'center', baseline = 'top', dy = 5, fontWeight = 'bold', color = 'white').encode(text = alt.Text('search_rate:Q', format = '.2f'))\n",
    "(bars + text).configure_view(stroke = 'transparent')"
   ]
  },
  {
   "cell_type": "markdown",
   "metadata": {},
   "source": [
    "## But what if...\n",
    "\n",
    "Some critics may argue that officers have good reason when they search somebody's vehicle and that reason may not be race. Fortunately the data contains a column that can help us check that – `contraband_found`. Basically we can check to see how often a consent_search actually turned up something illegal. \n",
    "\n",
    "### Work on your own, part III\n",
    "\n",
    "This exercise has multiple parts:\n",
    "1. First you need to filter the `az_stops` dataframe so you are looking at only consent searches. \n",
    "2. Then you need to create a pivot table called `hit_rates` based on the `driver_race` and the `contraband_found` columns. Convert it back to a dataframe.\n",
    "3. Create a new `hit_rate` column and calculate the hit rate per 100 stops.\n",
    "4. Rename the driver_race 'total' row to 'All races'"
   ]
  },
  {
   "cell_type": "code",
   "execution_count": 35,
   "metadata": {},
   "outputs": [],
   "source": [
    "# filter for consent_searches\n",
    "consent_searches = az_stops[az_stops.consent_search == 'consent_search']"
   ]
  },
  {
   "cell_type": "code",
   "execution_count": 36,
   "metadata": {},
   "outputs": [
    {
     "data": {
      "text/html": [
       "<div>\n",
       "<style scoped>\n",
       "    .dataframe tbody tr th:only-of-type {\n",
       "        vertical-align: middle;\n",
       "    }\n",
       "\n",
       "    .dataframe tbody tr th {\n",
       "        vertical-align: top;\n",
       "    }\n",
       "\n",
       "    .dataframe thead th {\n",
       "        text-align: right;\n",
       "    }\n",
       "</style>\n",
       "<table border=\"1\" class=\"dataframe\">\n",
       "  <thead>\n",
       "    <tr style=\"text-align: right;\">\n",
       "      <th></th>\n",
       "      <th>driver_race</th>\n",
       "      <th>miss</th>\n",
       "      <th>hit</th>\n",
       "      <th>total</th>\n",
       "    </tr>\n",
       "  </thead>\n",
       "  <tbody>\n",
       "    <tr>\n",
       "      <th>0</th>\n",
       "      <td>Asian</td>\n",
       "      <td>42</td>\n",
       "      <td>9</td>\n",
       "      <td>51</td>\n",
       "    </tr>\n",
       "    <tr>\n",
       "      <th>1</th>\n",
       "      <td>Black</td>\n",
       "      <td>131</td>\n",
       "      <td>52</td>\n",
       "      <td>183</td>\n",
       "    </tr>\n",
       "    <tr>\n",
       "      <th>2</th>\n",
       "      <td>Hispanic</td>\n",
       "      <td>1466</td>\n",
       "      <td>211</td>\n",
       "      <td>1677</td>\n",
       "    </tr>\n",
       "    <tr>\n",
       "      <th>3</th>\n",
       "      <td>Other</td>\n",
       "      <td>66</td>\n",
       "      <td>27</td>\n",
       "      <td>93</td>\n",
       "    </tr>\n",
       "    <tr>\n",
       "      <th>4</th>\n",
       "      <td>White</td>\n",
       "      <td>503</td>\n",
       "      <td>143</td>\n",
       "      <td>646</td>\n",
       "    </tr>\n",
       "    <tr>\n",
       "      <th>5</th>\n",
       "      <td>total</td>\n",
       "      <td>2208</td>\n",
       "      <td>442</td>\n",
       "      <td>2650</td>\n",
       "    </tr>\n",
       "  </tbody>\n",
       "</table>\n",
       "</div>"
      ],
      "text/plain": [
       "  driver_race  miss  hit  total\n",
       "0       Asian    42    9     51\n",
       "1       Black   131   52    183\n",
       "2    Hispanic  1466  211   1677\n",
       "3       Other    66   27     93\n",
       "4       White   503  143    646\n",
       "5       total  2208  442   2650"
      ]
     },
     "execution_count": 36,
     "metadata": {},
     "output_type": "execute_result"
    }
   ],
   "source": [
    "# create the pivot table\n",
    "hit_rates = pd.pivot_table(consent_searches, \n",
    "                           columns = 'contraband_found', \n",
    "                           index = 'driver_race', \n",
    "                           values = 'id', \n",
    "                           aggfunc = 'count', \n",
    "                           margins = True, \n",
    "                           margins_name = 'total')\n",
    "\n",
    "hit_rates = pd.DataFrame(hit_rates.to_records())\n",
    "# optional rename columns\n",
    "hit_rates.rename(columns = {'FALSE' : 'miss', 'TRUE' : 'hit'}, inplace = True)\n",
    "hit_rates"
   ]
  },
  {
   "cell_type": "code",
   "execution_count": 37,
   "metadata": {},
   "outputs": [
    {
     "data": {
      "text/html": [
       "<div>\n",
       "<style scoped>\n",
       "    .dataframe tbody tr th:only-of-type {\n",
       "        vertical-align: middle;\n",
       "    }\n",
       "\n",
       "    .dataframe tbody tr th {\n",
       "        vertical-align: top;\n",
       "    }\n",
       "\n",
       "    .dataframe thead th {\n",
       "        text-align: right;\n",
       "    }\n",
       "</style>\n",
       "<table border=\"1\" class=\"dataframe\">\n",
       "  <thead>\n",
       "    <tr style=\"text-align: right;\">\n",
       "      <th></th>\n",
       "      <th>driver_race</th>\n",
       "      <th>miss</th>\n",
       "      <th>hit</th>\n",
       "      <th>total</th>\n",
       "      <th>hit_rate</th>\n",
       "    </tr>\n",
       "  </thead>\n",
       "  <tbody>\n",
       "    <tr>\n",
       "      <th>0</th>\n",
       "      <td>Asian</td>\n",
       "      <td>42</td>\n",
       "      <td>9</td>\n",
       "      <td>51</td>\n",
       "      <td>17.647059</td>\n",
       "    </tr>\n",
       "    <tr>\n",
       "      <th>1</th>\n",
       "      <td>Black</td>\n",
       "      <td>131</td>\n",
       "      <td>52</td>\n",
       "      <td>183</td>\n",
       "      <td>28.415301</td>\n",
       "    </tr>\n",
       "    <tr>\n",
       "      <th>2</th>\n",
       "      <td>Hispanic</td>\n",
       "      <td>1466</td>\n",
       "      <td>211</td>\n",
       "      <td>1677</td>\n",
       "      <td>12.581992</td>\n",
       "    </tr>\n",
       "    <tr>\n",
       "      <th>3</th>\n",
       "      <td>Other</td>\n",
       "      <td>66</td>\n",
       "      <td>27</td>\n",
       "      <td>93</td>\n",
       "      <td>29.032258</td>\n",
       "    </tr>\n",
       "    <tr>\n",
       "      <th>4</th>\n",
       "      <td>White</td>\n",
       "      <td>503</td>\n",
       "      <td>143</td>\n",
       "      <td>646</td>\n",
       "      <td>22.136223</td>\n",
       "    </tr>\n",
       "    <tr>\n",
       "      <th>5</th>\n",
       "      <td>All races</td>\n",
       "      <td>2208</td>\n",
       "      <td>442</td>\n",
       "      <td>2650</td>\n",
       "      <td>16.679245</td>\n",
       "    </tr>\n",
       "  </tbody>\n",
       "</table>\n",
       "</div>"
      ],
      "text/plain": [
       "  driver_race  miss  hit  total   hit_rate\n",
       "0       Asian    42    9     51  17.647059\n",
       "1       Black   131   52    183  28.415301\n",
       "2    Hispanic  1466  211   1677  12.581992\n",
       "3       Other    66   27     93  29.032258\n",
       "4       White   503  143    646  22.136223\n",
       "5   All races  2208  442   2650  16.679245"
      ]
     },
     "execution_count": 37,
     "metadata": {},
     "output_type": "execute_result"
    }
   ],
   "source": [
    "# calculate the hit rate\n",
    "hit_rates['hit_rate'] = (hit_rates['hit'] / hit_rates['total']) * 100\n",
    "\n",
    "hit_rates['driver_race'].replace({'total' : 'All races'}, inplace = True)\n",
    "\n",
    "hit_rates"
   ]
  },
  {
   "cell_type": "markdown",
   "metadata": {},
   "source": [
    "### Coming back\n",
    "\n",
    "Whoa. It looks like we found something amazing here. **Not only are Hispanics searched at rates much higher than any other racial/ethnicity but police find contraband on them at rates lower than any other racial/ethnic group.**\n",
    "\n",
    "But rather than scrolling up and down the page here, let's combine our results into a single table. To do this we will use the merge function in Pandas. (If you have worked with SQL, this is very similar to a SQL join.)"
   ]
  },
  {
   "cell_type": "code",
   "execution_count": 38,
   "metadata": {},
   "outputs": [
    {
     "data": {
      "text/html": [
       "<div>\n",
       "<style scoped>\n",
       "    .dataframe tbody tr th:only-of-type {\n",
       "        vertical-align: middle;\n",
       "    }\n",
       "\n",
       "    .dataframe tbody tr th {\n",
       "        vertical-align: top;\n",
       "    }\n",
       "\n",
       "    .dataframe thead th {\n",
       "        text-align: right;\n",
       "    }\n",
       "</style>\n",
       "<table border=\"1\" class=\"dataframe\">\n",
       "  <thead>\n",
       "    <tr style=\"text-align: right;\">\n",
       "      <th></th>\n",
       "      <th>driver_race</th>\n",
       "      <th>consent_search</th>\n",
       "      <th>no_search</th>\n",
       "      <th>unknown_search</th>\n",
       "      <th>total_x</th>\n",
       "      <th>search_rate</th>\n",
       "      <th>miss</th>\n",
       "      <th>hit</th>\n",
       "      <th>total_y</th>\n",
       "      <th>hit_rate</th>\n",
       "    </tr>\n",
       "  </thead>\n",
       "  <tbody>\n",
       "    <tr>\n",
       "      <th>0</th>\n",
       "      <td>Asian</td>\n",
       "      <td>51</td>\n",
       "      <td>12033</td>\n",
       "      <td>266</td>\n",
       "      <td>12350</td>\n",
       "      <td>4.129555</td>\n",
       "      <td>42</td>\n",
       "      <td>9</td>\n",
       "      <td>51</td>\n",
       "      <td>17.647059</td>\n",
       "    </tr>\n",
       "    <tr>\n",
       "      <th>1</th>\n",
       "      <td>Black</td>\n",
       "      <td>183</td>\n",
       "      <td>26770</td>\n",
       "      <td>2019</td>\n",
       "      <td>28972</td>\n",
       "      <td>6.316443</td>\n",
       "      <td>131</td>\n",
       "      <td>52</td>\n",
       "      <td>183</td>\n",
       "      <td>28.415301</td>\n",
       "    </tr>\n",
       "    <tr>\n",
       "      <th>2</th>\n",
       "      <td>Hispanic</td>\n",
       "      <td>1677</td>\n",
       "      <td>125849</td>\n",
       "      <td>7877</td>\n",
       "      <td>135403</td>\n",
       "      <td>12.385250</td>\n",
       "      <td>1466</td>\n",
       "      <td>211</td>\n",
       "      <td>1677</td>\n",
       "      <td>12.581992</td>\n",
       "    </tr>\n",
       "    <tr>\n",
       "      <th>3</th>\n",
       "      <td>Other</td>\n",
       "      <td>93</td>\n",
       "      <td>33834</td>\n",
       "      <td>2071</td>\n",
       "      <td>35998</td>\n",
       "      <td>2.583477</td>\n",
       "      <td>66</td>\n",
       "      <td>27</td>\n",
       "      <td>93</td>\n",
       "      <td>29.032258</td>\n",
       "    </tr>\n",
       "    <tr>\n",
       "      <th>4</th>\n",
       "      <td>White</td>\n",
       "      <td>646</td>\n",
       "      <td>286102</td>\n",
       "      <td>8947</td>\n",
       "      <td>295695</td>\n",
       "      <td>2.184684</td>\n",
       "      <td>503</td>\n",
       "      <td>143</td>\n",
       "      <td>646</td>\n",
       "      <td>22.136223</td>\n",
       "    </tr>\n",
       "    <tr>\n",
       "      <th>5</th>\n",
       "      <td>All races</td>\n",
       "      <td>2650</td>\n",
       "      <td>484588</td>\n",
       "      <td>21180</td>\n",
       "      <td>508418</td>\n",
       "      <td>5.212247</td>\n",
       "      <td>2208</td>\n",
       "      <td>442</td>\n",
       "      <td>2650</td>\n",
       "      <td>16.679245</td>\n",
       "    </tr>\n",
       "  </tbody>\n",
       "</table>\n",
       "</div>"
      ],
      "text/plain": [
       "  driver_race  consent_search  no_search  unknown_search  total_x  \\\n",
       "0       Asian              51      12033             266    12350   \n",
       "1       Black             183      26770            2019    28972   \n",
       "2    Hispanic            1677     125849            7877   135403   \n",
       "3       Other              93      33834            2071    35998   \n",
       "4       White             646     286102            8947   295695   \n",
       "5   All races            2650     484588           21180   508418   \n",
       "\n",
       "   search_rate  miss  hit  total_y   hit_rate  \n",
       "0     4.129555    42    9       51  17.647059  \n",
       "1     6.316443   131   52      183  28.415301  \n",
       "2    12.385250  1466  211     1677  12.581992  \n",
       "3     2.583477    66   27       93  29.032258  \n",
       "4     2.184684   503  143      646  22.136223  \n",
       "5     5.212247  2208  442     2650  16.679245  "
      ]
     },
     "execution_count": 38,
     "metadata": {},
     "output_type": "execute_result"
    }
   ],
   "source": [
    "combined = search_rates.merge(hit_rates, on = 'driver_race', how = 'inner')\n",
    "combined"
   ]
  },
  {
   "cell_type": "markdown",
   "metadata": {},
   "source": [
    "And let's clean up the columns a bit. We want to rename the `total_x` to `traffic_stops` and drop the `total_y` column since it duplicates `consent_search`. We can drop the other search columns as well as the `miss` column. We also should rename the `search_rate` and `hit_rate` columns to make more sense. While we are at it, let's re-order the columns."
   ]
  },
  {
   "cell_type": "code",
   "execution_count": 39,
   "metadata": {},
   "outputs": [
    {
     "data": {
      "text/html": [
       "<div>\n",
       "<style scoped>\n",
       "    .dataframe tbody tr th:only-of-type {\n",
       "        vertical-align: middle;\n",
       "    }\n",
       "\n",
       "    .dataframe tbody tr th {\n",
       "        vertical-align: top;\n",
       "    }\n",
       "\n",
       "    .dataframe thead th {\n",
       "        text-align: right;\n",
       "    }\n",
       "</style>\n",
       "<table border=\"1\" class=\"dataframe\">\n",
       "  <thead>\n",
       "    <tr style=\"text-align: right;\">\n",
       "      <th></th>\n",
       "      <th>driver_race</th>\n",
       "      <th>traffic_stops</th>\n",
       "      <th>consent_search</th>\n",
       "      <th>hit</th>\n",
       "      <th>searches_per_1k_stops</th>\n",
       "      <th>hits_per_100_searches</th>\n",
       "    </tr>\n",
       "  </thead>\n",
       "  <tbody>\n",
       "    <tr>\n",
       "      <th>0</th>\n",
       "      <td>Asian</td>\n",
       "      <td>12350</td>\n",
       "      <td>51</td>\n",
       "      <td>9</td>\n",
       "      <td>4.129555</td>\n",
       "      <td>17.647059</td>\n",
       "    </tr>\n",
       "    <tr>\n",
       "      <th>1</th>\n",
       "      <td>Black</td>\n",
       "      <td>28972</td>\n",
       "      <td>183</td>\n",
       "      <td>52</td>\n",
       "      <td>6.316443</td>\n",
       "      <td>28.415301</td>\n",
       "    </tr>\n",
       "    <tr>\n",
       "      <th>2</th>\n",
       "      <td>Hispanic</td>\n",
       "      <td>135403</td>\n",
       "      <td>1677</td>\n",
       "      <td>211</td>\n",
       "      <td>12.385250</td>\n",
       "      <td>12.581992</td>\n",
       "    </tr>\n",
       "    <tr>\n",
       "      <th>3</th>\n",
       "      <td>Other</td>\n",
       "      <td>35998</td>\n",
       "      <td>93</td>\n",
       "      <td>27</td>\n",
       "      <td>2.583477</td>\n",
       "      <td>29.032258</td>\n",
       "    </tr>\n",
       "    <tr>\n",
       "      <th>4</th>\n",
       "      <td>White</td>\n",
       "      <td>295695</td>\n",
       "      <td>646</td>\n",
       "      <td>143</td>\n",
       "      <td>2.184684</td>\n",
       "      <td>22.136223</td>\n",
       "    </tr>\n",
       "    <tr>\n",
       "      <th>5</th>\n",
       "      <td>All races</td>\n",
       "      <td>508418</td>\n",
       "      <td>2650</td>\n",
       "      <td>442</td>\n",
       "      <td>5.212247</td>\n",
       "      <td>16.679245</td>\n",
       "    </tr>\n",
       "  </tbody>\n",
       "</table>\n",
       "</div>"
      ],
      "text/plain": [
       "  driver_race  traffic_stops  consent_search  hit  searches_per_1k_stops  \\\n",
       "0       Asian          12350              51    9               4.129555   \n",
       "1       Black          28972             183   52               6.316443   \n",
       "2    Hispanic         135403            1677  211              12.385250   \n",
       "3       Other          35998              93   27               2.583477   \n",
       "4       White         295695             646  143               2.184684   \n",
       "5   All races         508418            2650  442               5.212247   \n",
       "\n",
       "   hits_per_100_searches  \n",
       "0              17.647059  \n",
       "1              28.415301  \n",
       "2              12.581992  \n",
       "3              29.032258  \n",
       "4              22.136223  \n",
       "5              16.679245  "
      ]
     },
     "execution_count": 39,
     "metadata": {},
     "output_type": "execute_result"
    }
   ],
   "source": [
    "combined.rename(columns = {'total_x' : 'traffic_stops', 'search_rate' : 'searches_per_1k_stops', 'hit_rate' : 'hits_per_100_searches'}, inplace = True)\n",
    "\n",
    "combined = combined[['driver_race', 'traffic_stops', 'consent_search', 'hit', 'searches_per_1k_stops', 'hits_per_100_searches']].copy()\n",
    "combined"
   ]
  },
  {
   "cell_type": "markdown",
   "metadata": {},
   "source": [
    "## Let's visualize it\n",
    "\n",
    "Again it may help to visualize the data. Let's create a scatter plot comparing hit rates and search rates by race."
   ]
  },
  {
   "cell_type": "code",
   "execution_count": 40,
   "metadata": {},
   "outputs": [
    {
     "data": {
      "text/html": [
       "<div class=\"vega-embed\" id=\"ff8934ff-502e-4aab-ae6b-6cd9dee1e55a\"></div>\n",
       "\n",
       "<style>\n",
       ".vega-embed .vega-actions > a {\n",
       "    transition: opacity 200ms ease-in;\n",
       "    opacity: 0.3;\n",
       "    margin-right: 0.6em;\n",
       "    color: #444;\n",
       "    text-decoration: none;\n",
       "}\n",
       "\n",
       ".vega-embed .vega-actions > a:hover {\n",
       "    color: #000;\n",
       "    text-decoration: underline;\n",
       "}\n",
       "\n",
       ".vega-embed:hover .vega-actions > a {\n",
       "    opacity: 1;\n",
       "    transition: 0s;\n",
       "}\n",
       "\n",
       ".vega-embed .error p {\n",
       "    color: firebrick;\n",
       "    font-size: 1.2em;\n",
       "}\n",
       "</style>\n"
      ]
     },
     "metadata": {
      "jupyter-vega3": "#ff8934ff-502e-4aab-ae6b-6cd9dee1e55a"
     },
     "output_type": "display_data"
    },
    {
     "data": {
      "application/javascript": [
       "var spec = {\"config\": {\"view\": {\"width\": 400, \"height\": 300}}, \"data\": {\"values\": [{\"driver_race\": \"Asian\", \"traffic_stops\": 12350, \"consent_search\": 51, \"hit\": 9, \"searches_per_1k_stops\": 4.129554655870446, \"hits_per_100_searches\": 17.647058823529413}, {\"driver_race\": \"Black\", \"traffic_stops\": 28972, \"consent_search\": 183, \"hit\": 52, \"searches_per_1k_stops\": 6.316443462653597, \"hits_per_100_searches\": 28.415300546448087}, {\"driver_race\": \"Hispanic\", \"traffic_stops\": 135403, \"consent_search\": 1677, \"hit\": 211, \"searches_per_1k_stops\": 12.385249957534176, \"hits_per_100_searches\": 12.581991651759095}, {\"driver_race\": \"Other\", \"traffic_stops\": 35998, \"consent_search\": 93, \"hit\": 27, \"searches_per_1k_stops\": 2.5834768598255455, \"hits_per_100_searches\": 29.03225806451613}, {\"driver_race\": \"White\", \"traffic_stops\": 295695, \"consent_search\": 646, \"hit\": 143, \"searches_per_1k_stops\": 2.184683542163378, \"hits_per_100_searches\": 22.13622291021672}, {\"driver_race\": \"All races\", \"traffic_stops\": 508418, \"consent_search\": 2650, \"hit\": 442, \"searches_per_1k_stops\": 5.21224661597347, \"hits_per_100_searches\": 16.67924528301887}]}, \"mark\": {\"type\": \"circle\", \"size\": 200}, \"encoding\": {\"color\": {\"type\": \"nominal\", \"field\": \"driver_race\"}, \"x\": {\"type\": \"quantitative\", \"field\": \"searches_per_1k_stops\"}, \"y\": {\"type\": \"quantitative\", \"field\": \"hits_per_100_searches\"}}, \"$schema\": \"https://vega.github.io/schema/vega-lite/v2.3.0.json\"};\n",
       "var opt = {};\n",
       "var selector = \"#ff8934ff-502e-4aab-ae6b-6cd9dee1e55a\";\n",
       "var type = \"vega-lite\";\n",
       "\n",
       "var output_area = this;\n",
       "\n",
       "require(['nbextensions/jupyter-vega3/index'], function(vega) {\n",
       "  vega.render(selector, spec, type, opt, output_area);\n",
       "}, function (err) {\n",
       "  if (err.requireType !== 'scripterror') {\n",
       "    throw(err);\n",
       "  }\n",
       "});\n"
      ]
     },
     "metadata": {
      "jupyter-vega3": "#ff8934ff-502e-4aab-ae6b-6cd9dee1e55a"
     },
     "output_type": "display_data"
    },
    {
     "data": {
      "text/plain": []
     },
     "execution_count": 40,
     "metadata": {},
     "output_type": "execute_result"
    },
    {
     "data": {
      "image/png": "[encoded data removed]"
     },
     "metadata": {
      "jupyter-vega3": "#ff8934ff-502e-4aab-ae6b-6cd9dee1e55a"
     },
     "output_type": "display_data"
    },
    {
     "data": {
      "image/png": "[encoded data removed]"
     },
     "metadata": {
      "jupyter-vega3": "#ff8934ff-502e-4aab-ae6b-6cd9dee1e55a"
     },
     "output_type": "display_data"
    },
    {
     "data": {
      "image/png": "[encoded data removed]"
     },
     "metadata": {
      "jupyter-vega3": "#ff8934ff-502e-4aab-ae6b-6cd9dee1e55a"
     },
     "output_type": "display_data"
    }
   ],
   "source": [
    "alt.Chart(combined).mark_circle(size = 200).encode(x = 'searches_per_1k_stops', y = 'hits_per_100_searches', color = 'driver_race')"
   ]
  },
  {
   "cell_type": "code",
   "execution_count": 41,
   "metadata": {},
   "outputs": [
    {
     "data": {
      "text/html": [
       "<div class=\"vega-embed\" id=\"a63a455a-2421-47ef-9741-9c0fc70ead9e\"></div>\n",
       "\n",
       "<style>\n",
       ".vega-embed .vega-actions > a {\n",
       "    transition: opacity 200ms ease-in;\n",
       "    opacity: 0.3;\n",
       "    margin-right: 0.6em;\n",
       "    color: #444;\n",
       "    text-decoration: none;\n",
       "}\n",
       "\n",
       ".vega-embed .vega-actions > a:hover {\n",
       "    color: #000;\n",
       "    text-decoration: underline;\n",
       "}\n",
       "\n",
       ".vega-embed:hover .vega-actions > a {\n",
       "    opacity: 1;\n",
       "    transition: 0s;\n",
       "}\n",
       "\n",
       ".vega-embed .error p {\n",
       "    color: firebrick;\n",
       "    font-size: 1.2em;\n",
       "}\n",
       "</style>\n"
      ]
     },
     "metadata": {
      "jupyter-vega3": "#a63a455a-2421-47ef-9741-9c0fc70ead9e"
     },
     "output_type": "display_data"
    },
    {
     "data": {
      "application/javascript": [
       "var spec = {\"config\": {\"view\": {\"width\": 400, \"height\": 300, \"stroke\": \"gray\"}}, \"data\": {\"values\": [{\"driver_race\": \"Asian\", \"traffic_stops\": 12350, \"consent_search\": 51, \"hit\": 9, \"searches_per_1k_stops\": 4.129554655870446, \"hits_per_100_searches\": 17.647058823529413}, {\"driver_race\": \"Black\", \"traffic_stops\": 28972, \"consent_search\": 183, \"hit\": 52, \"searches_per_1k_stops\": 6.316443462653597, \"hits_per_100_searches\": 28.415300546448087}, {\"driver_race\": \"Hispanic\", \"traffic_stops\": 135403, \"consent_search\": 1677, \"hit\": 211, \"searches_per_1k_stops\": 12.385249957534176, \"hits_per_100_searches\": 12.581991651759095}, {\"driver_race\": \"Other\", \"traffic_stops\": 35998, \"consent_search\": 93, \"hit\": 27, \"searches_per_1k_stops\": 2.5834768598255455, \"hits_per_100_searches\": 29.03225806451613}, {\"driver_race\": \"White\", \"traffic_stops\": 295695, \"consent_search\": 646, \"hit\": 143, \"searches_per_1k_stops\": 2.184683542163378, \"hits_per_100_searches\": 22.13622291021672}]}, \"mark\": {\"type\": \"circle\", \"size\": 200}, \"encoding\": {\"color\": {\"type\": \"nominal\", \"field\": \"driver_race\", \"legend\": {\"title\": null}}, \"x\": {\"type\": \"quantitative\", \"axis\": {\"grid\": false, \"labels\": false, \"offset\": -158, \"ticks\": false, \"title\": null}, \"field\": \"searches_per_1k_stops\", \"scale\": {\"domain\": [-2.6, 13]}}, \"y\": {\"type\": \"quantitative\", \"axis\": {\"grid\": false, \"labels\": false, \"offset\": -204, \"ticks\": false, \"title\": null}, \"field\": \"hits_per_100_searches\", \"scale\": {\"domain\": [3.4, 30]}}}, \"$schema\": \"https://vega.github.io/schema/vega-lite/v2.3.0.json\"};\n",
       "var opt = {};\n",
       "var selector = \"#a63a455a-2421-47ef-9741-9c0fc70ead9e\";\n",
       "var type = \"vega-lite\";\n",
       "\n",
       "var output_area = this;\n",
       "\n",
       "require(['nbextensions/jupyter-vega3/index'], function(vega) {\n",
       "  vega.render(selector, spec, type, opt, output_area);\n",
       "}, function (err) {\n",
       "  if (err.requireType !== 'scripterror') {\n",
       "    throw(err);\n",
       "  }\n",
       "});\n"
      ]
     },
     "metadata": {
      "jupyter-vega3": "#a63a455a-2421-47ef-9741-9c0fc70ead9e"
     },
     "output_type": "display_data"
    },
    {
     "data": {
      "text/plain": []
     },
     "execution_count": 41,
     "metadata": {},
     "output_type": "execute_result"
    },
    {
     "data": {
      "image/png": "[encoded data removed]"
     },
     "metadata": {
      "jupyter-vega3": "#a63a455a-2421-47ef-9741-9c0fc70ead9e"
     },
     "output_type": "display_data"
    },
    {
     "data": {
      "image/png": "[encoded data removed]"
     },
     "metadata": {
      "jupyter-vega3": "#a63a455a-2421-47ef-9741-9c0fc70ead9e"
     },
     "output_type": "display_data"
    },
    {
     "data": {
      "image/png": "[encoded data removed]"
     },
     "metadata": {
      "jupyter-vega3": "#a63a455a-2421-47ef-9741-9c0fc70ead9e"
     },
     "output_type": "display_data"
    }
   ],
   "source": [
    "data_to_chart = combined[combined['driver_race'] != 'All races']\n",
    "alt.Chart(\n",
    "    data_to_chart,\n",
    ").mark_circle(\n",
    "    size = 200\n",
    ").encode(\n",
    "    x = alt.X(\n",
    "        'searches_per_1k_stops', \n",
    "        axis = alt.Axis(\n",
    "            offset = -158, \n",
    "            labels = False, \n",
    "            ticks = False, \n",
    "            grid = False, \n",
    "            title = None),\n",
    "        scale = alt.Scale(domain = [-2.6,13])), \n",
    "    y = alt.Y(\n",
    "        'hits_per_100_searches',\n",
    "        axis = alt.Axis(\n",
    "            offset = -204, \n",
    "            labels = False, \n",
    "            ticks = False, \n",
    "            grid = False, \n",
    "            title = None),\n",
    "        scale = alt.Scale(domain = [3.4,30])\n",
    "        ),\n",
    "    color = alt.Color('driver_race', legend = alt.Legend(title = None))).configure_view(stroke = 'gray')"
   ]
  },
  {
   "cell_type": "markdown",
   "metadata": {},
   "source": [
    "## Export your results"
   ]
  },
  {
   "cell_type": "code",
   "execution_count": 42,
   "metadata": {},
   "outputs": [],
   "source": [
    "combined.to_csv('./results.csv', index = False)"
   ]
  },
  {
   "cell_type": "markdown",
   "metadata": {},
   "source": [
    "## How can we make this better?\n",
    "\n",
    "1. Multiple years of analysis\n",
    "2. Break up by county?"
   ]
  }
 ],
 "metadata": {
  "kernelspec": {
   "display_name": "Python 3",
   "language": "python",
   "name": "python3"
  },
  "language_info": {
   "codemirror_mode": {
    "name": "ipython",
    "version": 3
   },
   "file_extension": ".py",
   "mimetype": "text/x-python",
   "name": "python",
   "nbconvert_exporter": "python",
   "pygments_lexer": "ipython3",
   "version": "3.6.3"
  }
 },
 "nbformat": 4,
 "nbformat_minor": 2
}
